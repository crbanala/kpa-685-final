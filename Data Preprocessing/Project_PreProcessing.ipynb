{
  "nbformat": 4,
  "nbformat_minor": 0,
  "metadata": {
    "colab": {
      "name": "Project_PreProcessing.ipynb",
      "provenance": [],
      "collapsed_sections": [],
      "machine_shape": "hm"
    },
    "kernelspec": {
      "display_name": "Python 3",
      "name": "python3"
    },
    "language_info": {
      "name": "python"
    },
    "accelerator": "GPU"
  },
  "cells": [
    {
      "cell_type": "code",
      "metadata": {
        "id": "GycxByftti3T",
        "colab": {
          "base_uri": "https://localhost:8080/"
        },
        "outputId": "621b00cc-19fb-4052-c658-4f5ee9905b0a"
      },
      "source": [
        "# This mounts your Google Drive to the Colab VM.\n",
        "from google.colab import drive\n",
        "drive.mount('/content/drive', force_remount=True)\n",
        "\n",
        "FOLDERNAME = 'CS685NLP/Project'\n",
        "assert FOLDERNAME is not None, \"[!] Enter the foldername.\"\n",
        "\n",
        "#Now that we've mounted your Drive, this ensures that\n",
        "# the Python interpreter of the Colab VM can load\n",
        "# python files from within it.\n",
        "import sys\n",
        "sys.path.append('/content/drive/My Drive/{}'.format(FOLDERNAME))\n",
        "\n",
        "%cd /content/drive/My\\ Drive/$FOLDERNAME/"
      ],
      "execution_count": 1,
      "outputs": [
        {
          "output_type": "stream",
          "name": "stdout",
          "text": [
            "Mounted at /content/drive\n",
            "/content/drive/My Drive/CS685NLP/Project\n"
          ]
        }
      ]
    },
    {
      "cell_type": "code",
      "metadata": {
        "id": "mFw5Iyzd7iAh",
        "colab": {
          "base_uri": "https://localhost:8080/"
        },
        "outputId": "e9136bb3-235f-4740-d09e-5e7daa3c7f59"
      },
      "source": [
        "import torch\n",
        "\n",
        "# Confirm that the GPU is detected\n",
        "\n",
        "assert torch.cuda.is_available()\n",
        "\n",
        "# Get the GPU device name.\n",
        "device_name = torch.cuda.get_device_name()\n",
        "n_gpu = torch.cuda.device_count()\n",
        "print(f\"Found device: {device_name}, n_gpu: {n_gpu}\")\n",
        "device = torch.device(\"cuda\")"
      ],
      "execution_count": 2,
      "outputs": [
        {
          "output_type": "stream",
          "name": "stdout",
          "text": [
            "Found device: Tesla K80, n_gpu: 1\n"
          ]
        }
      ]
    },
    {
      "cell_type": "code",
      "metadata": {
        "id": "llw8pswcRsyn"
      },
      "source": [
        "from google.colab import files\n",
        "files.upload()  #this will prompt you to upload the kaggle.json\n",
        "\n",
        "!pip install -q kaggle\n",
        "!mkdir -p ~/.kaggle\n",
        "!cp kaggle.json ~/.kaggle/\n",
        "!ls ~/.kaggle\n",
        "!chmod 600 /content/drive/My\\ Drive/CS685NLP/Project/kaggle.json  # set permission\n",
        "\n",
        "!kaggle datasets download yelp-dataset/yelp-dataset -f yelp_academic_dataset_review.json -p /content/drive/My\\ Drive/CS685NLP/Project\n"
      ],
      "execution_count": null,
      "outputs": []
    },
    {
      "cell_type": "code",
      "source": [
        "from google.colab import files\n",
        "files.upload()  #this will prompt you to upload the kaggle.json\n",
        "\n",
        "!pip install -q kaggle\n",
        "!mkdir -p ~/.kaggle\n",
        "!cp kaggle.json ~/.kaggle/\n",
        "!ls ~/.kaggle\n",
        "!chmod 600 /content/drive/My\\ Drive/CS685NLP/Project/kaggle.json  # set permission\n",
        "\n",
        "!kaggle datasets download yelp-dataset/yelp-dataset -f yelp_academic_dataset_business.json -p /content/drive/My\\ Drive/CS685NLP/Project\n"
      ],
      "metadata": {
        "id": "UdzcZPUKHJRs"
      },
      "execution_count": null,
      "outputs": []
    },
    {
      "cell_type": "code",
      "metadata": {
        "id": "VQl9C9zhrQr3"
      },
      "source": [
        "!unzip -q yelp_academic_dataset_business.json"
      ],
      "execution_count": null,
      "outputs": []
    },
    {
      "cell_type": "code",
      "metadata": {
        "colab": {
          "base_uri": "https://localhost:8080/"
        },
        "id": "EXxaMtWqThvJ",
        "outputId": "3a21b38e-4ae8-4939-fd21-a22b02623dd4"
      },
      "source": [
        "!pip install simplejson\n",
        "!python3 json_to_csv_converter.py yelp_academic_dataset_business.json"
      ],
      "execution_count": null,
      "outputs": [
        {
          "output_type": "stream",
          "name": "stdout",
          "text": [
            "Collecting simplejson\n",
            "  Downloading simplejson-3.17.6-cp37-cp37m-manylinux_2_5_x86_64.manylinux1_x86_64.manylinux_2_12_x86_64.manylinux2010_x86_64.whl (130 kB)\n",
            "\u001b[K     |████████████████████████████████| 130 kB 4.9 MB/s \n",
            "\u001b[?25hInstalling collected packages: simplejson\n",
            "Successfully installed simplejson-3.17.6\n",
            "json_to_csv_converter.py:47: DeprecationWarning: Using or importing the ABCs from 'collections' instead of from 'collections.abc' is deprecated since Python 3.3,and in 3.9 it will stop working\n",
            "  if isinstance(v, collections.MutableMapping):\n",
            "Traceback (most recent call last):\n",
            "  File \"json_to_csv_converter.py\", line 114, in <module>\n",
            "    read_and_write_file(json_file, csv_file, column_names)\n",
            "  File \"json_to_csv_converter.py\", line 19, in read_and_write_file\n",
            "    csv_file.writerow(get_row(line_contents, column_names))\n",
            "  File \"json_to_csv_converter.py\", line 85, in get_row\n",
            "    column_name,\n",
            "  File \"json_to_csv_converter.py\", line 77, in get_nested_value\n",
            "    return get_nested_value(sub_dict, sub_key)\n",
            "  File \"json_to_csv_converter.py\", line 70, in get_nested_value\n",
            "    if key not in d:\n",
            "TypeError: argument of type 'NoneType' is not iterable\n"
          ]
        }
      ]
    },
    {
      "cell_type": "code",
      "source": [
        "!python3 json_to_csv_converter.py yelp_academic_dataset_business.json"
      ],
      "metadata": {
        "colab": {
          "base_uri": "https://localhost:8080/"
        },
        "id": "WLV_7I9DIMSj",
        "outputId": "5460486a-18e3-4786-ce13-edae6ebbfab8"
      },
      "execution_count": null,
      "outputs": [
        {
          "output_type": "stream",
          "name": "stdout",
          "text": [
            "shell-init: error retrieving current directory: getcwd: cannot access parent directories: No such file or directory\n",
            "json_to_csv_converter.py:47: DeprecationWarning: Using or importing the ABCs from 'collections' instead of from 'collections.abc' is deprecated since Python 3.3,and in 3.9 it will stop working\n",
            "  if isinstance(v, collections.MutableMapping):\n",
            "Traceback (most recent call last):\n",
            "  File \"json_to_csv_converter.py\", line 28, in get_superset_of_column_names_from_file\n",
            "    set(get_column_names(line_contents).keys())\n",
            "  File \"json_to_csv_converter.py\", line 49, in get_column_names\n",
            "    get_column_names(v, column_name).items()\n",
            "  File \"json_to_csv_converter.py\", line 47, in get_column_names\n",
            "    if isinstance(v, collections.MutableMapping):\n",
            "  File \"/usr/lib/python3.7/abc.py\", line 139, in __instancecheck__\n",
            "    return _abc_instancecheck(cls, instance)\n",
            "KeyboardInterrupt\n",
            "\n",
            "During handling of the above exception, another exception occurred:\n",
            "\n",
            "Traceback (most recent call last):\n",
            "  File \"json_to_csv_converter.py\", line 113, in <module>\n",
            "    column_names = get_superset_of_column_names_from_file(json_file)\n",
            "  File \"json_to_csv_converter.py\", line 28, in get_superset_of_column_names_from_file\n",
            "    set(get_column_names(line_contents).keys())\n",
            "KeyboardInterrupt\n"
          ]
        }
      ]
    },
    {
      "cell_type": "code",
      "source": [
        "import json\n",
        "import pandas as pd\n",
        "data_file = open(\"yelp_academic_dataset_business.json\")\n",
        "data = []\n",
        "for line in data_file:\n",
        "  data.append(json.loads(line))\n",
        "business_df = pd.DataFrame(data)\n",
        "data_file.close()"
      ],
      "metadata": {
        "id": "yVnUWcKkIuDG"
      },
      "execution_count": null,
      "outputs": []
    },
    {
      "cell_type": "code",
      "source": [
        "business_df.shape"
      ],
      "metadata": {
        "colab": {
          "base_uri": "https://localhost:8080/"
        },
        "id": "ssagE9TlK5WY",
        "outputId": "cbeabf1a-f7d8-4882-e1c2-4e9db8403e65"
      },
      "execution_count": null,
      "outputs": [
        {
          "output_type": "execute_result",
          "data": {
            "text/plain": [
              "(160585, 14)"
            ]
          },
          "metadata": {},
          "execution_count": 4
        }
      ]
    },
    {
      "cell_type": "code",
      "source": [
        "business_df.head()"
      ],
      "metadata": {
        "colab": {
          "base_uri": "https://localhost:8080/",
          "height": 539
        },
        "id": "sltvrnA9K79C",
        "outputId": "bcdf5703-220b-4d5d-d2b4-42c2ca28e05f"
      },
      "execution_count": null,
      "outputs": [
        {
          "output_type": "execute_result",
          "data": {
            "text/html": [
              "<div>\n",
              "<style scoped>\n",
              "    .dataframe tbody tr th:only-of-type {\n",
              "        vertical-align: middle;\n",
              "    }\n",
              "\n",
              "    .dataframe tbody tr th {\n",
              "        vertical-align: top;\n",
              "    }\n",
              "\n",
              "    .dataframe thead th {\n",
              "        text-align: right;\n",
              "    }\n",
              "</style>\n",
              "<table border=\"1\" class=\"dataframe\">\n",
              "  <thead>\n",
              "    <tr style=\"text-align: right;\">\n",
              "      <th></th>\n",
              "      <th>business_id</th>\n",
              "      <th>name</th>\n",
              "      <th>address</th>\n",
              "      <th>city</th>\n",
              "      <th>state</th>\n",
              "      <th>postal_code</th>\n",
              "      <th>latitude</th>\n",
              "      <th>longitude</th>\n",
              "      <th>stars</th>\n",
              "      <th>review_count</th>\n",
              "      <th>is_open</th>\n",
              "      <th>attributes</th>\n",
              "      <th>categories</th>\n",
              "      <th>hours</th>\n",
              "    </tr>\n",
              "  </thead>\n",
              "  <tbody>\n",
              "    <tr>\n",
              "      <th>0</th>\n",
              "      <td>6iYb2HFDywm3zjuRg0shjw</td>\n",
              "      <td>Oskar Blues Taproom</td>\n",
              "      <td>921 Pearl St</td>\n",
              "      <td>Boulder</td>\n",
              "      <td>CO</td>\n",
              "      <td>80302</td>\n",
              "      <td>40.017544</td>\n",
              "      <td>-105.283348</td>\n",
              "      <td>4.0</td>\n",
              "      <td>86</td>\n",
              "      <td>1</td>\n",
              "      <td>{'RestaurantsTableService': 'True', 'WiFi': 'u...</td>\n",
              "      <td>Gastropubs, Food, Beer Gardens, Restaurants, B...</td>\n",
              "      <td>{'Monday': '11:0-23:0', 'Tuesday': '11:0-23:0'...</td>\n",
              "    </tr>\n",
              "    <tr>\n",
              "      <th>1</th>\n",
              "      <td>tCbdrRPZA0oiIYSmHG3J0w</td>\n",
              "      <td>Flying Elephants at PDX</td>\n",
              "      <td>7000 NE Airport Way</td>\n",
              "      <td>Portland</td>\n",
              "      <td>OR</td>\n",
              "      <td>97218</td>\n",
              "      <td>45.588906</td>\n",
              "      <td>-122.593331</td>\n",
              "      <td>4.0</td>\n",
              "      <td>126</td>\n",
              "      <td>1</td>\n",
              "      <td>{'RestaurantsTakeOut': 'True', 'RestaurantsAtt...</td>\n",
              "      <td>Salad, Soup, Sandwiches, Delis, Restaurants, C...</td>\n",
              "      <td>{'Monday': '5:0-18:0', 'Tuesday': '5:0-17:0', ...</td>\n",
              "    </tr>\n",
              "    <tr>\n",
              "      <th>2</th>\n",
              "      <td>bvN78flM8NLprQ1a1y5dRg</td>\n",
              "      <td>The Reclaimory</td>\n",
              "      <td>4720 Hawthorne Ave</td>\n",
              "      <td>Portland</td>\n",
              "      <td>OR</td>\n",
              "      <td>97214</td>\n",
              "      <td>45.511907</td>\n",
              "      <td>-122.613693</td>\n",
              "      <td>4.5</td>\n",
              "      <td>13</td>\n",
              "      <td>1</td>\n",
              "      <td>{'BusinessAcceptsCreditCards': 'True', 'Restau...</td>\n",
              "      <td>Antiques, Fashion, Used, Vintage &amp; Consignment...</td>\n",
              "      <td>{'Thursday': '11:0-18:0', 'Friday': '11:0-18:0...</td>\n",
              "    </tr>\n",
              "    <tr>\n",
              "      <th>3</th>\n",
              "      <td>oaepsyvc0J17qwi8cfrOWg</td>\n",
              "      <td>Great Clips</td>\n",
              "      <td>2566 Enterprise Rd</td>\n",
              "      <td>Orange City</td>\n",
              "      <td>FL</td>\n",
              "      <td>32763</td>\n",
              "      <td>28.914482</td>\n",
              "      <td>-81.295979</td>\n",
              "      <td>3.0</td>\n",
              "      <td>8</td>\n",
              "      <td>1</td>\n",
              "      <td>{'RestaurantsPriceRange2': '1', 'BusinessAccep...</td>\n",
              "      <td>Beauty &amp; Spas, Hair Salons</td>\n",
              "      <td>None</td>\n",
              "    </tr>\n",
              "    <tr>\n",
              "      <th>4</th>\n",
              "      <td>PE9uqAjdw0E4-8mjGl3wVA</td>\n",
              "      <td>Crossfit Terminus</td>\n",
              "      <td>1046 Memorial Dr SE</td>\n",
              "      <td>Atlanta</td>\n",
              "      <td>GA</td>\n",
              "      <td>30316</td>\n",
              "      <td>33.747027</td>\n",
              "      <td>-84.353424</td>\n",
              "      <td>4.0</td>\n",
              "      <td>14</td>\n",
              "      <td>1</td>\n",
              "      <td>{'GoodForKids': 'False', 'BusinessParking': '{...</td>\n",
              "      <td>Gyms, Active Life, Interval Training Gyms, Fit...</td>\n",
              "      <td>{'Monday': '16:0-19:0', 'Tuesday': '16:0-19:0'...</td>\n",
              "    </tr>\n",
              "  </tbody>\n",
              "</table>\n",
              "</div>"
            ],
            "text/plain": [
              "              business_id  ...                                              hours\n",
              "0  6iYb2HFDywm3zjuRg0shjw  ...  {'Monday': '11:0-23:0', 'Tuesday': '11:0-23:0'...\n",
              "1  tCbdrRPZA0oiIYSmHG3J0w  ...  {'Monday': '5:0-18:0', 'Tuesday': '5:0-17:0', ...\n",
              "2  bvN78flM8NLprQ1a1y5dRg  ...  {'Thursday': '11:0-18:0', 'Friday': '11:0-18:0...\n",
              "3  oaepsyvc0J17qwi8cfrOWg  ...                                               None\n",
              "4  PE9uqAjdw0E4-8mjGl3wVA  ...  {'Monday': '16:0-19:0', 'Tuesday': '16:0-19:0'...\n",
              "\n",
              "[5 rows x 14 columns]"
            ]
          },
          "metadata": {},
          "execution_count": 5
        }
      ]
    },
    {
      "cell_type": "code",
      "source": [
        "df_rest = pd.DataFrame([], columns = business_df.columns)\n",
        "df_rest.head()\n",
        "\n",
        "for index, row in business_df.iterrows():\n",
        "  print(index)\n",
        "  if row.categories!= None:\n",
        "    splitted = row.categories.split(',')\n",
        "    if 'Restaurants' in splitted:\n",
        "      df_rest.loc[len(df_rest.index)] = row\n",
        "  else:\n",
        "      continue\n",
        "print(df_rest.shape) "
      ],
      "metadata": {
        "id": "wI8QnWAkLD4o"
      },
      "execution_count": null,
      "outputs": []
    },
    {
      "cell_type": "code",
      "metadata": {
        "id": "o4jysP7NK6WR"
      },
      "source": [
        "id_list = list(df_rest['business_id'])"
      ],
      "execution_count": null,
      "outputs": []
    },
    {
      "cell_type": "code",
      "source": [
        "len(id_list)"
      ],
      "metadata": {
        "colab": {
          "base_uri": "https://localhost:8080/"
        },
        "id": "_xFRh9N2PRX4",
        "outputId": "d5e00445-07b3-4db5-c1bd-4bfab458aeef"
      },
      "execution_count": null,
      "outputs": [
        {
          "output_type": "execute_result",
          "data": {
            "text/plain": [
              "14423"
            ]
          },
          "metadata": {},
          "execution_count": 28
        }
      ]
    },
    {
      "cell_type": "code",
      "metadata": {
        "id": "KqaYCD4ctrcl"
      },
      "source": [
        "textfile = open(\"yelp_rest_business_ids.txt\", \"w\")\n",
        "for element in id_list:\n",
        "    textfile.write(element + \"\\n\")\n",
        "textfile.close()"
      ],
      "execution_count": null,
      "outputs": []
    },
    {
      "cell_type": "code",
      "source": [
        "df_hot = pd.DataFrame([], columns = business_df.columns)\n",
        "df_hot.head()\n",
        "\n",
        "for index, row in business_df.iterrows():\n",
        "  print(index)\n",
        "  if row.categories!= None:\n",
        "    splitted = row.categories.split(',')\n",
        "    if 'Hotels' in splitted or 'Hotels & Travel' in splitted:\n",
        "      print(index)\n",
        "      df_hot.loc[len(df_hot.index)] = row\n",
        "  else:\n",
        "      continue\n",
        "print(df_hot.shape) "
      ],
      "metadata": {
        "id": "QTqxUmKRaH9N"
      },
      "execution_count": null,
      "outputs": []
    },
    {
      "cell_type": "code",
      "source": [
        "print(df_hot.shape) "
      ],
      "metadata": {
        "colab": {
          "base_uri": "https://localhost:8080/"
        },
        "id": "DjUGBfImf-JR",
        "outputId": "660f7ce7-7afb-49d6-cd3d-ff6423924cd7"
      },
      "execution_count": null,
      "outputs": [
        {
          "output_type": "stream",
          "name": "stdout",
          "text": [
            "(2240, 14)\n"
          ]
        }
      ]
    },
    {
      "cell_type": "code",
      "source": [
        "id_list = list(df_hot['business_id'].unique())\n",
        "len(id_list)"
      ],
      "metadata": {
        "colab": {
          "base_uri": "https://localhost:8080/"
        },
        "id": "sHJQopK8f_O_",
        "outputId": "d8afbe46-e800-4ba9-8c34-48274244b313"
      },
      "execution_count": null,
      "outputs": [
        {
          "output_type": "execute_result",
          "data": {
            "text/plain": [
              "2240"
            ]
          },
          "metadata": {},
          "execution_count": 10
        }
      ]
    },
    {
      "cell_type": "code",
      "source": [
        "textfile = open(\"yelp_hot_business_ids.txt\", \"w\")\n",
        "for element in id_list:\n",
        "    textfile.write(element + \"\\n\")\n",
        "textfile.close()"
      ],
      "metadata": {
        "id": "GIX_SbwZgem3"
      },
      "execution_count": null,
      "outputs": []
    },
    {
      "cell_type": "code",
      "source": [
        "ids = pd.read_csv('yelp_hot_business_ids.txt', sep=\"\\n\", header=None)\n",
        "ids_list = ids[0].tolist()\n",
        "\n",
        "len(ids_list)\n",
        "\n",
        "path_dataset = '/content/drive/MyDrive/CS685NLP/Project/'\n",
        "\n",
        "df = pd.read_csv(path_dataset+'yelp_academic_dataset_review.csv')\n",
        "\n",
        "df_1M = df[0:1000000]\n",
        "\n",
        "df_hot = pd.DataFrame([], columns = df_1M.columns)\n",
        "df_hot.head()\n",
        "\n",
        "for index, row in df_1M.iterrows():\n",
        "  # if row.business_id!= None:\n",
        "  if row.business_id[2:-1] in ids_list:\n",
        "    print(index)\n",
        "    df_hot.loc[len(df_hot.index)] = row\n",
        "  else:\n",
        "    continue\n",
        "print(df_hot.shape)\n",
        "\n",
        "df_hot.to_csv('yelp_hot_from_1M.csv')"
      ],
      "metadata": {
        "id": "tUFbQA-XhlcT"
      },
      "execution_count": null,
      "outputs": []
    },
    {
      "cell_type": "code",
      "source": [
        "print(df_hot.shape)"
      ],
      "metadata": {
        "colab": {
          "base_uri": "https://localhost:8080/"
        },
        "id": "_Kn55j4clkKR",
        "outputId": "08219ffd-b442-4620-e977-dfc4bd4f376c"
      },
      "execution_count": null,
      "outputs": [
        {
          "output_type": "stream",
          "name": "stdout",
          "text": [
            "(14473, 9)\n"
          ]
        }
      ]
    },
    {
      "cell_type": "code",
      "source": [
        "import pandas as pd\n",
        "quality_df = pd.read_csv('arg_quality_rank_30k.csv')"
      ],
      "metadata": {
        "id": "UYhwXcRzcpu0"
      },
      "execution_count": 5,
      "outputs": []
    },
    {
      "cell_type": "code",
      "source": [
        "quality_df[quality_df['set']=='test'].shape"
      ],
      "metadata": {
        "colab": {
          "base_uri": "https://localhost:8080/"
        },
        "id": "36tcDYZJc7Wq",
        "outputId": "62fea006-7d5b-4a4f-eddc-ae9f8817b21d"
      },
      "execution_count": 10,
      "outputs": [
        {
          "output_type": "execute_result",
          "data": {
            "text/plain": [
              "(6315, 7)"
            ]
          },
          "metadata": {},
          "execution_count": 10
        }
      ]
    }
  ]
}
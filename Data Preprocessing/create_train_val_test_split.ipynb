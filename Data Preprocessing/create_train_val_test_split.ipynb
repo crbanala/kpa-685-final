{
  "nbformat": 4,
  "nbformat_minor": 0,
  "metadata": {
    "colab": {
      "name": "create_train_val_test_split.ipynb",
      "provenance": [],
      "collapsed_sections": [],
      "machine_shape": "hm"
    },
    "kernelspec": {
      "name": "python3",
      "display_name": "Python 3"
    },
    "language_info": {
      "name": "python"
    }
  },
  "cells": [
    {
      "cell_type": "code",
      "execution_count": 1,
      "metadata": {
        "colab": {
          "base_uri": "https://localhost:8080/"
        },
        "id": "OQPMVHkTwKYz",
        "outputId": "5e3b6cc3-0059-487f-ae87-1e3bd59afdae"
      },
      "outputs": [
        {
          "output_type": "stream",
          "name": "stdout",
          "text": [
            "Your runtime has 27.3 gigabytes of available RAM\n",
            "\n",
            "You are using a high-RAM runtime!\n"
          ]
        }
      ],
      "source": [
        "from psutil import virtual_memory\n",
        "ram_gb = virtual_memory().total / 1e9\n",
        "print('Your runtime has {:.1f} gigabytes of available RAM\\n'.format(ram_gb))\n",
        "\n",
        "if ram_gb < 20:\n",
        "  print('Not using a high-RAM runtime')\n",
        "else:\n",
        "  print('You are using a high-RAM runtime!')"
      ]
    },
    {
      "cell_type": "code",
      "source": [
        "from google.colab import drive\n",
        "drive.mount('/content/drive', force_remount=True)\n",
        "\n",
        "FOLDERNAME = 'nlp_data'\n",
        "assert FOLDERNAME is not None, \"[!] Enter the foldername.\"\n",
        "\n",
        "#Now that we've mounted your Drive, this ensures that\n",
        "# the Python interpreter of the Colab VM can load\n",
        "# python files from within it.\n",
        "import sys\n",
        "sys.path.append('/content/drive/My Drive/{}'.format(FOLDERNAME))\n",
        "\n",
        "%cd /content/drive/My\\ Drive/$FOLDERNAME/"
      ],
      "metadata": {
        "colab": {
          "base_uri": "https://localhost:8080/"
        },
        "id": "MoyUPSsrwUBl",
        "outputId": "f4a0e630-7d28-4e95-a39d-d18a93731470"
      },
      "execution_count": 2,
      "outputs": [
        {
          "output_type": "stream",
          "name": "stdout",
          "text": [
            "Mounted at /content/drive\n",
            "/content/drive/My Drive/nlp_data\n"
          ]
        }
      ]
    },
    {
      "cell_type": "code",
      "source": [
        "import json\n",
        " \n",
        "with open('restaurant_reviews/res_reviews_final.json') as json_file:\n",
        "  res_data = json.load(json_file)"
      ],
      "metadata": {
        "id": "vrurGb-FwZrB"
      },
      "execution_count": 3,
      "outputs": []
    },
    {
      "cell_type": "code",
      "source": [
        "with open('restaurant_reviews/hos_reviews_final.json') as json_file:\n",
        "  hos_data = json.load(json_file)"
      ],
      "metadata": {
        "id": "Mo5wH2XrxgZB"
      },
      "execution_count": 4,
      "outputs": []
    },
    {
      "cell_type": "code",
      "source": [
        "len(res_data)"
      ],
      "metadata": {
        "colab": {
          "base_uri": "https://localhost:8080/"
        },
        "id": "Q65scZ6WxtCB",
        "outputId": "03058e69-83b7-4475-bf82-d9a368ff85b8"
      },
      "execution_count": 5,
      "outputs": [
        {
          "output_type": "execute_result",
          "data": {
            "text/plain": [
              "50762"
            ]
          },
          "metadata": {},
          "execution_count": 5
        }
      ]
    },
    {
      "cell_type": "code",
      "source": [
        "len(hos_data)"
      ],
      "metadata": {
        "colab": {
          "base_uri": "https://localhost:8080/"
        },
        "id": "ClAsYTBDxyOg",
        "outputId": "b7144431-4f1f-4f0f-f7b4-9cd71beb3fbc"
      },
      "execution_count": 6,
      "outputs": [
        {
          "output_type": "execute_result",
          "data": {
            "text/plain": [
              "5703"
            ]
          },
          "metadata": {},
          "execution_count": 6
        }
      ]
    },
    {
      "cell_type": "code",
      "source": [
        "rev_count = 0\n",
        "for bus in res_data.keys():\n",
        "  rev_count += len(res_data[bus]['review_list'])\n",
        "rev_count"
      ],
      "metadata": {
        "colab": {
          "base_uri": "https://localhost:8080/"
        },
        "id": "5fln6ZqE5Sfl",
        "outputId": "16083734-44ea-444d-d789-55158518e5b7"
      },
      "execution_count": 7,
      "outputs": [
        {
          "output_type": "execute_result",
          "data": {
            "text/plain": [
              "6385277"
            ]
          },
          "metadata": {},
          "execution_count": 7
        }
      ]
    },
    {
      "cell_type": "code",
      "source": [
        "filtered_res_data = {}\n",
        "review_count = 0\n",
        "for business in res_data.keys():\n",
        "  reviews_list = res_data[business]['review_list'].copy()\n",
        "\n",
        "  for review in reviews_list:\n",
        "      review_count = len(review['text'].split('.'))\n",
        "      if review_count > 15:\n",
        "        reviews_list.remove(review)\n",
        "\n",
        "  if len(reviews_list) >= 50:    \n",
        "    filtered_res_data[business] = res_data[business].copy()\n",
        "    filtered_res_data[business]['review_list'] = reviews_list.copy()\n"
      ],
      "metadata": {
        "id": "dK7ENPR71u4G"
      },
      "execution_count": 8,
      "outputs": []
    },
    {
      "cell_type": "code",
      "source": [
        "rev_count = 0\n",
        "for bus in filtered_res_data.keys():\n",
        "  rev_count += len(filtered_res_data[bus]['review_list'])\n",
        "rev_count"
      ],
      "metadata": {
        "colab": {
          "base_uri": "https://localhost:8080/"
        },
        "id": "iTMa9QMK5_nP",
        "outputId": "d1422dae-915e-4ccd-d098-3822e89015aa"
      },
      "execution_count": 9,
      "outputs": [
        {
          "output_type": "execute_result",
          "data": {
            "text/plain": [
              "5209935"
            ]
          },
          "metadata": {},
          "execution_count": 9
        }
      ]
    },
    {
      "cell_type": "code",
      "source": [
        "filtered_hos_data = {}\n",
        "review_count = 0\n",
        "for business in hos_data.keys():\n",
        "  reviews_list = hos_data[business]['review_list'].copy()\n",
        "\n",
        "  for review in reviews_list:\n",
        "      review_count = len(review['text'].split('.'))\n",
        "      if review_count > 15:\n",
        "        reviews_list.remove(review)\n",
        "\n",
        "  if len(reviews_list) >= 50:    \n",
        "    filtered_hos_data[business] = hos_data[business].copy()\n",
        "    filtered_hos_data[business]['review_list'] = reviews_list.copy()"
      ],
      "metadata": {
        "id": "MfUy4nmJ3f_C"
      },
      "execution_count": 10,
      "outputs": []
    },
    {
      "cell_type": "code",
      "source": [
        "rev_count = 0\n",
        "for bus in filtered_hos_data.keys():\n",
        "  rev_count += len(filtered_hos_data[bus]['review_list'])\n",
        "rev_count"
      ],
      "metadata": {
        "colab": {
          "base_uri": "https://localhost:8080/"
        },
        "id": "VvzUGRAr_sFH",
        "outputId": "341d6389-4c50-483f-d8cd-cc951061c14d"
      },
      "execution_count": 11,
      "outputs": [
        {
          "output_type": "execute_result",
          "data": {
            "text/plain": [
              "259374"
            ]
          },
          "metadata": {},
          "execution_count": 11
        }
      ]
    },
    {
      "cell_type": "code",
      "source": [
        "print(len(filtered_res_data))\n",
        "print(len(filtered_hos_data))"
      ],
      "metadata": {
        "colab": {
          "base_uri": "https://localhost:8080/"
        },
        "id": "5iqJ0TcU3VKm",
        "outputId": "f000b8c7-b28b-442a-e4c3-b55e6492d3ca"
      },
      "execution_count": 12,
      "outputs": [
        {
          "output_type": "stream",
          "name": "stdout",
          "text": [
            "24590\n",
            "1512\n"
          ]
        }
      ]
    },
    {
      "cell_type": "code",
      "source": [
        "train = {}\n",
        "val = {}\n",
        "test = {}"
      ],
      "metadata": {
        "id": "ihBFJTUVy6nv"
      },
      "execution_count": 13,
      "outputs": []
    },
    {
      "cell_type": "code",
      "source": [
        "for key in list(filtered_res_data.keys())[0:int(0.25*len(filtered_res_data))]:\n",
        "  train[key] = filtered_res_data[key]\n",
        "\n",
        "for key in list(filtered_hos_data.keys())[0:int(0.25*len(filtered_hos_data))]:\n",
        "  train[key] = filtered_hos_data[key]\n",
        "\n",
        "for key in list(filtered_res_data.keys())[int(0.25*len(filtered_res_data)):int(0.5*len(filtered_res_data))]:\n",
        "  val[key] = filtered_res_data[key]\n",
        "\n",
        "for key in list(filtered_hos_data.keys())[int(0.25*len(filtered_hos_data)):int(0.5*len(filtered_hos_data))]:\n",
        "  val[key] = filtered_hos_data[key]\n",
        "\n",
        "for key in list(filtered_res_data.keys())[int(0.5*len(filtered_res_data)):]:\n",
        "  test[key] = filtered_res_data[key]\n",
        "\n",
        "for key in list(filtered_hos_data.keys())[int(0.5*len(filtered_hos_data)):]:\n",
        "  test[key] = filtered_hos_data[key]\n"
      ],
      "metadata": {
        "id": "gQd2FDt5x3Kr"
      },
      "execution_count": 14,
      "outputs": []
    },
    {
      "cell_type": "code",
      "source": [
        "train_rev_count = 0\n",
        "for bus in train.keys():\n",
        "  train_rev_count += len(train[bus]['review_list'])\n",
        "\n",
        "val_rev_count = 0\n",
        "for bus in val.keys():\n",
        "  val_rev_count += len(val[bus]['review_list'])\n",
        "\n",
        "test_rev_count = 0\n",
        "for bus in test.keys():\n",
        "  test_rev_count += len(test[bus]['review_list'])"
      ],
      "metadata": {
        "id": "qVrck9RLzUVo"
      },
      "execution_count": 15,
      "outputs": []
    },
    {
      "cell_type": "code",
      "source": [
        "print(train_rev_count)\n",
        "print(val_rev_count)\n",
        "print(test_rev_count)"
      ],
      "metadata": {
        "colab": {
          "base_uri": "https://localhost:8080/"
        },
        "id": "BNG1Qo2h0dx3",
        "outputId": "6bb50afb-79d7-4dd6-b164-b83381c86f93"
      },
      "execution_count": 16,
      "outputs": [
        {
          "output_type": "stream",
          "name": "stdout",
          "text": [
            "1339639\n",
            "1379989\n",
            "2698799\n"
          ]
        }
      ]
    },
    {
      "cell_type": "code",
      "source": [
        "with open('/content/drive/My Drive/nlp_data/review_dataset/train.json', 'w', encoding ='utf8') as json_file:\n",
        "    json.dump(train, json_file)"
      ],
      "metadata": {
        "id": "VzURXt7R03gI"
      },
      "execution_count": 17,
      "outputs": []
    },
    {
      "cell_type": "code",
      "source": [
        "with open('/content/drive/My Drive/nlp_data/review_dataset/val.json', 'w', encoding ='utf8') as json_file:\n",
        "    json.dump(val, json_file)"
      ],
      "metadata": {
        "id": "Dwr1nY7x1EQt"
      },
      "execution_count": 18,
      "outputs": []
    },
    {
      "cell_type": "code",
      "source": [
        "with open('/content/drive/My Drive/nlp_data/review_dataset/test.json', 'w', encoding ='utf8') as json_file:\n",
        "    json.dump(test, json_file)"
      ],
      "metadata": {
        "id": "Hf0EzX5c1ErY"
      },
      "execution_count": 19,
      "outputs": []
    }
  ]
}
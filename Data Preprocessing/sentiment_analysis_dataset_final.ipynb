{
  "nbformat": 4,
  "nbformat_minor": 0,
  "metadata": {
    "colab": {
      "name": "sentiment_analysis_dataset.ipynb",
      "provenance": [],
      "machine_shape": "hm"
    },
    "kernelspec": {
      "name": "python3",
      "display_name": "Python 3"
    },
    "language_info": {
      "name": "python"
    }
  },
  "cells": [
    {
      "cell_type": "code",
      "execution_count": 1,
      "metadata": {
        "colab": {
          "base_uri": "https://localhost:8080/"
        },
        "id": "HfqZk1-KDJ43",
        "outputId": "1aa8583b-d68d-4cb4-a07f-f0c90edcf285"
      },
      "outputs": [
        {
          "output_type": "stream",
          "name": "stdout",
          "text": [
            "Your runtime has 27.3 gigabytes of available RAM\n",
            "\n",
            "You are using a high-RAM runtime!\n"
          ]
        }
      ],
      "source": [
        "from psutil import virtual_memory\n",
        "ram_gb = virtual_memory().total / 1e9\n",
        "print('Your runtime has {:.1f} gigabytes of available RAM\\n'.format(ram_gb))\n",
        "\n",
        "if ram_gb < 20:\n",
        "  print('Not using a high-RAM runtime')\n",
        "else:\n",
        "  print('You are using a high-RAM runtime!')"
      ]
    },
    {
      "cell_type": "code",
      "source": [
        "from google.colab import drive\n",
        "drive.mount('/content/drive', force_remount=True)\n",
        "\n",
        "FOLDERNAME = 'nlp_data'\n",
        "assert FOLDERNAME is not None, \"[!] Enter the foldername.\"\n",
        "\n",
        "#Now that we've mounted your Drive, this ensures that\n",
        "# the Python interpreter of the Colab VM can load\n",
        "# python files from within it.\n",
        "import sys\n",
        "sys.path.append('/content/drive/My Drive/{}'.format(FOLDERNAME))\n",
        "\n",
        "%cd /content/drive/My\\ Drive/$FOLDERNAME/"
      ],
      "metadata": {
        "colab": {
          "base_uri": "https://localhost:8080/"
        },
        "id": "iVkrEzPjDUqc",
        "outputId": "8907fc02-2e35-43d8-8180-48d7c2c42a62"
      },
      "execution_count": 2,
      "outputs": [
        {
          "output_type": "stream",
          "name": "stdout",
          "text": [
            "Mounted at /content/drive\n",
            "/content/drive/My Drive/nlp_data\n"
          ]
        }
      ]
    },
    {
      "cell_type": "code",
      "source": [
        "import json\n",
        "import nltk\n",
        "nltk.download('punkt')"
      ],
      "metadata": {
        "colab": {
          "base_uri": "https://localhost:8080/"
        },
        "id": "ZnLy5ZqCDmOQ",
        "outputId": "c5332964-2c01-474b-beaf-e0851c3bf2fc"
      },
      "execution_count": 3,
      "outputs": [
        {
          "output_type": "stream",
          "name": "stdout",
          "text": [
            "[nltk_data] Downloading package punkt to /root/nltk_data...\n",
            "[nltk_data]   Package punkt is already up-to-date!\n"
          ]
        },
        {
          "output_type": "execute_result",
          "data": {
            "text/plain": [
              "True"
            ]
          },
          "metadata": {},
          "execution_count": 3
        }
      ]
    },
    {
      "cell_type": "code",
      "source": [
        "with open('/content/drive/My Drive/nlp_data/review_dataset/train.json') as json_file:\n",
        "    train = json.load(json_file)"
      ],
      "metadata": {
        "id": "-0BY58EjDc50"
      },
      "execution_count": 4,
      "outputs": []
    },
    {
      "cell_type": "code",
      "source": [
        "rev_list = []\n",
        "rating_list = []\n",
        "review_count = 0\n",
        "for business in train.keys():\n",
        "  reviews_list = train[business]['review_list'].copy()\n",
        "\n",
        "  for review in reviews_list:\n",
        "    text = review['text']\n",
        "    rating = review['rating']\n",
        "    text = text[:-1] if text[-1] == '.' else text\n",
        "    review_count = len(text.split('.'))\n",
        "    if review_count < 4 and len(nltk.word_tokenize(text)) < 65:\n",
        "      \n",
        "      if rating in [1.0, 2.0]:\n",
        "        rev_list.append(text)\n",
        "        rating_list.append(0)\n",
        "      elif rating == 3.0:\n",
        "        rev_list.append(text)\n",
        "        rating_list.append(1)\n",
        "      elif rating in [4.0, 5.0]:\n",
        "        rev_list.append(text)\n",
        "        rating_list.append(2)\n",
        "      else:\n",
        "        continue"
      ],
      "metadata": {
        "id": "ARofQngRDrGV"
      },
      "execution_count": 5,
      "outputs": []
    },
    {
      "cell_type": "code",
      "source": [
        "len(rev_list)"
      ],
      "metadata": {
        "colab": {
          "base_uri": "https://localhost:8080/"
        },
        "id": "OJH2gJSgaihP",
        "outputId": "775c281c-3124-4720-c3d8-e9eda134efaa"
      },
      "execution_count": 6,
      "outputs": [
        {
          "output_type": "execute_result",
          "data": {
            "text/plain": [
              "260229"
            ]
          },
          "metadata": {},
          "execution_count": 6
        }
      ]
    },
    {
      "cell_type": "code",
      "source": [
        "set(rating_list)"
      ],
      "metadata": {
        "colab": {
          "base_uri": "https://localhost:8080/"
        },
        "id": "q6AcSk3uJTfz",
        "outputId": "aa17860c-cb40-46fa-de17-d520c3a3883f"
      },
      "execution_count": 7,
      "outputs": [
        {
          "output_type": "execute_result",
          "data": {
            "text/plain": [
              "{0, 1, 2}"
            ]
          },
          "metadata": {},
          "execution_count": 7
        }
      ]
    },
    {
      "cell_type": "code",
      "source": [
        "sent_train= [rev_list[:int(0.9*len(rev_list))], rating_list[:int(0.9*len(rating_list))]]"
      ],
      "metadata": {
        "id": "fSkenijXJaKY"
      },
      "execution_count": 8,
      "outputs": []
    },
    {
      "cell_type": "code",
      "source": [
        "len(sent_train[0])"
      ],
      "metadata": {
        "colab": {
          "base_uri": "https://localhost:8080/"
        },
        "id": "XgMEHACrKEVc",
        "outputId": "fe54d510-0b42-4dee-f2e5-3eb503609320"
      },
      "execution_count": 9,
      "outputs": [
        {
          "output_type": "execute_result",
          "data": {
            "text/plain": [
              "234206"
            ]
          },
          "metadata": {},
          "execution_count": 9
        }
      ]
    },
    {
      "cell_type": "code",
      "source": [
        "sent_test= [rev_list[int(0.9*len(rev_list)):], rating_list[int(0.9*len(rating_list)):]]"
      ],
      "metadata": {
        "id": "LVd1X9QGKKdo"
      },
      "execution_count": 10,
      "outputs": []
    },
    {
      "cell_type": "code",
      "source": [
        "len(sent_test[0])"
      ],
      "metadata": {
        "colab": {
          "base_uri": "https://localhost:8080/"
        },
        "id": "ES-rpLxPKQZ5",
        "outputId": "c2de7a9e-0fad-4775-b41d-8c2b4038db5e"
      },
      "execution_count": 11,
      "outputs": [
        {
          "output_type": "execute_result",
          "data": {
            "text/plain": [
              "26023"
            ]
          },
          "metadata": {},
          "execution_count": 11
        }
      ]
    },
    {
      "cell_type": "code",
      "source": [
        "with open('/content/drive/My Drive/nlp_data/review_dataset/sent_train.json', 'w', encoding ='utf8') as json_file:\n",
        "    json.dump(sent_train, json_file)"
      ],
      "metadata": {
        "id": "vR6TZsjpJWx1"
      },
      "execution_count": 12,
      "outputs": []
    },
    {
      "cell_type": "code",
      "source": [
        "with open('/content/drive/My Drive/nlp_data/review_dataset/sent_test.json', 'w', encoding ='utf8') as json_file:\n",
        "    json.dump(sent_test, json_file)"
      ],
      "metadata": {
        "id": "Bsgjey5EKcZC"
      },
      "execution_count": 13,
      "outputs": []
    }
  ]
}
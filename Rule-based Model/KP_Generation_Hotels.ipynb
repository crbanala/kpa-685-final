{
  "nbformat": 4,
  "nbformat_minor": 0,
  "metadata": {
    "colab": {
      "name": "KP_Generation_Hotels.ipynb",
      "provenance": [],
      "collapsed_sections": [],
      "machine_shape": "hm"
    },
    "kernelspec": {
      "display_name": "Python 3",
      "name": "python3"
    },
    "language_info": {
      "name": "python"
    },
    "accelerator": "GPU",
    "widgets": {
      "application/vnd.jupyter.widget-state+json": {
        "9eb465659e70492db0ab77f732985cc6": {
          "model_module": "@jupyter-widgets/controls",
          "model_name": "HBoxModel",
          "model_module_version": "1.5.0",
          "state": {
            "_view_name": "HBoxView",
            "_dom_classes": [],
            "_model_name": "HBoxModel",
            "_view_module": "@jupyter-widgets/controls",
            "_model_module_version": "1.5.0",
            "_view_count": null,
            "_view_module_version": "1.5.0",
            "box_style": "",
            "layout": "IPY_MODEL_999c888d94ec4ea090fbe03c053e66ca",
            "_model_module": "@jupyter-widgets/controls",
            "children": [
              "IPY_MODEL_63e3f915590f406ba1d9124a8941b8ac",
              "IPY_MODEL_2f9eefba66d943708f27358208e38865",
              "IPY_MODEL_85e832c52d43409d85e4ee776b7458fa"
            ]
          }
        },
        "999c888d94ec4ea090fbe03c053e66ca": {
          "model_module": "@jupyter-widgets/base",
          "model_name": "LayoutModel",
          "model_module_version": "1.2.0",
          "state": {
            "_view_name": "LayoutView",
            "grid_template_rows": null,
            "right": null,
            "justify_content": null,
            "_view_module": "@jupyter-widgets/base",
            "overflow": null,
            "_model_module_version": "1.2.0",
            "_view_count": null,
            "flex_flow": null,
            "width": null,
            "min_width": null,
            "border": null,
            "align_items": null,
            "bottom": null,
            "_model_module": "@jupyter-widgets/base",
            "top": null,
            "grid_column": null,
            "overflow_y": null,
            "overflow_x": null,
            "grid_auto_flow": null,
            "grid_area": null,
            "grid_template_columns": null,
            "flex": null,
            "_model_name": "LayoutModel",
            "justify_items": null,
            "grid_row": null,
            "max_height": null,
            "align_content": null,
            "visibility": null,
            "align_self": null,
            "height": null,
            "min_height": null,
            "padding": null,
            "grid_auto_rows": null,
            "grid_gap": null,
            "max_width": null,
            "order": null,
            "_view_module_version": "1.2.0",
            "grid_template_areas": null,
            "object_position": null,
            "object_fit": null,
            "grid_auto_columns": null,
            "margin": null,
            "display": null,
            "left": null
          }
        },
        "63e3f915590f406ba1d9124a8941b8ac": {
          "model_module": "@jupyter-widgets/controls",
          "model_name": "HTMLModel",
          "model_module_version": "1.5.0",
          "state": {
            "_view_name": "HTMLView",
            "style": "IPY_MODEL_9dcd22f797b843bfbc304540b9e229e9",
            "_dom_classes": [],
            "description": "",
            "_model_name": "HTMLModel",
            "placeholder": "​",
            "_view_module": "@jupyter-widgets/controls",
            "_model_module_version": "1.5.0",
            "value": "Downloading: 100%",
            "_view_count": null,
            "_view_module_version": "1.5.0",
            "description_tooltip": null,
            "_model_module": "@jupyter-widgets/controls",
            "layout": "IPY_MODEL_d565eb6ec47a4540823283ff50351166"
          }
        },
        "2f9eefba66d943708f27358208e38865": {
          "model_module": "@jupyter-widgets/controls",
          "model_name": "FloatProgressModel",
          "model_module_version": "1.5.0",
          "state": {
            "_view_name": "ProgressView",
            "style": "IPY_MODEL_830157bccb2e412ca4ed52d83b1fd843",
            "_dom_classes": [],
            "description": "",
            "_model_name": "FloatProgressModel",
            "bar_style": "success",
            "max": 482,
            "_view_module": "@jupyter-widgets/controls",
            "_model_module_version": "1.5.0",
            "value": 482,
            "_view_count": null,
            "_view_module_version": "1.5.0",
            "orientation": "horizontal",
            "min": 0,
            "description_tooltip": null,
            "_model_module": "@jupyter-widgets/controls",
            "layout": "IPY_MODEL_46761c35c9c84c7d81449362e66e9669"
          }
        },
        "85e832c52d43409d85e4ee776b7458fa": {
          "model_module": "@jupyter-widgets/controls",
          "model_name": "HTMLModel",
          "model_module_version": "1.5.0",
          "state": {
            "_view_name": "HTMLView",
            "style": "IPY_MODEL_7b26201269c646d69a53614f871f788c",
            "_dom_classes": [],
            "description": "",
            "_model_name": "HTMLModel",
            "placeholder": "​",
            "_view_module": "@jupyter-widgets/controls",
            "_model_module_version": "1.5.0",
            "value": " 482/482 [00:00&lt;00:00, 16.4kB/s]",
            "_view_count": null,
            "_view_module_version": "1.5.0",
            "description_tooltip": null,
            "_model_module": "@jupyter-widgets/controls",
            "layout": "IPY_MODEL_c43c09dc9102442996c9480479ee9ae8"
          }
        },
        "9dcd22f797b843bfbc304540b9e229e9": {
          "model_module": "@jupyter-widgets/controls",
          "model_name": "DescriptionStyleModel",
          "model_module_version": "1.5.0",
          "state": {
            "_view_name": "StyleView",
            "_model_name": "DescriptionStyleModel",
            "description_width": "",
            "_view_module": "@jupyter-widgets/base",
            "_model_module_version": "1.5.0",
            "_view_count": null,
            "_view_module_version": "1.2.0",
            "_model_module": "@jupyter-widgets/controls"
          }
        },
        "d565eb6ec47a4540823283ff50351166": {
          "model_module": "@jupyter-widgets/base",
          "model_name": "LayoutModel",
          "model_module_version": "1.2.0",
          "state": {
            "_view_name": "LayoutView",
            "grid_template_rows": null,
            "right": null,
            "justify_content": null,
            "_view_module": "@jupyter-widgets/base",
            "overflow": null,
            "_model_module_version": "1.2.0",
            "_view_count": null,
            "flex_flow": null,
            "width": null,
            "min_width": null,
            "border": null,
            "align_items": null,
            "bottom": null,
            "_model_module": "@jupyter-widgets/base",
            "top": null,
            "grid_column": null,
            "overflow_y": null,
            "overflow_x": null,
            "grid_auto_flow": null,
            "grid_area": null,
            "grid_template_columns": null,
            "flex": null,
            "_model_name": "LayoutModel",
            "justify_items": null,
            "grid_row": null,
            "max_height": null,
            "align_content": null,
            "visibility": null,
            "align_self": null,
            "height": null,
            "min_height": null,
            "padding": null,
            "grid_auto_rows": null,
            "grid_gap": null,
            "max_width": null,
            "order": null,
            "_view_module_version": "1.2.0",
            "grid_template_areas": null,
            "object_position": null,
            "object_fit": null,
            "grid_auto_columns": null,
            "margin": null,
            "display": null,
            "left": null
          }
        },
        "830157bccb2e412ca4ed52d83b1fd843": {
          "model_module": "@jupyter-widgets/controls",
          "model_name": "ProgressStyleModel",
          "model_module_version": "1.5.0",
          "state": {
            "_view_name": "StyleView",
            "_model_name": "ProgressStyleModel",
            "description_width": "",
            "_view_module": "@jupyter-widgets/base",
            "_model_module_version": "1.5.0",
            "_view_count": null,
            "_view_module_version": "1.2.0",
            "bar_color": null,
            "_model_module": "@jupyter-widgets/controls"
          }
        },
        "46761c35c9c84c7d81449362e66e9669": {
          "model_module": "@jupyter-widgets/base",
          "model_name": "LayoutModel",
          "model_module_version": "1.2.0",
          "state": {
            "_view_name": "LayoutView",
            "grid_template_rows": null,
            "right": null,
            "justify_content": null,
            "_view_module": "@jupyter-widgets/base",
            "overflow": null,
            "_model_module_version": "1.2.0",
            "_view_count": null,
            "flex_flow": null,
            "width": null,
            "min_width": null,
            "border": null,
            "align_items": null,
            "bottom": null,
            "_model_module": "@jupyter-widgets/base",
            "top": null,
            "grid_column": null,
            "overflow_y": null,
            "overflow_x": null,
            "grid_auto_flow": null,
            "grid_area": null,
            "grid_template_columns": null,
            "flex": null,
            "_model_name": "LayoutModel",
            "justify_items": null,
            "grid_row": null,
            "max_height": null,
            "align_content": null,
            "visibility": null,
            "align_self": null,
            "height": null,
            "min_height": null,
            "padding": null,
            "grid_auto_rows": null,
            "grid_gap": null,
            "max_width": null,
            "order": null,
            "_view_module_version": "1.2.0",
            "grid_template_areas": null,
            "object_position": null,
            "object_fit": null,
            "grid_auto_columns": null,
            "margin": null,
            "display": null,
            "left": null
          }
        },
        "7b26201269c646d69a53614f871f788c": {
          "model_module": "@jupyter-widgets/controls",
          "model_name": "DescriptionStyleModel",
          "model_module_version": "1.5.0",
          "state": {
            "_view_name": "StyleView",
            "_model_name": "DescriptionStyleModel",
            "description_width": "",
            "_view_module": "@jupyter-widgets/base",
            "_model_module_version": "1.5.0",
            "_view_count": null,
            "_view_module_version": "1.2.0",
            "_model_module": "@jupyter-widgets/controls"
          }
        },
        "c43c09dc9102442996c9480479ee9ae8": {
          "model_module": "@jupyter-widgets/base",
          "model_name": "LayoutModel",
          "model_module_version": "1.2.0",
          "state": {
            "_view_name": "LayoutView",
            "grid_template_rows": null,
            "right": null,
            "justify_content": null,
            "_view_module": "@jupyter-widgets/base",
            "overflow": null,
            "_model_module_version": "1.2.0",
            "_view_count": null,
            "flex_flow": null,
            "width": null,
            "min_width": null,
            "border": null,
            "align_items": null,
            "bottom": null,
            "_model_module": "@jupyter-widgets/base",
            "top": null,
            "grid_column": null,
            "overflow_y": null,
            "overflow_x": null,
            "grid_auto_flow": null,
            "grid_area": null,
            "grid_template_columns": null,
            "flex": null,
            "_model_name": "LayoutModel",
            "justify_items": null,
            "grid_row": null,
            "max_height": null,
            "align_content": null,
            "visibility": null,
            "align_self": null,
            "height": null,
            "min_height": null,
            "padding": null,
            "grid_auto_rows": null,
            "grid_gap": null,
            "max_width": null,
            "order": null,
            "_view_module_version": "1.2.0",
            "grid_template_areas": null,
            "object_position": null,
            "object_fit": null,
            "grid_auto_columns": null,
            "margin": null,
            "display": null,
            "left": null
          }
        },
        "d3bb3d21156b456fb8e94fc4b3feee37": {
          "model_module": "@jupyter-widgets/controls",
          "model_name": "HBoxModel",
          "model_module_version": "1.5.0",
          "state": {
            "_view_name": "HBoxView",
            "_dom_classes": [],
            "_model_name": "HBoxModel",
            "_view_module": "@jupyter-widgets/controls",
            "_model_module_version": "1.5.0",
            "_view_count": null,
            "_view_module_version": "1.5.0",
            "box_style": "",
            "layout": "IPY_MODEL_a3e0ac59ecf649c8bfe5d037913f339e",
            "_model_module": "@jupyter-widgets/controls",
            "children": [
              "IPY_MODEL_cbe4e3ed6701499aad98e449e5014df6",
              "IPY_MODEL_53720b5b8b1d407898799ba6914bfbb7",
              "IPY_MODEL_09ace396431f490b8326f831e4b1ed88"
            ]
          }
        },
        "a3e0ac59ecf649c8bfe5d037913f339e": {
          "model_module": "@jupyter-widgets/base",
          "model_name": "LayoutModel",
          "model_module_version": "1.2.0",
          "state": {
            "_view_name": "LayoutView",
            "grid_template_rows": null,
            "right": null,
            "justify_content": null,
            "_view_module": "@jupyter-widgets/base",
            "overflow": null,
            "_model_module_version": "1.2.0",
            "_view_count": null,
            "flex_flow": null,
            "width": null,
            "min_width": null,
            "border": null,
            "align_items": null,
            "bottom": null,
            "_model_module": "@jupyter-widgets/base",
            "top": null,
            "grid_column": null,
            "overflow_y": null,
            "overflow_x": null,
            "grid_auto_flow": null,
            "grid_area": null,
            "grid_template_columns": null,
            "flex": null,
            "_model_name": "LayoutModel",
            "justify_items": null,
            "grid_row": null,
            "max_height": null,
            "align_content": null,
            "visibility": null,
            "align_self": null,
            "height": null,
            "min_height": null,
            "padding": null,
            "grid_auto_rows": null,
            "grid_gap": null,
            "max_width": null,
            "order": null,
            "_view_module_version": "1.2.0",
            "grid_template_areas": null,
            "object_position": null,
            "object_fit": null,
            "grid_auto_columns": null,
            "margin": null,
            "display": null,
            "left": null
          }
        },
        "cbe4e3ed6701499aad98e449e5014df6": {
          "model_module": "@jupyter-widgets/controls",
          "model_name": "HTMLModel",
          "model_module_version": "1.5.0",
          "state": {
            "_view_name": "HTMLView",
            "style": "IPY_MODEL_ec03de09accc469fb0055c8008f1a63f",
            "_dom_classes": [],
            "description": "",
            "_model_name": "HTMLModel",
            "placeholder": "​",
            "_view_module": "@jupyter-widgets/controls",
            "_model_module_version": "1.5.0",
            "value": "Downloading: 100%",
            "_view_count": null,
            "_view_module_version": "1.5.0",
            "description_tooltip": null,
            "_model_module": "@jupyter-widgets/controls",
            "layout": "IPY_MODEL_1ba867768b1c4cbdbc5df4a6bc9054dc"
          }
        },
        "53720b5b8b1d407898799ba6914bfbb7": {
          "model_module": "@jupyter-widgets/controls",
          "model_name": "FloatProgressModel",
          "model_module_version": "1.5.0",
          "state": {
            "_view_name": "ProgressView",
            "style": "IPY_MODEL_7947b22c30564256b8d206d093b9f595",
            "_dom_classes": [],
            "description": "",
            "_model_name": "FloatProgressModel",
            "bar_style": "success",
            "max": 898823,
            "_view_module": "@jupyter-widgets/controls",
            "_model_module_version": "1.5.0",
            "value": 898823,
            "_view_count": null,
            "_view_module_version": "1.5.0",
            "orientation": "horizontal",
            "min": 0,
            "description_tooltip": null,
            "_model_module": "@jupyter-widgets/controls",
            "layout": "IPY_MODEL_ce24af7c86a747e99f06aaec7983f428"
          }
        },
        "09ace396431f490b8326f831e4b1ed88": {
          "model_module": "@jupyter-widgets/controls",
          "model_name": "HTMLModel",
          "model_module_version": "1.5.0",
          "state": {
            "_view_name": "HTMLView",
            "style": "IPY_MODEL_c08691112fb54e96af39847303cfd104",
            "_dom_classes": [],
            "description": "",
            "_model_name": "HTMLModel",
            "placeholder": "​",
            "_view_module": "@jupyter-widgets/controls",
            "_model_module_version": "1.5.0",
            "value": " 878k/878k [00:00&lt;00:00, 2.21MB/s]",
            "_view_count": null,
            "_view_module_version": "1.5.0",
            "description_tooltip": null,
            "_model_module": "@jupyter-widgets/controls",
            "layout": "IPY_MODEL_426663778dcb49b386bb17e6d6f13b2e"
          }
        },
        "ec03de09accc469fb0055c8008f1a63f": {
          "model_module": "@jupyter-widgets/controls",
          "model_name": "DescriptionStyleModel",
          "model_module_version": "1.5.0",
          "state": {
            "_view_name": "StyleView",
            "_model_name": "DescriptionStyleModel",
            "description_width": "",
            "_view_module": "@jupyter-widgets/base",
            "_model_module_version": "1.5.0",
            "_view_count": null,
            "_view_module_version": "1.2.0",
            "_model_module": "@jupyter-widgets/controls"
          }
        },
        "1ba867768b1c4cbdbc5df4a6bc9054dc": {
          "model_module": "@jupyter-widgets/base",
          "model_name": "LayoutModel",
          "model_module_version": "1.2.0",
          "state": {
            "_view_name": "LayoutView",
            "grid_template_rows": null,
            "right": null,
            "justify_content": null,
            "_view_module": "@jupyter-widgets/base",
            "overflow": null,
            "_model_module_version": "1.2.0",
            "_view_count": null,
            "flex_flow": null,
            "width": null,
            "min_width": null,
            "border": null,
            "align_items": null,
            "bottom": null,
            "_model_module": "@jupyter-widgets/base",
            "top": null,
            "grid_column": null,
            "overflow_y": null,
            "overflow_x": null,
            "grid_auto_flow": null,
            "grid_area": null,
            "grid_template_columns": null,
            "flex": null,
            "_model_name": "LayoutModel",
            "justify_items": null,
            "grid_row": null,
            "max_height": null,
            "align_content": null,
            "visibility": null,
            "align_self": null,
            "height": null,
            "min_height": null,
            "padding": null,
            "grid_auto_rows": null,
            "grid_gap": null,
            "max_width": null,
            "order": null,
            "_view_module_version": "1.2.0",
            "grid_template_areas": null,
            "object_position": null,
            "object_fit": null,
            "grid_auto_columns": null,
            "margin": null,
            "display": null,
            "left": null
          }
        },
        "7947b22c30564256b8d206d093b9f595": {
          "model_module": "@jupyter-widgets/controls",
          "model_name": "ProgressStyleModel",
          "model_module_version": "1.5.0",
          "state": {
            "_view_name": "StyleView",
            "_model_name": "ProgressStyleModel",
            "description_width": "",
            "_view_module": "@jupyter-widgets/base",
            "_model_module_version": "1.5.0",
            "_view_count": null,
            "_view_module_version": "1.2.0",
            "bar_color": null,
            "_model_module": "@jupyter-widgets/controls"
          }
        },
        "ce24af7c86a747e99f06aaec7983f428": {
          "model_module": "@jupyter-widgets/base",
          "model_name": "LayoutModel",
          "model_module_version": "1.2.0",
          "state": {
            "_view_name": "LayoutView",
            "grid_template_rows": null,
            "right": null,
            "justify_content": null,
            "_view_module": "@jupyter-widgets/base",
            "overflow": null,
            "_model_module_version": "1.2.0",
            "_view_count": null,
            "flex_flow": null,
            "width": null,
            "min_width": null,
            "border": null,
            "align_items": null,
            "bottom": null,
            "_model_module": "@jupyter-widgets/base",
            "top": null,
            "grid_column": null,
            "overflow_y": null,
            "overflow_x": null,
            "grid_auto_flow": null,
            "grid_area": null,
            "grid_template_columns": null,
            "flex": null,
            "_model_name": "LayoutModel",
            "justify_items": null,
            "grid_row": null,
            "max_height": null,
            "align_content": null,
            "visibility": null,
            "align_self": null,
            "height": null,
            "min_height": null,
            "padding": null,
            "grid_auto_rows": null,
            "grid_gap": null,
            "max_width": null,
            "order": null,
            "_view_module_version": "1.2.0",
            "grid_template_areas": null,
            "object_position": null,
            "object_fit": null,
            "grid_auto_columns": null,
            "margin": null,
            "display": null,
            "left": null
          }
        },
        "c08691112fb54e96af39847303cfd104": {
          "model_module": "@jupyter-widgets/controls",
          "model_name": "DescriptionStyleModel",
          "model_module_version": "1.5.0",
          "state": {
            "_view_name": "StyleView",
            "_model_name": "DescriptionStyleModel",
            "description_width": "",
            "_view_module": "@jupyter-widgets/base",
            "_model_module_version": "1.5.0",
            "_view_count": null,
            "_view_module_version": "1.2.0",
            "_model_module": "@jupyter-widgets/controls"
          }
        },
        "426663778dcb49b386bb17e6d6f13b2e": {
          "model_module": "@jupyter-widgets/base",
          "model_name": "LayoutModel",
          "model_module_version": "1.2.0",
          "state": {
            "_view_name": "LayoutView",
            "grid_template_rows": null,
            "right": null,
            "justify_content": null,
            "_view_module": "@jupyter-widgets/base",
            "overflow": null,
            "_model_module_version": "1.2.0",
            "_view_count": null,
            "flex_flow": null,
            "width": null,
            "min_width": null,
            "border": null,
            "align_items": null,
            "bottom": null,
            "_model_module": "@jupyter-widgets/base",
            "top": null,
            "grid_column": null,
            "overflow_y": null,
            "overflow_x": null,
            "grid_auto_flow": null,
            "grid_area": null,
            "grid_template_columns": null,
            "flex": null,
            "_model_name": "LayoutModel",
            "justify_items": null,
            "grid_row": null,
            "max_height": null,
            "align_content": null,
            "visibility": null,
            "align_self": null,
            "height": null,
            "min_height": null,
            "padding": null,
            "grid_auto_rows": null,
            "grid_gap": null,
            "max_width": null,
            "order": null,
            "_view_module_version": "1.2.0",
            "grid_template_areas": null,
            "object_position": null,
            "object_fit": null,
            "grid_auto_columns": null,
            "margin": null,
            "display": null,
            "left": null
          }
        },
        "15b4d3348fa944e6a64a103cf638c5d4": {
          "model_module": "@jupyter-widgets/controls",
          "model_name": "HBoxModel",
          "model_module_version": "1.5.0",
          "state": {
            "_view_name": "HBoxView",
            "_dom_classes": [],
            "_model_name": "HBoxModel",
            "_view_module": "@jupyter-widgets/controls",
            "_model_module_version": "1.5.0",
            "_view_count": null,
            "_view_module_version": "1.5.0",
            "box_style": "",
            "layout": "IPY_MODEL_d9b9c210590a4b0297fb9fa7c2404b9a",
            "_model_module": "@jupyter-widgets/controls",
            "children": [
              "IPY_MODEL_e8248557a3ea489c830fcf885afe31db",
              "IPY_MODEL_785b96bd283140f78b3a8dbcf0e1b4fa",
              "IPY_MODEL_1ec2abf2a81940e2b1d4fb2eaaabc921"
            ]
          }
        },
        "d9b9c210590a4b0297fb9fa7c2404b9a": {
          "model_module": "@jupyter-widgets/base",
          "model_name": "LayoutModel",
          "model_module_version": "1.2.0",
          "state": {
            "_view_name": "LayoutView",
            "grid_template_rows": null,
            "right": null,
            "justify_content": null,
            "_view_module": "@jupyter-widgets/base",
            "overflow": null,
            "_model_module_version": "1.2.0",
            "_view_count": null,
            "flex_flow": null,
            "width": null,
            "min_width": null,
            "border": null,
            "align_items": null,
            "bottom": null,
            "_model_module": "@jupyter-widgets/base",
            "top": null,
            "grid_column": null,
            "overflow_y": null,
            "overflow_x": null,
            "grid_auto_flow": null,
            "grid_area": null,
            "grid_template_columns": null,
            "flex": null,
            "_model_name": "LayoutModel",
            "justify_items": null,
            "grid_row": null,
            "max_height": null,
            "align_content": null,
            "visibility": null,
            "align_self": null,
            "height": null,
            "min_height": null,
            "padding": null,
            "grid_auto_rows": null,
            "grid_gap": null,
            "max_width": null,
            "order": null,
            "_view_module_version": "1.2.0",
            "grid_template_areas": null,
            "object_position": null,
            "object_fit": null,
            "grid_auto_columns": null,
            "margin": null,
            "display": null,
            "left": null
          }
        },
        "e8248557a3ea489c830fcf885afe31db": {
          "model_module": "@jupyter-widgets/controls",
          "model_name": "HTMLModel",
          "model_module_version": "1.5.0",
          "state": {
            "_view_name": "HTMLView",
            "style": "IPY_MODEL_92c27987d93b4818830454080fc201d6",
            "_dom_classes": [],
            "description": "",
            "_model_name": "HTMLModel",
            "placeholder": "​",
            "_view_module": "@jupyter-widgets/controls",
            "_model_module_version": "1.5.0",
            "value": "Downloading: 100%",
            "_view_count": null,
            "_view_module_version": "1.5.0",
            "description_tooltip": null,
            "_model_module": "@jupyter-widgets/controls",
            "layout": "IPY_MODEL_ddcc2dd2656646678c6ca6d0666d521a"
          }
        },
        "785b96bd283140f78b3a8dbcf0e1b4fa": {
          "model_module": "@jupyter-widgets/controls",
          "model_name": "FloatProgressModel",
          "model_module_version": "1.5.0",
          "state": {
            "_view_name": "ProgressView",
            "style": "IPY_MODEL_e770ea286bb3406aab080dbd8095ee88",
            "_dom_classes": [],
            "description": "",
            "_model_name": "FloatProgressModel",
            "bar_style": "success",
            "max": 456318,
            "_view_module": "@jupyter-widgets/controls",
            "_model_module_version": "1.5.0",
            "value": 456318,
            "_view_count": null,
            "_view_module_version": "1.5.0",
            "orientation": "horizontal",
            "min": 0,
            "description_tooltip": null,
            "_model_module": "@jupyter-widgets/controls",
            "layout": "IPY_MODEL_39ffb3b2b712419193e375b5423ac9a8"
          }
        },
        "1ec2abf2a81940e2b1d4fb2eaaabc921": {
          "model_module": "@jupyter-widgets/controls",
          "model_name": "HTMLModel",
          "model_module_version": "1.5.0",
          "state": {
            "_view_name": "HTMLView",
            "style": "IPY_MODEL_0046163b77224f718d607ca708084b04",
            "_dom_classes": [],
            "description": "",
            "_model_name": "HTMLModel",
            "placeholder": "​",
            "_view_module": "@jupyter-widgets/controls",
            "_model_module_version": "1.5.0",
            "value": " 446k/446k [00:00&lt;00:00, 2.57MB/s]",
            "_view_count": null,
            "_view_module_version": "1.5.0",
            "description_tooltip": null,
            "_model_module": "@jupyter-widgets/controls",
            "layout": "IPY_MODEL_a04ae4fd48694367a291048dd53b21cd"
          }
        },
        "92c27987d93b4818830454080fc201d6": {
          "model_module": "@jupyter-widgets/controls",
          "model_name": "DescriptionStyleModel",
          "model_module_version": "1.5.0",
          "state": {
            "_view_name": "StyleView",
            "_model_name": "DescriptionStyleModel",
            "description_width": "",
            "_view_module": "@jupyter-widgets/base",
            "_model_module_version": "1.5.0",
            "_view_count": null,
            "_view_module_version": "1.2.0",
            "_model_module": "@jupyter-widgets/controls"
          }
        },
        "ddcc2dd2656646678c6ca6d0666d521a": {
          "model_module": "@jupyter-widgets/base",
          "model_name": "LayoutModel",
          "model_module_version": "1.2.0",
          "state": {
            "_view_name": "LayoutView",
            "grid_template_rows": null,
            "right": null,
            "justify_content": null,
            "_view_module": "@jupyter-widgets/base",
            "overflow": null,
            "_model_module_version": "1.2.0",
            "_view_count": null,
            "flex_flow": null,
            "width": null,
            "min_width": null,
            "border": null,
            "align_items": null,
            "bottom": null,
            "_model_module": "@jupyter-widgets/base",
            "top": null,
            "grid_column": null,
            "overflow_y": null,
            "overflow_x": null,
            "grid_auto_flow": null,
            "grid_area": null,
            "grid_template_columns": null,
            "flex": null,
            "_model_name": "LayoutModel",
            "justify_items": null,
            "grid_row": null,
            "max_height": null,
            "align_content": null,
            "visibility": null,
            "align_self": null,
            "height": null,
            "min_height": null,
            "padding": null,
            "grid_auto_rows": null,
            "grid_gap": null,
            "max_width": null,
            "order": null,
            "_view_module_version": "1.2.0",
            "grid_template_areas": null,
            "object_position": null,
            "object_fit": null,
            "grid_auto_columns": null,
            "margin": null,
            "display": null,
            "left": null
          }
        },
        "e770ea286bb3406aab080dbd8095ee88": {
          "model_module": "@jupyter-widgets/controls",
          "model_name": "ProgressStyleModel",
          "model_module_version": "1.5.0",
          "state": {
            "_view_name": "StyleView",
            "_model_name": "ProgressStyleModel",
            "description_width": "",
            "_view_module": "@jupyter-widgets/base",
            "_model_module_version": "1.5.0",
            "_view_count": null,
            "_view_module_version": "1.2.0",
            "bar_color": null,
            "_model_module": "@jupyter-widgets/controls"
          }
        },
        "39ffb3b2b712419193e375b5423ac9a8": {
          "model_module": "@jupyter-widgets/base",
          "model_name": "LayoutModel",
          "model_module_version": "1.2.0",
          "state": {
            "_view_name": "LayoutView",
            "grid_template_rows": null,
            "right": null,
            "justify_content": null,
            "_view_module": "@jupyter-widgets/base",
            "overflow": null,
            "_model_module_version": "1.2.0",
            "_view_count": null,
            "flex_flow": null,
            "width": null,
            "min_width": null,
            "border": null,
            "align_items": null,
            "bottom": null,
            "_model_module": "@jupyter-widgets/base",
            "top": null,
            "grid_column": null,
            "overflow_y": null,
            "overflow_x": null,
            "grid_auto_flow": null,
            "grid_area": null,
            "grid_template_columns": null,
            "flex": null,
            "_model_name": "LayoutModel",
            "justify_items": null,
            "grid_row": null,
            "max_height": null,
            "align_content": null,
            "visibility": null,
            "align_self": null,
            "height": null,
            "min_height": null,
            "padding": null,
            "grid_auto_rows": null,
            "grid_gap": null,
            "max_width": null,
            "order": null,
            "_view_module_version": "1.2.0",
            "grid_template_areas": null,
            "object_position": null,
            "object_fit": null,
            "grid_auto_columns": null,
            "margin": null,
            "display": null,
            "left": null
          }
        },
        "0046163b77224f718d607ca708084b04": {
          "model_module": "@jupyter-widgets/controls",
          "model_name": "DescriptionStyleModel",
          "model_module_version": "1.5.0",
          "state": {
            "_view_name": "StyleView",
            "_model_name": "DescriptionStyleModel",
            "description_width": "",
            "_view_module": "@jupyter-widgets/base",
            "_model_module_version": "1.5.0",
            "_view_count": null,
            "_view_module_version": "1.2.0",
            "_model_module": "@jupyter-widgets/controls"
          }
        },
        "a04ae4fd48694367a291048dd53b21cd": {
          "model_module": "@jupyter-widgets/base",
          "model_name": "LayoutModel",
          "model_module_version": "1.2.0",
          "state": {
            "_view_name": "LayoutView",
            "grid_template_rows": null,
            "right": null,
            "justify_content": null,
            "_view_module": "@jupyter-widgets/base",
            "overflow": null,
            "_model_module_version": "1.2.0",
            "_view_count": null,
            "flex_flow": null,
            "width": null,
            "min_width": null,
            "border": null,
            "align_items": null,
            "bottom": null,
            "_model_module": "@jupyter-widgets/base",
            "top": null,
            "grid_column": null,
            "overflow_y": null,
            "overflow_x": null,
            "grid_auto_flow": null,
            "grid_area": null,
            "grid_template_columns": null,
            "flex": null,
            "_model_name": "LayoutModel",
            "justify_items": null,
            "grid_row": null,
            "max_height": null,
            "align_content": null,
            "visibility": null,
            "align_self": null,
            "height": null,
            "min_height": null,
            "padding": null,
            "grid_auto_rows": null,
            "grid_gap": null,
            "max_width": null,
            "order": null,
            "_view_module_version": "1.2.0",
            "grid_template_areas": null,
            "object_position": null,
            "object_fit": null,
            "grid_auto_columns": null,
            "margin": null,
            "display": null,
            "left": null
          }
        },
        "55ba5303e9c34118b95dd6991ba709e8": {
          "model_module": "@jupyter-widgets/controls",
          "model_name": "HBoxModel",
          "model_module_version": "1.5.0",
          "state": {
            "_view_name": "HBoxView",
            "_dom_classes": [],
            "_model_name": "HBoxModel",
            "_view_module": "@jupyter-widgets/controls",
            "_model_module_version": "1.5.0",
            "_view_count": null,
            "_view_module_version": "1.5.0",
            "box_style": "",
            "layout": "IPY_MODEL_916a08f35ee14f039a43f9124b742af6",
            "_model_module": "@jupyter-widgets/controls",
            "children": [
              "IPY_MODEL_975455cd61cc4175803c0dd2f4767813",
              "IPY_MODEL_8cb2c971367343aeb782d89b2bff4f51",
              "IPY_MODEL_436d0029c11e4475bd674cc44d4fa7d6"
            ]
          }
        },
        "916a08f35ee14f039a43f9124b742af6": {
          "model_module": "@jupyter-widgets/base",
          "model_name": "LayoutModel",
          "model_module_version": "1.2.0",
          "state": {
            "_view_name": "LayoutView",
            "grid_template_rows": null,
            "right": null,
            "justify_content": null,
            "_view_module": "@jupyter-widgets/base",
            "overflow": null,
            "_model_module_version": "1.2.0",
            "_view_count": null,
            "flex_flow": null,
            "width": null,
            "min_width": null,
            "border": null,
            "align_items": null,
            "bottom": null,
            "_model_module": "@jupyter-widgets/base",
            "top": null,
            "grid_column": null,
            "overflow_y": null,
            "overflow_x": null,
            "grid_auto_flow": null,
            "grid_area": null,
            "grid_template_columns": null,
            "flex": null,
            "_model_name": "LayoutModel",
            "justify_items": null,
            "grid_row": null,
            "max_height": null,
            "align_content": null,
            "visibility": null,
            "align_self": null,
            "height": null,
            "min_height": null,
            "padding": null,
            "grid_auto_rows": null,
            "grid_gap": null,
            "max_width": null,
            "order": null,
            "_view_module_version": "1.2.0",
            "grid_template_areas": null,
            "object_position": null,
            "object_fit": null,
            "grid_auto_columns": null,
            "margin": null,
            "display": null,
            "left": null
          }
        },
        "975455cd61cc4175803c0dd2f4767813": {
          "model_module": "@jupyter-widgets/controls",
          "model_name": "HTMLModel",
          "model_module_version": "1.5.0",
          "state": {
            "_view_name": "HTMLView",
            "style": "IPY_MODEL_0851d36396914c6586056caa97a44ba6",
            "_dom_classes": [],
            "description": "",
            "_model_name": "HTMLModel",
            "placeholder": "​",
            "_view_module": "@jupyter-widgets/controls",
            "_model_module_version": "1.5.0",
            "value": "Downloading: 100%",
            "_view_count": null,
            "_view_module_version": "1.5.0",
            "description_tooltip": null,
            "_model_module": "@jupyter-widgets/controls",
            "layout": "IPY_MODEL_d6a3e0d87eb84d65854d4b9c8e414107"
          }
        },
        "8cb2c971367343aeb782d89b2bff4f51": {
          "model_module": "@jupyter-widgets/controls",
          "model_name": "FloatProgressModel",
          "model_module_version": "1.5.0",
          "state": {
            "_view_name": "ProgressView",
            "style": "IPY_MODEL_ded9dbd15a8c410191bf67816aaf9e2e",
            "_dom_classes": [],
            "description": "",
            "_model_name": "FloatProgressModel",
            "bar_style": "success",
            "max": 1355863,
            "_view_module": "@jupyter-widgets/controls",
            "_model_module_version": "1.5.0",
            "value": 1355863,
            "_view_count": null,
            "_view_module_version": "1.5.0",
            "orientation": "horizontal",
            "min": 0,
            "description_tooltip": null,
            "_model_module": "@jupyter-widgets/controls",
            "layout": "IPY_MODEL_bed8d34d246d44e9a73a6c25b06a74d6"
          }
        },
        "436d0029c11e4475bd674cc44d4fa7d6": {
          "model_module": "@jupyter-widgets/controls",
          "model_name": "HTMLModel",
          "model_module_version": "1.5.0",
          "state": {
            "_view_name": "HTMLView",
            "style": "IPY_MODEL_77338a6a5032457bb0b0b0d9d1c05513",
            "_dom_classes": [],
            "description": "",
            "_model_name": "HTMLModel",
            "placeholder": "​",
            "_view_module": "@jupyter-widgets/controls",
            "_model_module_version": "1.5.0",
            "value": " 1.29M/1.29M [00:00&lt;00:00, 2.53MB/s]",
            "_view_count": null,
            "_view_module_version": "1.5.0",
            "description_tooltip": null,
            "_model_module": "@jupyter-widgets/controls",
            "layout": "IPY_MODEL_840af115bb2741f7b24fd42237a68131"
          }
        },
        "0851d36396914c6586056caa97a44ba6": {
          "model_module": "@jupyter-widgets/controls",
          "model_name": "DescriptionStyleModel",
          "model_module_version": "1.5.0",
          "state": {
            "_view_name": "StyleView",
            "_model_name": "DescriptionStyleModel",
            "description_width": "",
            "_view_module": "@jupyter-widgets/base",
            "_model_module_version": "1.5.0",
            "_view_count": null,
            "_view_module_version": "1.2.0",
            "_model_module": "@jupyter-widgets/controls"
          }
        },
        "d6a3e0d87eb84d65854d4b9c8e414107": {
          "model_module": "@jupyter-widgets/base",
          "model_name": "LayoutModel",
          "model_module_version": "1.2.0",
          "state": {
            "_view_name": "LayoutView",
            "grid_template_rows": null,
            "right": null,
            "justify_content": null,
            "_view_module": "@jupyter-widgets/base",
            "overflow": null,
            "_model_module_version": "1.2.0",
            "_view_count": null,
            "flex_flow": null,
            "width": null,
            "min_width": null,
            "border": null,
            "align_items": null,
            "bottom": null,
            "_model_module": "@jupyter-widgets/base",
            "top": null,
            "grid_column": null,
            "overflow_y": null,
            "overflow_x": null,
            "grid_auto_flow": null,
            "grid_area": null,
            "grid_template_columns": null,
            "flex": null,
            "_model_name": "LayoutModel",
            "justify_items": null,
            "grid_row": null,
            "max_height": null,
            "align_content": null,
            "visibility": null,
            "align_self": null,
            "height": null,
            "min_height": null,
            "padding": null,
            "grid_auto_rows": null,
            "grid_gap": null,
            "max_width": null,
            "order": null,
            "_view_module_version": "1.2.0",
            "grid_template_areas": null,
            "object_position": null,
            "object_fit": null,
            "grid_auto_columns": null,
            "margin": null,
            "display": null,
            "left": null
          }
        },
        "ded9dbd15a8c410191bf67816aaf9e2e": {
          "model_module": "@jupyter-widgets/controls",
          "model_name": "ProgressStyleModel",
          "model_module_version": "1.5.0",
          "state": {
            "_view_name": "StyleView",
            "_model_name": "ProgressStyleModel",
            "description_width": "",
            "_view_module": "@jupyter-widgets/base",
            "_model_module_version": "1.5.0",
            "_view_count": null,
            "_view_module_version": "1.2.0",
            "bar_color": null,
            "_model_module": "@jupyter-widgets/controls"
          }
        },
        "bed8d34d246d44e9a73a6c25b06a74d6": {
          "model_module": "@jupyter-widgets/base",
          "model_name": "LayoutModel",
          "model_module_version": "1.2.0",
          "state": {
            "_view_name": "LayoutView",
            "grid_template_rows": null,
            "right": null,
            "justify_content": null,
            "_view_module": "@jupyter-widgets/base",
            "overflow": null,
            "_model_module_version": "1.2.0",
            "_view_count": null,
            "flex_flow": null,
            "width": null,
            "min_width": null,
            "border": null,
            "align_items": null,
            "bottom": null,
            "_model_module": "@jupyter-widgets/base",
            "top": null,
            "grid_column": null,
            "overflow_y": null,
            "overflow_x": null,
            "grid_auto_flow": null,
            "grid_area": null,
            "grid_template_columns": null,
            "flex": null,
            "_model_name": "LayoutModel",
            "justify_items": null,
            "grid_row": null,
            "max_height": null,
            "align_content": null,
            "visibility": null,
            "align_self": null,
            "height": null,
            "min_height": null,
            "padding": null,
            "grid_auto_rows": null,
            "grid_gap": null,
            "max_width": null,
            "order": null,
            "_view_module_version": "1.2.0",
            "grid_template_areas": null,
            "object_position": null,
            "object_fit": null,
            "grid_auto_columns": null,
            "margin": null,
            "display": null,
            "left": null
          }
        },
        "77338a6a5032457bb0b0b0d9d1c05513": {
          "model_module": "@jupyter-widgets/controls",
          "model_name": "DescriptionStyleModel",
          "model_module_version": "1.5.0",
          "state": {
            "_view_name": "StyleView",
            "_model_name": "DescriptionStyleModel",
            "description_width": "",
            "_view_module": "@jupyter-widgets/base",
            "_model_module_version": "1.5.0",
            "_view_count": null,
            "_view_module_version": "1.2.0",
            "_model_module": "@jupyter-widgets/controls"
          }
        },
        "840af115bb2741f7b24fd42237a68131": {
          "model_module": "@jupyter-widgets/base",
          "model_name": "LayoutModel",
          "model_module_version": "1.2.0",
          "state": {
            "_view_name": "LayoutView",
            "grid_template_rows": null,
            "right": null,
            "justify_content": null,
            "_view_module": "@jupyter-widgets/base",
            "overflow": null,
            "_model_module_version": "1.2.0",
            "_view_count": null,
            "flex_flow": null,
            "width": null,
            "min_width": null,
            "border": null,
            "align_items": null,
            "bottom": null,
            "_model_module": "@jupyter-widgets/base",
            "top": null,
            "grid_column": null,
            "overflow_y": null,
            "overflow_x": null,
            "grid_auto_flow": null,
            "grid_area": null,
            "grid_template_columns": null,
            "flex": null,
            "_model_name": "LayoutModel",
            "justify_items": null,
            "grid_row": null,
            "max_height": null,
            "align_content": null,
            "visibility": null,
            "align_self": null,
            "height": null,
            "min_height": null,
            "padding": null,
            "grid_auto_rows": null,
            "grid_gap": null,
            "max_width": null,
            "order": null,
            "_view_module_version": "1.2.0",
            "grid_template_areas": null,
            "object_position": null,
            "object_fit": null,
            "grid_auto_columns": null,
            "margin": null,
            "display": null,
            "left": null
          }
        },
        "0a9433a707dd414ba7323ec47cb0d925": {
          "model_module": "@jupyter-widgets/controls",
          "model_name": "HBoxModel",
          "model_module_version": "1.5.0",
          "state": {
            "_view_name": "HBoxView",
            "_dom_classes": [],
            "_model_name": "HBoxModel",
            "_view_module": "@jupyter-widgets/controls",
            "_model_module_version": "1.5.0",
            "_view_count": null,
            "_view_module_version": "1.5.0",
            "box_style": "",
            "layout": "IPY_MODEL_a27c3bf323104e80834b82003bb44e68",
            "_model_module": "@jupyter-widgets/controls",
            "children": [
              "IPY_MODEL_5fad8ae91854479cb14e152cff07cac6",
              "IPY_MODEL_8c039b4032c34ead80367b03efaae8e7",
              "IPY_MODEL_9eece726f78544ec975f3fdc7a78c2d8"
            ]
          }
        },
        "a27c3bf323104e80834b82003bb44e68": {
          "model_module": "@jupyter-widgets/base",
          "model_name": "LayoutModel",
          "model_module_version": "1.2.0",
          "state": {
            "_view_name": "LayoutView",
            "grid_template_rows": null,
            "right": null,
            "justify_content": null,
            "_view_module": "@jupyter-widgets/base",
            "overflow": null,
            "_model_module_version": "1.2.0",
            "_view_count": null,
            "flex_flow": null,
            "width": null,
            "min_width": null,
            "border": null,
            "align_items": null,
            "bottom": null,
            "_model_module": "@jupyter-widgets/base",
            "top": null,
            "grid_column": null,
            "overflow_y": null,
            "overflow_x": null,
            "grid_auto_flow": null,
            "grid_area": null,
            "grid_template_columns": null,
            "flex": null,
            "_model_name": "LayoutModel",
            "justify_items": null,
            "grid_row": null,
            "max_height": null,
            "align_content": null,
            "visibility": null,
            "align_self": null,
            "height": null,
            "min_height": null,
            "padding": null,
            "grid_auto_rows": null,
            "grid_gap": null,
            "max_width": null,
            "order": null,
            "_view_module_version": "1.2.0",
            "grid_template_areas": null,
            "object_position": null,
            "object_fit": null,
            "grid_auto_columns": null,
            "margin": null,
            "display": null,
            "left": null
          }
        },
        "5fad8ae91854479cb14e152cff07cac6": {
          "model_module": "@jupyter-widgets/controls",
          "model_name": "HTMLModel",
          "model_module_version": "1.5.0",
          "state": {
            "_view_name": "HTMLView",
            "style": "IPY_MODEL_d6df34f4d9f84bdca882b8b6711ffdfd",
            "_dom_classes": [],
            "description": "",
            "_model_name": "HTMLModel",
            "placeholder": "​",
            "_view_module": "@jupyter-widgets/controls",
            "_model_module_version": "1.5.0",
            "value": "Iteration: 100%",
            "_view_count": null,
            "_view_module_version": "1.5.0",
            "description_tooltip": null,
            "_model_module": "@jupyter-widgets/controls",
            "layout": "IPY_MODEL_721f8a5116f54755807f886c6dd6950a"
          }
        },
        "8c039b4032c34ead80367b03efaae8e7": {
          "model_module": "@jupyter-widgets/controls",
          "model_name": "FloatProgressModel",
          "model_module_version": "1.5.0",
          "state": {
            "_view_name": "ProgressView",
            "style": "IPY_MODEL_2eacfacd7b6b48b78ec3ffa5db86fc77",
            "_dom_classes": [],
            "description": "",
            "_model_name": "FloatProgressModel",
            "bar_style": "success",
            "max": 24000,
            "_view_module": "@jupyter-widgets/controls",
            "_model_module_version": "1.5.0",
            "value": 24000,
            "_view_count": null,
            "_view_module_version": "1.5.0",
            "orientation": "horizontal",
            "min": 0,
            "description_tooltip": null,
            "_model_module": "@jupyter-widgets/controls",
            "layout": "IPY_MODEL_775ba6c1bec24c3c9ca745ce052e429d"
          }
        },
        "9eece726f78544ec975f3fdc7a78c2d8": {
          "model_module": "@jupyter-widgets/controls",
          "model_name": "HTMLModel",
          "model_module_version": "1.5.0",
          "state": {
            "_view_name": "HTMLView",
            "style": "IPY_MODEL_90cc9f760ecf40dab1aae4b6506f5285",
            "_dom_classes": [],
            "description": "",
            "_model_name": "HTMLModel",
            "placeholder": "​",
            "_view_module": "@jupyter-widgets/controls",
            "_model_module_version": "1.5.0",
            "value": " 24000/24000 [28:45&lt;00:00, 13.81it/s]",
            "_view_count": null,
            "_view_module_version": "1.5.0",
            "description_tooltip": null,
            "_model_module": "@jupyter-widgets/controls",
            "layout": "IPY_MODEL_34e6471621bc42e3823e28cd9f114d75"
          }
        },
        "d6df34f4d9f84bdca882b8b6711ffdfd": {
          "model_module": "@jupyter-widgets/controls",
          "model_name": "DescriptionStyleModel",
          "model_module_version": "1.5.0",
          "state": {
            "_view_name": "StyleView",
            "_model_name": "DescriptionStyleModel",
            "description_width": "",
            "_view_module": "@jupyter-widgets/base",
            "_model_module_version": "1.5.0",
            "_view_count": null,
            "_view_module_version": "1.2.0",
            "_model_module": "@jupyter-widgets/controls"
          }
        },
        "721f8a5116f54755807f886c6dd6950a": {
          "model_module": "@jupyter-widgets/base",
          "model_name": "LayoutModel",
          "model_module_version": "1.2.0",
          "state": {
            "_view_name": "LayoutView",
            "grid_template_rows": null,
            "right": null,
            "justify_content": null,
            "_view_module": "@jupyter-widgets/base",
            "overflow": null,
            "_model_module_version": "1.2.0",
            "_view_count": null,
            "flex_flow": null,
            "width": null,
            "min_width": null,
            "border": null,
            "align_items": null,
            "bottom": null,
            "_model_module": "@jupyter-widgets/base",
            "top": null,
            "grid_column": null,
            "overflow_y": null,
            "overflow_x": null,
            "grid_auto_flow": null,
            "grid_area": null,
            "grid_template_columns": null,
            "flex": null,
            "_model_name": "LayoutModel",
            "justify_items": null,
            "grid_row": null,
            "max_height": null,
            "align_content": null,
            "visibility": null,
            "align_self": null,
            "height": null,
            "min_height": null,
            "padding": null,
            "grid_auto_rows": null,
            "grid_gap": null,
            "max_width": null,
            "order": null,
            "_view_module_version": "1.2.0",
            "grid_template_areas": null,
            "object_position": null,
            "object_fit": null,
            "grid_auto_columns": null,
            "margin": null,
            "display": null,
            "left": null
          }
        },
        "2eacfacd7b6b48b78ec3ffa5db86fc77": {
          "model_module": "@jupyter-widgets/controls",
          "model_name": "ProgressStyleModel",
          "model_module_version": "1.5.0",
          "state": {
            "_view_name": "StyleView",
            "_model_name": "ProgressStyleModel",
            "description_width": "",
            "_view_module": "@jupyter-widgets/base",
            "_model_module_version": "1.5.0",
            "_view_count": null,
            "_view_module_version": "1.2.0",
            "bar_color": null,
            "_model_module": "@jupyter-widgets/controls"
          }
        },
        "775ba6c1bec24c3c9ca745ce052e429d": {
          "model_module": "@jupyter-widgets/base",
          "model_name": "LayoutModel",
          "model_module_version": "1.2.0",
          "state": {
            "_view_name": "LayoutView",
            "grid_template_rows": null,
            "right": null,
            "justify_content": null,
            "_view_module": "@jupyter-widgets/base",
            "overflow": null,
            "_model_module_version": "1.2.0",
            "_view_count": null,
            "flex_flow": null,
            "width": null,
            "min_width": null,
            "border": null,
            "align_items": null,
            "bottom": null,
            "_model_module": "@jupyter-widgets/base",
            "top": null,
            "grid_column": null,
            "overflow_y": null,
            "overflow_x": null,
            "grid_auto_flow": null,
            "grid_area": null,
            "grid_template_columns": null,
            "flex": null,
            "_model_name": "LayoutModel",
            "justify_items": null,
            "grid_row": null,
            "max_height": null,
            "align_content": null,
            "visibility": null,
            "align_self": null,
            "height": null,
            "min_height": null,
            "padding": null,
            "grid_auto_rows": null,
            "grid_gap": null,
            "max_width": null,
            "order": null,
            "_view_module_version": "1.2.0",
            "grid_template_areas": null,
            "object_position": null,
            "object_fit": null,
            "grid_auto_columns": null,
            "margin": null,
            "display": null,
            "left": null
          }
        },
        "90cc9f760ecf40dab1aae4b6506f5285": {
          "model_module": "@jupyter-widgets/controls",
          "model_name": "DescriptionStyleModel",
          "model_module_version": "1.5.0",
          "state": {
            "_view_name": "StyleView",
            "_model_name": "DescriptionStyleModel",
            "description_width": "",
            "_view_module": "@jupyter-widgets/base",
            "_model_module_version": "1.5.0",
            "_view_count": null,
            "_view_module_version": "1.2.0",
            "_model_module": "@jupyter-widgets/controls"
          }
        },
        "34e6471621bc42e3823e28cd9f114d75": {
          "model_module": "@jupyter-widgets/base",
          "model_name": "LayoutModel",
          "model_module_version": "1.2.0",
          "state": {
            "_view_name": "LayoutView",
            "grid_template_rows": null,
            "right": null,
            "justify_content": null,
            "_view_module": "@jupyter-widgets/base",
            "overflow": null,
            "_model_module_version": "1.2.0",
            "_view_count": null,
            "flex_flow": null,
            "width": null,
            "min_width": null,
            "border": null,
            "align_items": null,
            "bottom": null,
            "_model_module": "@jupyter-widgets/base",
            "top": null,
            "grid_column": null,
            "overflow_y": null,
            "overflow_x": null,
            "grid_auto_flow": null,
            "grid_area": null,
            "grid_template_columns": null,
            "flex": null,
            "_model_name": "LayoutModel",
            "justify_items": null,
            "grid_row": null,
            "max_height": null,
            "align_content": null,
            "visibility": null,
            "align_self": null,
            "height": null,
            "min_height": null,
            "padding": null,
            "grid_auto_rows": null,
            "grid_gap": null,
            "max_width": null,
            "order": null,
            "_view_module_version": "1.2.0",
            "grid_template_areas": null,
            "object_position": null,
            "object_fit": null,
            "grid_auto_columns": null,
            "margin": null,
            "display": null,
            "left": null
          }
        }
      }
    }
  },
  "cells": [
    {
      "cell_type": "code",
      "metadata": {
        "id": "GycxByftti3T",
        "colab": {
          "base_uri": "https://localhost:8080/"
        },
        "outputId": "bda763f0-2451-42a1-cb64-6ba69ebfbf9a"
      },
      "source": [
        "# This mounts your Google Drive to the Colab VM.\n",
        "from google.colab import drive\n",
        "drive.mount('/content/drive', force_remount=True)\n",
        "\n",
        "FOLDERNAME = 'NLP_project/dataset'\n",
        "assert FOLDERNAME is not None, \"[!] Enter the foldername.\"\n",
        "\n",
        "#Now that we've mounted your Drive, this ensures that\n",
        "# the Python interpreter of the Colab VM can load\n",
        "# python files from within it.\n",
        "import sys\n",
        "sys.path.append('/content/drive/My Drive/{}'.format(FOLDERNAME))\n",
        "\n",
        "%cd /content/drive/My\\ Drive/$FOLDERNAME/"
      ],
      "execution_count": null,
      "outputs": [
        {
          "output_type": "stream",
          "name": "stdout",
          "text": [
            "Mounted at /content/drive\n",
            "/content/drive/.shortcut-targets-by-id/1JLBuZnTQ8Cui6dbc8hlnFXrD_POoT_4F/NLP_project/dataset\n"
          ]
        }
      ]
    },
    {
      "cell_type": "code",
      "metadata": {
        "colab": {
          "base_uri": "https://localhost:8080/"
        },
        "id": "mFw5Iyzd7iAh",
        "outputId": "9f586ac2-3615-488e-d42f-77db81a05030"
      },
      "source": [
        "import torch\n",
        "\n",
        "# Confirm that the GPU is detected\n",
        "\n",
        "assert torch.cuda.is_available()\n",
        "\n",
        "# Get the GPU device name.\n",
        "device_name = torch.cuda.get_device_name()\n",
        "n_gpu = torch.cuda.device_count()\n",
        "print(f\"Found device: {device_name}, n_gpu: {n_gpu}\")\n",
        "device = torch.device(\"cuda\")"
      ],
      "execution_count": null,
      "outputs": [
        {
          "output_type": "stream",
          "name": "stdout",
          "text": [
            "Found device: Tesla P100-PCIE-16GB, n_gpu: 1\n"
          ]
        }
      ]
    },
    {
      "cell_type": "code",
      "source": [
        "!pip install transformers -q\n",
        "!pip install pandarallel -q\n",
        "!pip install sentencepiece -q\n",
        "!pip install neptune-client -q\n"
      ],
      "metadata": {
        "id": "8AfBIvVbcnb0",
        "colab": {
          "base_uri": "https://localhost:8080/"
        },
        "outputId": "2a8e0233-91ff-496f-90ac-bfbfa8590363"
      },
      "execution_count": null,
      "outputs": [
        {
          "output_type": "stream",
          "name": "stdout",
          "text": [
            "\u001b[K     |████████████████████████████████| 3.4 MB 5.0 MB/s \n",
            "\u001b[K     |████████████████████████████████| 61 kB 462 kB/s \n",
            "\u001b[K     |████████████████████████████████| 895 kB 50.3 MB/s \n",
            "\u001b[K     |████████████████████████████████| 596 kB 48.3 MB/s \n",
            "\u001b[K     |████████████████████████████████| 3.3 MB 49.5 MB/s \n",
            "\u001b[?25h  Building wheel for pandarallel (setup.py) ... \u001b[?25l\u001b[?25hdone\n",
            "\u001b[K     |████████████████████████████████| 1.2 MB 5.1 MB/s \n",
            "\u001b[K     |████████████████████████████████| 287 kB 5.1 MB/s \n",
            "\u001b[K     |████████████████████████████████| 829 kB 58.8 MB/s \n",
            "\u001b[K     |████████████████████████████████| 53 kB 2.0 MB/s \n",
            "\u001b[K     |████████████████████████████████| 180 kB 51.5 MB/s \n",
            "\u001b[K     |████████████████████████████████| 131 kB 59.4 MB/s \n",
            "\u001b[K     |████████████████████████████████| 79 kB 7.9 MB/s \n",
            "\u001b[K     |████████████████████████████████| 8.4 MB 44.1 MB/s \n",
            "\u001b[K     |████████████████████████████████| 138 kB 60.8 MB/s \n",
            "\u001b[K     |████████████████████████████████| 63 kB 1.8 MB/s \n",
            "\u001b[K     |████████████████████████████████| 127 kB 44.4 MB/s \n",
            "\u001b[K     |████████████████████████████████| 130 kB 59.3 MB/s \n",
            "\u001b[K     |████████████████████████████████| 67 kB 5.4 MB/s \n",
            "\u001b[?25h  Building wheel for neptune-client (setup.py) ... \u001b[?25l\u001b[?25hdone\n",
            "  Building wheel for future (setup.py) ... \u001b[?25l\u001b[?25hdone\n",
            "  Building wheel for strict-rfc3339 (setup.py) ... \u001b[?25l\u001b[?25hdone\n",
            "\u001b[31mERROR: pip's dependency resolver does not currently take into account all the packages that are installed. This behaviour is the source of the following dependency conflicts.\n",
            "datascience 0.10.6 requires folium==0.2.1, but you have folium 0.8.3 which is incompatible.\u001b[0m\n"
          ]
        }
      ]
    },
    {
      "cell_type": "code",
      "source": [
        "import numpy as np\n",
        "import pandas as pd\n",
        "import regex as re\n",
        "import random\n",
        "import ast\n",
        "import matplotlib.pyplot as plt\n",
        "import seaborn as sns\n",
        "from sklearn.model_selection import train_test_split\n",
        "from sklearn.metrics import accuracy_score,average_precision_score, precision_score,precision_recall_curve\n",
        "from tqdm.notebook import tqdm\n",
        "from tqdm import trange\n",
        "import warnings\n",
        "warnings.filterwarnings('ignore')\n",
        "import pickle\n",
        "import nltk\n",
        "import math\n",
        "import os\n",
        "import json\n",
        "import random\n",
        "import re\n",
        "import torch\n",
        "import torch.nn as nn\n",
        "from transformers import AdamW, get_linear_schedule_with_warmup\n",
        "from transformers import AutoTokenizer, AutoModel\n",
        "\n"
      ],
      "metadata": {
        "id": "1bL1rsIpchkA"
      },
      "execution_count": null,
      "outputs": []
    },
    {
      "cell_type": "code",
      "source": [
        "reviews_df = pd.read_csv('/content/drive/MyDrive/NLP_project/dataset/yelp_hot_from_1M.csv')\n"
      ],
      "metadata": {
        "id": "z0HaXRHCUeyk"
      },
      "execution_count": null,
      "outputs": []
    },
    {
      "cell_type": "code",
      "source": [
        "print(reviews_df.columns)"
      ],
      "metadata": {
        "colab": {
          "base_uri": "https://localhost:8080/"
        },
        "id": "q124ZZe0Um4I",
        "outputId": "75bb7c2a-8c4e-4c16-986a-481c27f66f7e"
      },
      "execution_count": null,
      "outputs": [
        {
          "output_type": "stream",
          "name": "stdout",
          "text": [
            "Index(['Unnamed: 0', 'date', 'useful', 'text', 'cool', 'funny', 'review_id',\n",
            "       'user_id', 'stars', 'business_id'],\n",
            "      dtype='object')\n"
          ]
        }
      ]
    },
    {
      "cell_type": "code",
      "source": [
        "print(reviews_df.shape)"
      ],
      "metadata": {
        "colab": {
          "base_uri": "https://localhost:8080/"
        },
        "id": "DioRMtq9Ov7a",
        "outputId": "3e8c1e89-20f8-42cf-98fa-4626c23cb0cb"
      },
      "execution_count": null,
      "outputs": [
        {
          "output_type": "stream",
          "name": "stdout",
          "text": [
            "(14473, 10)\n"
          ]
        }
      ]
    },
    {
      "cell_type": "code",
      "source": [
        "reviews_df = reviews_df[0:100]"
      ],
      "metadata": {
        "id": "hNfwIa1EZhGb"
      },
      "execution_count": null,
      "outputs": []
    },
    {
      "cell_type": "code",
      "source": [
        "model_path = '/content/drive/MyDrive/NLP_project/trained_models/matching_model/arg_miningrobertalarge_SEED_4_dense_layer_epoc_3_lr_1e-05_b_s_16_accumulation_steps_2_input_type_kp_arg_topic_preee.pt'"
      ],
      "metadata": {
        "id": "-zCIerIyXjiB"
      },
      "execution_count": null,
      "outputs": []
    },
    {
      "cell_type": "code",
      "source": [
        "class NonPoolerTransformer(torch.nn.Module):\n",
        "\n",
        "    def __init__(self):\n",
        "        super(NonPoolerTransformer, self).__init__()\n",
        "        \n",
        "        #Instantiating Pre trained model object \n",
        "        self.model_layer = AutoModel.from_pretrained(model_path)\n",
        "\n",
        "        #Layers\n",
        "        # the first dense layer will have 768 if base model is used and \n",
        "        # 1024 if large model is used\n",
        "\n",
        "        self.dense_layer_1 = nn.Linear(1024, 256)\n",
        "        self.dropout = nn.Dropout(0.4)\n",
        "        self.dense_layer_2 = nn.Linear(256, 128)\n",
        "        self.dropout_2 = nn.Dropout(0.2)\n",
        "        self.cls_layer = nn.Linear(128, 1, bias = True)\n",
        "        self.sigmoid = nn.Sigmoid()\n",
        "\n",
        "    def forward(self,input_ids, attention_masks):\n",
        "\n",
        "        hidden_state = self.model_layer(input_ids=input_ids, attention_mask=attention_masks)[0]\n",
        "        pooled_output = hidden_state[:, 0]\n",
        "\n",
        "        x = self.dense_layer_1(pooled_output)\n",
        "        x = self.dropout(x)\n",
        "        x_1 = self.dense_layer_2(x)\n",
        "        x_2 = self.dropout_2(x_1)\n",
        "\n",
        "        logits = self.cls_layer(x_2)\n",
        "        output = self.sigmoid(logits)\n",
        "\n",
        "        return output"
      ],
      "metadata": {
        "id": "dfIchtQzccUm"
      },
      "execution_count": null,
      "outputs": []
    },
    {
      "cell_type": "code",
      "source": [
        "model = torch.load(model_path)\n",
        "tokenizer = AutoTokenizer.from_pretrained('roberta-large')\n"
      ],
      "metadata": {
        "id": "MlQNkgYSVUxM",
        "colab": {
          "base_uri": "https://localhost:8080/",
          "height": 145,
          "referenced_widgets": [
            "9eb465659e70492db0ab77f732985cc6",
            "999c888d94ec4ea090fbe03c053e66ca",
            "63e3f915590f406ba1d9124a8941b8ac",
            "2f9eefba66d943708f27358208e38865",
            "85e832c52d43409d85e4ee776b7458fa",
            "9dcd22f797b843bfbc304540b9e229e9",
            "d565eb6ec47a4540823283ff50351166",
            "830157bccb2e412ca4ed52d83b1fd843",
            "46761c35c9c84c7d81449362e66e9669",
            "7b26201269c646d69a53614f871f788c",
            "c43c09dc9102442996c9480479ee9ae8",
            "d3bb3d21156b456fb8e94fc4b3feee37",
            "a3e0ac59ecf649c8bfe5d037913f339e",
            "cbe4e3ed6701499aad98e449e5014df6",
            "53720b5b8b1d407898799ba6914bfbb7",
            "09ace396431f490b8326f831e4b1ed88",
            "ec03de09accc469fb0055c8008f1a63f",
            "1ba867768b1c4cbdbc5df4a6bc9054dc",
            "7947b22c30564256b8d206d093b9f595",
            "ce24af7c86a747e99f06aaec7983f428",
            "c08691112fb54e96af39847303cfd104",
            "426663778dcb49b386bb17e6d6f13b2e",
            "15b4d3348fa944e6a64a103cf638c5d4",
            "d9b9c210590a4b0297fb9fa7c2404b9a",
            "e8248557a3ea489c830fcf885afe31db",
            "785b96bd283140f78b3a8dbcf0e1b4fa",
            "1ec2abf2a81940e2b1d4fb2eaaabc921",
            "92c27987d93b4818830454080fc201d6",
            "ddcc2dd2656646678c6ca6d0666d521a",
            "e770ea286bb3406aab080dbd8095ee88",
            "39ffb3b2b712419193e375b5423ac9a8",
            "0046163b77224f718d607ca708084b04",
            "a04ae4fd48694367a291048dd53b21cd",
            "55ba5303e9c34118b95dd6991ba709e8",
            "916a08f35ee14f039a43f9124b742af6",
            "975455cd61cc4175803c0dd2f4767813",
            "8cb2c971367343aeb782d89b2bff4f51",
            "436d0029c11e4475bd674cc44d4fa7d6",
            "0851d36396914c6586056caa97a44ba6",
            "d6a3e0d87eb84d65854d4b9c8e414107",
            "ded9dbd15a8c410191bf67816aaf9e2e",
            "bed8d34d246d44e9a73a6c25b06a74d6",
            "77338a6a5032457bb0b0b0d9d1c05513",
            "840af115bb2741f7b24fd42237a68131"
          ]
        },
        "outputId": "fa449b80-b638-4f62-8a99-01a50a78bde6"
      },
      "execution_count": null,
      "outputs": [
        {
          "output_type": "display_data",
          "data": {
            "application/vnd.jupyter.widget-view+json": {
              "model_id": "9eb465659e70492db0ab77f732985cc6",
              "version_minor": 0,
              "version_major": 2
            },
            "text/plain": [
              "Downloading:   0%|          | 0.00/482 [00:00<?, ?B/s]"
            ]
          },
          "metadata": {}
        },
        {
          "output_type": "display_data",
          "data": {
            "application/vnd.jupyter.widget-view+json": {
              "model_id": "d3bb3d21156b456fb8e94fc4b3feee37",
              "version_minor": 0,
              "version_major": 2
            },
            "text/plain": [
              "Downloading:   0%|          | 0.00/878k [00:00<?, ?B/s]"
            ]
          },
          "metadata": {}
        },
        {
          "output_type": "display_data",
          "data": {
            "application/vnd.jupyter.widget-view+json": {
              "model_id": "15b4d3348fa944e6a64a103cf638c5d4",
              "version_minor": 0,
              "version_major": 2
            },
            "text/plain": [
              "Downloading:   0%|          | 0.00/446k [00:00<?, ?B/s]"
            ]
          },
          "metadata": {}
        },
        {
          "output_type": "display_data",
          "data": {
            "application/vnd.jupyter.widget-view+json": {
              "model_id": "55ba5303e9c34118b95dd6991ba709e8",
              "version_minor": 0,
              "version_major": 2
            },
            "text/plain": [
              "Downloading:   0%|          | 0.00/1.29M [00:00<?, ?B/s]"
            ]
          },
          "metadata": {}
        }
      ]
    },
    {
      "cell_type": "code",
      "source": [
        "#make reviews and key_points dataset\n",
        "key_point_df =df = pd.read_csv('/content/drive/MyDrive/NLP_project/dataset/NLP keypoints - Hotels.csv')\n",
        "positive_kp_df = key_point_df['Positive']\n",
        "# print(positive_kp_df.head())\n",
        "negative_kp_df = key_point_df['Negative']\n",
        "# print(negative_kp_df.head())\n",
        "\n",
        "reviews_text_df = reviews_df['text']\n",
        "\n",
        "reviews_list = reviews_text_df.values.tolist()\n",
        "kp_list = positive_kp_df.values.tolist()\n",
        "kp_list.extend(negative_kp_df.values.tolist())\n",
        "\n",
        "print(reviews_list)\n",
        "print(kp_list)"
      ],
      "metadata": {
        "id": "SOm9nmviVVbh",
        "colab": {
          "base_uri": "https://localhost:8080/"
        },
        "outputId": "160069a3-cc1e-462a-d3d0-c95aee6b8ac4"
      },
      "execution_count": null,
      "outputs": [
        {
          "output_type": "stream",
          "name": "stdout",
          "text": [
            "['b\"I\\'ve stayed at many Marriott and Renaissance Marriott\\'s and this was a huge disappointment! The front desk and atrium is nice..there is a starbucks on site which is nice.\\\\n\\\\nThe rooms are run down and old.  There is a flat screen but that is to be expected of a Renaissance.\\\\n\\\\nWe got this hotel via Priceline at a rate of $75/night...good deal for the price but this is not a true Renaissance.\"', 'b\"Am I crazy for giving anything MBTA-related four stars? Maybe.\\\\n\\\\nRating the red line against other public transit services I\\'ve used in the US and abroad, no, it can\\'t hold a candle to anything in Japan or some of the better Metro lines in Paris. But those lines are well-funded. That\\'s simply not the case anywhere in the US.\\\\n\\\\nSimply because the T shuts down at night, it\\'s cleaner than anything in NYC. Sure, it\\'s not as fast, but Boston\\'s not nearly as big as NYC, so it\\'s fast enough.  Compared to any other public transit in the US, the red line is awesome. \\\\n\\\\nLook, all of the MBTA -- the trains, the busses, the stops -- they are all showing signs of neglect. It\\'s in debt by several billion dollars. So they\\'re not going to add any fancy new features or do any serious upgrading until they have money to pay for it.  So knowing all this, I\\'m still really quite happy with the red line.\"', 'b\\'I\\\\\\'m giving this place a 3.75.  The only thing that wasn\\\\\\'t too great was that if you left the window open it can be quite loud.  The inn is right beside the road and people may walk by throughout the night.\\\\n\\\\nThe room we had was on the lower floor and it was extremely clean and nice.  My experience here was quite interesting.  We woke up in the middle of the night to a lady that was drunk singing loudly.  A staff member came out and told her to stop singing and she simply replied, \"Ok ok I\\\\\\'ll go to sleep.\" and left.  Oddest thing ever! \\\\n\\\\nThe staff is friendly and there is complimentary coffee, tea and cocoa at the front desk.  The airport shuttle leaves every hour.\\'', 'b\\'Clean, comfortable hotel, with good breakfast buffet included. Convenient to the airport, Florida Realtors, and Semoran. Good value for the price. Spacious lobby, and they provide \"snack\" bags at the front desk with fruit and a granola bar or cookie. At time of this stay major road work was being done on TG Lee & other side streets.\\'', 'b\"The only reason that the Empire Landmark gets 3-stars is because of the phenomenal view from our room.  If you can get a west facing, high story room then it\\'s worth it.  \\\\n\\\\nThe only thing that could have improved that view is if they had had chairs out on the balcony.  It would have been nice to sit there and enjoy a drink.  However, now that I think about it, they probably want people to have to go to Cloud 9, their rotating restaurant and bar to do that.  \\\\n\\\\nThe hotel itself is outdated and we heard rumors that they are shutting it down, so maybe that\\'s why they haven\\'t updated it.  Our room was clean, appliances and bathroom fixtures were old and in need of some love.  The headboard of the bed banged annoyingly against the wall every time you even leaned on it. I feel bad for whoever our neighbors were.  \\\\n\\\\nThis hotel is also the only establishment we visited in Vancouver where I encountered irritated staff and sub par customer service.  Again, if the closing rumors are true then maybe they are just disgruntled. Both front desk employees that we spoke to seemed to be irritated by our presence.  We arrived very early and requested early check-in.  I understand that early check-in can not be guaranteed but we were told to come back at noon (an hour after check-out) and our room should be ready.  We walked around and had lunch and decided that at 1pm we had definitely given them enough time.  The next front desk employee, also annoyed by our presence, told us that check-in was at 3pm, no exceptions.  \\\\n\\\\nThe WiFi was slow but free.  \\\\n\\\\nDon\\'t bother with Cloud 9.  The drinks are over priced and mediocre.  It takes a solid hour for the restaurant to make its turn, so unless you want to spend $50 on drinks or milk one for an hour, just go up there and walk around it and you\\'ll get the gist.  You have to be a paying customers to sit down.\"', \"b'Not enough service-13 minutes sometimes for another train to come\\\\nThree words: Braintree/Ashmont split=Delays\\\\nVery, very rude staff\\\\n\\\\nI.e.:\\\\nWATCH THE DOORS!  THE DOORS WILL BE CLOSING!  WATCH THE DOORS! screeched at obnoxious volume, whereas service delays are made at a level no one can hear\\\\n\\\\nHave been called names by bus drivers in the good old days for being slow with putting in money and/or scanning my pass (and I always have them out ahead of time)\\\\n\\\\nWould gladly pay more if they addressed their problems, but it all goes to debt reduction\\\\n\\\\n\\\\nBut I do get reliably each day where I want to go and can read books while doing so'\", \"b'I cant tell you how much I love Hertz and its #1 Gold Priority Service.  Hertz makes it so easy to get to your car, and leave!  I never have to wait in line filling out paperwork I have already done online.  Get off the plane, find my number, go to the exit and already on my way.  Pricing is never much more and most the time cheaper than what the other places will nickel and dime you.  The time you get back not waiting in line for them to assign you a car is worth so much more.  The kids are already antsy from the flight, throw them in the car and get on the road to a happy vacation!'\", \"b'This hotel never disappoints me!! Stayed here with my wife for our 1 Year Anniversary and the package we paid for was above and beyond what we were expecting. Mira called us the morning of checkin and went over all the details in regards to our stay. Jason our driver dropped us off to dinner and was there in no time to pick us up. Jason gave us 5 Star service! My wife told me that she felt like we were out of town so that tells you how great of a stay we had. Only down side of the stay was trying to hangout at the pool. Recommend you get to the pool early if you want to have somewhere to sit and hangout. Other than that we had a true 5 Star stay!! We will be back!!'\", 'b\"We stayed here as a team for my son\\'s soccer tournament.  The only disappointment was that there was no microwave in the room and no washer/dryer available to wash the team\\'s uniforms.  My husband had to drive to a laundromat to get the team\\'s uniforms washed late at night or really early in the morning.  This was not as convenient, wish they had a washer/dryer onsite.\"', 'b\"This was so interesting and fun. Our guide was extremely knowledgeable about all of Boston\\'s haunted history and we got to do a little paranormal investigating at the end of the night.\"', 'b\\'WOW. Only word I can use to describe our experience yesterday through this morning.\\\\n\\\\nWe got one of the huge suites as it was a special occasion and everything about its appointment, the staff service, all of it was first rate.\\\\n\\\\nWho doesn\\\\\\'t need a TV that comes on in the bathroom mirror and has reflected screens in the shower? I mean, c\\\\\\'mon.\\\\n\\\\nThe palatial suite was about 1400 square feet so beyond luxurious for a couple and with those kind of doors that lock on both sides that connect to other rooms, it would be ideal for a group/family gathering. My fiance had requested an assortment of pink roses in vases, and spread all over the suite, and it was amazing and gorgeous and so special. We don\\\\\\'t drink so our \"welcome treat\\\\\\' was those special size Diet Cokes in tin cans and chocolate covered strawberries. \\\\n\\\\nValet parking was complimentary with this level room, and as we were on the Club Level, there was a lovely room with tons of seating, small tables, arm chairs, and such with meals/drinks/snacks through the day at almost all hours. The breakfast might be called \"continental\" but it was only a hair \"less than\" the spread downstairs. The fluffiest eggs (my absolute fave are well done hotel spread eggs), a ton of perfect fruit, Irish oatmeal, a coffee machine that makes every drink you could want, breakfast burritos....I could keep going since I love breakfast food so much!\\\\n\\\\nThe hotel was BUZZING with the football folks, another big event going on in a large ballroom, I\\\\\\'m sure what was just early holiday traffic, and everyone we encountered was pleasant, helpful and just lovely.\\\\n\\\\nI loved everything about my fiance\\\\\\'s idea that yesterday should be a \"trial run\" of sorts for our wedding NEXT December 1 and the InterContinental was a super place to choose for the royal treatment.\\'', \"b'The only rental company that hires college grads. They have an incredible training program. Every employee I have ever encountered is polite, upbeat, and most of all knowledgeable.'\", 'b\\'Worst hotel experience of my life.\\\\n\\\\nIn order to get the \"Advance Purchase Rate\" they make a big point of saying they will take the full amount of your stay when you make the reservation.  Except they didn\\\\\\'t, they took it 3 weeks later which meant I had to monitor my account.  \\\\n\\\\nWhen I checked in they charged me a second time for the full amount.  I had to speak with 3 people before I got anyone who knew what they were doing.  The attitude of the staff was annoyance that I was bothering them.  They did not offer to cover any overdraft costs that I might incur due to their mistake but only agreed to do so after I spoke to them about it.\\\\n\\\\nBecause of their incompetence and lack of customer service I\\\\\\'ll never stay here again and I\\\\\\'ll tell all my friends to avoid the place too.\\'', 'b\"The hotel is very conveniently located close to the airport and local venues. Nice option is to leave the car there for a small fee if you fly out. The reason for 3 stars is the shuttle driver\\'s rudeness. When I was picked up from the airport, he drove around to come back to the same gate and when I asked about it he scoffed me off\"', 'b\"This hotel is my normal first choice for the location near family I am visiting, but this time I had room overlooking the pool.  It is very noisy with unsupervised children yelling well past 11pm, in violation of the hotel\\'s own policy.  Most we\\'re under 14 years of age, again contrary to stated hotel policy.  If you want quiet, avoid the pool side rooms.\"', 'b\"The hotel in itself is very nice, both in decor and accomodations. Additionally, it is located in a desirable area (at least to my standards) as there are many places to dine and establishments to shop. The hotel room was very cozy.\\\\n\\\\nHowever, as I\\'ve said before, I am keen on customer service. Check-in was a breeze but I noticed some discrepencies in service that had me raising a brow. Another petpeeve of mine is when I give someone a card or cash in their hand and they place the money/card on the counter... grinds my gears everytime. Especially when I have my hand out in a position to receive the item and Sam, who was assisting me at the moment looked me in my face, at my hand and chose to disregard it, place the change from my purchase on the counter and slide it toward me. Let\\'s just say that he is lucky that I was feeling under the weather because if not, I would have made a gargantuan deal out of it. Trust me. When I spend my hard earned money, I expect to be treated with respect and fairly. If not, whomever is in charge is bound to hear from me.\"', 'b\"I stayed at this cozy motel for a weekend during a trip to Austin, Texas to see my cousin graduate from UT. Texas FIGHT! After a long drive from California, all I wanted to do was just relax and this place offers just that.The price was right at $60 a night. The employees at the front desk were very polite and helpful. We had 2 double beds, a refrigerator (held alot of our sodas and snacks), iron and ironing board, flat screen TV, blow dryer and free wi-fi!!!! The pool was always crowded (it was summer after all). \\\\n\\\\nThe only downside I can see was that it was rather close to the highway, but it shouldn\\'t affect your sleep. Traffic around this area can get pretty bad. What may be a 20 minute drive from this motel to downtown can turn in to an hour drive. Also, the exterior of the building could be touched up a bit to look nicer. \\\\n\\\\nOther that, this place is a great place to stay if you\\'re on a budget. Great amenities, close to most points of interest (mall, UT, shopping centers) and very affordable. I highly recommend.\"', 'b\"This probably the worst car rental place to get a car. I booked my car through Expedia and got this car company be careful they have a policy that states that there are no early returns. So if you book for 7 days and you only say stay for 4 days they will still charge for the full 7 days. Also make sure to hold on to your card before I agreed to anything the lady charged my card before I had agreed to anything when I said I didn\\'t want the car she said it was to late and that they would still charge me the full amount. So I was stuck with a car I didn\\'t want and there was no manger on site to sort the matter out. Whatever you do do not use this company they also go by NU car rentals\"', 'b\"I see bunch of spoiled travelers here. First of all, this was the most inexpensive hotel on I-Drive. Great location, good service, awesome view to the lake and pool. It needs room renovation but it\\'s a great place nonetheless. Will stay again.\"', \"b'I rated it 5 because it is definitely better than a 2 1/2 star motel. My stay here was great. I stayed for 3 nights during the week for work.  Their prices are quite reasonable for what the amenities that they offer. IE Flat screen, room size, etc. They have a restaurant that has GREAT food that is also reasonably priced. \\\\nThe only thing I can complain about was only having one entrance, and I was facing the freeway so it was a bit loud, but great view!'\", 'b\"Had sleep number beds which was interesting if you didn\\'t know your number (i did).. Average hotel. Plus thing was the YMCA that was adjacent that had work out facilities.\"', \"b'Red Cab is great if you have an early flight from Logan.  I had called Red Cab at 4:30 am and asked for a cab in 15 minutes to take me to Logan.  In 15 minutes - they were at my condo and waiting!'\", 'b\"Now this is disney\\'s flagship hotel it\\'s WOW. Great hotel but I like the beach club better. To many kids and to far away from things. And hope you like KIDS because that\\'s all who is here.\"', 'b\"Its ok.  Big weirdly configured room, nice service.  Full service restaurant/bar.  Its ok.  Close to the airport, and won\\'t break your wallet\"', \"b'New easy kiosk check out. Answered all my questions. Fast and easy return. Cheapest price I found.'\", 'b\"I had a great experience with My stay here. The service was excellent. The Team members(most of them) were really nice. I got a little attitude from one of the Old broads during breakfast but there\\'s haters everywhere. I Especially loved the guys at the bar Downstairs. I had a terrible hangover one morning And I called down and told the bartender he made me tomato soup, warm bread and gave me two pitchers of ginger ale. That alone was enough to make me return. Its that type of hospitality alot of places lack these days. Oh yeah, there\\'s one Guy that works nights who was HIGH as a kite everytime I seen him, he was slow as hell and suspicious acting but I can deal with a pot head or two. Doesn\\'t change the way I feel about the place! Great customer service\"', \"b'This hotel is amazing! Everything and more you would come to expect from a Disney Resort. Grand Lobby, gorgeous pool, and amazing views of the lake in the rear of the property. Monorail and Ferry stops on site, very easy to get around!'\", \"b'Nice little hotel.  Rooms kind of on the small side, but well taken care of and clean.  Desk staff was helpful and kind.  Great free breakfast and a really nice surprise of free dinners with beer and wine.  Overall, I was very happy with my stay here.'\", \"b'Stayed here multiple times for baseball. Clean, friendly and across street with multiple options to eat.'\", \"b'We stayed at the Hotel for one night. Very nice room, tap room, restaurant. The problem is they double charged me for the room. Even though I had the confirmation number and receipt. I had to go to my bank to get it taken care of.'\", 'b\"I have taken my last ride with Checker Cab. In the past I\\'ve tolerated the stinky, dirty, disgusting, worn out cars to get to the airport. On our trip this time to the airport which usually costs between $32-$34 the driver charged us $38. When we questioned him about the higher price he adjusted the price to $34. I can only think that was an intentional attempt to over charge us. They should be offering discounts because their cars are so disgusting. In the future I will take Uber or Lyft.  When we travel to other cities in the US the cabs are clean and decent.  Atlanta Airport is an international hub to the rest of the world. What a horrible impression we make when one of our guests have to take a cab.\"', \"b'Excellent service. Good communication. Drivers we had were friendly and efficient.  Took great care with our luggage.  Would use again next time in Vancouver'\", \"b'Delicious beers! Such high quality I would put the six seamer up with anything from trillium and treehouse. Definitely a must visit. Also go to Mystic in Chelsea down the road'\", \"b'This is a new facility, everything is very nice and clean. Front desk staff is courteous. Beds comfortable. Two queen bed suite has a regular-sized microwave and small frig by a sink counter in the sitting area. Bathroom is equipped with low flow toilet and shower head to conserve water. Free hot breakfast served from 7-10 has everything you expect plus some. I would definitely stay here again!'\", \"b'This place was so annoying . No service , and roaches ! The only thing that was good was the front desk lady .'\", \"b'We had family visiting from out of state and rented several items from Jessie at Z Baby Gear.  Jessie is very professional and helped us pick several items from her large inventory that would work for my little nephews. All the rentals were clean and in great working order.  Overall a great experience.  I highly recommend Z Baby Gear!'\", \"b'This place is very nice. I was expecting much less for the price we paid,  but my expectations were exceeded. \\\\n\\\\nThe staff was very friendly and the service was prompt. I definitely recommend the bar and grille for superb service.  The gentleman who works there is very very good at his job. \\\\n\\\\nThe rooms and pools went above expectations for the cost. My only complaint is the breakfast buffet. The food is awful and not worth the cost. Again, all other food on site was great,  but I would skip the breakfast.  \\\\nOverall, very nice. I would definitely stay again.'\", 'b\\'I am giving this review two stars because I have always gotten good service from Checker Cab via \"Taxi Magic\" in the past.  First, I tried calling Checker repeatedly during the late afternoon, always getting a generic message that said that no one was available to take my call.  I left a message, with no call back.  I then used the online booking tool that allowed me to book a cab. I received a that said I ordered a cab at 7:37 pm.  I was trying to get to a concert at the Lakewood Amphitheater, which started at 8pm.  I received a text that my cab was NOT dispatched, and placed another \"order,\" via Taxi Magic and was told via text that the cab was dispatched.  After another 20 minutes, I decided to just drive.\\\\n\\\\nI just want to know:  why are cab companies, especially affiliated with Taxi Magic, not available via phone, and why are they not jumping at a cab fare that would be around $35 with tip????\\'', 'b\\'You stop right in front of my house on weekdays and the commuters think it\\\\\\'s okay to leave their trash on our front steps and front lawn. I wish the MBTA would provide a trash can or something (though I doubt people would use it, still). \\\\n\\\\nBut on lazy weekdays when I need to run into the city quick, it is nice that I can just wait on my front stoop for the bus to appear. \\\\n\\\\nThough the 87 doesn\\\\\\'t run terribly frequently it seems to be relatively on-time. For the MBTA this is rather miraculous.\\\\n\\\\nBut major plus: you don\\\\\\'t stop by our house on the weekend or at night. Thank you for cutting us a break. It\\\\\\'s kind of annoying to be woken up by the automated bus announcer \"Route eighty--seven-- service to--Lech-meeere\" and I\\\\\\'m glad I don\\\\\\'t have to hear it on a Sunday morning.\\'', 'b\"I stay in a lot of Hampton inn properties. This one is pretty typical. Except no wifi. Front desk personnel is much less than welcoming at night. Seeming by checking in we were making them work and bothering them. Also there was blood on the sheets. The waffle maker didn\\'t work. \\\\n\\\\nJust much less then what I\\'ve come to know on the consistent quality of Hampton inn properties.\"', 'b\"I had a nice little stay-cation a few days ago at the Intercontinental. The entire staff was very friendly. The common areas were very clean and nicely decorated. The bed and pillows are two things that I miss. I wish I could have taken them with me when I left. The food here was great. I had salmon for dinner and eggs, grits and bacon for breakfast the next morning. I sampled my bf\\'s food and his was tasty as well. If I ever need a place to stay in town, I will highly consider the Intercontinental.\"', \"b'Not sure why they have such bad reviews. Called in a panic to get to the airport. Guy was there in 3 minutes and was super friendly.'\", \"b'Everything about this venue is Perfect! Every inch of the place is gorgeous! There is ivy, cactus, beautiful trees, a pool, a horse and donkey, views of the hill country and on and on! It is perfect Texas hill country setting! The staff are absolutely wonderful!  They made my vision come to life and exceeded my expectations! They kept us calm with the crazy pre-wedding rush. They were SO organized! They made sure my husband and I had a drink at all times, were fed, and had backup food/cake in our room. We booked the venue dj and bartenders, which was very convenient.  They too exceeded our expectations!  The venue has a huge beautiful lodge on-site for 15 to stay with a private lodge for bride and groom.  I recommend you do stay the night with the bridal party!! The stars come out so bright and there is a pool/hot tub to relax in after all the craziness of the wedding.  If you are looking for a venue, look no more! This place cannot be topped!!'\", 'b\\'Absolutely as good as it gets at Disney!! We were able to book a great summer rate. When we arrived, we\\\\\\'d had a very long day (it\\\\\\'s a long story), and upon check-in, without us asking, the cast member, Jossie, who is as sweet as they come, granted us a \"Magical Moment\" by upgrading us from a garden view room to a lagoon view room. The room itself was very nice - modern, comfortable beds, plenty of space, hidden Mickeys galore, and adequate (but not updated) bathroom. But the real benefit of this room was not only the proximity to Magic Kingdom and the monorail, but the amazing view. We were able to see and hear all the activity around us from our balcony - the buses, boats, monorail, Magic Kingdom Railroad, train whistle, and everything else that goes on all day long - while still enjoying the peace and relative seclusion of the resort\\\\\\'s location. I had never seen this mentioned in any prior reviews, and feel it\\\\\\'s worth pointing out that the Grand Floridian (to my knowledge) is the only deluxe resort that is directly on a body of water (without something else between the hotel and the lake, like a beach or a boardwalk or a parking lot), and I was not expecting the peacefulness that comes with having a room directly on the lake. With all the noise around us - this part of Disney really feels like a small city - I was surprised and calmed by the sound of the waves against the shore, as well as the sounds and sights of the shore birds and other wildlife on the lake. The Grand Floridian has also left many beautiful trees on the shore of the lake between the building and the lake. Some of them do block the view of the castle from the rooms, and that was the case with our room, but I concluded that this is a small price to pay for the ambiance and beauty the trees lend to the resort overall. Even with a tree blocking our direct view to the castle itself, we could still see the Wishes fireworks perfectly.\\\\n\\\\nThe pools and splash park at this resort are fabulous. We enjoyed each of them, and allowed our kids to dictate where we would spend our days. Some days, they wanted to go the shallow pool with the little splash fountains, other days they were all about the splash park with the two small slides and lots of fun water features for little kids, and on others they wanted to swim in the deeper pool (and mom and dad loved the waterslide there, too).\\\\n\\\\nThis hotel has a wide variety of shops and restaurants. On the first floor, there is a sundries shop with basic grocery and some lovely souvenir items, as well as an upscale clothing store filled with Vineyard Vines, Lilly Pulitzer and other similar brands. On the second floor, you\\\\\\'ll find a toy store which is great for the kids and has a wide variety of princess dresses (along with lots of other items), and a delicious bath shop called Basin. The main building of the hotel is just a lovely place to spend time - there is an Orchestra playing each afternoon & evening on the 2nd floor, a pianist and sometimes singers at other times - it\\\\\\'s a beautiful place to walk around or sit and enjoy the ambiance, whether you are staying at the hotel or not.\\\\n\\\\nAs far as restaurants are concerned, Narcoossee\\\\\\'s - while overpriced and quite cold inside - is a favorite and a tradition for our family. The kids absolutely love the Mickey mac \\\\\\'n cheese there, and I always order the shrimp and grits appetizer for my entree along with whatever salad is in season. We enjoy the Grand Floridian Cafe for a simple but delicious lunch. And the poolside dining is perfect for a very casual lunch or dinner by the pool or lake with a lovely view. This time, since we were staying at the GF, we enjoyed s\\\\\\'mores by the fire as well, and the absolute highlight of our trip was watching the Electrical Water Pageant (9pm) and the nightly Wishes fireworks (10pm) from our balcony in our jammies, and crawling right into bed afterwards. I will always remember these moments, and I know our little ones will, too.\\\\n\\\\nWe have stayed and played at many Deluxe resorts, some of which we also adore, and this absolutely tops them all. It is deserving of its name.\\'', 'b\"I was a there for a professional conference. spacious is an understatement. rivaling large hotels in atlanta, this nice hotel is a premier  place for business and social events. of course aquatic themes abound but nothing seems in excess and there is a unique chess sets for public use in the expansive lobby. Staff is confident, but parking is insanely expensive.  \\\\n\\\\nan assortment of food spots line International going towards Universal Studios. I found a sushi spot within a mile that was excellent. Perhaps i will yelp it?!  The lobby is also accented with comfortable bungalow seating indoors. The continental breakfast was good for continental - the fruit was sweet and crisp.\\\\n\\\\nStarbucks on the ground level gives this hotel a community feel and caters to hotel patron\\'s caffeine jones. Enjoy Orlando!\"', \"b'I love that bags fly free!  I never have a problem with Southwest.  Good prices and quality service.'\", 'b\"The king size room was nice enough. It had a king size bed and pull out couch and seemed quite clean.  The wallpaper was peeling a little and the carpet seemed a bit worn but other than the usual wear and tear one expects, it wasn\\'t bad. \\\\nThe air conditioner in the room at the Crowne Plaza, was on non-stop for the duration of their stay.  The thermometer reached into the 90\\'s for most of the visit and maybe the high temp contributed BUT the ac worked intermittently for all 3 days of their stay.  Also, there was a weird odor emanating from the ac.  To be blunt, the air coming out of the ac smelled like terrible flatulence.  My sister and her husband didn\\'t complain to the front desk and get a change of room  so I have no idea if this issue was restricted to their room or not.  All I know is that it smelled pretty bad and was not coming from anyone INSIDE of the room.\\\\nFYI: The Crowne Plaza DOES NOT have it\\'s own pool or gym. Guests are able to swim at the pool run by the gym who co-shares some of the hotel space.  For $5.00/hr a hotel guest can swim to their hearts delight...\\\\nAnother FYI: My sister and I had breakfast at the hotel restaurant which she billed to the room. Total cost of breakfast $233.00 and we are still dealing with the billing department to get this resolved...\"', 'b\\'Tried this hotel for the great Priceline rate and would say the experience had really good moments and not so good moments. \\\\nFlight got in at 7am, and they accommodated an early check in (great!)\\\\nWas told parking would be 28/per day for SELF (crazy! But can\\\\\\'t dock them too much as everywhere in the area charges for parking- but we parked at a cheaper lot across the street) \\\\nwifi would be extra too (this is archaic in 2017)\\\\nGot to our room and it was nice, pretty standard size/ furniture but beautiful bathroom with separate large tub and shower. \\\\nWent to take a bath and, as it filled, I realized there was a gross amount of short curly black hairs (don\\\\\\'t want to think about where from). Yuck!\\\\nThe manager, Mira, was very apologetic and oc very nice and personable in general and she upgraded our room.\\\\n\"Upgraded\" room honestly looked the same, but had a very nice (corner) view, but curtains were dirty. \\\\nConcierge kindly helped with dinner and shopping recommendations. \\\\nFrom then on everything was pretty standard. \\\\nWouldn\\\\\\'t classify the place as 5 star, but the amenities are nice enough to possibly come back when accompany boyfriend on a business trip. I prefer the Outdoor pool, the gym was nice, and the surrounding area kept me busy while he was working. They even gave me a key to use after checkout to enjoy the amenities until our flight. \\\\nLast two things I thought were odd: Staff said they do turn-down service, so we left our \"privacy sign\" indoors, but came back to the hotel around 9-9:30 and it had never been turned down. Also, there\\\\\\'s only one large conditioner in the shower, not mini bottles, so you have to take some from the shower to the bath if u want to wash your hair.\\'', 'b\\'The staff does not communicate with each other and one of the managers (Ralph) does not seem knowledgeable about his job nor does show eagerness to help customers. I was constantly being given different if not incorrect information throughout my entire rental process. \\\\n\\\\nI paid an alternate method (money order) when dropping off the car and somehow the money order has been \"misplaced\" And they still charged my card after Ralph said it wouldn\\\\\\'t be. I have now paid over $700 for a standard week rental. And only after calling bank, corporate (to which I was given the wrong number to) and money order company, my request to review the video footage is finally being obliged. Overall outcome of this is still pending. WORST RENTAL EXPERIENCE EVER!\\'', \"b'Great location with plenty of parking around. If you have a handicap plate or placard you can park in metered handicapped spots while on your cruise. The folks that worked the checkin process were good and everything was smooth, much better and efficient than bigger ports like Tampa, Miami.'\"]\n",
            "['Very comfortable and safe place', 'All new appliances and very clean', 'The location is great', 'The service was good', 'The hotel staff was wonderful', 'We would definitely stay there again', 'I love this place', 'The staff is hospitable and friendly', \"They're clean and updated\", 'The living accommodations are great', 'Excellent food and great service', 'Each time enjoyed it', 'In excellent condition and well maintained', 'Definitely worth the trip', 'The gardens around it are nice', 'Wonderful old furniture and furnishing', 'Best view in the city', 'Loved the experience', 'The mansion inside was pretty cool', 'Clean bathrooms on lower level', 'Loved the kitchen', 'Honestly, the setting is incredibly lovely', 'It energized and rejuvenates me', 'The sunset is stunning up there!!', 'Parking is free thankfully', 'The beds are so comfortable', 'The breakfast was also excellent', 'I definitely recommend this hotel!', 'Security is good there', 'Excellent and fast service', 'Really just a giant disappointment', 'Nothing special and definitely not great', 'It was completely gross', 'It was dirty and very worn', 'The pictures were deceiving', 'Would never recommend this place', 'Not worth the money', 'I was really uncomfortable', 'What a horrible place to stay', 'Parking garage is terrible', 'Everything broken at this place', 'There was no microwave or fridge', 'Our waters were forgotten', 'Main complaint was with the wifi', 'Horribly over rated', 'The elevator was broken', 'Food is not great but good', 'Beware of service! Shitty staff', 'Just unethical business', 'Lie about charges', 'Absolutely Pathetic! Never again Budget!', 'The employees are dishonest and deceptive', 'Ridiculously horrible wait time', 'Just be careful of extra charges', 'Worst car rents service ever', 'No hot water in my room', 'Pushy about insurance', 'The car stinks', 'Shitty furniture and shitty tv', 'Bed bug problems']\n"
          ]
        }
      ]
    },
    {
      "cell_type": "code",
      "source": [
        "print(key_point_df.shape)"
      ],
      "metadata": {
        "colab": {
          "base_uri": "https://localhost:8080/"
        },
        "id": "-3hqE_aadcMv",
        "outputId": "d9a81188-e7de-4eb4-df36-b575248cce52"
      },
      "execution_count": null,
      "outputs": [
        {
          "output_type": "stream",
          "name": "stdout",
          "text": [
            "(30, 2)\n"
          ]
        }
      ]
    },
    {
      "cell_type": "code",
      "source": [
        "final_list = []\n",
        "\n",
        "for review in reviews_list:\n",
        "  for kp in kp_list:\n",
        "    final_list.append([review,kp])\n",
        "\n",
        "dataset = pd.DataFrame(final_list,columns = ['review','key_point'])"
      ],
      "metadata": {
        "id": "B6QPEBpraMgX"
      },
      "execution_count": null,
      "outputs": []
    },
    {
      "cell_type": "code",
      "source": [
        "print(dataset.head())"
      ],
      "metadata": {
        "colab": {
          "base_uri": "https://localhost:8080/"
        },
        "id": "WoblZ5qEbYEJ",
        "outputId": "e3f240d5-127c-45b0-f1bc-06fb80ca08da"
      },
      "execution_count": null,
      "outputs": [
        {
          "output_type": "stream",
          "name": "stdout",
          "text": [
            "                                              review                          key_point\n",
            "0  b\"I've stayed at many Marriott and Renaissance...    Very comfortable and safe place\n",
            "1  b\"I've stayed at many Marriott and Renaissance...  All new appliances and very clean\n",
            "2  b\"I've stayed at many Marriott and Renaissance...              The location is great\n",
            "3  b\"I've stayed at many Marriott and Renaissance...               The service was good\n",
            "4  b\"I've stayed at many Marriott and Renaissance...      The hotel staff was wonderful\n"
          ]
        }
      ]
    },
    {
      "cell_type": "code",
      "source": [
        "from torch.utils.data import (DataLoader, RandomSampler, WeightedRandomSampler, SequentialSampler, TensorDataset)\n",
        "\n"
      ],
      "metadata": {
        "id": "6b_JyOhcc0q8"
      },
      "execution_count": null,
      "outputs": []
    },
    {
      "cell_type": "markdown",
      "source": [
        ""
      ],
      "metadata": {
        "id": "55ktRCsEhRCq"
      }
    },
    {
      "cell_type": "code",
      "source": [
        "def matching_score(dataframe):\n",
        "  all_attention_masks=[]\n",
        "  all_input_ids=[]\n",
        "  match_scores = []\n",
        "\n",
        "  #print(dataframe.shape[0])\n",
        "  for i in range(dataframe.shape[0]):\n",
        "    encoded_input = tokenizer(dataframe.iloc[i]['all_text'], padding='max_length')\n",
        "    #print(encoded_input['attention_mask'])\n",
        "    # print(len(encoded_input['attention_mask']))\n",
        "    all_attention_masks.append(encoded_input['attention_mask'][0:512])\n",
        "    all_input_ids.append(encoded_input['input_ids'][0:512])\n",
        "\n",
        "  all_attention_masks = torch.tensor(all_attention_masks).squeeze()\n",
        "  all_input_ids = torch.tensor(all_input_ids).squeeze()\n",
        "\n",
        "\n",
        "  dataset = TensorDataset(all_input_ids, all_attention_masks)\n",
        "\n",
        "\n",
        "  test_dataloader = DataLoader(dataset, batch_size=1)\n",
        "      \n",
        "  with torch.no_grad():\n",
        "      acc_epoch = []\n",
        "\n",
        "      epoch_iterator = tqdm(test_dataloader, desc=\"Iteration\")\n",
        "      for step, batch in enumerate(epoch_iterator):\n",
        "          model.eval()\n",
        "              \n",
        "\n",
        "          b_input_ids, b_input_mask = batch[0].to(device), batch[1].to(device)\n",
        "          ypred = model(b_input_ids, b_input_mask)\n",
        "          # print(ypred)\n",
        "          match_scores.append(ypred[0][0].item())\n",
        "  return match_scores\n"
      ],
      "metadata": {
        "id": "rNyYY3ENbgf-"
      },
      "execution_count": null,
      "outputs": []
    },
    {
      "cell_type": "code",
      "source": [
        "sentence_df = pd.DataFrame([], columns =['Review', 'Sentence', 'Key_point'])"
      ],
      "metadata": {
        "id": "RgOSr7-GBIB3"
      },
      "execution_count": null,
      "outputs": []
    },
    {
      "cell_type": "code",
      "source": [
        "sentence_df.shape"
      ],
      "metadata": {
        "colab": {
          "base_uri": "https://localhost:8080/"
        },
        "id": "GOYm3dm3BmGe",
        "outputId": "f736baa2-4ac2-4476-d5c0-1743980775ae"
      },
      "execution_count": null,
      "outputs": [
        {
          "output_type": "execute_result",
          "data": {
            "text/plain": [
              "(0, 3)"
            ]
          },
          "metadata": {},
          "execution_count": 25
        }
      ]
    },
    {
      "cell_type": "code",
      "source": [
        "for index, row in dataset.iterrows():\n",
        "  if row.review!= None:\n",
        "    splitted = row.review.split('.')\n",
        "    for sentence in splitted:\n",
        "      print(sentence)\n",
        "      new_row = [row.review, sentence, row.key_point]\n",
        "      sentence_df.loc[len(sentence_df.index)] = new_row\n",
        "  else:\n",
        "      continue"
      ],
      "metadata": {
        "id": "zhXj6ssABrEX"
      },
      "execution_count": null,
      "outputs": []
    },
    {
      "cell_type": "code",
      "source": [
        "sentence_df.head()"
      ],
      "metadata": {
        "colab": {
          "base_uri": "https://localhost:8080/",
          "height": 206
        },
        "id": "yVThGxUsDCtP",
        "outputId": "f4794e90-79da-483e-e0b6-202a9c241ba3"
      },
      "execution_count": null,
      "outputs": [
        {
          "output_type": "execute_result",
          "data": {
            "text/html": [
              "\n",
              "  <div id=\"df-14ebcc1f-62fa-41c0-9392-1c79c335554c\">\n",
              "    <div class=\"colab-df-container\">\n",
              "      <div>\n",
              "<style scoped>\n",
              "    .dataframe tbody tr th:only-of-type {\n",
              "        vertical-align: middle;\n",
              "    }\n",
              "\n",
              "    .dataframe tbody tr th {\n",
              "        vertical-align: top;\n",
              "    }\n",
              "\n",
              "    .dataframe thead th {\n",
              "        text-align: right;\n",
              "    }\n",
              "</style>\n",
              "<table border=\"1\" class=\"dataframe\">\n",
              "  <thead>\n",
              "    <tr style=\"text-align: right;\">\n",
              "      <th></th>\n",
              "      <th>Review</th>\n",
              "      <th>Sentence</th>\n",
              "      <th>Key_point</th>\n",
              "    </tr>\n",
              "  </thead>\n",
              "  <tbody>\n",
              "    <tr>\n",
              "      <th>0</th>\n",
              "      <td>b\"I've stayed at many Marriott and Renaissance...</td>\n",
              "      <td>b\"I've stayed at many Marriott and Renaissance...</td>\n",
              "      <td>Very comfortable and safe place</td>\n",
              "    </tr>\n",
              "    <tr>\n",
              "      <th>1</th>\n",
              "      <td>b\"I've stayed at many Marriott and Renaissance...</td>\n",
              "      <td></td>\n",
              "      <td>Very comfortable and safe place</td>\n",
              "    </tr>\n",
              "    <tr>\n",
              "      <th>2</th>\n",
              "      <td>b\"I've stayed at many Marriott and Renaissance...</td>\n",
              "      <td>there is a starbucks on site which is nice</td>\n",
              "      <td>Very comfortable and safe place</td>\n",
              "    </tr>\n",
              "    <tr>\n",
              "      <th>3</th>\n",
              "      <td>b\"I've stayed at many Marriott and Renaissance...</td>\n",
              "      <td>\\n\\nThe rooms are run down and old</td>\n",
              "      <td>Very comfortable and safe place</td>\n",
              "    </tr>\n",
              "    <tr>\n",
              "      <th>4</th>\n",
              "      <td>b\"I've stayed at many Marriott and Renaissance...</td>\n",
              "      <td>There is a flat screen but that is to be exp...</td>\n",
              "      <td>Very comfortable and safe place</td>\n",
              "    </tr>\n",
              "  </tbody>\n",
              "</table>\n",
              "</div>\n",
              "      <button class=\"colab-df-convert\" onclick=\"convertToInteractive('df-14ebcc1f-62fa-41c0-9392-1c79c335554c')\"\n",
              "              title=\"Convert this dataframe to an interactive table.\"\n",
              "              style=\"display:none;\">\n",
              "        \n",
              "  <svg xmlns=\"http://www.w3.org/2000/svg\" height=\"24px\"viewBox=\"0 0 24 24\"\n",
              "       width=\"24px\">\n",
              "    <path d=\"M0 0h24v24H0V0z\" fill=\"none\"/>\n",
              "    <path d=\"M18.56 5.44l.94 2.06.94-2.06 2.06-.94-2.06-.94-.94-2.06-.94 2.06-2.06.94zm-11 1L8.5 8.5l.94-2.06 2.06-.94-2.06-.94L8.5 2.5l-.94 2.06-2.06.94zm10 10l.94 2.06.94-2.06 2.06-.94-2.06-.94-.94-2.06-.94 2.06-2.06.94z\"/><path d=\"M17.41 7.96l-1.37-1.37c-.4-.4-.92-.59-1.43-.59-.52 0-1.04.2-1.43.59L10.3 9.45l-7.72 7.72c-.78.78-.78 2.05 0 2.83L4 21.41c.39.39.9.59 1.41.59.51 0 1.02-.2 1.41-.59l7.78-7.78 2.81-2.81c.8-.78.8-2.07 0-2.86zM5.41 20L4 18.59l7.72-7.72 1.47 1.35L5.41 20z\"/>\n",
              "  </svg>\n",
              "      </button>\n",
              "      \n",
              "  <style>\n",
              "    .colab-df-container {\n",
              "      display:flex;\n",
              "      flex-wrap:wrap;\n",
              "      gap: 12px;\n",
              "    }\n",
              "\n",
              "    .colab-df-convert {\n",
              "      background-color: #E8F0FE;\n",
              "      border: none;\n",
              "      border-radius: 50%;\n",
              "      cursor: pointer;\n",
              "      display: none;\n",
              "      fill: #1967D2;\n",
              "      height: 32px;\n",
              "      padding: 0 0 0 0;\n",
              "      width: 32px;\n",
              "    }\n",
              "\n",
              "    .colab-df-convert:hover {\n",
              "      background-color: #E2EBFA;\n",
              "      box-shadow: 0px 1px 2px rgba(60, 64, 67, 0.3), 0px 1px 3px 1px rgba(60, 64, 67, 0.15);\n",
              "      fill: #174EA6;\n",
              "    }\n",
              "\n",
              "    [theme=dark] .colab-df-convert {\n",
              "      background-color: #3B4455;\n",
              "      fill: #D2E3FC;\n",
              "    }\n",
              "\n",
              "    [theme=dark] .colab-df-convert:hover {\n",
              "      background-color: #434B5C;\n",
              "      box-shadow: 0px 1px 3px 1px rgba(0, 0, 0, 0.15);\n",
              "      filter: drop-shadow(0px 1px 2px rgba(0, 0, 0, 0.3));\n",
              "      fill: #FFFFFF;\n",
              "    }\n",
              "  </style>\n",
              "\n",
              "      <script>\n",
              "        const buttonEl =\n",
              "          document.querySelector('#df-14ebcc1f-62fa-41c0-9392-1c79c335554c button.colab-df-convert');\n",
              "        buttonEl.style.display =\n",
              "          google.colab.kernel.accessAllowed ? 'block' : 'none';\n",
              "\n",
              "        async function convertToInteractive(key) {\n",
              "          const element = document.querySelector('#df-14ebcc1f-62fa-41c0-9392-1c79c335554c');\n",
              "          const dataTable =\n",
              "            await google.colab.kernel.invokeFunction('convertToInteractive',\n",
              "                                                     [key], {});\n",
              "          if (!dataTable) return;\n",
              "\n",
              "          const docLinkHtml = 'Like what you see? Visit the ' +\n",
              "            '<a target=\"_blank\" href=https://colab.research.google.com/notebooks/data_table.ipynb>data table notebook</a>'\n",
              "            + ' to learn more about interactive tables.';\n",
              "          element.innerHTML = '';\n",
              "          dataTable['output_type'] = 'display_data';\n",
              "          await google.colab.output.renderOutput(dataTable, element);\n",
              "          const docLink = document.createElement('div');\n",
              "          docLink.innerHTML = docLinkHtml;\n",
              "          element.appendChild(docLink);\n",
              "        }\n",
              "      </script>\n",
              "    </div>\n",
              "  </div>\n",
              "  "
            ],
            "text/plain": [
              "                                              Review  ...                        Key_point\n",
              "0  b\"I've stayed at many Marriott and Renaissance...  ...  Very comfortable and safe place\n",
              "1  b\"I've stayed at many Marriott and Renaissance...  ...  Very comfortable and safe place\n",
              "2  b\"I've stayed at many Marriott and Renaissance...  ...  Very comfortable and safe place\n",
              "3  b\"I've stayed at many Marriott and Renaissance...  ...  Very comfortable and safe place\n",
              "4  b\"I've stayed at many Marriott and Renaissance...  ...  Very comfortable and safe place\n",
              "\n",
              "[5 rows x 3 columns]"
            ]
          },
          "metadata": {},
          "execution_count": 27
        }
      ]
    },
    {
      "cell_type": "code",
      "source": [
        "sentence_df['all_text'] = sentence_df['Sentence']+sentence_df['Key_point']"
      ],
      "metadata": {
        "id": "JmtzzU9wDQ_M"
      },
      "execution_count": null,
      "outputs": []
    },
    {
      "cell_type": "code",
      "source": [
        "sentence_df.head()"
      ],
      "metadata": {
        "colab": {
          "base_uri": "https://localhost:8080/",
          "height": 206
        },
        "id": "JZTP7HtvFXi_",
        "outputId": "396b0c92-4e0b-4a77-c328-4f0c7d13c52d"
      },
      "execution_count": null,
      "outputs": [
        {
          "output_type": "execute_result",
          "data": {
            "text/html": [
              "\n",
              "  <div id=\"df-20a0f778-976f-421c-ad90-a6b06ed70247\">\n",
              "    <div class=\"colab-df-container\">\n",
              "      <div>\n",
              "<style scoped>\n",
              "    .dataframe tbody tr th:only-of-type {\n",
              "        vertical-align: middle;\n",
              "    }\n",
              "\n",
              "    .dataframe tbody tr th {\n",
              "        vertical-align: top;\n",
              "    }\n",
              "\n",
              "    .dataframe thead th {\n",
              "        text-align: right;\n",
              "    }\n",
              "</style>\n",
              "<table border=\"1\" class=\"dataframe\">\n",
              "  <thead>\n",
              "    <tr style=\"text-align: right;\">\n",
              "      <th></th>\n",
              "      <th>Review</th>\n",
              "      <th>Sentence</th>\n",
              "      <th>Key_point</th>\n",
              "      <th>all_text</th>\n",
              "    </tr>\n",
              "  </thead>\n",
              "  <tbody>\n",
              "    <tr>\n",
              "      <th>0</th>\n",
              "      <td>b\"I've stayed at many Marriott and Renaissance...</td>\n",
              "      <td>b\"I've stayed at many Marriott and Renaissance...</td>\n",
              "      <td>Very comfortable and safe place</td>\n",
              "      <td>b\"I've stayed at many Marriott and Renaissance...</td>\n",
              "    </tr>\n",
              "    <tr>\n",
              "      <th>1</th>\n",
              "      <td>b\"I've stayed at many Marriott and Renaissance...</td>\n",
              "      <td></td>\n",
              "      <td>Very comfortable and safe place</td>\n",
              "      <td>Very comfortable and safe place</td>\n",
              "    </tr>\n",
              "    <tr>\n",
              "      <th>2</th>\n",
              "      <td>b\"I've stayed at many Marriott and Renaissance...</td>\n",
              "      <td>there is a starbucks on site which is nice</td>\n",
              "      <td>Very comfortable and safe place</td>\n",
              "      <td>there is a starbucks on site which is niceVery...</td>\n",
              "    </tr>\n",
              "    <tr>\n",
              "      <th>3</th>\n",
              "      <td>b\"I've stayed at many Marriott and Renaissance...</td>\n",
              "      <td>\\n\\nThe rooms are run down and old</td>\n",
              "      <td>Very comfortable and safe place</td>\n",
              "      <td>\\n\\nThe rooms are run down and oldVery comfort...</td>\n",
              "    </tr>\n",
              "    <tr>\n",
              "      <th>4</th>\n",
              "      <td>b\"I've stayed at many Marriott and Renaissance...</td>\n",
              "      <td>There is a flat screen but that is to be exp...</td>\n",
              "      <td>Very comfortable and safe place</td>\n",
              "      <td>There is a flat screen but that is to be exp...</td>\n",
              "    </tr>\n",
              "  </tbody>\n",
              "</table>\n",
              "</div>\n",
              "      <button class=\"colab-df-convert\" onclick=\"convertToInteractive('df-20a0f778-976f-421c-ad90-a6b06ed70247')\"\n",
              "              title=\"Convert this dataframe to an interactive table.\"\n",
              "              style=\"display:none;\">\n",
              "        \n",
              "  <svg xmlns=\"http://www.w3.org/2000/svg\" height=\"24px\"viewBox=\"0 0 24 24\"\n",
              "       width=\"24px\">\n",
              "    <path d=\"M0 0h24v24H0V0z\" fill=\"none\"/>\n",
              "    <path d=\"M18.56 5.44l.94 2.06.94-2.06 2.06-.94-2.06-.94-.94-2.06-.94 2.06-2.06.94zm-11 1L8.5 8.5l.94-2.06 2.06-.94-2.06-.94L8.5 2.5l-.94 2.06-2.06.94zm10 10l.94 2.06.94-2.06 2.06-.94-2.06-.94-.94-2.06-.94 2.06-2.06.94z\"/><path d=\"M17.41 7.96l-1.37-1.37c-.4-.4-.92-.59-1.43-.59-.52 0-1.04.2-1.43.59L10.3 9.45l-7.72 7.72c-.78.78-.78 2.05 0 2.83L4 21.41c.39.39.9.59 1.41.59.51 0 1.02-.2 1.41-.59l7.78-7.78 2.81-2.81c.8-.78.8-2.07 0-2.86zM5.41 20L4 18.59l7.72-7.72 1.47 1.35L5.41 20z\"/>\n",
              "  </svg>\n",
              "      </button>\n",
              "      \n",
              "  <style>\n",
              "    .colab-df-container {\n",
              "      display:flex;\n",
              "      flex-wrap:wrap;\n",
              "      gap: 12px;\n",
              "    }\n",
              "\n",
              "    .colab-df-convert {\n",
              "      background-color: #E8F0FE;\n",
              "      border: none;\n",
              "      border-radius: 50%;\n",
              "      cursor: pointer;\n",
              "      display: none;\n",
              "      fill: #1967D2;\n",
              "      height: 32px;\n",
              "      padding: 0 0 0 0;\n",
              "      width: 32px;\n",
              "    }\n",
              "\n",
              "    .colab-df-convert:hover {\n",
              "      background-color: #E2EBFA;\n",
              "      box-shadow: 0px 1px 2px rgba(60, 64, 67, 0.3), 0px 1px 3px 1px rgba(60, 64, 67, 0.15);\n",
              "      fill: #174EA6;\n",
              "    }\n",
              "\n",
              "    [theme=dark] .colab-df-convert {\n",
              "      background-color: #3B4455;\n",
              "      fill: #D2E3FC;\n",
              "    }\n",
              "\n",
              "    [theme=dark] .colab-df-convert:hover {\n",
              "      background-color: #434B5C;\n",
              "      box-shadow: 0px 1px 3px 1px rgba(0, 0, 0, 0.15);\n",
              "      filter: drop-shadow(0px 1px 2px rgba(0, 0, 0, 0.3));\n",
              "      fill: #FFFFFF;\n",
              "    }\n",
              "  </style>\n",
              "\n",
              "      <script>\n",
              "        const buttonEl =\n",
              "          document.querySelector('#df-20a0f778-976f-421c-ad90-a6b06ed70247 button.colab-df-convert');\n",
              "        buttonEl.style.display =\n",
              "          google.colab.kernel.accessAllowed ? 'block' : 'none';\n",
              "\n",
              "        async function convertToInteractive(key) {\n",
              "          const element = document.querySelector('#df-20a0f778-976f-421c-ad90-a6b06ed70247');\n",
              "          const dataTable =\n",
              "            await google.colab.kernel.invokeFunction('convertToInteractive',\n",
              "                                                     [key], {});\n",
              "          if (!dataTable) return;\n",
              "\n",
              "          const docLinkHtml = 'Like what you see? Visit the ' +\n",
              "            '<a target=\"_blank\" href=https://colab.research.google.com/notebooks/data_table.ipynb>data table notebook</a>'\n",
              "            + ' to learn more about interactive tables.';\n",
              "          element.innerHTML = '';\n",
              "          dataTable['output_type'] = 'display_data';\n",
              "          await google.colab.output.renderOutput(dataTable, element);\n",
              "          const docLink = document.createElement('div');\n",
              "          docLink.innerHTML = docLinkHtml;\n",
              "          element.appendChild(docLink);\n",
              "        }\n",
              "      </script>\n",
              "    </div>\n",
              "  </div>\n",
              "  "
            ],
            "text/plain": [
              "                                              Review  ...                                           all_text\n",
              "0  b\"I've stayed at many Marriott and Renaissance...  ...  b\"I've stayed at many Marriott and Renaissance...\n",
              "1  b\"I've stayed at many Marriott and Renaissance...  ...                    Very comfortable and safe place\n",
              "2  b\"I've stayed at many Marriott and Renaissance...  ...  there is a starbucks on site which is niceVery...\n",
              "3  b\"I've stayed at many Marriott and Renaissance...  ...  \\n\\nThe rooms are run down and oldVery comfort...\n",
              "4  b\"I've stayed at many Marriott and Renaissance...  ...    There is a flat screen but that is to be exp...\n",
              "\n",
              "[5 rows x 4 columns]"
            ]
          },
          "metadata": {},
          "execution_count": 29
        }
      ]
    },
    {
      "cell_type": "code",
      "source": [
        "sentence_df.to_csv('sentence_splitted_review_kp_hotel.csv')"
      ],
      "metadata": {
        "id": "56kP_FvAFz0X"
      },
      "execution_count": null,
      "outputs": []
    },
    {
      "cell_type": "code",
      "source": [
        "print(sentence_df.shape)"
      ],
      "metadata": {
        "colab": {
          "base_uri": "https://localhost:8080/"
        },
        "id": "pRG-_vWWEN06",
        "outputId": "67200e4a-b71d-43b5-c1bc-ec5b0ff141ed"
      },
      "execution_count": null,
      "outputs": [
        {
          "output_type": "stream",
          "name": "stdout",
          "text": [
            "(24000, 4)\n"
          ]
        }
      ]
    },
    {
      "cell_type": "code",
      "source": [
        "sentence_df['score'] = matching_score(sentence_df) "
      ],
      "metadata": {
        "colab": {
          "base_uri": "https://localhost:8080/",
          "height": 49,
          "referenced_widgets": [
            "0a9433a707dd414ba7323ec47cb0d925",
            "a27c3bf323104e80834b82003bb44e68",
            "5fad8ae91854479cb14e152cff07cac6",
            "8c039b4032c34ead80367b03efaae8e7",
            "9eece726f78544ec975f3fdc7a78c2d8",
            "d6df34f4d9f84bdca882b8b6711ffdfd",
            "721f8a5116f54755807f886c6dd6950a",
            "2eacfacd7b6b48b78ec3ffa5db86fc77",
            "775ba6c1bec24c3c9ca745ce052e429d",
            "90cc9f760ecf40dab1aae4b6506f5285",
            "34e6471621bc42e3823e28cd9f114d75"
          ]
        },
        "id": "WiSdHo-dENNM",
        "outputId": "7bca776e-ae90-403e-8123-8be48e5d52c8"
      },
      "execution_count": null,
      "outputs": [
        {
          "output_type": "display_data",
          "data": {
            "application/vnd.jupyter.widget-view+json": {
              "model_id": "0a9433a707dd414ba7323ec47cb0d925",
              "version_minor": 0,
              "version_major": 2
            },
            "text/plain": [
              "Iteration:   0%|          | 0/24000 [00:00<?, ?it/s]"
            ]
          },
          "metadata": {}
        }
      ]
    },
    {
      "cell_type": "code",
      "source": [
        "sentence_df.to_csv('sentence_df_scores_hotel.csv')"
      ],
      "metadata": {
        "id": "2mcmHiqhfPk4"
      },
      "execution_count": null,
      "outputs": []
    },
    {
      "cell_type": "code",
      "source": [
        "sentence_df.head()"
      ],
      "metadata": {
        "colab": {
          "base_uri": "https://localhost:8080/",
          "height": 250
        },
        "id": "dsmITUSKbruc",
        "outputId": "47cc23e4-e94f-4210-9ab7-02c36892734c"
      },
      "execution_count": null,
      "outputs": [
        {
          "output_type": "execute_result",
          "data": {
            "text/html": [
              "\n",
              "  <div id=\"df-96bef387-588a-49a5-bb98-170047b0856e\">\n",
              "    <div class=\"colab-df-container\">\n",
              "      <div>\n",
              "<style scoped>\n",
              "    .dataframe tbody tr th:only-of-type {\n",
              "        vertical-align: middle;\n",
              "    }\n",
              "\n",
              "    .dataframe tbody tr th {\n",
              "        vertical-align: top;\n",
              "    }\n",
              "\n",
              "    .dataframe thead th {\n",
              "        text-align: right;\n",
              "    }\n",
              "</style>\n",
              "<table border=\"1\" class=\"dataframe\">\n",
              "  <thead>\n",
              "    <tr style=\"text-align: right;\">\n",
              "      <th></th>\n",
              "      <th>Review</th>\n",
              "      <th>Sentence</th>\n",
              "      <th>Key_point</th>\n",
              "      <th>all_text</th>\n",
              "      <th>score</th>\n",
              "    </tr>\n",
              "  </thead>\n",
              "  <tbody>\n",
              "    <tr>\n",
              "      <th>0</th>\n",
              "      <td>b\"I've stayed at many Marriott and Renaissance...</td>\n",
              "      <td>b\"I've stayed at many Marriott and Renaissance...</td>\n",
              "      <td>Very comfortable and safe place</td>\n",
              "      <td>b\"I've stayed at many Marriott and Renaissance...</td>\n",
              "      <td>0.005572</td>\n",
              "    </tr>\n",
              "    <tr>\n",
              "      <th>1</th>\n",
              "      <td>b\"I've stayed at many Marriott and Renaissance...</td>\n",
              "      <td></td>\n",
              "      <td>Very comfortable and safe place</td>\n",
              "      <td>Very comfortable and safe place</td>\n",
              "      <td>0.006735</td>\n",
              "    </tr>\n",
              "    <tr>\n",
              "      <th>2</th>\n",
              "      <td>b\"I've stayed at many Marriott and Renaissance...</td>\n",
              "      <td>there is a starbucks on site which is nice</td>\n",
              "      <td>Very comfortable and safe place</td>\n",
              "      <td>there is a starbucks on site which is niceVery...</td>\n",
              "      <td>0.003849</td>\n",
              "    </tr>\n",
              "    <tr>\n",
              "      <th>3</th>\n",
              "      <td>b\"I've stayed at many Marriott and Renaissance...</td>\n",
              "      <td>\\n\\nThe rooms are run down and old</td>\n",
              "      <td>Very comfortable and safe place</td>\n",
              "      <td>\\n\\nThe rooms are run down and oldVery comfort...</td>\n",
              "      <td>0.012478</td>\n",
              "    </tr>\n",
              "    <tr>\n",
              "      <th>4</th>\n",
              "      <td>b\"I've stayed at many Marriott and Renaissance...</td>\n",
              "      <td>There is a flat screen but that is to be exp...</td>\n",
              "      <td>Very comfortable and safe place</td>\n",
              "      <td>There is a flat screen but that is to be exp...</td>\n",
              "      <td>0.003281</td>\n",
              "    </tr>\n",
              "  </tbody>\n",
              "</table>\n",
              "</div>\n",
              "      <button class=\"colab-df-convert\" onclick=\"convertToInteractive('df-96bef387-588a-49a5-bb98-170047b0856e')\"\n",
              "              title=\"Convert this dataframe to an interactive table.\"\n",
              "              style=\"display:none;\">\n",
              "        \n",
              "  <svg xmlns=\"http://www.w3.org/2000/svg\" height=\"24px\"viewBox=\"0 0 24 24\"\n",
              "       width=\"24px\">\n",
              "    <path d=\"M0 0h24v24H0V0z\" fill=\"none\"/>\n",
              "    <path d=\"M18.56 5.44l.94 2.06.94-2.06 2.06-.94-2.06-.94-.94-2.06-.94 2.06-2.06.94zm-11 1L8.5 8.5l.94-2.06 2.06-.94-2.06-.94L8.5 2.5l-.94 2.06-2.06.94zm10 10l.94 2.06.94-2.06 2.06-.94-2.06-.94-.94-2.06-.94 2.06-2.06.94z\"/><path d=\"M17.41 7.96l-1.37-1.37c-.4-.4-.92-.59-1.43-.59-.52 0-1.04.2-1.43.59L10.3 9.45l-7.72 7.72c-.78.78-.78 2.05 0 2.83L4 21.41c.39.39.9.59 1.41.59.51 0 1.02-.2 1.41-.59l7.78-7.78 2.81-2.81c.8-.78.8-2.07 0-2.86zM5.41 20L4 18.59l7.72-7.72 1.47 1.35L5.41 20z\"/>\n",
              "  </svg>\n",
              "      </button>\n",
              "      \n",
              "  <style>\n",
              "    .colab-df-container {\n",
              "      display:flex;\n",
              "      flex-wrap:wrap;\n",
              "      gap: 12px;\n",
              "    }\n",
              "\n",
              "    .colab-df-convert {\n",
              "      background-color: #E8F0FE;\n",
              "      border: none;\n",
              "      border-radius: 50%;\n",
              "      cursor: pointer;\n",
              "      display: none;\n",
              "      fill: #1967D2;\n",
              "      height: 32px;\n",
              "      padding: 0 0 0 0;\n",
              "      width: 32px;\n",
              "    }\n",
              "\n",
              "    .colab-df-convert:hover {\n",
              "      background-color: #E2EBFA;\n",
              "      box-shadow: 0px 1px 2px rgba(60, 64, 67, 0.3), 0px 1px 3px 1px rgba(60, 64, 67, 0.15);\n",
              "      fill: #174EA6;\n",
              "    }\n",
              "\n",
              "    [theme=dark] .colab-df-convert {\n",
              "      background-color: #3B4455;\n",
              "      fill: #D2E3FC;\n",
              "    }\n",
              "\n",
              "    [theme=dark] .colab-df-convert:hover {\n",
              "      background-color: #434B5C;\n",
              "      box-shadow: 0px 1px 3px 1px rgba(0, 0, 0, 0.15);\n",
              "      filter: drop-shadow(0px 1px 2px rgba(0, 0, 0, 0.3));\n",
              "      fill: #FFFFFF;\n",
              "    }\n",
              "  </style>\n",
              "\n",
              "      <script>\n",
              "        const buttonEl =\n",
              "          document.querySelector('#df-96bef387-588a-49a5-bb98-170047b0856e button.colab-df-convert');\n",
              "        buttonEl.style.display =\n",
              "          google.colab.kernel.accessAllowed ? 'block' : 'none';\n",
              "\n",
              "        async function convertToInteractive(key) {\n",
              "          const element = document.querySelector('#df-96bef387-588a-49a5-bb98-170047b0856e');\n",
              "          const dataTable =\n",
              "            await google.colab.kernel.invokeFunction('convertToInteractive',\n",
              "                                                     [key], {});\n",
              "          if (!dataTable) return;\n",
              "\n",
              "          const docLinkHtml = 'Like what you see? Visit the ' +\n",
              "            '<a target=\"_blank\" href=https://colab.research.google.com/notebooks/data_table.ipynb>data table notebook</a>'\n",
              "            + ' to learn more about interactive tables.';\n",
              "          element.innerHTML = '';\n",
              "          dataTable['output_type'] = 'display_data';\n",
              "          await google.colab.output.renderOutput(dataTable, element);\n",
              "          const docLink = document.createElement('div');\n",
              "          docLink.innerHTML = docLinkHtml;\n",
              "          element.appendChild(docLink);\n",
              "        }\n",
              "      </script>\n",
              "    </div>\n",
              "  </div>\n",
              "  "
            ],
            "text/plain": [
              "                                              Review  ...     score\n",
              "0  b\"I've stayed at many Marriott and Renaissance...  ...  0.005572\n",
              "1  b\"I've stayed at many Marriott and Renaissance...  ...  0.006735\n",
              "2  b\"I've stayed at many Marriott and Renaissance...  ...  0.003849\n",
              "3  b\"I've stayed at many Marriott and Renaissance...  ...  0.012478\n",
              "4  b\"I've stayed at many Marriott and Renaissance...  ...  0.003281\n",
              "\n",
              "[5 rows x 5 columns]"
            ]
          },
          "metadata": {},
          "execution_count": 34
        }
      ]
    },
    {
      "cell_type": "code",
      "source": [
        "new_df = pd.DataFrame([], columns =['Review', 'Key_point', 'Score'])\n",
        "\n",
        "i=0\n",
        "while i<sentence_df.shape[0]:\n",
        "    rowSeries = sentence_df.iloc[i]\n",
        "    if rowSeries['Review']!= None:\n",
        "      len_splitted = len(rowSeries['Review'].split('.'))\n",
        "      max_index = sentence_df['score'][i:i+len_splitted].idxmax()\n",
        "      line = sentence_df.iloc[max_index]\n",
        "      new_row = [line.Review, line.Key_point, line.score]\n",
        "      new_df.loc[len(new_df.index)] = new_row\n",
        "      i = i+len_splitted\n",
        "    else:\n",
        "       i = i+1"
      ],
      "metadata": {
        "id": "PtW_hpoUbw63"
      },
      "execution_count": null,
      "outputs": []
    },
    {
      "cell_type": "code",
      "source": [
        "print(new_df.shape)"
      ],
      "metadata": {
        "colab": {
          "base_uri": "https://localhost:8080/"
        },
        "id": "YPrfxFmEb_eD",
        "outputId": "9627e2ff-e340-40e7-a2dd-1d8f276072c2"
      },
      "execution_count": null,
      "outputs": [
        {
          "output_type": "stream",
          "name": "stdout",
          "text": [
            "(3000, 3)\n"
          ]
        }
      ]
    },
    {
      "cell_type": "code",
      "source": [
        "new_df.head()"
      ],
      "metadata": {
        "colab": {
          "base_uri": "https://localhost:8080/",
          "height": 206
        },
        "id": "Ndxv98ercBd9",
        "outputId": "ab339ad3-c1e2-4c56-87d9-292e3b054b7e"
      },
      "execution_count": null,
      "outputs": [
        {
          "output_type": "execute_result",
          "data": {
            "text/html": [
              "\n",
              "  <div id=\"df-e712d394-c410-4438-aaca-1c73e391e25a\">\n",
              "    <div class=\"colab-df-container\">\n",
              "      <div>\n",
              "<style scoped>\n",
              "    .dataframe tbody tr th:only-of-type {\n",
              "        vertical-align: middle;\n",
              "    }\n",
              "\n",
              "    .dataframe tbody tr th {\n",
              "        vertical-align: top;\n",
              "    }\n",
              "\n",
              "    .dataframe thead th {\n",
              "        text-align: right;\n",
              "    }\n",
              "</style>\n",
              "<table border=\"1\" class=\"dataframe\">\n",
              "  <thead>\n",
              "    <tr style=\"text-align: right;\">\n",
              "      <th></th>\n",
              "      <th>Review</th>\n",
              "      <th>Key_point</th>\n",
              "      <th>Score</th>\n",
              "    </tr>\n",
              "  </thead>\n",
              "  <tbody>\n",
              "    <tr>\n",
              "      <th>0</th>\n",
              "      <td>b\"I've stayed at many Marriott and Renaissance...</td>\n",
              "      <td>Very comfortable and safe place</td>\n",
              "      <td>0.012478</td>\n",
              "    </tr>\n",
              "    <tr>\n",
              "      <th>1</th>\n",
              "      <td>b\"I've stayed at many Marriott and Renaissance...</td>\n",
              "      <td>All new appliances and very clean</td>\n",
              "      <td>0.022723</td>\n",
              "    </tr>\n",
              "    <tr>\n",
              "      <th>2</th>\n",
              "      <td>b\"I've stayed at many Marriott and Renaissance...</td>\n",
              "      <td>The location is great</td>\n",
              "      <td>0.007457</td>\n",
              "    </tr>\n",
              "    <tr>\n",
              "      <th>3</th>\n",
              "      <td>b\"I've stayed at many Marriott and Renaissance...</td>\n",
              "      <td>The service was good</td>\n",
              "      <td>0.006423</td>\n",
              "    </tr>\n",
              "    <tr>\n",
              "      <th>4</th>\n",
              "      <td>b\"I've stayed at many Marriott and Renaissance...</td>\n",
              "      <td>The hotel staff was wonderful</td>\n",
              "      <td>0.006218</td>\n",
              "    </tr>\n",
              "  </tbody>\n",
              "</table>\n",
              "</div>\n",
              "      <button class=\"colab-df-convert\" onclick=\"convertToInteractive('df-e712d394-c410-4438-aaca-1c73e391e25a')\"\n",
              "              title=\"Convert this dataframe to an interactive table.\"\n",
              "              style=\"display:none;\">\n",
              "        \n",
              "  <svg xmlns=\"http://www.w3.org/2000/svg\" height=\"24px\"viewBox=\"0 0 24 24\"\n",
              "       width=\"24px\">\n",
              "    <path d=\"M0 0h24v24H0V0z\" fill=\"none\"/>\n",
              "    <path d=\"M18.56 5.44l.94 2.06.94-2.06 2.06-.94-2.06-.94-.94-2.06-.94 2.06-2.06.94zm-11 1L8.5 8.5l.94-2.06 2.06-.94-2.06-.94L8.5 2.5l-.94 2.06-2.06.94zm10 10l.94 2.06.94-2.06 2.06-.94-2.06-.94-.94-2.06-.94 2.06-2.06.94z\"/><path d=\"M17.41 7.96l-1.37-1.37c-.4-.4-.92-.59-1.43-.59-.52 0-1.04.2-1.43.59L10.3 9.45l-7.72 7.72c-.78.78-.78 2.05 0 2.83L4 21.41c.39.39.9.59 1.41.59.51 0 1.02-.2 1.41-.59l7.78-7.78 2.81-2.81c.8-.78.8-2.07 0-2.86zM5.41 20L4 18.59l7.72-7.72 1.47 1.35L5.41 20z\"/>\n",
              "  </svg>\n",
              "      </button>\n",
              "      \n",
              "  <style>\n",
              "    .colab-df-container {\n",
              "      display:flex;\n",
              "      flex-wrap:wrap;\n",
              "      gap: 12px;\n",
              "    }\n",
              "\n",
              "    .colab-df-convert {\n",
              "      background-color: #E8F0FE;\n",
              "      border: none;\n",
              "      border-radius: 50%;\n",
              "      cursor: pointer;\n",
              "      display: none;\n",
              "      fill: #1967D2;\n",
              "      height: 32px;\n",
              "      padding: 0 0 0 0;\n",
              "      width: 32px;\n",
              "    }\n",
              "\n",
              "    .colab-df-convert:hover {\n",
              "      background-color: #E2EBFA;\n",
              "      box-shadow: 0px 1px 2px rgba(60, 64, 67, 0.3), 0px 1px 3px 1px rgba(60, 64, 67, 0.15);\n",
              "      fill: #174EA6;\n",
              "    }\n",
              "\n",
              "    [theme=dark] .colab-df-convert {\n",
              "      background-color: #3B4455;\n",
              "      fill: #D2E3FC;\n",
              "    }\n",
              "\n",
              "    [theme=dark] .colab-df-convert:hover {\n",
              "      background-color: #434B5C;\n",
              "      box-shadow: 0px 1px 3px 1px rgba(0, 0, 0, 0.15);\n",
              "      filter: drop-shadow(0px 1px 2px rgba(0, 0, 0, 0.3));\n",
              "      fill: #FFFFFF;\n",
              "    }\n",
              "  </style>\n",
              "\n",
              "      <script>\n",
              "        const buttonEl =\n",
              "          document.querySelector('#df-e712d394-c410-4438-aaca-1c73e391e25a button.colab-df-convert');\n",
              "        buttonEl.style.display =\n",
              "          google.colab.kernel.accessAllowed ? 'block' : 'none';\n",
              "\n",
              "        async function convertToInteractive(key) {\n",
              "          const element = document.querySelector('#df-e712d394-c410-4438-aaca-1c73e391e25a');\n",
              "          const dataTable =\n",
              "            await google.colab.kernel.invokeFunction('convertToInteractive',\n",
              "                                                     [key], {});\n",
              "          if (!dataTable) return;\n",
              "\n",
              "          const docLinkHtml = 'Like what you see? Visit the ' +\n",
              "            '<a target=\"_blank\" href=https://colab.research.google.com/notebooks/data_table.ipynb>data table notebook</a>'\n",
              "            + ' to learn more about interactive tables.';\n",
              "          element.innerHTML = '';\n",
              "          dataTable['output_type'] = 'display_data';\n",
              "          await google.colab.output.renderOutput(dataTable, element);\n",
              "          const docLink = document.createElement('div');\n",
              "          docLink.innerHTML = docLinkHtml;\n",
              "          element.appendChild(docLink);\n",
              "        }\n",
              "      </script>\n",
              "    </div>\n",
              "  </div>\n",
              "  "
            ],
            "text/plain": [
              "                                              Review  ...     Score\n",
              "0  b\"I've stayed at many Marriott and Renaissance...  ...  0.012478\n",
              "1  b\"I've stayed at many Marriott and Renaissance...  ...  0.022723\n",
              "2  b\"I've stayed at many Marriott and Renaissance...  ...  0.007457\n",
              "3  b\"I've stayed at many Marriott and Renaissance...  ...  0.006423\n",
              "4  b\"I've stayed at many Marriott and Renaissance...  ...  0.006218\n",
              "\n",
              "[5 rows x 3 columns]"
            ]
          },
          "metadata": {},
          "execution_count": 37
        }
      ]
    },
    {
      "cell_type": "code",
      "source": [
        "matched_df = pd.DataFrame([], columns =['Review', 'Key_point', 'Score'])"
      ],
      "metadata": {
        "id": "kh39X1FWcDYL"
      },
      "execution_count": null,
      "outputs": []
    },
    {
      "cell_type": "code",
      "source": [
        "pos_matched_df = pd.DataFrame([], columns =['Review', 'Key_point', 'Score'])\n",
        "neg_matched_df = pd.DataFrame([], columns =['Review', 'Key_point', 'Score'])\n",
        "no_matched_df = pd.DataFrame([], columns =['Review', 'Key_point', 'Score'])\n",
        "\n",
        "i=0\n",
        "while i<new_df.shape[0]:\n",
        "  flag = False\n",
        "  for j in range(30):\n",
        "    rowSeries = new_df.iloc[i+j]\n",
        "    if rowSeries['Score']>0.95:\n",
        "      flag = True\n",
        "      new_row = [rowSeries.Review, rowSeries.Key_point, rowSeries.Score]\n",
        "      pos_matched_df.loc[len(pos_matched_df.index)] = new_row\n",
        "  for j in range(30,60):\n",
        "    rowSeries = new_df.iloc[i+j]\n",
        "    if rowSeries['Score']>0.95:\n",
        "      flag = True\n",
        "      new_row = [rowSeries.Review, rowSeries.Key_point, rowSeries.Score]\n",
        "      neg_matched_df.loc[len(neg_matched_df.index)] = new_row\n",
        "  if flag == False:\n",
        "    row = new_df.iloc[i]\n",
        "    new_row = [row.Review, row.Key_point, 0]\n",
        "    no_matched_df.loc[len(no_matched_df.index)] = new_row\n",
        "  i = i+60"
      ],
      "metadata": {
        "id": "1etgS5IFoVIh"
      },
      "execution_count": null,
      "outputs": []
    },
    {
      "cell_type": "code",
      "source": [
        "pos_matched_df.head()"
      ],
      "metadata": {
        "colab": {
          "base_uri": "https://localhost:8080/",
          "height": 206
        },
        "id": "1QNUmcoxrWmT",
        "outputId": "158a2b1b-b398-4562-fcd1-72f0287389bd"
      },
      "execution_count": null,
      "outputs": [
        {
          "output_type": "execute_result",
          "data": {
            "text/html": [
              "\n",
              "  <div id=\"df-8931373e-8fac-4b9b-b02a-04508742d961\">\n",
              "    <div class=\"colab-df-container\">\n",
              "      <div>\n",
              "<style scoped>\n",
              "    .dataframe tbody tr th:only-of-type {\n",
              "        vertical-align: middle;\n",
              "    }\n",
              "\n",
              "    .dataframe tbody tr th {\n",
              "        vertical-align: top;\n",
              "    }\n",
              "\n",
              "    .dataframe thead th {\n",
              "        text-align: right;\n",
              "    }\n",
              "</style>\n",
              "<table border=\"1\" class=\"dataframe\">\n",
              "  <thead>\n",
              "    <tr style=\"text-align: right;\">\n",
              "      <th></th>\n",
              "      <th>Review</th>\n",
              "      <th>Key_point</th>\n",
              "      <th>Score</th>\n",
              "    </tr>\n",
              "  </thead>\n",
              "  <tbody>\n",
              "    <tr>\n",
              "      <th>0</th>\n",
              "      <td>b\"Am I crazy for giving anything MBTA-related ...</td>\n",
              "      <td>All new appliances and very clean</td>\n",
              "      <td>0.975637</td>\n",
              "    </tr>\n",
              "    <tr>\n",
              "      <th>1</th>\n",
              "      <td>b\"Am I crazy for giving anything MBTA-related ...</td>\n",
              "      <td>The location is great</td>\n",
              "      <td>0.966825</td>\n",
              "    </tr>\n",
              "    <tr>\n",
              "      <th>2</th>\n",
              "      <td>b\"Am I crazy for giving anything MBTA-related ...</td>\n",
              "      <td>The service was good</td>\n",
              "      <td>0.970725</td>\n",
              "    </tr>\n",
              "    <tr>\n",
              "      <th>3</th>\n",
              "      <td>b\"Am I crazy for giving anything MBTA-related ...</td>\n",
              "      <td>We would definitely stay there again</td>\n",
              "      <td>0.983939</td>\n",
              "    </tr>\n",
              "    <tr>\n",
              "      <th>4</th>\n",
              "      <td>b\"Am I crazy for giving anything MBTA-related ...</td>\n",
              "      <td>I love this place</td>\n",
              "      <td>0.977652</td>\n",
              "    </tr>\n",
              "  </tbody>\n",
              "</table>\n",
              "</div>\n",
              "      <button class=\"colab-df-convert\" onclick=\"convertToInteractive('df-8931373e-8fac-4b9b-b02a-04508742d961')\"\n",
              "              title=\"Convert this dataframe to an interactive table.\"\n",
              "              style=\"display:none;\">\n",
              "        \n",
              "  <svg xmlns=\"http://www.w3.org/2000/svg\" height=\"24px\"viewBox=\"0 0 24 24\"\n",
              "       width=\"24px\">\n",
              "    <path d=\"M0 0h24v24H0V0z\" fill=\"none\"/>\n",
              "    <path d=\"M18.56 5.44l.94 2.06.94-2.06 2.06-.94-2.06-.94-.94-2.06-.94 2.06-2.06.94zm-11 1L8.5 8.5l.94-2.06 2.06-.94-2.06-.94L8.5 2.5l-.94 2.06-2.06.94zm10 10l.94 2.06.94-2.06 2.06-.94-2.06-.94-.94-2.06-.94 2.06-2.06.94z\"/><path d=\"M17.41 7.96l-1.37-1.37c-.4-.4-.92-.59-1.43-.59-.52 0-1.04.2-1.43.59L10.3 9.45l-7.72 7.72c-.78.78-.78 2.05 0 2.83L4 21.41c.39.39.9.59 1.41.59.51 0 1.02-.2 1.41-.59l7.78-7.78 2.81-2.81c.8-.78.8-2.07 0-2.86zM5.41 20L4 18.59l7.72-7.72 1.47 1.35L5.41 20z\"/>\n",
              "  </svg>\n",
              "      </button>\n",
              "      \n",
              "  <style>\n",
              "    .colab-df-container {\n",
              "      display:flex;\n",
              "      flex-wrap:wrap;\n",
              "      gap: 12px;\n",
              "    }\n",
              "\n",
              "    .colab-df-convert {\n",
              "      background-color: #E8F0FE;\n",
              "      border: none;\n",
              "      border-radius: 50%;\n",
              "      cursor: pointer;\n",
              "      display: none;\n",
              "      fill: #1967D2;\n",
              "      height: 32px;\n",
              "      padding: 0 0 0 0;\n",
              "      width: 32px;\n",
              "    }\n",
              "\n",
              "    .colab-df-convert:hover {\n",
              "      background-color: #E2EBFA;\n",
              "      box-shadow: 0px 1px 2px rgba(60, 64, 67, 0.3), 0px 1px 3px 1px rgba(60, 64, 67, 0.15);\n",
              "      fill: #174EA6;\n",
              "    }\n",
              "\n",
              "    [theme=dark] .colab-df-convert {\n",
              "      background-color: #3B4455;\n",
              "      fill: #D2E3FC;\n",
              "    }\n",
              "\n",
              "    [theme=dark] .colab-df-convert:hover {\n",
              "      background-color: #434B5C;\n",
              "      box-shadow: 0px 1px 3px 1px rgba(0, 0, 0, 0.15);\n",
              "      filter: drop-shadow(0px 1px 2px rgba(0, 0, 0, 0.3));\n",
              "      fill: #FFFFFF;\n",
              "    }\n",
              "  </style>\n",
              "\n",
              "      <script>\n",
              "        const buttonEl =\n",
              "          document.querySelector('#df-8931373e-8fac-4b9b-b02a-04508742d961 button.colab-df-convert');\n",
              "        buttonEl.style.display =\n",
              "          google.colab.kernel.accessAllowed ? 'block' : 'none';\n",
              "\n",
              "        async function convertToInteractive(key) {\n",
              "          const element = document.querySelector('#df-8931373e-8fac-4b9b-b02a-04508742d961');\n",
              "          const dataTable =\n",
              "            await google.colab.kernel.invokeFunction('convertToInteractive',\n",
              "                                                     [key], {});\n",
              "          if (!dataTable) return;\n",
              "\n",
              "          const docLinkHtml = 'Like what you see? Visit the ' +\n",
              "            '<a target=\"_blank\" href=https://colab.research.google.com/notebooks/data_table.ipynb>data table notebook</a>'\n",
              "            + ' to learn more about interactive tables.';\n",
              "          element.innerHTML = '';\n",
              "          dataTable['output_type'] = 'display_data';\n",
              "          await google.colab.output.renderOutput(dataTable, element);\n",
              "          const docLink = document.createElement('div');\n",
              "          docLink.innerHTML = docLinkHtml;\n",
              "          element.appendChild(docLink);\n",
              "        }\n",
              "      </script>\n",
              "    </div>\n",
              "  </div>\n",
              "  "
            ],
            "text/plain": [
              "                                              Review  ...     Score\n",
              "0  b\"Am I crazy for giving anything MBTA-related ...  ...  0.975637\n",
              "1  b\"Am I crazy for giving anything MBTA-related ...  ...  0.966825\n",
              "2  b\"Am I crazy for giving anything MBTA-related ...  ...  0.970725\n",
              "3  b\"Am I crazy for giving anything MBTA-related ...  ...  0.983939\n",
              "4  b\"Am I crazy for giving anything MBTA-related ...  ...  0.977652\n",
              "\n",
              "[5 rows x 3 columns]"
            ]
          },
          "metadata": {},
          "execution_count": 40
        }
      ]
    },
    {
      "cell_type": "code",
      "source": [
        "neg_matched_df.head()"
      ],
      "metadata": {
        "colab": {
          "base_uri": "https://localhost:8080/",
          "height": 206
        },
        "id": "Uq_TkrOEybAV",
        "outputId": "a8d2d5b0-b20a-4a78-8288-585c9eebe9ac"
      },
      "execution_count": null,
      "outputs": [
        {
          "output_type": "execute_result",
          "data": {
            "text/html": [
              "\n",
              "  <div id=\"df-cdecdc08-1137-4874-a8ea-3125288ba20c\">\n",
              "    <div class=\"colab-df-container\">\n",
              "      <div>\n",
              "<style scoped>\n",
              "    .dataframe tbody tr th:only-of-type {\n",
              "        vertical-align: middle;\n",
              "    }\n",
              "\n",
              "    .dataframe tbody tr th {\n",
              "        vertical-align: top;\n",
              "    }\n",
              "\n",
              "    .dataframe thead th {\n",
              "        text-align: right;\n",
              "    }\n",
              "</style>\n",
              "<table border=\"1\" class=\"dataframe\">\n",
              "  <thead>\n",
              "    <tr style=\"text-align: right;\">\n",
              "      <th></th>\n",
              "      <th>Review</th>\n",
              "      <th>Key_point</th>\n",
              "      <th>Score</th>\n",
              "    </tr>\n",
              "  </thead>\n",
              "  <tbody>\n",
              "    <tr>\n",
              "      <th>0</th>\n",
              "      <td>b\"I've stayed at many Marriott and Renaissance...</td>\n",
              "      <td>It was dirty and very worn</td>\n",
              "      <td>0.992424</td>\n",
              "    </tr>\n",
              "    <tr>\n",
              "      <th>1</th>\n",
              "      <td>b\"Am I crazy for giving anything MBTA-related ...</td>\n",
              "      <td>Nothing special and definitely not great</td>\n",
              "      <td>0.956063</td>\n",
              "    </tr>\n",
              "    <tr>\n",
              "      <th>2</th>\n",
              "      <td>b\"Am I crazy for giving anything MBTA-related ...</td>\n",
              "      <td>It was completely gross</td>\n",
              "      <td>0.953732</td>\n",
              "    </tr>\n",
              "    <tr>\n",
              "      <th>3</th>\n",
              "      <td>b\"Am I crazy for giving anything MBTA-related ...</td>\n",
              "      <td>The pictures were deceiving</td>\n",
              "      <td>0.959195</td>\n",
              "    </tr>\n",
              "    <tr>\n",
              "      <th>4</th>\n",
              "      <td>b\"Am I crazy for giving anything MBTA-related ...</td>\n",
              "      <td>Would never recommend this place</td>\n",
              "      <td>0.984208</td>\n",
              "    </tr>\n",
              "  </tbody>\n",
              "</table>\n",
              "</div>\n",
              "      <button class=\"colab-df-convert\" onclick=\"convertToInteractive('df-cdecdc08-1137-4874-a8ea-3125288ba20c')\"\n",
              "              title=\"Convert this dataframe to an interactive table.\"\n",
              "              style=\"display:none;\">\n",
              "        \n",
              "  <svg xmlns=\"http://www.w3.org/2000/svg\" height=\"24px\"viewBox=\"0 0 24 24\"\n",
              "       width=\"24px\">\n",
              "    <path d=\"M0 0h24v24H0V0z\" fill=\"none\"/>\n",
              "    <path d=\"M18.56 5.44l.94 2.06.94-2.06 2.06-.94-2.06-.94-.94-2.06-.94 2.06-2.06.94zm-11 1L8.5 8.5l.94-2.06 2.06-.94-2.06-.94L8.5 2.5l-.94 2.06-2.06.94zm10 10l.94 2.06.94-2.06 2.06-.94-2.06-.94-.94-2.06-.94 2.06-2.06.94z\"/><path d=\"M17.41 7.96l-1.37-1.37c-.4-.4-.92-.59-1.43-.59-.52 0-1.04.2-1.43.59L10.3 9.45l-7.72 7.72c-.78.78-.78 2.05 0 2.83L4 21.41c.39.39.9.59 1.41.59.51 0 1.02-.2 1.41-.59l7.78-7.78 2.81-2.81c.8-.78.8-2.07 0-2.86zM5.41 20L4 18.59l7.72-7.72 1.47 1.35L5.41 20z\"/>\n",
              "  </svg>\n",
              "      </button>\n",
              "      \n",
              "  <style>\n",
              "    .colab-df-container {\n",
              "      display:flex;\n",
              "      flex-wrap:wrap;\n",
              "      gap: 12px;\n",
              "    }\n",
              "\n",
              "    .colab-df-convert {\n",
              "      background-color: #E8F0FE;\n",
              "      border: none;\n",
              "      border-radius: 50%;\n",
              "      cursor: pointer;\n",
              "      display: none;\n",
              "      fill: #1967D2;\n",
              "      height: 32px;\n",
              "      padding: 0 0 0 0;\n",
              "      width: 32px;\n",
              "    }\n",
              "\n",
              "    .colab-df-convert:hover {\n",
              "      background-color: #E2EBFA;\n",
              "      box-shadow: 0px 1px 2px rgba(60, 64, 67, 0.3), 0px 1px 3px 1px rgba(60, 64, 67, 0.15);\n",
              "      fill: #174EA6;\n",
              "    }\n",
              "\n",
              "    [theme=dark] .colab-df-convert {\n",
              "      background-color: #3B4455;\n",
              "      fill: #D2E3FC;\n",
              "    }\n",
              "\n",
              "    [theme=dark] .colab-df-convert:hover {\n",
              "      background-color: #434B5C;\n",
              "      box-shadow: 0px 1px 3px 1px rgba(0, 0, 0, 0.15);\n",
              "      filter: drop-shadow(0px 1px 2px rgba(0, 0, 0, 0.3));\n",
              "      fill: #FFFFFF;\n",
              "    }\n",
              "  </style>\n",
              "\n",
              "      <script>\n",
              "        const buttonEl =\n",
              "          document.querySelector('#df-cdecdc08-1137-4874-a8ea-3125288ba20c button.colab-df-convert');\n",
              "        buttonEl.style.display =\n",
              "          google.colab.kernel.accessAllowed ? 'block' : 'none';\n",
              "\n",
              "        async function convertToInteractive(key) {\n",
              "          const element = document.querySelector('#df-cdecdc08-1137-4874-a8ea-3125288ba20c');\n",
              "          const dataTable =\n",
              "            await google.colab.kernel.invokeFunction('convertToInteractive',\n",
              "                                                     [key], {});\n",
              "          if (!dataTable) return;\n",
              "\n",
              "          const docLinkHtml = 'Like what you see? Visit the ' +\n",
              "            '<a target=\"_blank\" href=https://colab.research.google.com/notebooks/data_table.ipynb>data table notebook</a>'\n",
              "            + ' to learn more about interactive tables.';\n",
              "          element.innerHTML = '';\n",
              "          dataTable['output_type'] = 'display_data';\n",
              "          await google.colab.output.renderOutput(dataTable, element);\n",
              "          const docLink = document.createElement('div');\n",
              "          docLink.innerHTML = docLinkHtml;\n",
              "          element.appendChild(docLink);\n",
              "        }\n",
              "      </script>\n",
              "    </div>\n",
              "  </div>\n",
              "  "
            ],
            "text/plain": [
              "                                              Review  ...     Score\n",
              "0  b\"I've stayed at many Marriott and Renaissance...  ...  0.992424\n",
              "1  b\"Am I crazy for giving anything MBTA-related ...  ...  0.956063\n",
              "2  b\"Am I crazy for giving anything MBTA-related ...  ...  0.953732\n",
              "3  b\"Am I crazy for giving anything MBTA-related ...  ...  0.959195\n",
              "4  b\"Am I crazy for giving anything MBTA-related ...  ...  0.984208\n",
              "\n",
              "[5 rows x 3 columns]"
            ]
          },
          "metadata": {},
          "execution_count": 41
        }
      ]
    },
    {
      "cell_type": "code",
      "source": [
        "no_matched_df.head()\n",
        "no_matched_df['Review'][0]"
      ],
      "metadata": {
        "colab": {
          "base_uri": "https://localhost:8080/",
          "height": 105
        },
        "id": "TIYEfpyJsrwb",
        "outputId": "b074ba5c-b80c-4ee5-e988-560921db5c34"
      },
      "execution_count": null,
      "outputs": [
        {
          "output_type": "execute_result",
          "data": {
            "application/vnd.google.colaboratory.intrinsic+json": {
              "type": "string"
            },
            "text/plain": [
              "\"b'Not enough service-13 minutes sometimes for another train to come\\\\nThree words: Braintree/Ashmont split=Delays\\\\nVery, very rude staff\\\\n\\\\nI.e.:\\\\nWATCH THE DOORS!  THE DOORS WILL BE CLOSING!  WATCH THE DOORS! screeched at obnoxious volume, whereas service delays are made at a level no one can hear\\\\n\\\\nHave been called names by bus drivers in the good old days for being slow with putting in money and/or scanning my pass (and I always have them out ahead of time)\\\\n\\\\nWould gladly pay more if they addressed their problems, but it all goes to debt reduction\\\\n\\\\n\\\\nBut I do get reliably each day where I want to go and can read books while doing so'\""
            ]
          },
          "metadata": {},
          "execution_count": 42
        }
      ]
    },
    {
      "cell_type": "code",
      "source": [
        "review_coverage = 1 - (no_matched_df.shape[0]/new_df.shape[0])\n",
        "print(review_coverage)"
      ],
      "metadata": {
        "colab": {
          "base_uri": "https://localhost:8080/"
        },
        "id": "_PfMJPhVtJCw",
        "outputId": "827c421a-879a-4b36-d268-d0b7b83f95fe"
      },
      "execution_count": null,
      "outputs": [
        {
          "output_type": "stream",
          "name": "stdout",
          "text": [
            "0.992\n"
          ]
        }
      ]
    },
    {
      "cell_type": "code",
      "source": [
        "pos_kp_coverage = ((pos_matched_df.groupby('Key_point').size()/reviews_df.shape[0])*100)\n",
        "pos_kp_coverage_top10 = pos_kp_coverage.nlargest(10)\n",
        "print(pos_kp_coverage_top10)"
      ],
      "metadata": {
        "colab": {
          "base_uri": "https://localhost:8080/"
        },
        "id": "BQq0jt7x0eMR",
        "outputId": "7c317129-0232-4e70-d4c6-423979709c64"
      },
      "execution_count": null,
      "outputs": [
        {
          "output_type": "stream",
          "name": "stdout",
          "text": [
            "Key_point\n",
            "Excellent food and great service        22.678182\n",
            "Excellent and fast service              18.616290\n",
            "They're clean and updated               18.237867\n",
            "The staff is hospitable and friendly    18.140517\n",
            "We would definitely stay there again    16.696805\n",
            "I definitely recommend this hotel!      14.799473\n",
            "The service was good                    14.698198\n",
            "All new appliances and very clean       12.960921\n",
            "Very comfortable and safe place         12.719105\n",
            "The beds are so comfortable             12.648855\n",
            "dtype: float64\n"
          ]
        }
      ]
    },
    {
      "cell_type": "code",
      "source": [
        "neg_kp_coverage = ((neg_matched_df.groupby('Key_point').size()/reviews_df.shape[0])*100)\n",
        "neg_kp_coverage_top10 = neg_kp_coverage.nlargest(10)\n",
        "print(neg_kp_coverage_top10)"
      ],
      "metadata": {
        "colab": {
          "base_uri": "https://localhost:8080/"
        },
        "id": "Gj-tY8s91X7K",
        "outputId": "86351b9a-79c7-4fa9-8be7-3ee7c08aa75a"
      },
      "execution_count": null,
      "outputs": [
        {
          "output_type": "stream",
          "name": "stdout",
          "text": [
            "Key_point\n",
            "It was dirty and very worn                  18.260849\n",
            "Nothing special and definitely not great    16.569239\n",
            "Not worth the money                         14.923184\n",
            "Food is not great but good                  14.426294\n",
            "Would never recommend this place            12.394544\n",
            "The elevator was broken                     10.974322\n",
            "There was no microwave or fridge            10.734669\n",
            "No hot water in my room                     10.724828\n",
            "Parking garage is terrible                  10.687834\n",
            "Shitty furniture and shitty tv              10.435424\n",
            "dtype: float64\n"
          ]
        }
      ]
    },
    {
      "cell_type": "code",
      "source": [
        "arr = pos_kp_coverage_top10.to_numpy()\n",
        "print(arr)\n",
        "\n",
        "x =list(range(len(arr)))\n",
        "print(pos_kp_coverage_top10.index)\n",
        "y= ['kp'+str(xi+1) for xi in x]"
      ],
      "metadata": {
        "colab": {
          "base_uri": "https://localhost:8080/"
        },
        "id": "mR7WIwSmIxkr",
        "outputId": "957dd225-ed74-4fe5-b982-ff2bd574cb80"
      },
      "execution_count": null,
      "outputs": [
        {
          "output_type": "stream",
          "name": "stdout",
          "text": [
            "[22.67818152 18.61629024 18.23786689 18.14051692 16.69680475 14.79947254\n",
            " 14.69819767 12.96092148 12.71910535 12.64885469]\n",
            "Index(['Excellent food and great service', 'Excellent and fast service',\n",
            "       'They're clean and updated', 'The staff is hospitable and friendly',\n",
            "       'We would definitely stay there again',\n",
            "       'I definitely recommend this hotel!', 'The service was good',\n",
            "       'All new appliances and very clean', 'Very comfortable and safe place',\n",
            "       'The beds are so comfortable'],\n",
            "      dtype='object', name='Key_point')\n"
          ]
        }
      ]
    },
    {
      "cell_type": "code",
      "source": [
        "import matplotlib.pyplot as plt\n",
        "\n",
        "fig, ax = plt.subplots()\n",
        "plt.plot(y,arr,'r',label='Key point coverage')\n",
        "plt.xlabel(\"key_point\")\n",
        "\n",
        "ax.set_xticks(y)\n",
        "plt.ylabel(\"Coverage in percentage\")\n",
        "plt.legend()\n",
        "plt.title(\"Positive Key point Coverage for Hotels\")"
      ],
      "metadata": {
        "colab": {
          "base_uri": "https://localhost:8080/",
          "height": 313
        },
        "id": "OWY515hzIyLG",
        "outputId": "ea71197a-dfcb-4a6e-f3c0-62829af5f574"
      },
      "execution_count": null,
      "outputs": [
        {
          "output_type": "execute_result",
          "data": {
            "text/plain": [
              "Text(0.5, 1.0, 'Positive Key point Coverage for Hotels')"
            ]
          },
          "metadata": {},
          "execution_count": 51
        },
        {
          "output_type": "display_data",
          "data": {
            "image/png": "[encoded data removed]",
            "text/plain": [
              "<Figure size 432x288 with 1 Axes>"
            ]
          },
          "metadata": {
            "needs_background": "light"
          }
        }
      ]
    },
    {
      "cell_type": "code",
      "source": [
        "arr = neg_kp_coverage_top10.to_numpy()\n",
        "print(arr)\n",
        "\n",
        "x =list(range(len(arr)))\n",
        "print(neg_kp_coverage_top10.index)\n",
        "y= ['kp'+str(xi+1) for xi in x]"
      ],
      "metadata": {
        "colab": {
          "base_uri": "https://localhost:8080/"
        },
        "id": "5RgRGWQ4I1Xm",
        "outputId": "0a7d319f-01fa-4790-c276-e5c9cd2626ec"
      },
      "execution_count": null,
      "outputs": [
        {
          "output_type": "stream",
          "name": "stdout",
          "text": [
            "[18.26084949 16.56923937 14.92318433 14.42629439 12.39454413 10.97432241\n",
            " 10.73466862 10.7248283  10.68783376 10.43542414]\n",
            "Index(['It was dirty and very worn',\n",
            "       'Nothing special and definitely not great', 'Not worth the money',\n",
            "       'Food is not great but good', 'Would never recommend this place',\n",
            "       'The elevator was broken', 'There was no microwave or fridge',\n",
            "       'No hot water in my room', 'Parking garage is terrible',\n",
            "       'Shitty furniture and shitty tv'],\n",
            "      dtype='object', name='Key_point')\n"
          ]
        }
      ]
    },
    {
      "cell_type": "code",
      "source": [
        "import matplotlib.pyplot as plt\n",
        "\n",
        "fig, ax = plt.subplots()\n",
        "plt.plot(y,arr,'r',label='Key point coverage')\n",
        "plt.xlabel(\"key_point\")\n",
        "\n",
        "ax.set_xticks(y)\n",
        "plt.ylabel(\"Coverage in percentage\")\n",
        "plt.legend()\n",
        "plt.title(\"Negative Key point Coverage for Hotels\")"
      ],
      "metadata": {
        "colab": {
          "base_uri": "https://localhost:8080/",
          "height": 313
        },
        "id": "jiU3uIHvI32e",
        "outputId": "f3384b0a-d598-4c86-d89d-19862112eb99"
      },
      "execution_count": null,
      "outputs": [
        {
          "output_type": "execute_result",
          "data": {
            "text/plain": [
              "Text(0.5, 1.0, 'Negative Key point Coverage for Hotels')"
            ]
          },
          "metadata": {},
          "execution_count": 53
        },
        {
          "output_type": "display_data",
          "data": {
            "image/png": "[encoded data removed]",
            "text/plain": [
              "<Figure size 432x288 with 1 Axes>"
            ]
          },
          "metadata": {
            "needs_background": "light"
          }
        }
      ]
    },
    {
      "cell_type": "code",
      "source": [
        "pos_kp_coverage.to_csv('pos_kp_coverage_hotels.csv')"
      ],
      "metadata": {
        "id": "HwjH7LnkP6Of"
      },
      "execution_count": null,
      "outputs": []
    },
    {
      "cell_type": "code",
      "source": [
        "neg_kp_coverage.to_csv('neg_kp_coverage_hotels.csv')"
      ],
      "metadata": {
        "id": "MW-NCDnJQHJV"
      },
      "execution_count": null,
      "outputs": []
    },
    {
      "cell_type": "code",
      "source": [
        "pos_kp_coverage"
      ],
      "metadata": {
        "id": "IO36Uz8yS8lW"
      },
      "execution_count": null,
      "outputs": []
    },
    {
      "cell_type": "code",
      "source": [
        "matched_df = pd.DataFrame([], columns =['Review', 'Key_point', 'Score'])\n",
        "\n",
        "i=0\n",
        "while i<new_df.shape[0]:\n",
        "  flag = False\n",
        "  for j in range(30):\n",
        "    rowSeries = new_df.iloc[i+j]\n",
        "    if rowSeries['Score']>0.95:\n",
        "      flag = True\n",
        "      new_row = [rowSeries.Review, rowSeries.Key_point, rowSeries.Score]\n",
        "      matched_df.loc[len(matched_df.index)] = new_row\n",
        "  for j in range(30,60):\n",
        "    rowSeries = new_df.iloc[i+j]\n",
        "    if rowSeries['Score']>0.95:\n",
        "      flag = True\n",
        "      new_row = [rowSeries.Review, rowSeries.Key_point, rowSeries.Score]\n",
        "      matched_df.loc[len(matched_df.index)] = new_row\n",
        "  if flag == False:\n",
        "    row = new_df.iloc[i]\n",
        "    new_row = [row.Review, row.Key_point, 0]\n",
        "    matched_df.loc[len(matched_df.index)] = new_row\n",
        "  i = i+60"
      ],
      "metadata": {
        "id": "KMimuBwwYwOL"
      },
      "execution_count": null,
      "outputs": []
    },
    {
      "cell_type": "code",
      "source": [
        "matched_df.head()"
      ],
      "metadata": {
        "colab": {
          "base_uri": "https://localhost:8080/",
          "height": 206
        },
        "id": "kMr8BdX8Z8ND",
        "outputId": "43630d83-4f55-45c0-c021-83395cec3ebc"
      },
      "execution_count": null,
      "outputs": [
        {
          "output_type": "execute_result",
          "data": {
            "text/html": [
              "\n",
              "  <div id=\"df-7fcfbe2f-090a-4c51-a33d-a20c976eb484\">\n",
              "    <div class=\"colab-df-container\">\n",
              "      <div>\n",
              "<style scoped>\n",
              "    .dataframe tbody tr th:only-of-type {\n",
              "        vertical-align: middle;\n",
              "    }\n",
              "\n",
              "    .dataframe tbody tr th {\n",
              "        vertical-align: top;\n",
              "    }\n",
              "\n",
              "    .dataframe thead th {\n",
              "        text-align: right;\n",
              "    }\n",
              "</style>\n",
              "<table border=\"1\" class=\"dataframe\">\n",
              "  <thead>\n",
              "    <tr style=\"text-align: right;\">\n",
              "      <th></th>\n",
              "      <th>Review</th>\n",
              "      <th>Key_point</th>\n",
              "      <th>Score</th>\n",
              "    </tr>\n",
              "  </thead>\n",
              "  <tbody>\n",
              "    <tr>\n",
              "      <th>0</th>\n",
              "      <td>b\"I've stayed at many Marriott and Renaissance...</td>\n",
              "      <td>It was dirty and very worn</td>\n",
              "      <td>0.992424</td>\n",
              "    </tr>\n",
              "    <tr>\n",
              "      <th>1</th>\n",
              "      <td>b\"Am I crazy for giving anything MBTA-related ...</td>\n",
              "      <td>All new appliances and very clean</td>\n",
              "      <td>0.975637</td>\n",
              "    </tr>\n",
              "    <tr>\n",
              "      <th>2</th>\n",
              "      <td>b\"Am I crazy for giving anything MBTA-related ...</td>\n",
              "      <td>The location is great</td>\n",
              "      <td>0.966825</td>\n",
              "    </tr>\n",
              "    <tr>\n",
              "      <th>3</th>\n",
              "      <td>b\"Am I crazy for giving anything MBTA-related ...</td>\n",
              "      <td>The service was good</td>\n",
              "      <td>0.970725</td>\n",
              "    </tr>\n",
              "    <tr>\n",
              "      <th>4</th>\n",
              "      <td>b\"Am I crazy for giving anything MBTA-related ...</td>\n",
              "      <td>We would definitely stay there again</td>\n",
              "      <td>0.983939</td>\n",
              "    </tr>\n",
              "  </tbody>\n",
              "</table>\n",
              "</div>\n",
              "      <button class=\"colab-df-convert\" onclick=\"convertToInteractive('df-7fcfbe2f-090a-4c51-a33d-a20c976eb484')\"\n",
              "              title=\"Convert this dataframe to an interactive table.\"\n",
              "              style=\"display:none;\">\n",
              "        \n",
              "  <svg xmlns=\"http://www.w3.org/2000/svg\" height=\"24px\"viewBox=\"0 0 24 24\"\n",
              "       width=\"24px\">\n",
              "    <path d=\"M0 0h24v24H0V0z\" fill=\"none\"/>\n",
              "    <path d=\"M18.56 5.44l.94 2.06.94-2.06 2.06-.94-2.06-.94-.94-2.06-.94 2.06-2.06.94zm-11 1L8.5 8.5l.94-2.06 2.06-.94-2.06-.94L8.5 2.5l-.94 2.06-2.06.94zm10 10l.94 2.06.94-2.06 2.06-.94-2.06-.94-.94-2.06-.94 2.06-2.06.94z\"/><path d=\"M17.41 7.96l-1.37-1.37c-.4-.4-.92-.59-1.43-.59-.52 0-1.04.2-1.43.59L10.3 9.45l-7.72 7.72c-.78.78-.78 2.05 0 2.83L4 21.41c.39.39.9.59 1.41.59.51 0 1.02-.2 1.41-.59l7.78-7.78 2.81-2.81c.8-.78.8-2.07 0-2.86zM5.41 20L4 18.59l7.72-7.72 1.47 1.35L5.41 20z\"/>\n",
              "  </svg>\n",
              "      </button>\n",
              "      \n",
              "  <style>\n",
              "    .colab-df-container {\n",
              "      display:flex;\n",
              "      flex-wrap:wrap;\n",
              "      gap: 12px;\n",
              "    }\n",
              "\n",
              "    .colab-df-convert {\n",
              "      background-color: #E8F0FE;\n",
              "      border: none;\n",
              "      border-radius: 50%;\n",
              "      cursor: pointer;\n",
              "      display: none;\n",
              "      fill: #1967D2;\n",
              "      height: 32px;\n",
              "      padding: 0 0 0 0;\n",
              "      width: 32px;\n",
              "    }\n",
              "\n",
              "    .colab-df-convert:hover {\n",
              "      background-color: #E2EBFA;\n",
              "      box-shadow: 0px 1px 2px rgba(60, 64, 67, 0.3), 0px 1px 3px 1px rgba(60, 64, 67, 0.15);\n",
              "      fill: #174EA6;\n",
              "    }\n",
              "\n",
              "    [theme=dark] .colab-df-convert {\n",
              "      background-color: #3B4455;\n",
              "      fill: #D2E3FC;\n",
              "    }\n",
              "\n",
              "    [theme=dark] .colab-df-convert:hover {\n",
              "      background-color: #434B5C;\n",
              "      box-shadow: 0px 1px 3px 1px rgba(0, 0, 0, 0.15);\n",
              "      filter: drop-shadow(0px 1px 2px rgba(0, 0, 0, 0.3));\n",
              "      fill: #FFFFFF;\n",
              "    }\n",
              "  </style>\n",
              "\n",
              "      <script>\n",
              "        const buttonEl =\n",
              "          document.querySelector('#df-7fcfbe2f-090a-4c51-a33d-a20c976eb484 button.colab-df-convert');\n",
              "        buttonEl.style.display =\n",
              "          google.colab.kernel.accessAllowed ? 'block' : 'none';\n",
              "\n",
              "        async function convertToInteractive(key) {\n",
              "          const element = document.querySelector('#df-7fcfbe2f-090a-4c51-a33d-a20c976eb484');\n",
              "          const dataTable =\n",
              "            await google.colab.kernel.invokeFunction('convertToInteractive',\n",
              "                                                     [key], {});\n",
              "          if (!dataTable) return;\n",
              "\n",
              "          const docLinkHtml = 'Like what you see? Visit the ' +\n",
              "            '<a target=\"_blank\" href=https://colab.research.google.com/notebooks/data_table.ipynb>data table notebook</a>'\n",
              "            + ' to learn more about interactive tables.';\n",
              "          element.innerHTML = '';\n",
              "          dataTable['output_type'] = 'display_data';\n",
              "          await google.colab.output.renderOutput(dataTable, element);\n",
              "          const docLink = document.createElement('div');\n",
              "          docLink.innerHTML = docLinkHtml;\n",
              "          element.appendChild(docLink);\n",
              "        }\n",
              "      </script>\n",
              "    </div>\n",
              "  </div>\n",
              "  "
            ],
            "text/plain": [
              "                                              Review  ...     Score\n",
              "0  b\"I've stayed at many Marriott and Renaissance...  ...  0.992424\n",
              "1  b\"Am I crazy for giving anything MBTA-related ...  ...  0.975637\n",
              "2  b\"Am I crazy for giving anything MBTA-related ...  ...  0.966825\n",
              "3  b\"Am I crazy for giving anything MBTA-related ...  ...  0.970725\n",
              "4  b\"Am I crazy for giving anything MBTA-related ...  ...  0.983939\n",
              "\n",
              "[5 rows x 3 columns]"
            ]
          },
          "metadata": {},
          "execution_count": 59
        }
      ]
    },
    {
      "cell_type": "code",
      "source": [
        "matched_df.groupby('Review').size().to_numpy().mean"
      ],
      "metadata": {
        "colab": {
          "base_uri": "https://localhost:8080/"
        },
        "id": "2vUsr2ldZE8w",
        "outputId": "5b11f46d-84f1-4111-ce02-779b209a41fe"
      },
      "execution_count": null,
      "outputs": [
        {
          "output_type": "execute_result",
          "data": {
            "text/plain": [
              "array([37,  1,  8,  8,  2,  3,  1,  2,  1,  1,  2,  1,  1,  1,  1,  3,  1,\n",
              "       60,  1,  1, 46,  1,  1,  1,  5,  1, 52, 31,  3,  2,  2,  1,  2,  1,\n",
              "        1,  1,  1,  1,  1,  1,  1,  6,  9,  1,  1,  1,  6,  1,  1,  1])"
            ]
          },
          "metadata": {},
          "execution_count": 60
        }
      ]
    },
    {
      "cell_type": "code",
      "source": [
        "np.mean(matched_df.groupby('Review').size().to_numpy())"
      ],
      "metadata": {
        "colab": {
          "base_uri": "https://localhost:8080/"
        },
        "id": "cobSU9ZcaLM_",
        "outputId": "b47ba159-81dd-476a-c236-2802f1a76032"
      },
      "execution_count": null,
      "outputs": [
        {
          "output_type": "execute_result",
          "data": {
            "text/plain": [
              "6.38"
            ]
          },
          "metadata": {},
          "execution_count": 61
        }
      ]
    },
    {
      "cell_type": "code",
      "source": [
        "arr = np.array([18.6,16.3,14.5,13.7,12.85,10.76,10.43,10.12,9.4,8.4])\n",
        "arr1 = np.array([14.62,14.38,12.98,11.54,11.46,11.17,10.75,9.54,8.92,8.83])"
      ],
      "metadata": {
        "id": "G9_fhkoCrZ9s"
      },
      "execution_count": null,
      "outputs": []
    },
    {
      "cell_type": "code",
      "source": [
        "import matplotlib.pyplot as plt\n",
        "\n",
        "fig, ax = plt.subplots()\n",
        "plt.plot(y,arr,'b',label='Key point coverage - Pegasys')\n",
        "plt.plot(y,arr1,'r',label='Key point coverage - Rule-based')\n",
        "plt.xlabel(\"key_point\")\n",
        "\n",
        "ax.set_xticks(y)\n",
        "plt.ylabel(\"Coverage in percentage\")\n",
        "plt.legend()\n",
        "plt.title(\"Positive Key point Coverage for Restaurants\")"
      ],
      "metadata": {
        "colab": {
          "base_uri": "https://localhost:8080/",
          "height": 313
        },
        "id": "jXHXSccXro1o",
        "outputId": "0d3bc803-3324-491b-a736-d96f909a100b"
      },
      "execution_count": null,
      "outputs": [
        {
          "output_type": "execute_result",
          "data": {
            "text/plain": [
              "Text(0.5, 1.0, 'Positive Key point Coverage for Restaurants')"
            ]
          },
          "metadata": {},
          "execution_count": 72
        },
        {
          "output_type": "display_data",
          "data": {
            "image/png": "[encoded data removed]",
            "text/plain": [
              "<Figure size 432x288 with 1 Axes>"
            ]
          },
          "metadata": {
            "needs_background": "light"
          }
        }
      ]
    },
    {
      "cell_type": "code",
      "source": [
        "arr = np.array([16.5,16.35,14.74,12.7,11.67,10.5,9.73,8.5,7.5,6.9])\n",
        "arr1 = np.array([18.4,15.5,15.13,14.89,14.53,13.31,12.5,9.3,9,6])"
      ],
      "metadata": {
        "id": "x-C6l2A_r01X"
      },
      "execution_count": null,
      "outputs": []
    },
    {
      "cell_type": "code",
      "source": [
        "import matplotlib.pyplot as plt\n",
        "\n",
        "fig, ax = plt.subplots()\n",
        "plt.plot(y,arr,'b',label='Key point coverage - Pegasys')\n",
        "plt.plot(y,arr1,'r',label='Key point coverage - Rule-based')\n",
        "plt.xlabel(\"key_point\")\n",
        "\n",
        "ax.set_xticks(y)\n",
        "plt.ylabel(\"Coverage in percentage\")\n",
        "plt.legend()\n",
        "plt.title(\"Negative Key point Coverage for Restaurants\")"
      ],
      "metadata": {
        "colab": {
          "base_uri": "https://localhost:8080/",
          "height": 313
        },
        "id": "4xisjqT3ski-",
        "outputId": "15098169-c14c-4514-9f89-2848e5f6a760"
      },
      "execution_count": null,
      "outputs": [
        {
          "output_type": "execute_result",
          "data": {
            "text/plain": [
              "Text(0.5, 1.0, 'Negative Key point Coverage for Restaurants')"
            ]
          },
          "metadata": {},
          "execution_count": 74
        },
        {
          "output_type": "display_data",
          "data": {
            "image/png": "[encoded data removed]",
            "text/plain": [
              "<Figure size 432x288 with 1 Axes>"
            ]
          },
          "metadata": {
            "needs_background": "light"
          }
        }
      ]
    }
  ]
}
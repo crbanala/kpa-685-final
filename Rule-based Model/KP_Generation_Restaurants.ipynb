{
  "nbformat": 4,
  "nbformat_minor": 0,
  "metadata": {
    "colab": {
      "name": "KP_Generation_Restaurants.ipynb",
      "provenance": [],
      "collapsed_sections": [],
      "machine_shape": "hm"
    },
    "kernelspec": {
      "display_name": "Python 3",
      "name": "python3"
    },
    "language_info": {
      "name": "python"
    },
    "accelerator": "GPU",
    "widgets": {
      "application/vnd.jupyter.widget-state+json": {
        "e64b16f3383c45018a10e3f7e6cff09a": {
          "model_module": "@jupyter-widgets/controls",
          "model_name": "HBoxModel",
          "model_module_version": "1.5.0",
          "state": {
            "_view_name": "HBoxView",
            "_dom_classes": [],
            "_model_name": "HBoxModel",
            "_view_module": "@jupyter-widgets/controls",
            "_model_module_version": "1.5.0",
            "_view_count": null,
            "_view_module_version": "1.5.0",
            "box_style": "",
            "layout": "IPY_MODEL_525377a34929420bb12c774d924dcfe2",
            "_model_module": "@jupyter-widgets/controls",
            "children": [
              "IPY_MODEL_ce90c8a68a004b14bcf3bd72e7f66cd7",
              "IPY_MODEL_a03c3c70ba6045749a8beebd7ea2ae7e",
              "IPY_MODEL_901c551f1fc148a3b1383929af0fa54f"
            ]
          }
        },
        "525377a34929420bb12c774d924dcfe2": {
          "model_module": "@jupyter-widgets/base",
          "model_name": "LayoutModel",
          "model_module_version": "1.2.0",
          "state": {
            "_view_name": "LayoutView",
            "grid_template_rows": null,
            "right": null,
            "justify_content": null,
            "_view_module": "@jupyter-widgets/base",
            "overflow": null,
            "_model_module_version": "1.2.0",
            "_view_count": null,
            "flex_flow": null,
            "width": null,
            "min_width": null,
            "border": null,
            "align_items": null,
            "bottom": null,
            "_model_module": "@jupyter-widgets/base",
            "top": null,
            "grid_column": null,
            "overflow_y": null,
            "overflow_x": null,
            "grid_auto_flow": null,
            "grid_area": null,
            "grid_template_columns": null,
            "flex": null,
            "_model_name": "LayoutModel",
            "justify_items": null,
            "grid_row": null,
            "max_height": null,
            "align_content": null,
            "visibility": null,
            "align_self": null,
            "height": null,
            "min_height": null,
            "padding": null,
            "grid_auto_rows": null,
            "grid_gap": null,
            "max_width": null,
            "order": null,
            "_view_module_version": "1.2.0",
            "grid_template_areas": null,
            "object_position": null,
            "object_fit": null,
            "grid_auto_columns": null,
            "margin": null,
            "display": null,
            "left": null
          }
        },
        "ce90c8a68a004b14bcf3bd72e7f66cd7": {
          "model_module": "@jupyter-widgets/controls",
          "model_name": "HTMLModel",
          "model_module_version": "1.5.0",
          "state": {
            "_view_name": "HTMLView",
            "style": "IPY_MODEL_b92752f1af4b47d5b7b34894f78c9f2c",
            "_dom_classes": [],
            "description": "",
            "_model_name": "HTMLModel",
            "placeholder": "​",
            "_view_module": "@jupyter-widgets/controls",
            "_model_module_version": "1.5.0",
            "value": "Downloading: 100%",
            "_view_count": null,
            "_view_module_version": "1.5.0",
            "description_tooltip": null,
            "_model_module": "@jupyter-widgets/controls",
            "layout": "IPY_MODEL_8628e5dafb0f4bffa9956197d651b652"
          }
        },
        "a03c3c70ba6045749a8beebd7ea2ae7e": {
          "model_module": "@jupyter-widgets/controls",
          "model_name": "FloatProgressModel",
          "model_module_version": "1.5.0",
          "state": {
            "_view_name": "ProgressView",
            "style": "IPY_MODEL_b90574ee47ac4703b140826ab7aeb95a",
            "_dom_classes": [],
            "description": "",
            "_model_name": "FloatProgressModel",
            "bar_style": "success",
            "max": 482,
            "_view_module": "@jupyter-widgets/controls",
            "_model_module_version": "1.5.0",
            "value": 482,
            "_view_count": null,
            "_view_module_version": "1.5.0",
            "orientation": "horizontal",
            "min": 0,
            "description_tooltip": null,
            "_model_module": "@jupyter-widgets/controls",
            "layout": "IPY_MODEL_3efb64a76790434daadaa961a7847b8d"
          }
        },
        "901c551f1fc148a3b1383929af0fa54f": {
          "model_module": "@jupyter-widgets/controls",
          "model_name": "HTMLModel",
          "model_module_version": "1.5.0",
          "state": {
            "_view_name": "HTMLView",
            "style": "IPY_MODEL_2dee97fbb7c24aafb5d2b8bb4fc62e86",
            "_dom_classes": [],
            "description": "",
            "_model_name": "HTMLModel",
            "placeholder": "​",
            "_view_module": "@jupyter-widgets/controls",
            "_model_module_version": "1.5.0",
            "value": " 482/482 [00:00&lt;00:00, 19.1kB/s]",
            "_view_count": null,
            "_view_module_version": "1.5.0",
            "description_tooltip": null,
            "_model_module": "@jupyter-widgets/controls",
            "layout": "IPY_MODEL_ee57800c81924f23b984058aebd7b2bc"
          }
        },
        "b92752f1af4b47d5b7b34894f78c9f2c": {
          "model_module": "@jupyter-widgets/controls",
          "model_name": "DescriptionStyleModel",
          "model_module_version": "1.5.0",
          "state": {
            "_view_name": "StyleView",
            "_model_name": "DescriptionStyleModel",
            "description_width": "",
            "_view_module": "@jupyter-widgets/base",
            "_model_module_version": "1.5.0",
            "_view_count": null,
            "_view_module_version": "1.2.0",
            "_model_module": "@jupyter-widgets/controls"
          }
        },
        "8628e5dafb0f4bffa9956197d651b652": {
          "model_module": "@jupyter-widgets/base",
          "model_name": "LayoutModel",
          "model_module_version": "1.2.0",
          "state": {
            "_view_name": "LayoutView",
            "grid_template_rows": null,
            "right": null,
            "justify_content": null,
            "_view_module": "@jupyter-widgets/base",
            "overflow": null,
            "_model_module_version": "1.2.0",
            "_view_count": null,
            "flex_flow": null,
            "width": null,
            "min_width": null,
            "border": null,
            "align_items": null,
            "bottom": null,
            "_model_module": "@jupyter-widgets/base",
            "top": null,
            "grid_column": null,
            "overflow_y": null,
            "overflow_x": null,
            "grid_auto_flow": null,
            "grid_area": null,
            "grid_template_columns": null,
            "flex": null,
            "_model_name": "LayoutModel",
            "justify_items": null,
            "grid_row": null,
            "max_height": null,
            "align_content": null,
            "visibility": null,
            "align_self": null,
            "height": null,
            "min_height": null,
            "padding": null,
            "grid_auto_rows": null,
            "grid_gap": null,
            "max_width": null,
            "order": null,
            "_view_module_version": "1.2.0",
            "grid_template_areas": null,
            "object_position": null,
            "object_fit": null,
            "grid_auto_columns": null,
            "margin": null,
            "display": null,
            "left": null
          }
        },
        "b90574ee47ac4703b140826ab7aeb95a": {
          "model_module": "@jupyter-widgets/controls",
          "model_name": "ProgressStyleModel",
          "model_module_version": "1.5.0",
          "state": {
            "_view_name": "StyleView",
            "_model_name": "ProgressStyleModel",
            "description_width": "",
            "_view_module": "@jupyter-widgets/base",
            "_model_module_version": "1.5.0",
            "_view_count": null,
            "_view_module_version": "1.2.0",
            "bar_color": null,
            "_model_module": "@jupyter-widgets/controls"
          }
        },
        "3efb64a76790434daadaa961a7847b8d": {
          "model_module": "@jupyter-widgets/base",
          "model_name": "LayoutModel",
          "model_module_version": "1.2.0",
          "state": {
            "_view_name": "LayoutView",
            "grid_template_rows": null,
            "right": null,
            "justify_content": null,
            "_view_module": "@jupyter-widgets/base",
            "overflow": null,
            "_model_module_version": "1.2.0",
            "_view_count": null,
            "flex_flow": null,
            "width": null,
            "min_width": null,
            "border": null,
            "align_items": null,
            "bottom": null,
            "_model_module": "@jupyter-widgets/base",
            "top": null,
            "grid_column": null,
            "overflow_y": null,
            "overflow_x": null,
            "grid_auto_flow": null,
            "grid_area": null,
            "grid_template_columns": null,
            "flex": null,
            "_model_name": "LayoutModel",
            "justify_items": null,
            "grid_row": null,
            "max_height": null,
            "align_content": null,
            "visibility": null,
            "align_self": null,
            "height": null,
            "min_height": null,
            "padding": null,
            "grid_auto_rows": null,
            "grid_gap": null,
            "max_width": null,
            "order": null,
            "_view_module_version": "1.2.0",
            "grid_template_areas": null,
            "object_position": null,
            "object_fit": null,
            "grid_auto_columns": null,
            "margin": null,
            "display": null,
            "left": null
          }
        },
        "2dee97fbb7c24aafb5d2b8bb4fc62e86": {
          "model_module": "@jupyter-widgets/controls",
          "model_name": "DescriptionStyleModel",
          "model_module_version": "1.5.0",
          "state": {
            "_view_name": "StyleView",
            "_model_name": "DescriptionStyleModel",
            "description_width": "",
            "_view_module": "@jupyter-widgets/base",
            "_model_module_version": "1.5.0",
            "_view_count": null,
            "_view_module_version": "1.2.0",
            "_model_module": "@jupyter-widgets/controls"
          }
        },
        "ee57800c81924f23b984058aebd7b2bc": {
          "model_module": "@jupyter-widgets/base",
          "model_name": "LayoutModel",
          "model_module_version": "1.2.0",
          "state": {
            "_view_name": "LayoutView",
            "grid_template_rows": null,
            "right": null,
            "justify_content": null,
            "_view_module": "@jupyter-widgets/base",
            "overflow": null,
            "_model_module_version": "1.2.0",
            "_view_count": null,
            "flex_flow": null,
            "width": null,
            "min_width": null,
            "border": null,
            "align_items": null,
            "bottom": null,
            "_model_module": "@jupyter-widgets/base",
            "top": null,
            "grid_column": null,
            "overflow_y": null,
            "overflow_x": null,
            "grid_auto_flow": null,
            "grid_area": null,
            "grid_template_columns": null,
            "flex": null,
            "_model_name": "LayoutModel",
            "justify_items": null,
            "grid_row": null,
            "max_height": null,
            "align_content": null,
            "visibility": null,
            "align_self": null,
            "height": null,
            "min_height": null,
            "padding": null,
            "grid_auto_rows": null,
            "grid_gap": null,
            "max_width": null,
            "order": null,
            "_view_module_version": "1.2.0",
            "grid_template_areas": null,
            "object_position": null,
            "object_fit": null,
            "grid_auto_columns": null,
            "margin": null,
            "display": null,
            "left": null
          }
        },
        "3c2bccfb0dfd4594b609c4130248818a": {
          "model_module": "@jupyter-widgets/controls",
          "model_name": "HBoxModel",
          "model_module_version": "1.5.0",
          "state": {
            "_view_name": "HBoxView",
            "_dom_classes": [],
            "_model_name": "HBoxModel",
            "_view_module": "@jupyter-widgets/controls",
            "_model_module_version": "1.5.0",
            "_view_count": null,
            "_view_module_version": "1.5.0",
            "box_style": "",
            "layout": "IPY_MODEL_ce12a57f31ce49e7bd8d1877c1c8ac55",
            "_model_module": "@jupyter-widgets/controls",
            "children": [
              "IPY_MODEL_129a31c21aaa4502b821eaa3374291dd",
              "IPY_MODEL_0e96b387f9474ed0b468e72e0041afb9",
              "IPY_MODEL_734438d8c6e4423caf9df6d85d2e625a"
            ]
          }
        },
        "ce12a57f31ce49e7bd8d1877c1c8ac55": {
          "model_module": "@jupyter-widgets/base",
          "model_name": "LayoutModel",
          "model_module_version": "1.2.0",
          "state": {
            "_view_name": "LayoutView",
            "grid_template_rows": null,
            "right": null,
            "justify_content": null,
            "_view_module": "@jupyter-widgets/base",
            "overflow": null,
            "_model_module_version": "1.2.0",
            "_view_count": null,
            "flex_flow": null,
            "width": null,
            "min_width": null,
            "border": null,
            "align_items": null,
            "bottom": null,
            "_model_module": "@jupyter-widgets/base",
            "top": null,
            "grid_column": null,
            "overflow_y": null,
            "overflow_x": null,
            "grid_auto_flow": null,
            "grid_area": null,
            "grid_template_columns": null,
            "flex": null,
            "_model_name": "LayoutModel",
            "justify_items": null,
            "grid_row": null,
            "max_height": null,
            "align_content": null,
            "visibility": null,
            "align_self": null,
            "height": null,
            "min_height": null,
            "padding": null,
            "grid_auto_rows": null,
            "grid_gap": null,
            "max_width": null,
            "order": null,
            "_view_module_version": "1.2.0",
            "grid_template_areas": null,
            "object_position": null,
            "object_fit": null,
            "grid_auto_columns": null,
            "margin": null,
            "display": null,
            "left": null
          }
        },
        "129a31c21aaa4502b821eaa3374291dd": {
          "model_module": "@jupyter-widgets/controls",
          "model_name": "HTMLModel",
          "model_module_version": "1.5.0",
          "state": {
            "_view_name": "HTMLView",
            "style": "IPY_MODEL_b15f9c6f10f447ce9ef29621248fc6bb",
            "_dom_classes": [],
            "description": "",
            "_model_name": "HTMLModel",
            "placeholder": "​",
            "_view_module": "@jupyter-widgets/controls",
            "_model_module_version": "1.5.0",
            "value": "Downloading: 100%",
            "_view_count": null,
            "_view_module_version": "1.5.0",
            "description_tooltip": null,
            "_model_module": "@jupyter-widgets/controls",
            "layout": "IPY_MODEL_6d1aa86e819c4d3cb715795a832b88f6"
          }
        },
        "0e96b387f9474ed0b468e72e0041afb9": {
          "model_module": "@jupyter-widgets/controls",
          "model_name": "FloatProgressModel",
          "model_module_version": "1.5.0",
          "state": {
            "_view_name": "ProgressView",
            "style": "IPY_MODEL_2c965fa91a944e799e62bc70bf12e9a0",
            "_dom_classes": [],
            "description": "",
            "_model_name": "FloatProgressModel",
            "bar_style": "success",
            "max": 898823,
            "_view_module": "@jupyter-widgets/controls",
            "_model_module_version": "1.5.0",
            "value": 898823,
            "_view_count": null,
            "_view_module_version": "1.5.0",
            "orientation": "horizontal",
            "min": 0,
            "description_tooltip": null,
            "_model_module": "@jupyter-widgets/controls",
            "layout": "IPY_MODEL_0964aca919ea4ea8b254d3bfa4084b02"
          }
        },
        "734438d8c6e4423caf9df6d85d2e625a": {
          "model_module": "@jupyter-widgets/controls",
          "model_name": "HTMLModel",
          "model_module_version": "1.5.0",
          "state": {
            "_view_name": "HTMLView",
            "style": "IPY_MODEL_638121c285b44c729f39e80fefbcf455",
            "_dom_classes": [],
            "description": "",
            "_model_name": "HTMLModel",
            "placeholder": "​",
            "_view_module": "@jupyter-widgets/controls",
            "_model_module_version": "1.5.0",
            "value": " 878k/878k [00:00&lt;00:00, 2.68MB/s]",
            "_view_count": null,
            "_view_module_version": "1.5.0",
            "description_tooltip": null,
            "_model_module": "@jupyter-widgets/controls",
            "layout": "IPY_MODEL_b7a0b0288fa64d9186b6183030e7d252"
          }
        },
        "b15f9c6f10f447ce9ef29621248fc6bb": {
          "model_module": "@jupyter-widgets/controls",
          "model_name": "DescriptionStyleModel",
          "model_module_version": "1.5.0",
          "state": {
            "_view_name": "StyleView",
            "_model_name": "DescriptionStyleModel",
            "description_width": "",
            "_view_module": "@jupyter-widgets/base",
            "_model_module_version": "1.5.0",
            "_view_count": null,
            "_view_module_version": "1.2.0",
            "_model_module": "@jupyter-widgets/controls"
          }
        },
        "6d1aa86e819c4d3cb715795a832b88f6": {
          "model_module": "@jupyter-widgets/base",
          "model_name": "LayoutModel",
          "model_module_version": "1.2.0",
          "state": {
            "_view_name": "LayoutView",
            "grid_template_rows": null,
            "right": null,
            "justify_content": null,
            "_view_module": "@jupyter-widgets/base",
            "overflow": null,
            "_model_module_version": "1.2.0",
            "_view_count": null,
            "flex_flow": null,
            "width": null,
            "min_width": null,
            "border": null,
            "align_items": null,
            "bottom": null,
            "_model_module": "@jupyter-widgets/base",
            "top": null,
            "grid_column": null,
            "overflow_y": null,
            "overflow_x": null,
            "grid_auto_flow": null,
            "grid_area": null,
            "grid_template_columns": null,
            "flex": null,
            "_model_name": "LayoutModel",
            "justify_items": null,
            "grid_row": null,
            "max_height": null,
            "align_content": null,
            "visibility": null,
            "align_self": null,
            "height": null,
            "min_height": null,
            "padding": null,
            "grid_auto_rows": null,
            "grid_gap": null,
            "max_width": null,
            "order": null,
            "_view_module_version": "1.2.0",
            "grid_template_areas": null,
            "object_position": null,
            "object_fit": null,
            "grid_auto_columns": null,
            "margin": null,
            "display": null,
            "left": null
          }
        },
        "2c965fa91a944e799e62bc70bf12e9a0": {
          "model_module": "@jupyter-widgets/controls",
          "model_name": "ProgressStyleModel",
          "model_module_version": "1.5.0",
          "state": {
            "_view_name": "StyleView",
            "_model_name": "ProgressStyleModel",
            "description_width": "",
            "_view_module": "@jupyter-widgets/base",
            "_model_module_version": "1.5.0",
            "_view_count": null,
            "_view_module_version": "1.2.0",
            "bar_color": null,
            "_model_module": "@jupyter-widgets/controls"
          }
        },
        "0964aca919ea4ea8b254d3bfa4084b02": {
          "model_module": "@jupyter-widgets/base",
          "model_name": "LayoutModel",
          "model_module_version": "1.2.0",
          "state": {
            "_view_name": "LayoutView",
            "grid_template_rows": null,
            "right": null,
            "justify_content": null,
            "_view_module": "@jupyter-widgets/base",
            "overflow": null,
            "_model_module_version": "1.2.0",
            "_view_count": null,
            "flex_flow": null,
            "width": null,
            "min_width": null,
            "border": null,
            "align_items": null,
            "bottom": null,
            "_model_module": "@jupyter-widgets/base",
            "top": null,
            "grid_column": null,
            "overflow_y": null,
            "overflow_x": null,
            "grid_auto_flow": null,
            "grid_area": null,
            "grid_template_columns": null,
            "flex": null,
            "_model_name": "LayoutModel",
            "justify_items": null,
            "grid_row": null,
            "max_height": null,
            "align_content": null,
            "visibility": null,
            "align_self": null,
            "height": null,
            "min_height": null,
            "padding": null,
            "grid_auto_rows": null,
            "grid_gap": null,
            "max_width": null,
            "order": null,
            "_view_module_version": "1.2.0",
            "grid_template_areas": null,
            "object_position": null,
            "object_fit": null,
            "grid_auto_columns": null,
            "margin": null,
            "display": null,
            "left": null
          }
        },
        "638121c285b44c729f39e80fefbcf455": {
          "model_module": "@jupyter-widgets/controls",
          "model_name": "DescriptionStyleModel",
          "model_module_version": "1.5.0",
          "state": {
            "_view_name": "StyleView",
            "_model_name": "DescriptionStyleModel",
            "description_width": "",
            "_view_module": "@jupyter-widgets/base",
            "_model_module_version": "1.5.0",
            "_view_count": null,
            "_view_module_version": "1.2.0",
            "_model_module": "@jupyter-widgets/controls"
          }
        },
        "b7a0b0288fa64d9186b6183030e7d252": {
          "model_module": "@jupyter-widgets/base",
          "model_name": "LayoutModel",
          "model_module_version": "1.2.0",
          "state": {
            "_view_name": "LayoutView",
            "grid_template_rows": null,
            "right": null,
            "justify_content": null,
            "_view_module": "@jupyter-widgets/base",
            "overflow": null,
            "_model_module_version": "1.2.0",
            "_view_count": null,
            "flex_flow": null,
            "width": null,
            "min_width": null,
            "border": null,
            "align_items": null,
            "bottom": null,
            "_model_module": "@jupyter-widgets/base",
            "top": null,
            "grid_column": null,
            "overflow_y": null,
            "overflow_x": null,
            "grid_auto_flow": null,
            "grid_area": null,
            "grid_template_columns": null,
            "flex": null,
            "_model_name": "LayoutModel",
            "justify_items": null,
            "grid_row": null,
            "max_height": null,
            "align_content": null,
            "visibility": null,
            "align_self": null,
            "height": null,
            "min_height": null,
            "padding": null,
            "grid_auto_rows": null,
            "grid_gap": null,
            "max_width": null,
            "order": null,
            "_view_module_version": "1.2.0",
            "grid_template_areas": null,
            "object_position": null,
            "object_fit": null,
            "grid_auto_columns": null,
            "margin": null,
            "display": null,
            "left": null
          }
        },
        "e9f3cec875114c68b300aae82aacf0d6": {
          "model_module": "@jupyter-widgets/controls",
          "model_name": "HBoxModel",
          "model_module_version": "1.5.0",
          "state": {
            "_view_name": "HBoxView",
            "_dom_classes": [],
            "_model_name": "HBoxModel",
            "_view_module": "@jupyter-widgets/controls",
            "_model_module_version": "1.5.0",
            "_view_count": null,
            "_view_module_version": "1.5.0",
            "box_style": "",
            "layout": "IPY_MODEL_5072be3f7385496f83d5c1f611182b88",
            "_model_module": "@jupyter-widgets/controls",
            "children": [
              "IPY_MODEL_69c63b7946ab44d2a242f795053ec59e",
              "IPY_MODEL_a96adcf6467e4aed82efe922a8eab622",
              "IPY_MODEL_32be6acb48964e049e925c5730fa2545"
            ]
          }
        },
        "5072be3f7385496f83d5c1f611182b88": {
          "model_module": "@jupyter-widgets/base",
          "model_name": "LayoutModel",
          "model_module_version": "1.2.0",
          "state": {
            "_view_name": "LayoutView",
            "grid_template_rows": null,
            "right": null,
            "justify_content": null,
            "_view_module": "@jupyter-widgets/base",
            "overflow": null,
            "_model_module_version": "1.2.0",
            "_view_count": null,
            "flex_flow": null,
            "width": null,
            "min_width": null,
            "border": null,
            "align_items": null,
            "bottom": null,
            "_model_module": "@jupyter-widgets/base",
            "top": null,
            "grid_column": null,
            "overflow_y": null,
            "overflow_x": null,
            "grid_auto_flow": null,
            "grid_area": null,
            "grid_template_columns": null,
            "flex": null,
            "_model_name": "LayoutModel",
            "justify_items": null,
            "grid_row": null,
            "max_height": null,
            "align_content": null,
            "visibility": null,
            "align_self": null,
            "height": null,
            "min_height": null,
            "padding": null,
            "grid_auto_rows": null,
            "grid_gap": null,
            "max_width": null,
            "order": null,
            "_view_module_version": "1.2.0",
            "grid_template_areas": null,
            "object_position": null,
            "object_fit": null,
            "grid_auto_columns": null,
            "margin": null,
            "display": null,
            "left": null
          }
        },
        "69c63b7946ab44d2a242f795053ec59e": {
          "model_module": "@jupyter-widgets/controls",
          "model_name": "HTMLModel",
          "model_module_version": "1.5.0",
          "state": {
            "_view_name": "HTMLView",
            "style": "IPY_MODEL_e4a86db2f4344c69a10016d5a3f5def5",
            "_dom_classes": [],
            "description": "",
            "_model_name": "HTMLModel",
            "placeholder": "​",
            "_view_module": "@jupyter-widgets/controls",
            "_model_module_version": "1.5.0",
            "value": "Downloading: 100%",
            "_view_count": null,
            "_view_module_version": "1.5.0",
            "description_tooltip": null,
            "_model_module": "@jupyter-widgets/controls",
            "layout": "IPY_MODEL_831dc86c54e24952b0c312d67f5d6d15"
          }
        },
        "a96adcf6467e4aed82efe922a8eab622": {
          "model_module": "@jupyter-widgets/controls",
          "model_name": "FloatProgressModel",
          "model_module_version": "1.5.0",
          "state": {
            "_view_name": "ProgressView",
            "style": "IPY_MODEL_15a491e5d57042d4a01e49bbbd7f7e31",
            "_dom_classes": [],
            "description": "",
            "_model_name": "FloatProgressModel",
            "bar_style": "success",
            "max": 456318,
            "_view_module": "@jupyter-widgets/controls",
            "_model_module_version": "1.5.0",
            "value": 456318,
            "_view_count": null,
            "_view_module_version": "1.5.0",
            "orientation": "horizontal",
            "min": 0,
            "description_tooltip": null,
            "_model_module": "@jupyter-widgets/controls",
            "layout": "IPY_MODEL_4596472a261041289e740be2c54ab706"
          }
        },
        "32be6acb48964e049e925c5730fa2545": {
          "model_module": "@jupyter-widgets/controls",
          "model_name": "HTMLModel",
          "model_module_version": "1.5.0",
          "state": {
            "_view_name": "HTMLView",
            "style": "IPY_MODEL_6b02608d16c7435485bc678cee57f40a",
            "_dom_classes": [],
            "description": "",
            "_model_name": "HTMLModel",
            "placeholder": "​",
            "_view_module": "@jupyter-widgets/controls",
            "_model_module_version": "1.5.0",
            "value": " 446k/446k [00:00&lt;00:00, 1.19MB/s]",
            "_view_count": null,
            "_view_module_version": "1.5.0",
            "description_tooltip": null,
            "_model_module": "@jupyter-widgets/controls",
            "layout": "IPY_MODEL_02166f5064fa415c96368968c321278b"
          }
        },
        "e4a86db2f4344c69a10016d5a3f5def5": {
          "model_module": "@jupyter-widgets/controls",
          "model_name": "DescriptionStyleModel",
          "model_module_version": "1.5.0",
          "state": {
            "_view_name": "StyleView",
            "_model_name": "DescriptionStyleModel",
            "description_width": "",
            "_view_module": "@jupyter-widgets/base",
            "_model_module_version": "1.5.0",
            "_view_count": null,
            "_view_module_version": "1.2.0",
            "_model_module": "@jupyter-widgets/controls"
          }
        },
        "831dc86c54e24952b0c312d67f5d6d15": {
          "model_module": "@jupyter-widgets/base",
          "model_name": "LayoutModel",
          "model_module_version": "1.2.0",
          "state": {
            "_view_name": "LayoutView",
            "grid_template_rows": null,
            "right": null,
            "justify_content": null,
            "_view_module": "@jupyter-widgets/base",
            "overflow": null,
            "_model_module_version": "1.2.0",
            "_view_count": null,
            "flex_flow": null,
            "width": null,
            "min_width": null,
            "border": null,
            "align_items": null,
            "bottom": null,
            "_model_module": "@jupyter-widgets/base",
            "top": null,
            "grid_column": null,
            "overflow_y": null,
            "overflow_x": null,
            "grid_auto_flow": null,
            "grid_area": null,
            "grid_template_columns": null,
            "flex": null,
            "_model_name": "LayoutModel",
            "justify_items": null,
            "grid_row": null,
            "max_height": null,
            "align_content": null,
            "visibility": null,
            "align_self": null,
            "height": null,
            "min_height": null,
            "padding": null,
            "grid_auto_rows": null,
            "grid_gap": null,
            "max_width": null,
            "order": null,
            "_view_module_version": "1.2.0",
            "grid_template_areas": null,
            "object_position": null,
            "object_fit": null,
            "grid_auto_columns": null,
            "margin": null,
            "display": null,
            "left": null
          }
        },
        "15a491e5d57042d4a01e49bbbd7f7e31": {
          "model_module": "@jupyter-widgets/controls",
          "model_name": "ProgressStyleModel",
          "model_module_version": "1.5.0",
          "state": {
            "_view_name": "StyleView",
            "_model_name": "ProgressStyleModel",
            "description_width": "",
            "_view_module": "@jupyter-widgets/base",
            "_model_module_version": "1.5.0",
            "_view_count": null,
            "_view_module_version": "1.2.0",
            "bar_color": null,
            "_model_module": "@jupyter-widgets/controls"
          }
        },
        "4596472a261041289e740be2c54ab706": {
          "model_module": "@jupyter-widgets/base",
          "model_name": "LayoutModel",
          "model_module_version": "1.2.0",
          "state": {
            "_view_name": "LayoutView",
            "grid_template_rows": null,
            "right": null,
            "justify_content": null,
            "_view_module": "@jupyter-widgets/base",
            "overflow": null,
            "_model_module_version": "1.2.0",
            "_view_count": null,
            "flex_flow": null,
            "width": null,
            "min_width": null,
            "border": null,
            "align_items": null,
            "bottom": null,
            "_model_module": "@jupyter-widgets/base",
            "top": null,
            "grid_column": null,
            "overflow_y": null,
            "overflow_x": null,
            "grid_auto_flow": null,
            "grid_area": null,
            "grid_template_columns": null,
            "flex": null,
            "_model_name": "LayoutModel",
            "justify_items": null,
            "grid_row": null,
            "max_height": null,
            "align_content": null,
            "visibility": null,
            "align_self": null,
            "height": null,
            "min_height": null,
            "padding": null,
            "grid_auto_rows": null,
            "grid_gap": null,
            "max_width": null,
            "order": null,
            "_view_module_version": "1.2.0",
            "grid_template_areas": null,
            "object_position": null,
            "object_fit": null,
            "grid_auto_columns": null,
            "margin": null,
            "display": null,
            "left": null
          }
        },
        "6b02608d16c7435485bc678cee57f40a": {
          "model_module": "@jupyter-widgets/controls",
          "model_name": "DescriptionStyleModel",
          "model_module_version": "1.5.0",
          "state": {
            "_view_name": "StyleView",
            "_model_name": "DescriptionStyleModel",
            "description_width": "",
            "_view_module": "@jupyter-widgets/base",
            "_model_module_version": "1.5.0",
            "_view_count": null,
            "_view_module_version": "1.2.0",
            "_model_module": "@jupyter-widgets/controls"
          }
        },
        "02166f5064fa415c96368968c321278b": {
          "model_module": "@jupyter-widgets/base",
          "model_name": "LayoutModel",
          "model_module_version": "1.2.0",
          "state": {
            "_view_name": "LayoutView",
            "grid_template_rows": null,
            "right": null,
            "justify_content": null,
            "_view_module": "@jupyter-widgets/base",
            "overflow": null,
            "_model_module_version": "1.2.0",
            "_view_count": null,
            "flex_flow": null,
            "width": null,
            "min_width": null,
            "border": null,
            "align_items": null,
            "bottom": null,
            "_model_module": "@jupyter-widgets/base",
            "top": null,
            "grid_column": null,
            "overflow_y": null,
            "overflow_x": null,
            "grid_auto_flow": null,
            "grid_area": null,
            "grid_template_columns": null,
            "flex": null,
            "_model_name": "LayoutModel",
            "justify_items": null,
            "grid_row": null,
            "max_height": null,
            "align_content": null,
            "visibility": null,
            "align_self": null,
            "height": null,
            "min_height": null,
            "padding": null,
            "grid_auto_rows": null,
            "grid_gap": null,
            "max_width": null,
            "order": null,
            "_view_module_version": "1.2.0",
            "grid_template_areas": null,
            "object_position": null,
            "object_fit": null,
            "grid_auto_columns": null,
            "margin": null,
            "display": null,
            "left": null
          }
        },
        "58443c42228f49d9b375fd5d9709796d": {
          "model_module": "@jupyter-widgets/controls",
          "model_name": "HBoxModel",
          "model_module_version": "1.5.0",
          "state": {
            "_view_name": "HBoxView",
            "_dom_classes": [],
            "_model_name": "HBoxModel",
            "_view_module": "@jupyter-widgets/controls",
            "_model_module_version": "1.5.0",
            "_view_count": null,
            "_view_module_version": "1.5.0",
            "box_style": "",
            "layout": "IPY_MODEL_e64f4842865849ef8ed05a35737a3140",
            "_model_module": "@jupyter-widgets/controls",
            "children": [
              "IPY_MODEL_624242bf63e8454c91327ce0dd3c1a5c",
              "IPY_MODEL_1d379cb11f904d0bb1669506f4148e30",
              "IPY_MODEL_426b23699fd549d38701adaa64457e32"
            ]
          }
        },
        "e64f4842865849ef8ed05a35737a3140": {
          "model_module": "@jupyter-widgets/base",
          "model_name": "LayoutModel",
          "model_module_version": "1.2.0",
          "state": {
            "_view_name": "LayoutView",
            "grid_template_rows": null,
            "right": null,
            "justify_content": null,
            "_view_module": "@jupyter-widgets/base",
            "overflow": null,
            "_model_module_version": "1.2.0",
            "_view_count": null,
            "flex_flow": null,
            "width": null,
            "min_width": null,
            "border": null,
            "align_items": null,
            "bottom": null,
            "_model_module": "@jupyter-widgets/base",
            "top": null,
            "grid_column": null,
            "overflow_y": null,
            "overflow_x": null,
            "grid_auto_flow": null,
            "grid_area": null,
            "grid_template_columns": null,
            "flex": null,
            "_model_name": "LayoutModel",
            "justify_items": null,
            "grid_row": null,
            "max_height": null,
            "align_content": null,
            "visibility": null,
            "align_self": null,
            "height": null,
            "min_height": null,
            "padding": null,
            "grid_auto_rows": null,
            "grid_gap": null,
            "max_width": null,
            "order": null,
            "_view_module_version": "1.2.0",
            "grid_template_areas": null,
            "object_position": null,
            "object_fit": null,
            "grid_auto_columns": null,
            "margin": null,
            "display": null,
            "left": null
          }
        },
        "624242bf63e8454c91327ce0dd3c1a5c": {
          "model_module": "@jupyter-widgets/controls",
          "model_name": "HTMLModel",
          "model_module_version": "1.5.0",
          "state": {
            "_view_name": "HTMLView",
            "style": "IPY_MODEL_4427720450654f638e194be5c7ee1967",
            "_dom_classes": [],
            "description": "",
            "_model_name": "HTMLModel",
            "placeholder": "​",
            "_view_module": "@jupyter-widgets/controls",
            "_model_module_version": "1.5.0",
            "value": "Downloading: 100%",
            "_view_count": null,
            "_view_module_version": "1.5.0",
            "description_tooltip": null,
            "_model_module": "@jupyter-widgets/controls",
            "layout": "IPY_MODEL_b314e197864b4f5ebda6fd18aa49a947"
          }
        },
        "1d379cb11f904d0bb1669506f4148e30": {
          "model_module": "@jupyter-widgets/controls",
          "model_name": "FloatProgressModel",
          "model_module_version": "1.5.0",
          "state": {
            "_view_name": "ProgressView",
            "style": "IPY_MODEL_18675d2af658446c84277e94bdca1b56",
            "_dom_classes": [],
            "description": "",
            "_model_name": "FloatProgressModel",
            "bar_style": "success",
            "max": 1355863,
            "_view_module": "@jupyter-widgets/controls",
            "_model_module_version": "1.5.0",
            "value": 1355863,
            "_view_count": null,
            "_view_module_version": "1.5.0",
            "orientation": "horizontal",
            "min": 0,
            "description_tooltip": null,
            "_model_module": "@jupyter-widgets/controls",
            "layout": "IPY_MODEL_1ef3d615a39a4e168fc63e65e8f26bee"
          }
        },
        "426b23699fd549d38701adaa64457e32": {
          "model_module": "@jupyter-widgets/controls",
          "model_name": "HTMLModel",
          "model_module_version": "1.5.0",
          "state": {
            "_view_name": "HTMLView",
            "style": "IPY_MODEL_c499f9181002451aac4dbe064313bde2",
            "_dom_classes": [],
            "description": "",
            "_model_name": "HTMLModel",
            "placeholder": "​",
            "_view_module": "@jupyter-widgets/controls",
            "_model_module_version": "1.5.0",
            "value": " 1.29M/1.29M [00:00&lt;00:00, 3.07MB/s]",
            "_view_count": null,
            "_view_module_version": "1.5.0",
            "description_tooltip": null,
            "_model_module": "@jupyter-widgets/controls",
            "layout": "IPY_MODEL_c26d8a6974c044709a0a9a9e9194387e"
          }
        },
        "4427720450654f638e194be5c7ee1967": {
          "model_module": "@jupyter-widgets/controls",
          "model_name": "DescriptionStyleModel",
          "model_module_version": "1.5.0",
          "state": {
            "_view_name": "StyleView",
            "_model_name": "DescriptionStyleModel",
            "description_width": "",
            "_view_module": "@jupyter-widgets/base",
            "_model_module_version": "1.5.0",
            "_view_count": null,
            "_view_module_version": "1.2.0",
            "_model_module": "@jupyter-widgets/controls"
          }
        },
        "b314e197864b4f5ebda6fd18aa49a947": {
          "model_module": "@jupyter-widgets/base",
          "model_name": "LayoutModel",
          "model_module_version": "1.2.0",
          "state": {
            "_view_name": "LayoutView",
            "grid_template_rows": null,
            "right": null,
            "justify_content": null,
            "_view_module": "@jupyter-widgets/base",
            "overflow": null,
            "_model_module_version": "1.2.0",
            "_view_count": null,
            "flex_flow": null,
            "width": null,
            "min_width": null,
            "border": null,
            "align_items": null,
            "bottom": null,
            "_model_module": "@jupyter-widgets/base",
            "top": null,
            "grid_column": null,
            "overflow_y": null,
            "overflow_x": null,
            "grid_auto_flow": null,
            "grid_area": null,
            "grid_template_columns": null,
            "flex": null,
            "_model_name": "LayoutModel",
            "justify_items": null,
            "grid_row": null,
            "max_height": null,
            "align_content": null,
            "visibility": null,
            "align_self": null,
            "height": null,
            "min_height": null,
            "padding": null,
            "grid_auto_rows": null,
            "grid_gap": null,
            "max_width": null,
            "order": null,
            "_view_module_version": "1.2.0",
            "grid_template_areas": null,
            "object_position": null,
            "object_fit": null,
            "grid_auto_columns": null,
            "margin": null,
            "display": null,
            "left": null
          }
        },
        "18675d2af658446c84277e94bdca1b56": {
          "model_module": "@jupyter-widgets/controls",
          "model_name": "ProgressStyleModel",
          "model_module_version": "1.5.0",
          "state": {
            "_view_name": "StyleView",
            "_model_name": "ProgressStyleModel",
            "description_width": "",
            "_view_module": "@jupyter-widgets/base",
            "_model_module_version": "1.5.0",
            "_view_count": null,
            "_view_module_version": "1.2.0",
            "bar_color": null,
            "_model_module": "@jupyter-widgets/controls"
          }
        },
        "1ef3d615a39a4e168fc63e65e8f26bee": {
          "model_module": "@jupyter-widgets/base",
          "model_name": "LayoutModel",
          "model_module_version": "1.2.0",
          "state": {
            "_view_name": "LayoutView",
            "grid_template_rows": null,
            "right": null,
            "justify_content": null,
            "_view_module": "@jupyter-widgets/base",
            "overflow": null,
            "_model_module_version": "1.2.0",
            "_view_count": null,
            "flex_flow": null,
            "width": null,
            "min_width": null,
            "border": null,
            "align_items": null,
            "bottom": null,
            "_model_module": "@jupyter-widgets/base",
            "top": null,
            "grid_column": null,
            "overflow_y": null,
            "overflow_x": null,
            "grid_auto_flow": null,
            "grid_area": null,
            "grid_template_columns": null,
            "flex": null,
            "_model_name": "LayoutModel",
            "justify_items": null,
            "grid_row": null,
            "max_height": null,
            "align_content": null,
            "visibility": null,
            "align_self": null,
            "height": null,
            "min_height": null,
            "padding": null,
            "grid_auto_rows": null,
            "grid_gap": null,
            "max_width": null,
            "order": null,
            "_view_module_version": "1.2.0",
            "grid_template_areas": null,
            "object_position": null,
            "object_fit": null,
            "grid_auto_columns": null,
            "margin": null,
            "display": null,
            "left": null
          }
        },
        "c499f9181002451aac4dbe064313bde2": {
          "model_module": "@jupyter-widgets/controls",
          "model_name": "DescriptionStyleModel",
          "model_module_version": "1.5.0",
          "state": {
            "_view_name": "StyleView",
            "_model_name": "DescriptionStyleModel",
            "description_width": "",
            "_view_module": "@jupyter-widgets/base",
            "_model_module_version": "1.5.0",
            "_view_count": null,
            "_view_module_version": "1.2.0",
            "_model_module": "@jupyter-widgets/controls"
          }
        },
        "c26d8a6974c044709a0a9a9e9194387e": {
          "model_module": "@jupyter-widgets/base",
          "model_name": "LayoutModel",
          "model_module_version": "1.2.0",
          "state": {
            "_view_name": "LayoutView",
            "grid_template_rows": null,
            "right": null,
            "justify_content": null,
            "_view_module": "@jupyter-widgets/base",
            "overflow": null,
            "_model_module_version": "1.2.0",
            "_view_count": null,
            "flex_flow": null,
            "width": null,
            "min_width": null,
            "border": null,
            "align_items": null,
            "bottom": null,
            "_model_module": "@jupyter-widgets/base",
            "top": null,
            "grid_column": null,
            "overflow_y": null,
            "overflow_x": null,
            "grid_auto_flow": null,
            "grid_area": null,
            "grid_template_columns": null,
            "flex": null,
            "_model_name": "LayoutModel",
            "justify_items": null,
            "grid_row": null,
            "max_height": null,
            "align_content": null,
            "visibility": null,
            "align_self": null,
            "height": null,
            "min_height": null,
            "padding": null,
            "grid_auto_rows": null,
            "grid_gap": null,
            "max_width": null,
            "order": null,
            "_view_module_version": "1.2.0",
            "grid_template_areas": null,
            "object_position": null,
            "object_fit": null,
            "grid_auto_columns": null,
            "margin": null,
            "display": null,
            "left": null
          }
        },
        "b5ff91923a3f4fc99035915f6ad2a90b": {
          "model_module": "@jupyter-widgets/controls",
          "model_name": "HBoxModel",
          "model_module_version": "1.5.0",
          "state": {
            "_view_name": "HBoxView",
            "_dom_classes": [],
            "_model_name": "HBoxModel",
            "_view_module": "@jupyter-widgets/controls",
            "_model_module_version": "1.5.0",
            "_view_count": null,
            "_view_module_version": "1.5.0",
            "box_style": "",
            "layout": "IPY_MODEL_f0be5790f06344ffb26f47a462b423d5",
            "_model_module": "@jupyter-widgets/controls",
            "children": [
              "IPY_MODEL_b2f58c0946114e4ca10b53eb421aa73d",
              "IPY_MODEL_1a59520515534555861178dbc4e7e68f",
              "IPY_MODEL_3eac4ea0b2284a1681d617bc023be174"
            ]
          }
        },
        "f0be5790f06344ffb26f47a462b423d5": {
          "model_module": "@jupyter-widgets/base",
          "model_name": "LayoutModel",
          "model_module_version": "1.2.0",
          "state": {
            "_view_name": "LayoutView",
            "grid_template_rows": null,
            "right": null,
            "justify_content": null,
            "_view_module": "@jupyter-widgets/base",
            "overflow": null,
            "_model_module_version": "1.2.0",
            "_view_count": null,
            "flex_flow": null,
            "width": null,
            "min_width": null,
            "border": null,
            "align_items": null,
            "bottom": null,
            "_model_module": "@jupyter-widgets/base",
            "top": null,
            "grid_column": null,
            "overflow_y": null,
            "overflow_x": null,
            "grid_auto_flow": null,
            "grid_area": null,
            "grid_template_columns": null,
            "flex": null,
            "_model_name": "LayoutModel",
            "justify_items": null,
            "grid_row": null,
            "max_height": null,
            "align_content": null,
            "visibility": null,
            "align_self": null,
            "height": null,
            "min_height": null,
            "padding": null,
            "grid_auto_rows": null,
            "grid_gap": null,
            "max_width": null,
            "order": null,
            "_view_module_version": "1.2.0",
            "grid_template_areas": null,
            "object_position": null,
            "object_fit": null,
            "grid_auto_columns": null,
            "margin": null,
            "display": null,
            "left": null
          }
        },
        "b2f58c0946114e4ca10b53eb421aa73d": {
          "model_module": "@jupyter-widgets/controls",
          "model_name": "HTMLModel",
          "model_module_version": "1.5.0",
          "state": {
            "_view_name": "HTMLView",
            "style": "IPY_MODEL_25e996eecf194a3e9a0d8a4239e00426",
            "_dom_classes": [],
            "description": "",
            "_model_name": "HTMLModel",
            "placeholder": "​",
            "_view_module": "@jupyter-widgets/controls",
            "_model_module_version": "1.5.0",
            "value": "Iteration: 100%",
            "_view_count": null,
            "_view_module_version": "1.5.0",
            "description_tooltip": null,
            "_model_module": "@jupyter-widgets/controls",
            "layout": "IPY_MODEL_88fad8d47a114ef9a1409d6dbc20ae26"
          }
        },
        "1a59520515534555861178dbc4e7e68f": {
          "model_module": "@jupyter-widgets/controls",
          "model_name": "FloatProgressModel",
          "model_module_version": "1.5.0",
          "state": {
            "_view_name": "ProgressView",
            "style": "IPY_MODEL_3a3974ab2b924ca0979b232bdcc411c5",
            "_dom_classes": [],
            "description": "",
            "_model_name": "FloatProgressModel",
            "bar_style": "success",
            "max": 116040,
            "_view_module": "@jupyter-widgets/controls",
            "_model_module_version": "1.5.0",
            "value": 116040,
            "_view_count": null,
            "_view_module_version": "1.5.0",
            "orientation": "horizontal",
            "min": 0,
            "description_tooltip": null,
            "_model_module": "@jupyter-widgets/controls",
            "layout": "IPY_MODEL_25698b9d7e464019a48dce9253dfbf9e"
          }
        },
        "3eac4ea0b2284a1681d617bc023be174": {
          "model_module": "@jupyter-widgets/controls",
          "model_name": "HTMLModel",
          "model_module_version": "1.5.0",
          "state": {
            "_view_name": "HTMLView",
            "style": "IPY_MODEL_eaea1bc222fb49d196aba26a371c35a7",
            "_dom_classes": [],
            "description": "",
            "_model_name": "HTMLModel",
            "placeholder": "​",
            "_view_module": "@jupyter-widgets/controls",
            "_model_module_version": "1.5.0",
            "value": " 116040/116040 [2:18:03&lt;00:00, 13.97it/s]",
            "_view_count": null,
            "_view_module_version": "1.5.0",
            "description_tooltip": null,
            "_model_module": "@jupyter-widgets/controls",
            "layout": "IPY_MODEL_6e73f942828c47fd801bcfa05496141f"
          }
        },
        "25e996eecf194a3e9a0d8a4239e00426": {
          "model_module": "@jupyter-widgets/controls",
          "model_name": "DescriptionStyleModel",
          "model_module_version": "1.5.0",
          "state": {
            "_view_name": "StyleView",
            "_model_name": "DescriptionStyleModel",
            "description_width": "",
            "_view_module": "@jupyter-widgets/base",
            "_model_module_version": "1.5.0",
            "_view_count": null,
            "_view_module_version": "1.2.0",
            "_model_module": "@jupyter-widgets/controls"
          }
        },
        "88fad8d47a114ef9a1409d6dbc20ae26": {
          "model_module": "@jupyter-widgets/base",
          "model_name": "LayoutModel",
          "model_module_version": "1.2.0",
          "state": {
            "_view_name": "LayoutView",
            "grid_template_rows": null,
            "right": null,
            "justify_content": null,
            "_view_module": "@jupyter-widgets/base",
            "overflow": null,
            "_model_module_version": "1.2.0",
            "_view_count": null,
            "flex_flow": null,
            "width": null,
            "min_width": null,
            "border": null,
            "align_items": null,
            "bottom": null,
            "_model_module": "@jupyter-widgets/base",
            "top": null,
            "grid_column": null,
            "overflow_y": null,
            "overflow_x": null,
            "grid_auto_flow": null,
            "grid_area": null,
            "grid_template_columns": null,
            "flex": null,
            "_model_name": "LayoutModel",
            "justify_items": null,
            "grid_row": null,
            "max_height": null,
            "align_content": null,
            "visibility": null,
            "align_self": null,
            "height": null,
            "min_height": null,
            "padding": null,
            "grid_auto_rows": null,
            "grid_gap": null,
            "max_width": null,
            "order": null,
            "_view_module_version": "1.2.0",
            "grid_template_areas": null,
            "object_position": null,
            "object_fit": null,
            "grid_auto_columns": null,
            "margin": null,
            "display": null,
            "left": null
          }
        },
        "3a3974ab2b924ca0979b232bdcc411c5": {
          "model_module": "@jupyter-widgets/controls",
          "model_name": "ProgressStyleModel",
          "model_module_version": "1.5.0",
          "state": {
            "_view_name": "StyleView",
            "_model_name": "ProgressStyleModel",
            "description_width": "",
            "_view_module": "@jupyter-widgets/base",
            "_model_module_version": "1.5.0",
            "_view_count": null,
            "_view_module_version": "1.2.0",
            "bar_color": null,
            "_model_module": "@jupyter-widgets/controls"
          }
        },
        "25698b9d7e464019a48dce9253dfbf9e": {
          "model_module": "@jupyter-widgets/base",
          "model_name": "LayoutModel",
          "model_module_version": "1.2.0",
          "state": {
            "_view_name": "LayoutView",
            "grid_template_rows": null,
            "right": null,
            "justify_content": null,
            "_view_module": "@jupyter-widgets/base",
            "overflow": null,
            "_model_module_version": "1.2.0",
            "_view_count": null,
            "flex_flow": null,
            "width": null,
            "min_width": null,
            "border": null,
            "align_items": null,
            "bottom": null,
            "_model_module": "@jupyter-widgets/base",
            "top": null,
            "grid_column": null,
            "overflow_y": null,
            "overflow_x": null,
            "grid_auto_flow": null,
            "grid_area": null,
            "grid_template_columns": null,
            "flex": null,
            "_model_name": "LayoutModel",
            "justify_items": null,
            "grid_row": null,
            "max_height": null,
            "align_content": null,
            "visibility": null,
            "align_self": null,
            "height": null,
            "min_height": null,
            "padding": null,
            "grid_auto_rows": null,
            "grid_gap": null,
            "max_width": null,
            "order": null,
            "_view_module_version": "1.2.0",
            "grid_template_areas": null,
            "object_position": null,
            "object_fit": null,
            "grid_auto_columns": null,
            "margin": null,
            "display": null,
            "left": null
          }
        },
        "eaea1bc222fb49d196aba26a371c35a7": {
          "model_module": "@jupyter-widgets/controls",
          "model_name": "DescriptionStyleModel",
          "model_module_version": "1.5.0",
          "state": {
            "_view_name": "StyleView",
            "_model_name": "DescriptionStyleModel",
            "description_width": "",
            "_view_module": "@jupyter-widgets/base",
            "_model_module_version": "1.5.0",
            "_view_count": null,
            "_view_module_version": "1.2.0",
            "_model_module": "@jupyter-widgets/controls"
          }
        },
        "6e73f942828c47fd801bcfa05496141f": {
          "model_module": "@jupyter-widgets/base",
          "model_name": "LayoutModel",
          "model_module_version": "1.2.0",
          "state": {
            "_view_name": "LayoutView",
            "grid_template_rows": null,
            "right": null,
            "justify_content": null,
            "_view_module": "@jupyter-widgets/base",
            "overflow": null,
            "_model_module_version": "1.2.0",
            "_view_count": null,
            "flex_flow": null,
            "width": null,
            "min_width": null,
            "border": null,
            "align_items": null,
            "bottom": null,
            "_model_module": "@jupyter-widgets/base",
            "top": null,
            "grid_column": null,
            "overflow_y": null,
            "overflow_x": null,
            "grid_auto_flow": null,
            "grid_area": null,
            "grid_template_columns": null,
            "flex": null,
            "_model_name": "LayoutModel",
            "justify_items": null,
            "grid_row": null,
            "max_height": null,
            "align_content": null,
            "visibility": null,
            "align_self": null,
            "height": null,
            "min_height": null,
            "padding": null,
            "grid_auto_rows": null,
            "grid_gap": null,
            "max_width": null,
            "order": null,
            "_view_module_version": "1.2.0",
            "grid_template_areas": null,
            "object_position": null,
            "object_fit": null,
            "grid_auto_columns": null,
            "margin": null,
            "display": null,
            "left": null
          }
        }
      }
    }
  },
  "cells": [
    {
      "cell_type": "code",
      "metadata": {
        "id": "GycxByftti3T",
        "colab": {
          "base_uri": "https://localhost:8080/"
        },
        "outputId": "63d19901-a6bb-4197-aab1-9e6c3992e986"
      },
      "source": [
        "# This mounts your Google Drive to the Colab VM.\n",
        "from google.colab import drive\n",
        "drive.mount('/content/drive', force_remount=True)\n",
        "\n",
        "FOLDERNAME = 'NLP_project/dataset'\n",
        "assert FOLDERNAME is not None, \"[!] Enter the foldername.\"\n",
        "\n",
        "#Now that we've mounted your Drive, this ensures that\n",
        "# the Python interpreter of the Colab VM can load\n",
        "# python files from within it.\n",
        "import sys\n",
        "sys.path.append('/content/drive/My Drive/{}'.format(FOLDERNAME))\n",
        "\n",
        "%cd /content/drive/My\\ Drive/$FOLDERNAME/"
      ],
      "execution_count": null,
      "outputs": [
        {
          "output_type": "stream",
          "name": "stdout",
          "text": [
            "Mounted at /content/drive\n",
            "/content/drive/.shortcut-targets-by-id/1JLBuZnTQ8Cui6dbc8hlnFXrD_POoT_4F/NLP_project/dataset\n"
          ]
        }
      ]
    },
    {
      "cell_type": "code",
      "metadata": {
        "colab": {
          "base_uri": "https://localhost:8080/"
        },
        "id": "mFw5Iyzd7iAh",
        "outputId": "9eb860af-2796-4fd1-c3b8-72022eebd3b8"
      },
      "source": [
        "import torch\n",
        "\n",
        "# Confirm that the GPU is detected\n",
        "\n",
        "assert torch.cuda.is_available()\n",
        "\n",
        "# Get the GPU device name.\n",
        "device_name = torch.cuda.get_device_name()\n",
        "n_gpu = torch.cuda.device_count()\n",
        "print(f\"Found device: {device_name}, n_gpu: {n_gpu}\")\n",
        "device = torch.device(\"cuda\")"
      ],
      "execution_count": null,
      "outputs": [
        {
          "output_type": "stream",
          "name": "stdout",
          "text": [
            "Found device: Tesla P100-PCIE-16GB, n_gpu: 1\n"
          ]
        }
      ]
    },
    {
      "cell_type": "code",
      "source": [
        "!pip install transformers -q\n",
        "!pip install pandarallel -q\n",
        "!pip install sentencepiece -q\n",
        "!pip install neptune-client -q\n"
      ],
      "metadata": {
        "id": "8AfBIvVbcnb0",
        "colab": {
          "base_uri": "https://localhost:8080/"
        },
        "outputId": "2d5ca639-9193-48d2-f1f0-f632fce2f58b"
      },
      "execution_count": null,
      "outputs": [
        {
          "output_type": "stream",
          "name": "stdout",
          "text": [
            "\u001b[K     |████████████████████████████████| 3.4 MB 6.8 MB/s \n",
            "\u001b[K     |████████████████████████████████| 596 kB 53.5 MB/s \n",
            "\u001b[K     |████████████████████████████████| 895 kB 70.7 MB/s \n",
            "\u001b[K     |████████████████████████████████| 3.3 MB 53.0 MB/s \n",
            "\u001b[K     |████████████████████████████████| 61 kB 553 kB/s \n",
            "\u001b[?25h  Building wheel for pandarallel (setup.py) ... \u001b[?25l\u001b[?25hdone\n",
            "\u001b[K     |████████████████████████████████| 1.2 MB 8.7 MB/s \n",
            "\u001b[K     |████████████████████████████████| 287 kB 8.6 MB/s \n",
            "\u001b[K     |████████████████████████████████| 829 kB 67.7 MB/s \n",
            "\u001b[K     |████████████████████████████████| 53 kB 2.2 MB/s \n",
            "\u001b[K     |████████████████████████████████| 180 kB 75.5 MB/s \n",
            "\u001b[K     |████████████████████████████████| 131 kB 83.3 MB/s \n",
            "\u001b[K     |████████████████████████████████| 8.4 MB 55.6 MB/s \n",
            "\u001b[K     |████████████████████████████████| 79 kB 10.1 MB/s \n",
            "\u001b[K     |████████████████████████████████| 138 kB 74.8 MB/s \n",
            "\u001b[K     |████████████████████████████████| 63 kB 2.2 MB/s \n",
            "\u001b[K     |████████████████████████████████| 127 kB 77.3 MB/s \n",
            "\u001b[K     |████████████████████████████████| 130 kB 87.1 MB/s \n",
            "\u001b[K     |████████████████████████████████| 67 kB 6.6 MB/s \n",
            "\u001b[?25h  Building wheel for neptune-client (setup.py) ... \u001b[?25l\u001b[?25hdone\n",
            "  Building wheel for future (setup.py) ... \u001b[?25l\u001b[?25hdone\n",
            "  Building wheel for strict-rfc3339 (setup.py) ... \u001b[?25l\u001b[?25hdone\n",
            "\u001b[31mERROR: pip's dependency resolver does not currently take into account all the packages that are installed. This behaviour is the source of the following dependency conflicts.\n",
            "datascience 0.10.6 requires folium==0.2.1, but you have folium 0.8.3 which is incompatible.\u001b[0m\n"
          ]
        }
      ]
    },
    {
      "cell_type": "code",
      "source": [
        "import numpy as np\n",
        "import pandas as pd\n",
        "import regex as re\n",
        "import random\n",
        "import ast\n",
        "import matplotlib.pyplot as plt\n",
        "import seaborn as sns\n",
        "from sklearn.model_selection import train_test_split\n",
        "from sklearn.metrics import accuracy_score,average_precision_score, precision_score,precision_recall_curve\n",
        "from tqdm.notebook import tqdm\n",
        "from tqdm import trange\n",
        "import warnings\n",
        "warnings.filterwarnings('ignore')\n",
        "import pickle\n",
        "import nltk\n",
        "import math\n",
        "import os\n",
        "import json\n",
        "import random\n",
        "import re\n",
        "import torch\n",
        "import torch.nn as nn\n",
        "from transformers import AdamW, get_linear_schedule_with_warmup\n",
        "from transformers import AutoTokenizer, AutoModel\n",
        "\n"
      ],
      "metadata": {
        "id": "1bL1rsIpchkA"
      },
      "execution_count": null,
      "outputs": []
    },
    {
      "cell_type": "code",
      "source": [
        "reviews_df = pd.read_csv('/content/drive/MyDrive/NLP_project/dataset/yelp_preprocessed_1M.csv')\n"
      ],
      "metadata": {
        "id": "z0HaXRHCUeyk"
      },
      "execution_count": null,
      "outputs": []
    },
    {
      "cell_type": "code",
      "source": [
        "print(reviews_df.columns)"
      ],
      "metadata": {
        "colab": {
          "base_uri": "https://localhost:8080/"
        },
        "id": "q124ZZe0Um4I",
        "outputId": "e347debc-abb3-43d8-f420-49ec6eae7702"
      },
      "execution_count": null,
      "outputs": [
        {
          "output_type": "stream",
          "name": "stdout",
          "text": [
            "Index(['Unnamed: 0', 'date', 'useful', 'text', 'cool', 'funny', 'review_id',\n",
            "       'user_id', 'stars', 'business_id', 'sentiment'],\n",
            "      dtype='object')\n"
          ]
        }
      ]
    },
    {
      "cell_type": "code",
      "source": [
        "reviews_df = reviews_df[0:100]"
      ],
      "metadata": {
        "id": "hNfwIa1EZhGb"
      },
      "execution_count": null,
      "outputs": []
    },
    {
      "cell_type": "code",
      "source": [
        "model_path = '/content/drive/MyDrive/NLP_project/arg_miningrobertalarge_SEED_4_dense_layer_epoc_3_lr_1e-05_b_s_16_accumulation_steps_2_input_type_kp_arg_topic_preee.pt'"
      ],
      "metadata": {
        "id": "-zCIerIyXjiB"
      },
      "execution_count": null,
      "outputs": []
    },
    {
      "cell_type": "code",
      "source": [
        "class NonPoolerTransformer(torch.nn.Module):\n",
        "\n",
        "    def __init__(self):\n",
        "        super(NonPoolerTransformer, self).__init__()\n",
        "        \n",
        "        #Instantiating Pre trained model object \n",
        "        self.model_layer = AutoModel.from_pretrained(model_path)\n",
        "\n",
        "        #Layers\n",
        "        # the first dense layer will have 768 if base model is used and \n",
        "        # 1024 if large model is used\n",
        "\n",
        "        self.dense_layer_1 = nn.Linear(1024, 256)\n",
        "        self.dropout = nn.Dropout(0.4)\n",
        "        self.dense_layer_2 = nn.Linear(256, 128)\n",
        "        self.dropout_2 = nn.Dropout(0.2)\n",
        "        self.cls_layer = nn.Linear(128, 1, bias = True)\n",
        "        self.sigmoid = nn.Sigmoid()\n",
        "\n",
        "    def forward(self,input_ids, attention_masks):\n",
        "\n",
        "        hidden_state = self.model_layer(input_ids=input_ids, attention_mask=attention_masks)[0]\n",
        "        pooled_output = hidden_state[:, 0]\n",
        "\n",
        "        x = self.dense_layer_1(pooled_output)\n",
        "        x = self.dropout(x)\n",
        "        x_1 = self.dense_layer_2(x)\n",
        "        x_2 = self.dropout_2(x_1)\n",
        "\n",
        "        logits = self.cls_layer(x_2)\n",
        "        output = self.sigmoid(logits)\n",
        "\n",
        "        return output"
      ],
      "metadata": {
        "id": "dfIchtQzccUm"
      },
      "execution_count": null,
      "outputs": []
    },
    {
      "cell_type": "code",
      "source": [
        "model = torch.load(model_path)\n",
        "tokenizer = AutoTokenizer.from_pretrained('roberta-large')\n"
      ],
      "metadata": {
        "id": "MlQNkgYSVUxM",
        "colab": {
          "base_uri": "https://localhost:8080/",
          "height": 145,
          "referenced_widgets": [
            "e64b16f3383c45018a10e3f7e6cff09a",
            "525377a34929420bb12c774d924dcfe2",
            "ce90c8a68a004b14bcf3bd72e7f66cd7",
            "a03c3c70ba6045749a8beebd7ea2ae7e",
            "901c551f1fc148a3b1383929af0fa54f",
            "b92752f1af4b47d5b7b34894f78c9f2c",
            "8628e5dafb0f4bffa9956197d651b652",
            "b90574ee47ac4703b140826ab7aeb95a",
            "3efb64a76790434daadaa961a7847b8d",
            "2dee97fbb7c24aafb5d2b8bb4fc62e86",
            "ee57800c81924f23b984058aebd7b2bc",
            "3c2bccfb0dfd4594b609c4130248818a",
            "ce12a57f31ce49e7bd8d1877c1c8ac55",
            "129a31c21aaa4502b821eaa3374291dd",
            "0e96b387f9474ed0b468e72e0041afb9",
            "734438d8c6e4423caf9df6d85d2e625a",
            "b15f9c6f10f447ce9ef29621248fc6bb",
            "6d1aa86e819c4d3cb715795a832b88f6",
            "2c965fa91a944e799e62bc70bf12e9a0",
            "0964aca919ea4ea8b254d3bfa4084b02",
            "638121c285b44c729f39e80fefbcf455",
            "b7a0b0288fa64d9186b6183030e7d252",
            "e9f3cec875114c68b300aae82aacf0d6",
            "5072be3f7385496f83d5c1f611182b88",
            "69c63b7946ab44d2a242f795053ec59e",
            "a96adcf6467e4aed82efe922a8eab622",
            "32be6acb48964e049e925c5730fa2545",
            "e4a86db2f4344c69a10016d5a3f5def5",
            "831dc86c54e24952b0c312d67f5d6d15",
            "15a491e5d57042d4a01e49bbbd7f7e31",
            "4596472a261041289e740be2c54ab706",
            "6b02608d16c7435485bc678cee57f40a",
            "02166f5064fa415c96368968c321278b",
            "58443c42228f49d9b375fd5d9709796d",
            "e64f4842865849ef8ed05a35737a3140",
            "624242bf63e8454c91327ce0dd3c1a5c",
            "1d379cb11f904d0bb1669506f4148e30",
            "426b23699fd549d38701adaa64457e32",
            "4427720450654f638e194be5c7ee1967",
            "b314e197864b4f5ebda6fd18aa49a947",
            "18675d2af658446c84277e94bdca1b56",
            "1ef3d615a39a4e168fc63e65e8f26bee",
            "c499f9181002451aac4dbe064313bde2",
            "c26d8a6974c044709a0a9a9e9194387e"
          ]
        },
        "outputId": "65dbb55c-e65c-4515-ee94-3a82ef08cd17"
      },
      "execution_count": null,
      "outputs": [
        {
          "output_type": "display_data",
          "data": {
            "application/vnd.jupyter.widget-view+json": {
              "model_id": "e64b16f3383c45018a10e3f7e6cff09a",
              "version_minor": 0,
              "version_major": 2
            },
            "text/plain": [
              "Downloading:   0%|          | 0.00/482 [00:00<?, ?B/s]"
            ]
          },
          "metadata": {}
        },
        {
          "output_type": "display_data",
          "data": {
            "application/vnd.jupyter.widget-view+json": {
              "model_id": "3c2bccfb0dfd4594b609c4130248818a",
              "version_minor": 0,
              "version_major": 2
            },
            "text/plain": [
              "Downloading:   0%|          | 0.00/878k [00:00<?, ?B/s]"
            ]
          },
          "metadata": {}
        },
        {
          "output_type": "display_data",
          "data": {
            "application/vnd.jupyter.widget-view+json": {
              "model_id": "e9f3cec875114c68b300aae82aacf0d6",
              "version_minor": 0,
              "version_major": 2
            },
            "text/plain": [
              "Downloading:   0%|          | 0.00/446k [00:00<?, ?B/s]"
            ]
          },
          "metadata": {}
        },
        {
          "output_type": "display_data",
          "data": {
            "application/vnd.jupyter.widget-view+json": {
              "model_id": "58443c42228f49d9b375fd5d9709796d",
              "version_minor": 0,
              "version_major": 2
            },
            "text/plain": [
              "Downloading:   0%|          | 0.00/1.29M [00:00<?, ?B/s]"
            ]
          },
          "metadata": {}
        }
      ]
    },
    {
      "cell_type": "code",
      "source": [
        "#make reviews and key_points dataset\n",
        "key_point_df =df = pd.read_csv('/content/drive/MyDrive/NLP_project/dataset/NLP keypoints - Restaurants.csv')\n",
        "positive_kp_df = key_point_df['Positive']\n",
        "# print(positive_kp_df.head())\n",
        "negative_kp_df = key_point_df['Negative']\n",
        "# print(negative_kp_df.head())\n",
        "\n",
        "reviews_text_df = reviews_df['text']\n",
        "\n",
        "reviews_list = reviews_text_df.values.tolist()\n",
        "kp_list = positive_kp_df.values.tolist()\n",
        "kp_list.extend(negative_kp_df.values.tolist())\n",
        "\n",
        "print(reviews_list)\n",
        "print(kp_list)"
      ],
      "metadata": {
        "id": "SOm9nmviVVbh",
        "colab": {
          "base_uri": "https://localhost:8080/"
        },
        "outputId": "416a020b-f7ab-498a-91f6-96b19a9e12fc"
      },
      "execution_count": null,
      "outputs": [
        {
          "output_type": "stream",
          "name": "stdout",
          "text": [
            "['b\"Apparently Prides Osteria had a rough summer as evidenced by the almost empty dining room at 6:30 on a Friday night. However new blood in the kitchen seems to have revitalized the food from other customers recent visits. Waitstaff was warm but unobtrusive. By 8 pm or so when we left the bar was full and the dining room was much more lively than it had been. Perhaps Beverly residents prefer a later seating. \\\\n\\\\nAfter reading the mixed reviews of late I was a little tentative over our choice but luckily there was nothing to worry about in the food department. We started with the fried dough, burrata and prosciutto which were all lovely. Then although they don\\'t offer half portions of pasta we each ordered the entree size and split them. We chose the tagliatelle bolognese and a four cheese filled pasta in a creamy sauce with bacon, asparagus and grana frita. Both were very good. We split a secondi which was the special Berkshire pork secreto, which was described as a pork skirt steak with garlic potato pur\\\\xc3\\\\xa9e and romanesco broccoli (incorrectly described as a romanesco sauce). Some tables received bread before the meal but for some reason we did not. \\\\n\\\\nManagement also seems capable for when the tenants in the apartment above began playing basketball she intervened and also comped the tables a dessert. We ordered the apple dumpling with gelato and it was also quite tasty. Portions are not huge which I particularly like because I prefer to order courses. If you are someone who orders just a meal you may leave hungry depending on you appetite. Dining room was mostly younger crowd while the bar was definitely the over 40 set. Would recommend that the naysayers return to see the improvement although I personally don\\'t know the former glory to be able to compare. Easy access to downtown Salem without the crowds on this month of October.\"', \"b'This store is pretty good. Not as great as Walmart (or my preferred, Milford Target), but closer and in a easier area to get to.  \\\\nThe store itself is pretty clean and organized, the staff are friendly (most of the time), and BEST of all is the Self Checkout this store has! \\\\nGreat clearance sections throughout, and great prices on everything in the store, in general (they pricematch too!). \\\\nChristian, Debbie, Jen and Hanna are all very friendly, helpful, sensitive to all customer needs. Definitely one of the better Target locations in the area, and they do a GREAT job assisting customers for being such a busy store. Located directly in the Framingham Mall on Cochituate Rd / Route 30. 4 stars.'\", 'b\"I called WVM on the recommendation of a couple of friends who had used them in the past and thought they did a nice job. I\\'m a fan now, too.\\\\n\\\\nEvan and Cody showed up right on time for my move this past weekend. They were friendly and energetic, working quickly but carefully to get all my things moved out of the old place and into the new one in less than 2.5 hours. All of my (heavy) furniture arrived in perfect condition, and they took extra care not to scratch the wood floors in the process.\\\\n\\\\nI hope not to move again anytime soon, but next time I do, I\\'ll be calling WVM.\"', 'b\"I\\'ve stayed at many Marriott and Renaissance Marriott\\'s and this was a huge disappointment! The front desk and atrium is nice..there is a starbucks on site which is nice.\\\\n\\\\nThe rooms are run down and old.  There is a flat screen but that is to be expected of a Renaissance.\\\\n\\\\nWe got this hotel via Priceline at a rate of $75/night...good deal for the price but this is not a true Renaissance.\"', 'b\"The food is always great here. The service from both the manager as well as the staff is super. Only draw back of this restaurant is it\\'s super loud. If you can, snag a patio table!\"', \"b'This place used to be a cool, chill place. Now its a bunch of neanderthal bouncers hopped up on steroids acting like the can do whatever they want. There are so many better places in davis square where they are glad you are visiting their business. Sad that the burren is now the worst place in davis.'\", 'b\"The setting is perfectly adequate, and the food comes close.   The dining chains like Chilis and Victoria Station do barbecue better.\\\\n\\\\nIt\\'s no surprise you can always pick up coupons for Linwood at restaurant.com.\"', 'b\"Probably one of the better breakfast sandwiches I\\'ve ever had. I had the EGGMEATMUFFIN, the bread was toasted perfectly and the bacon was a real thick cut. Not that lame bacon we are more familiar with at your conventional breakfast diner. In addition, the place was clean and the staff was very helpful. The butcher had several different cuts available and was knowledgable as well as friendly. I left with some cuts of pork and beef and am excited to come back!\"', \"b'I am definitely a fan of Sports Authority.  This particular location has a good check in deal.  We came here near Christmas time to buy some presents and we had a good experience.  The staff members were very friendly and they helped us find what we were looking for.  We got some golf stuff, two pairs of shoes, a tennis racket bag, and some bicycle accessories.  The store was clean and well organized.  They have everything from apparel to basketballs and everything in between.  Good spot to buy athletic merchandise.'\", \"b'I work in the Pru and this is the most affordable and tasty place in the food court.  deals where a meal is $5-$7 and the chicken pesto is really good.   I am not a chowda person but all there soups I have had are pretty damn good.  Broccoli chicken is my favorite.  Also, probably the most personable Food court staff I have ever had the pleasure of ordering from.'\", \"b'They NEVER seem to get our \\\\norder correct, service is crappy, food is inconsistent and has gone down hill steadily in the last 6-9 months! WILL NEVER GO THERE AGAIN!'\", 'b\"Disappointing. Bolt is a follow up of Fanny\\'s Fabrics, which closed. Like Fanny\\'s, the selection is small. The fabrics lean toward contemporary. They also have a small stock of fabrics that you can order; however, they don\\'t have enough room to display their selections, so it\\'s like trying to paw through your closet when it has twice as many clothes as the racks were meant to handle. \\\\n\\\\nThe woman who works there most of the time is very nice and helpful. However, my mother and I both bought fabric there, and we both had the same problem: the employee helped us calculate our yardage without taking the repeat into consideration. I brought my pillow forms with me, so there was no doubt exactly how large they were. My mother was able to make her project work, but I came up a pillow short. By the time the pillows were made, I realized I was short, and I returned to Bolt (all in a month\\'s time), the fabric had sold out, with no plans on reordering. \\\\n\\\\nFortunately for me, I was just making a number of large throw pillows. Now I don\\'t have the number I wanted, but I can be flexible. What if this had been an upholstery job and my piece was partially completed? Obviously, unacceptable. My advise is to feel free and shop here, but figure out your measurements on your own.\"', 'b\"I have been here twice and have had really good food and service both times. I got a burger with caramelized onions, a red wine sauce and I believe blue cheese the first time. It was excellent and just the right size for me. I hate going out and ordering a burger that is bigger than my head that I can\\'t even finish half of! Flip\\'s burgers are about the same size I would make for myself at home.\\\\n\\\\nThe second time I went I had a limited time seasonal offering which was a venison burger with pea shoots, some kind of cheese that reminded me of brie, and a very sweet syrupy sauce which I could have done without, but overall it was very good. I also had onion rings and they were possibly the best onion rings I\\'ve had ever.\\\\n\\\\nThe only thing I don\\'t really like about Flip is the atmosphere and layout of the tables. I guess they were going for trendy upscale or whatever, but it makes me feel as if I am in a school cafeteria back in high school. I don\\'t like it. There are long white tables shoved up against each other with uncomfortable modern looking plastic chairs that kind of look like they came from Ikea. It\\'s also pretty loud in there because there is nothing to absorb the sound, like a school cafeteria.\\\\n\\\\nThe last time I was in there there were a couple of women with small children. I have no idea why someone would bring a child to Flip unless that child was a very adventerous eater. They don\\'t make anything plain. Everything on the menu has some pretty exotic ingredients. It\\'s also very pricy for burgers. This is the last place on Earth I would bring kids to eat. Burger King is right down the street.\"', 'b\\'I wish I could give them zero stars. The call takers are rude. The technicians are incompetent. The manager doesn\\\\\\'t know what customer service is. It is overpriced. I was quoted $230. I went to another locksmith, who actually got my lock off, and was quoted a total of $79.\\\\n\\\\nThe technician was late twice. He could not pick the lock which is not unusual and said he would have to drill through the lock. Ok. But, failed to bring charged batteries. He never offered to come back with charged batteries as soon as he could nor offered to send someone else. He said he could, however, come back around 10 hours later and do it \"under-the-table.\" Usually when you need to get a lock off, you need it off that minute. I said no. He charged me $30 for a service fee...a service that I never received. I contacted the manager, which seems to be a task in itself, and he said that I was rightfully charged $30 because I \"refused\" the technician\\\\\\'s offer to come back later. I doubt the manager knew it was an under-the-table payment. I still have not been reimbursed my $30!\\'', 'b\"This is a five-star restaurant if ever I have seen one! Maurice, one of the owners, met us at the front door, Daniel a seasoned waiter from Hawaii, took care of us and the food was over-the-top delicious. This is not just a restaurant, it is an experience!  My son recommended this to us and we are glad that we took his advice. I had the rack of lamb and my wife had the grouper with crab. Save room for dessert! We live in Tallahassee but the next time we are in Orlando it\\'s back to Chatham\\'s!\"', 'b\"Quickly stopped in for a UFC fight. I sat down at the bar while my boyfriend parked the car. Although the restaurant/bar was packed and LOUD, the bartender  (Vanessa) came over within a minute. Prompt service with a smile. When my boyfriend arrived a few minutes later, we didn\\'t see Vanessa behind the bar so we tried to flag down her male coworker. He was caught up watching the fight and it took a few minutes to get his attention - which is fine. Not fine, however, is that after I ordered a beer, he stood and texted for a few minutes before getting my beer and held his arm up to shield his texting from management lol. \\\\n\\\\nVanessa, however, is an excellent bartender!! As loud as it is in this place, she continually scanned the bar looking for people attempting to make eye contact with her for service. I watched her work (my boyfriend and I have thirty years of food and beverage experience between the two of us) and she was focused and productive, but most importantly, she was ATTENTIVE! Give this girl a raise!!\"', 'b\"I loved everything about this place. I\\'ve only been once but I keep meaning to go back as it was so great (just a bit out of my way). \\\\n\\\\nI went with a fairly large group so we\\'d all ordered something different (back when it was $6 for everything, it looks like they\\'ve changed that now). At the time I got the chickpea fries, which were delicious but watch out for the fiber because I had to sit out of an entire board game. The board game selection was great, and I love that they serve mead (though I didn\\'t get any at 12 pm haha).  The molten lava chocolate cake was so, so good. Seriously.\\\\n\\\\nThe real topping to the experience (other than the great service and the fact that they put lemons in their complimentary ice water) was that they were playing Siouxsie and the Banshees in the background! That + board games + good food + mead = I\\'m a fan forever.\"', \"b'Great coffee and pastries. Baristas are excellent. All the other staff are sooooo lost and vacant.'\", 'b\"Nothing special but good enough.  I like another one much better in Dorchester, but hardly get to that area, so Le\\'s is my goto place for Pho\"', 'b\\'Definitely 5 stars for the donuts.  Our family has been coming to Dandy Donuts for years!  Their donuts can\\\\\\'t be beat and are a must-try.   The same Cambodian family has owned this shop for years. They are kind, hard-working folks that put out a consistently fresh and delicious line of donuts as well as croissants and apple fritters their customers love.   \\\\n\\\\nSubs are also good.   I notice they\\\\\\'ve added a new low-price lunch special of hot dog, chips and drink.  The surroundings are definitely \"hole-in-the-wall\", but go and try the donuts.\\'', 'b\"I think their rice dishes are way better than their Pho\\'s. Also I really like their sandwiches and spring rolls. I took a friend who haven\\'t had viennese food ever. He absolutely love it.\"', \"b'Best station to fill up around in my opinion. Attendants are super friendly. They also carry bio diesel! Been running this in my Dodge for couple years w/o any issues. With Safeway right on same corner, the rewards really make this a favorite gas stop. Thanks!'\", 'b\"Ordered the original tonkotsu base ramen and a char siu don for my 2 year old.  Loved the soup base but especially loved the size of the bowl...unlike most ramen place, the size of the bowl reflected the quantity of the content in it.  Totally looking forward to going back so I can customize my next bowl of ramen...will select thicker noodle for sure and perhaps add more ramen!\\\\nFabulous service and loved that they had a sign advising ppl to come in, write down name then wait outside, so not to clog the entrance/exit.\\\\n\\\\nGreat ramen place, but won\\'t go with a group larger than 4 ppl.  Heads up, there was only one high chair.\"', 'b\"I just had my lasik done last week and I am really happy with my results. The staff were all extremely nice, remembered me like I was an old friend, and generally made me feel very comfortable. It\\'s also great that they have Saturday appointments. The evaluation, as with most lasik places, was complementary and all followup exams and treatments are included.  These exams are generally about 10 minutes.\\\\n\\\\nThe pre-surgery paperwork and going over post-op details, etc took about 30 minutes and the surgery itself (both eyes) took 25 minutes. Numbing drops are applied, so there is no pain, but while the flap is being created, there is an intense feeling of pressure from the suction that holds your eye still. I hated that. Afterward, the only pain I experienced was similar to getting soap in my eye, a kind of stinging. I went home and slept all night and woke up the next morning for my first followup and I could see! And had no more burning! I had some broken blood vessels from the suction used to hold my eye in place, but no pain all week, just dry eyes. The week following, you must avoid swimming, exercise, eye makeup, and have to sleep with goggles (so you don\\'t rub your eyes) and apply drops almost constantly. \\\\n\\\\nI believe I\\'ve made a great investment. I still can\\'t believe I\\'m going to see this well FOREVER! :-) \\\\n\\\\nMy only complaint was that they didn\\'t administer a sedative or anything to help me relax during the surgery (and maybe a pain Rx for after?) I didn\\'t feel nervous before it started, but a little panic hit me when my eye was being held open and I was asked to keep my eye very still.\\\\n\\\\nOh, and they charge $2100 per eye for the all-laser lasik.\"', 'b\"Almost desolate restaurant and dingy evironment. That\\'s a star.\\\\n\\\\nDecieving lunch menu. (claimed dishes were 550 before 3 on Saturdays and was still charged $2 more) That\\'s a star.\\\\n\\\\nCongealed beef soup. That\\'s a star.\\\\n\\\\nFriend\\'s dish didn\\'t come for 30 minutes after I got mine and he didn\\'t get the soup that came with it. That\\'s a star.\\\\n\\\\nAsked for water 5 times and didn\\'t get of until right before the bill came. That\\'s a star. \\\\n\\\\nWelp, I seem to be out of stars! Whoopsie Daisy! I wanted to be more forgiving since the waitress was new but even the manager who stepped in for her was screwing up. And it doesn\\'t excuse the mediocre food.\"', 'b\"I had a 1 hour massage tonight with Barbara. LITERALLY best massage I\\'ve had, and I\\'ve gotten plenty of massages around the globe. First off, let me say that when Barb asks you the simple questions, she follows through as you please. I hate when I request soft-medium and it\\'s totally opposite. I received a free foot salt scrub due to a scheduling issue, not bad! When a company offers you something in addition due to a mistake on their part, take it! That\\'s their way of apologizing indirectly! Awesome massage even without the add on! Cannot wait to book my next massage with her!\"', 'b\\'When we first arrived at the Coco Key, we were greeted by a number of staff members as we checked in, the process was slightly awkward because the staff appeared new or in training, which can happen from time to time. No harm no foul. \\\\nThe foul part came when we entered our room. The carpet was soggy near the bathroom and the entire room was permeated with a musty smell. Something along the lines of aeu-de-someone-flooded-the-toilet. \\\\nAfter unpacking--which I shouldn\\\\\\'t have done, but I\\\\\\'m a sucker for any opportunity for sticking things out and making them work. We called the front desk. \\\\nShortly thereafter, a housekeeper appeared with a spray bottle to investigate. She agreed that the carpet needed to be cleaned (which would happen the following day), and began spritzing, what I can only assume to be anti-mold stuff? I didn\\\\\\'t ask--which clearly you can see from this point means I have some sort of timidness for communication. I really need to outgrow that. \\\\nLong story short, by the time she had hosed down the carpet, walls, and doorways with her spray bottle, we were left coughing and choking on the fumes and were forced to spend the night with the door open in a weak attempt to ventilate the room.\\\\nI did not leave my heart in FL. but I may have donated a small portion of lung tissue. \\\\nYou\\\\\\'re probably asking...\"but did you die?\" \\\\nI am very much alive. However, I am very doubtful that I will ever return to the coco key.\\'', 'b\"Erika was amazing! After months of trying to find a place on my own, she swooped right in and helped me find the perfect home in a couple of weeks! I couldn\\'t be more excited or grateful!\\\\n\\\\nthanks Erika!\"', \"b'This place is truly a hidden gem (literally hidden as you have to walk through a Chinese restaurant to get there).  The place is small, cozy, and charming inside.  And the food is better than what you might find in the north end.  The service is great and the servers do a great job at pronouncing the specials to you like a true Italian! Make sure you make a reservation as it does book up rather quickly.'\", 'b\"Am I crazy for giving anything MBTA-related four stars? Maybe.\\\\n\\\\nRating the red line against other public transit services I\\'ve used in the US and abroad, no, it can\\'t hold a candle to anything in Japan or some of the better Metro lines in Paris. But those lines are well-funded. That\\'s simply not the case anywhere in the US.\\\\n\\\\nSimply because the T shuts down at night, it\\'s cleaner than anything in NYC. Sure, it\\'s not as fast, but Boston\\'s not nearly as big as NYC, so it\\'s fast enough.  Compared to any other public transit in the US, the red line is awesome. \\\\n\\\\nLook, all of the MBTA -- the trains, the busses, the stops -- they are all showing signs of neglect. It\\'s in debt by several billion dollars. So they\\'re not going to add any fancy new features or do any serious upgrading until they have money to pay for it.  So knowing all this, I\\'m still really quite happy with the red line.\"', 'b\"3.5 stars! I got the avocado margarita and it was delicious! Customer service was OK, but they were busy. The food was better than expected and the meat wasn\\'t overly salty. I will definitely return!!!\"', 'b\"First time being here and I\\'m not going anywhere else for my truck needs from now on.  Right when I feel like customer service is lacking in my day to day dealings, Miguel and the crew at Lambs turned all that around in a few minutes.  These guys got me in late in the day after work, gave me great advice about my truck without trying to pitch anything, took care of my tire quickly and had me on my way.  This place definitely stands out and I\\'m for sure coming back for an oil change, rotation, and whatever else I need in the future.  Thanks guys I really appreciate it.\"', 'b\"I love ale house. I\\'m here all the time. The 1 star isn\\'t for the place or for the service. The 1 star is for the management. You give absolutely zero respect to the game of soccer.\\\\n\\\\nI\\'ve been coming here since you opened and I\\'ve seen numerous times where you understaff for finals of tournaments where years past have shown you will be at capacity. \\\\n\\\\nIt\\'s a shame you have a great establishment and great employees. If only management could sort it out this place would be 5 stars\"', \"b'This has not been a pleasant experience. According to our server, the restaurant is short on staff. This means our service has been frightfully slow. We have been here over an hour with receiving our food. Most of the food was good, except for the steak that was tough. This is a trendy place. Great spot to be seen. Food is just okay.'\", 'b\\'\"A Bit Embarrassed\"\\\\n\\\\nI\\\\\\'m not exactly sure where to start with this update, other than saying that my intention was absolutely NOT to get my - or everyone\\\\\\'s- meal comped last night.\\\\n\\\\nYes, I\\\\\\'m doing the Eat On $30 Challenge. Yes, I was swayed by another Yelper to go to Rosebud, even while fully aware that I didn\\\\\\'t want the $5 Mystery Monday meal (biscuits and gravy with a fried egg - looked good when I saw James H.\\\\\\'s, Emily R.\\\\\\'s and Alain L.\\\\\\'s orders, but just not something I really like at all) so I was probably getting myself into a grossly-tempting land of foodiness, given all the other things I know or think sound goody good on their menu. I went anyway!I wanted the company and I\\\\\\'m so used to dining out, I couldn\\\\\\'t resist, I suppose!!\\\\n\\\\nLong story short, the service was Capital-B Bad. BAD. Slow. Inattentive. As Lauren S. noted, no refills on water, plus other drinks were slow and things like James H.\\\\\\'s grits side and Emily R.\\\\\\'s fries were either forgotten (the former) or delayed and without steak sauce (the latter). Then, the first few folks to cash out clearly asked for separate checks, fiiiiiiinally got one that was all together, had to ask for it to be corrected . . . only to find that each one had a 20% \"service charge\" tacked on. Huh?! We all sat in the bar area, the group just kinda grew as people filtered in, and nowhere on the menu does it mention anything about an auto-add for \"big parties.\" Besides, I thought it was insulting because pretty much everyone at the table goes there a lot or at least often-enough to have talked with Ron and be a pretty familiar \"face\" - and we\\\\\\'re Yelpers, so we\\\\\\'re gonna tip you (oh, and PS? Not everyone ordered the $5 special, like Kathleen M. with her shrimp-n-grits or Lauren S. with her breakfast bowl . . . no one was gonna stiff them!).\\\\n\\\\nStill, our first three dining companions left without much fanfare, and I figured, \"hey, bad night.\" Then . . . the rest of us got ready to leave and a) our server took for-freakin\\\\\\'-ever to bring checks, and b) (the last straw in my book) dropped Emily R.\\\\\\'s to-go box on the floor, picked it up and resealed it, and dropped it in front of her like nothing had happened. Oh, did I mention that while we were waiting on our checks, we got to see several other servers (note: not ours) eating some of Ron\\\\\\'s wings at the bar with \"regulars\" (as he later described them)?? Yeah, it was a BAD night at Rosebud.\\\\n\\\\nSo when our server finally came back with the checks, I spoke up. My intention was to let him know that we were \"nonplussed\" and, as I stated to him, he should remove the \"automatic 20% service charge if he\\\\\\'d included it.\" A couple minutes later, Ron came out to \"chat.\"\\\\n\\\\nI have to say . . . I\\\\\\'m \"a little bit embarrassed\" because I\\\\\\'m not the diner who wants her meal comped for any little reason, or, really, ever, unless it\\\\\\'s a gracious gesture on management\\\\\\'s part. And when Ron came over, it felt, well, like our server had tattled to Daddy . . . and that Ron didn\\\\\\'t really want to hear what had happened. He said most of the right things, and \"agreed\" with comments, but suddenly I felt like I was the only one speaking up, he didn\\\\\\'t *really* care, he noted he\\\\\\'d worked \"80 or 90 hours\" in the last week (ok, but you\\\\\\'re the owner, right? The resto business is nothing close to easy . . . what does that have to do with our conversation??), and he tried to defend his server as well as justify the service charge . . . and then he said \"I can see where this is going . . . let me just take care of all of your dinners.\"\\\\n\\\\nWell, sh*t. Not really what I wanted to have happen. Honestly, it just seemed like an easy out to get *me* (us) to STHU. And then . . . how do I tip on a non-dinner? Especially one where I just had Bloody Mary\\\\\\'s once noting how sloooow everyone\\\\\\'s food orders came, despite being tempted? And do I just take it as a \"freebie\" given my week of Eat On $30 challengedom?? It was all too much. It seemed we all left awkwardly (not to mention that Kathleen, James, and Lauren had to pay, including a \"service charge\" and we didn\\\\\\'t) and while Emily \"tipped for me\" since I didn\\\\\\'t eat, but she knew I felt weird, I left with the overall thought . . . \"Huh?? What just happened??\"\\\\n\\\\nMonday. I will chalk it all up to Monday. I really like Rosebud and want to continue going often and recommending it to folks, but I left feeling -and still feel - like I need to *digest* my most recent experience . . .\\'', 'b\"This place has some of the BEST chinese take-out in Portland. Don\\'t let the inside-a-bar vibe scare you away. WE LOVE HAPPY FORTUNE. Just thinking about it makes me want to go there right now. Plus.. they have great prices. \\\\n\\\\nHere\\'s some of our favorites over the years: General Tso\\'s (nice and spicy), the crab puffs, lo-mein. \\\\n\\\\nThe service is great -- cheap drinks, while you\\'re waiting, from plucky, yet-very-nice bartenders. Interesting people watching, but make sure to order from the bar-side of the place for that.\"', 'b\\'Just had Yalla for lunch today. I work on Krog Street, so figured I would give it a shot today. The line was VERY Long (about 10 people deep), which must mean it is good. I waited, and waited, and waited in line for about 20 minutes. My co-workers went to Fred\\\\\\'s and had ordered and almost finished their food by the time I sat down at a table. I stuck it out in line though. The people behind the counter are very slow. Maybe because they have only been open for three weeks they are still working on the process. There is room for improvement on \"moving orders through the line.\"\\\\n\\\\nIt\\\\\\'s basically like a burrito place, but Mediterranean food. I got the pita Shawarma ($8) which was a little pricey considering this was their smallest size. One size up is basically a Mediterranean tortilla which was $14. That is VERY steep vs a burrito place being about $6.50 or $7.\\\\n\\\\nThey did a great job loading it up though with lots of sauces and vegis. Food wise, I would give them a 4 as everything tasted great. Service wise, I would have to give them a 2 as the wait was terrible! 20 minutes in line is crazy for only having about 10 people in line. Good food, but the prices are very high too.\\'', 'b\"Overall Recommendation:  If you like fried chicken, you should definitely check this place out.  Be forewarned that it\\'s not a nice restaurant like the Flying Biscuit or Mary Macs so adjust your expectations for decor and service.  My husband and I are not from the South but as we ate our way through Atlanta, the Busy Bee Cafe ranked #1 on both our lists.\\\\n\\\\nPros\\\\n  - BEST FRIED CHICKEN WE\\'VE EVER HAD...perfectly crispy skin with \\\\n    great flavor. It seriously makes me not very excited to eat fried chicken \\\\n    anytime soon because I know anywhere I go in Boston won\\'t be as \\\\n    good.\\\\n  - Ribs with a nice, smokey taste\\\\n  - Super mac n\\' cheese made with real cheese\\\\n  - Dang good corn muffins you can munch on before your food arrives.\\\\n\\\\nCons\\\\n  - Very busy so be prepared to wait (and you should because it\\'s worth it)\\\\n  - No air conditioning so in the summer it can get pretty toasty.  We were \\\\n    there at the end of June and even with the fans going, it was warm.\\\\n  - Sweet tea is too sweet for me\\\\n\\\\n**Note: There\\'s a small parking lot as well as street parking.  However if you park on the street, the meters are really expensive...something crazy like $2 an hour.\"', 'b\"best pizza on a busy street! my kids love it. i\\'ve been recommending to everyone who has a birthday party in that area to order from pizzapalooza and they are not disappointed. the pizza is thick, square and yummY! so many varieties, i love their pasta with meatball too! They also serve ice cream. This is a good value comfort food place for me and my family.\"', \"b'So sad to learn they are demolishing this. Always loved coming here and seeing all the graffiti art work.'\", 'b\"Had the worst experience there today when I tried to have a breakfast. The service was slow waited at least 30 min for my French toast and when it got there I pulled a long grosse hair out of it. I\\'m never going there again!\"', 'b\"I wanted this to be a great place, but I wasn\\'t impressed.  I went there for dinner on a Monday.  I tried the pulled pork sandwich--it seemed like a sort of specialty.  My husband had the burger.  The buns left something to be desired.  The fries were okay but a little cold.  But at about $10 per entree for bar food, it wasn\\'t as good as it should have been.  Service was fine--they were overstaffed.  I don\\'t think I will be back anytime soon.\"', \"b'Incredible donuts. Sometimes you have to go early to have the full selection but the donuts never disappoint.'\", \"b'New owner is raising the bar with designer womens clothing.'\", 'b\"Kudos to AutoNation! We had an oil change done at another franchise and found our Toyota leaking oil the next day. We took it back to said business and they came up with all kinds of reasons that they weren\\'t at fault. We brought the car to AutoNation, and in less than an hour we were shown that the first place used the wrong type of oil filter. Bravo! faced with the evidence the first place gave us the refund we requested.\\\\n\\\\nThe indoor theater and popcorn are a nice touch too! :D\"', \"b'Dont bother going to voodoo, just come here instead. They have such unique flavors and everything is so fresh. Oh, and try their cold brew too!'\", \"b'Bummer. I was very disappointed.  So I finally stopped in for take out.  I got the fried haddock sandwich with fries.  The fries were frozen and greasy..  The haddock sandwich was not good.  Tasted  very fishy and frozen.  I had such high hopes their take out would be good.'\", 'b\"Overall is good, is worth the line up I don\\'t think so, mainly Instagram addict\\'s go here. Believe me the food is great, service is ok, the hype about it I still dont get it.\"', 'b\"It\\'s a pleasure doing business with them. Very good service and hospitable staff.\"', \"b'The ramen here is less than great. It came out luke warm and oily. The service we received was NOT good. I will not be returning.'\", 'b\\'This a great place to go to be social with a group.  I went yesterday and had to wait in line ten minutes just to get in, but no big deal, as the newest addition to Kendall Square the \"new\" factor of State Park delivers on the hype and is worth the wait!\\\\n\\\\nThe place was packed but it somehow did not feel crowded and while we were only there for drinks I will be back for the southern food. \\\\n\\\\nThe bar tenders kept everyone happy in the crowded restaurant and with good Juke Box tunes, fun shuffle board and great decor all of the ingredients were primed for a fun fueled night. \\\\n\\\\nKudos to the female bartender for making me and my friends 8  Moscow Mules and one great dirty Vodka Martini.  The group all agreed - delicious, 8 for 8! \\\\n\\\\nA raucous good time in the always fun and classy Kendall Square.  If you\\\\\\'re bar hopping near Inman and Kendall save yourself the walk to Central and crash the party at State Park.\\'', \"b'I just got done with lunch here. It has been okay in the past, but today, the service was a failure on multiple levels. First, it look a long time for my food to come out, and the waitress initially brought the wrong order. Then, it look 20 minutes before I was able to chase down the waitress to pay my check. Finally, when I received my check, they charged dinner pricing for a lunch. I was running late to get back to the office, so I paid it, but all said, the service was inexcusable. I write in the hopes that you will take corrective action, whether in coaching your staff, or hiring more people for the lunch rush.'\", 'b\"This place has everything-I finally found Dogfish 120m IPA! If they don\\'t have it the store, ask if they have it in the back.\"', 'b\"Brasserie zero zero... we were hoping for a ten based on how highly recommended it was however, we were very disappointed with the quality of the food. We ordered escargot and artichoke to start. Escargot was covered in a bitter green sauce- butter and garlic would have really helped. The artichoke wasn\\'t cooked properly and was minimally seasoned. It was also small portions, about a fourth of an artichoke in size. Even after sending back the artichoke it still was tough and not fully cooked. \\\\n\\\\nWe ordered the lamb chops for our main with a side of mashed potatoes. The potatoes were sour and not as creamy as expected. For $35 we received two lamb chops with a tasty mustard sauce but the accompanying vegetables were tasteless and again, disappointing. The ambiance and service was great and we had a yummy creme br\\\\xc3\\\\xbbl\\\\xc3\\\\xa9e brought to our table for the birthday we were celebrating but we wished the rest of the meal had lived up to the hype.\"', \"b'Bummer that the price for a ticket to the hotel was the same price as a rental car.  It was an ok ride but we should have just gotten a car.\\\\n\\\\nAlso, you need to walk way down from the desk to the waiting area to catch the shuttle.  Good thing we traveled light.\\\\n\\\\nLesson-ed learned for next time.'\", 'b\"My husband and I shared the parmesan truffly fries. They were pretty good and plentiful. Two to three can definitely share. I\\'m a vegetarian and was going to order the La Bandita. However, the waitress suggested the goodnight burger with a veggie patty. It sounded great so I opted to try it. After all, this was my first visit to a Hopdoddy and she would know better than I would. Despite the different elements, the burger to me was very bland. The patty didn\\'t have much flavor and there wasn\\'t much sauce. (When the waitress pitched the burger, she said it have more flavor than the La Bandita because of the sauce. Since I\\'m all about the sauce, it helped to sell me on this burger.) \\\\n\\\\nJust a note on the Impossible burger: I\\'m a vegetarian that does not miss meat or the flavor of meat. Because this burger tries to replicate the texture and flavor or meat, it really turned me off.\\\\n\\\\nMy husband went with the classic and added bacon and cheese. The burger arrived with only cheese (no bacon). He said it was alright but he didn\\'t rave about it in a way that told me he was in love with it.\\\\n\\\\nWe ordered a banana shake that was one of their feature items. It wasn\\'t as thick and not ice cold as we would expect for a shake. It was much closer to room temperature and had a thin consistency.\\\\n\\\\nWould I go back? Maybe. I would definitely try the La Bandita to give that burger a shot. A quick note about the line: it moved pretty quickly. Once we got inside, a couple of spots opened up at the bar and the waitress invited us over to sit there. We jumped at the opportunity and saved about another 10 minutes in line.\"', 'b\\'\"Even the mad Captain Ahab is touched by Starbuck\\\\\\'s goodness...\"\\\\n  Herman Melville \\\\n\\\\nThe drive-thru was jammed with vehicles when I pulled up, so I opted to park and go to the walk-up window. \\\\n\\\\nThe staff were super friendly! More then a few of them said hello to me while I ordered. Even though they were busy, they were all genuinely smiling. They look like they enjoy their job. Great teamwork! \\\\nI think this is the friendliest Starbucks I\\\\\\'ve ever visited. \\\\n\\\\nThe building is architecturally pleasing to me so it catches my eye every time I\\\\\\'ve driven past it. I\\\\\\'m glad I stopped this time.\\\\n\\\\nIt\\\\\\'s close to my freeway entrance so I\\\\\\'ll be making this a regular stop from now on. If you\\\\\\'re in the area, you should too!\\'', \"b'We had lunch there on a Sunday afternoon and it was great.  We ordered 2 gluten free pizzas and both were uniquely delicious!  The service was great and it was an overall fantastic experience.  Will definitely be back.'\", 'b\\'Overall can be a great experience if you\\\\\\'re a regular and know what you are doing. You pick your car, get in, and you go. However for the rest of us like myself with family in toll, don\\\\\\'t expect much customer assistance. Upon arriving to the National garage at MCO, we did not see anyone in the attendant booth so we proceeded to \"choosing our car\" (I am an Emerald\\\\\\'s Club member so we got to pick any car from the respective lane). The caveat is I had a car seat reserved as well for my little one. After we chose our car and had my family inside our chosen vehicle (garage is located outdoors and it\\\\\\'s FL) I proceeded to head back to the attendant\\\\\\'s help for the car seat. Still no attendant, waited another 10 min before someone showed up. When he finally came back, no personal greetings and was a bit short when I asked about the car seat, he pointed to a pile of car seats on a shelf and walked away. Forget about any type of help with installation. Can be a bit tricky inside a covered garage (dark), an unfamiliar car seat, toddler crawling around the car and did I mention the FL weather...\\\\n\\\\nThe return was a breeze, you proceed to the designated lane and grab your stuff to go. The rep will hand you a receipt and you walk to the terminal.\\'', 'b\"For the price we paid (about $50 for 2 people) the food was only so-so and the service was AWFUL. Our waitress sounded like a robot, and we had to grab another waiter several times because she never came back to check on us. The food came out and it looked like it had been sitting in the back a while, it was barely warm and a film had formed over the top of my ravioli. Overall, very unimpressed and I don\\'t think I would go back or recommend this location to a friend.\"', \"b'Amazing Service!!! Very professional & courteous staff!! The best way to deliver excellent customer service is by following up with your customers and keeping your word helping them.\\\\nTine Hopson and Stephen Cimino provided excellent customer service by following up with me all the time and keeping their word :)  Thank you both of you being so awesome!!!'\", 'b\"Seriously, why aren\\'t you at Comfort?\\\\n\\\\nTonight was a special occasion, and we wanted to try something new.  Yelp led us to Comfort.   So worth it!\\\\n\\\\nThis is a new place, and I guess Watertown is giving them a hard time about signs, as they don\\'t have one yet.  To get there, find the Persian restaurant below and head up the stairs.\\\\n\\\\nThere\\'s a small bar (with a large TV) that opens into a lovely, warm dining room.  The ceiling is high and sloped, the exposed brick adorned with a small, gold threaded tapestry.  We were the only ones there, and got to sit by the window.\\\\n\\\\nWe were served by the owner, who was super nice and very attentive.  He really cared that we enjoyed our food, and seemed like an all around nice guy.\\\\n\\\\nI tried the mac and cheese, which was rich, flavorful and wonderful.  The green beans that accompanied it were cooked and seasoned well.  My cohort ordered buffalo wings and a salad.  I was able to try the latter, and was impressed at how fresh everything was.  He enjoyed his wings, which says a lot as he\\'s from Buffalo and is impossible to please when it comes to these things.  I was able to sample the blue cheese that came with the wings and was really impressed.  It wasn\\'t just blue cheese - I could distinctly taste gorgonzola in there.  I asked the owner about it, and he confirmed it.  He then added that pretty much everything (including said dressing) was made on site.  That says a lot, if you ask me.\\\\n\\\\nOh, and I\\'d like to thank the bartender for leaving off the sugar on my martini glass.  Sugar is like an unnecessary set of very sticky training wheels.  Three cheers for a decent lemon martini.\\\\n\\\\nWe were the only ones in the dining room tonight.  Don\\'t get me wrong, I loved the privacy and quiet of the empty room, but something tells me Comfort shouldn\\'t remain a secret.  Get thee to Comfort.  And while you\\'re at it, bring me back some of that blue cheese / gorgonzola yumminess.\"', \"b'Fix the Beer.  The hardware is the problem. At least 15 out of the 45 taps are faulty.  Sorry guys, but I have given you 5 years and other customers will notice, Please Scott.'\", 'b\"its the best pizza hut i\\'v found in florida always got great deals & offers the staff are very friendly & make you feel welcome and if you have children with you they make them feel extra special & welcome them in a huge way too\"', 'b\"certainly don\\'t come here for the ambiance. it appears like it used to be a walk-up ice cream window in the front, which is semi-camouflaged with curtains. the service is okay - efficient, but not overly friendly or helpful. we mostly stick to the curries here, which are good. often filled with a lot of tufts students during the school year, probably b/c it is not so crowded and can accommodate larger groups.\\\\n\\\\nsometimes one of the employees (or their family members) are playing an electronic keyboard.\"', 'b\\'I\\\\\\'m having trouble deciding how to rate Tomatillos, because certain things were definitely five star, and other things were kinda meh. However, I have to give them props because it seems like they\\\\\\'re using Yelp in the right way - they\\\\\\'re using it to get a consensus and improve on things. I read about tomatillos a while ago online, and since then I\\\\\\'ve been curious to try it. After a productive study session, I went with a friend here for lunch. Their special sounded tempting, but after having seen their menu online, I\\\\\\'ve been dying to try their potato and green chile burrito, so that\\\\\\'s what I ordered. Since we were there for lunch, the guy at the counter told me they actually had a lunch special where for $8 you could get a burrito, chips and a drink. Sounded like a pretty good deal, so I got it. This is where I hand it to them. I assumed that all the extra toppings cost, well, extra, but there was no longer a price written next to them like there was on the menu I saw online. I then found out that they aren\\\\\\'t, so I also got roasted corn and avocado added to my burrito (I didn\\\\\\'t want to add too much and have the burrito be untenably huge!). My friend ordered a shrimp quesadilla and had like four extra toppings added to his.\\\\n\\\\nThere were a couple of minor things that bothered me. After ordering at the counter, I wasn\\\\\\'t sure if I was supposed to go up and get my burrito once they called it out, or if I was supposed to wait for someone to bring it to me. There\\\\\\'s nothing stated anywhere, and they surely didn\\\\\\'t say anything, so I just went up and got it. But then a couple after us had their food brought to them by the guy at the counter. Hmm. Odd. I was also kinda \"meh\" on the salsa at the table, and the chips that came with my lunch special. The chips tasted a little greasy to me, and the salsas just weren\\\\\\'t that great. I was expecting the tomatillo salsa to be amazing, considering the name of the restaurant was called tomatillos. Instead, it just tasted like they added waaaaaaaaay too much lime juice to me. I cannot remember a single thing about the red salsa, which just is a bad sign, considering I ate there like 3 hours ago.\\\\n\\\\nI will say though, that the potato and green chile was AMAZING. Definitely the best parts of the burrito were the very nicely seasoned potatoes, and the absolutely delicious blend of cheese they used inside. Pinto beans were nicely cooked, too. I\\\\\\'m kind of meh on the roasted corn, but since I didn\\\\\\'t pay extra, that wasn\\\\\\'t really a deal breaker for me.\\\\n\\\\nI definitely will be coming back here. They have ample parking, the space is really nice, and I really appreciate the fact that they seem to be doing their homework and improving what they can. I really think if they continue the way that they are, that this place will just get better with time.\\'', 'b\\'So my roommate borrowed my clock radio and apparently left it set to this station. This meant I got to wake up to my normal 7 a.m. radio alarm hearing some god awful \"dude-bro\"/man child apparently named \"Lunchbox\" YELLING literally at the top of his lungs. Gee, can you think of a more UNPLEASANT way to wake up at 7 a.m? I honestly think I would have rather woken up to a cheese grater across my face than listen to this frat-boy douche yelling like a 5 year old having a tantrum in the name of some morning show bit. Then one of the other hosts couldn\\\\\\'t even identify a Bon Jovi song playing? Are you kidding me? Where the hell did they find these people and please wherever it was send them back and get them off the damn radio or any job where they are actually required to speak for that matter. As for me I have re-adjusted my radio dial to a different station and banned my roommate from ever borrowing my clock radio again!\\'', 'b\\'It\\\\\\'s crazy how establishments on the west coast have so many more yelp reviews than places on the east coast.  I find this extremely fascinating and I wish more people would be as passionate as the west coast has proven to me.\\\\n\\\\nIt was recommended that we go here for brunch...needless to say whomever told me this, is a genius.\\\\n\\\\nFresh brunch food, delicious infused vodka\\\\\\'s, awesome buttermilk biscuits.\\\\n\\\\nI ordered the \"roll over\"  two potato cakes that had a egg scramble with delicious sausage that wasn\\\\\\'t gross and covered in grease and then all of this was topped with your choice of a bacon gravy or a mushroom and rosemary gravy.  Personally, I chose the mushroom rosemary gravy and I think that it was hands down the best gravy I had ever tried.\\\\n\\\\nI might has well licked the entire plate because it looked like it when I was finished.  The flavors were just right and I was shocked at the lack of greasiness that usual breakfast foods come with and their perfectly prepared dishes were done to my liking!\\\\n\\\\nLastly, make sure you order the biscuit too because it\\\\\\'s heaven baked in the oven for your enjoyment.\\\\n\\\\nTake care & savor it up!\\'', \"b'Perfect spices, nice atmosphere & music, great lighting and decor. Even the restroom area is pretty cool.  Will definitely come again.'\", \"b'Was not that great. We sat for like 15 mins before getting our drink orders done. We were literally the only table in the restaurant taken. We had like 3 different waiters. Appetizers all came out within like 5-10 min intervals of each other. All 3 of us ordered 2 different rolls and it took like 30 mins to come out. Sushi was alright but I would say to much for the quality.'\", 'b\"I think SideBar is the only restaurant downtown where you can have a 2 hour lunch and only spend 15 minutes of that actually eating and enjoying it.  The rest is spent waiting.  Mainly for grilled cheese, which apparently takes 45 minutes to make.  Maybe they were furiously Googling the ingredients or something?  Who knows.  But for some reason it took an ungodly amount of time and was last to the table.\\\\n\\\\nThe service was also slow, mainly because as our waitress noted, they don\\'t have trays so she couldn\\'t carry drinks or food for 4 people, which resulted in multiple runs back to the kitchen and bar.  Which is understandable because it TOTALLY makes sense to not have serving trays in a restaurant.  I mean, how out of place would that be?  Trays?  In a restaurant?  I can\\'t imagine.  That would be like having alcohol at a bar.  Too foreign a concept.\\\\n\\\\nAnyway.  I get it isn\\'t the best or classiest place downtown, so I cut it some slack, but an obscene wait for food and a borderline inept waitress are two things you don\\'t want to deal with on a Thursday when you are a hung over and hungry group because you all maybe had one martini too many the previous night.\"', 'b\"5 stars for the location, it\\'s absolutely wonderful. I ordered the shamrock bubble tea, which was one of the best I\\'ve ever had. I am subtracting a star for service however.  It was the barista that was so put out by waiting on us and then the 10-15 minutes it took to make the bubble tea... That\\'s a bit long for a drink.\"', 'b\"I come here to have my hair done by the amazing Elizabeth Eisenstein. She\\'s here until March 2016. So get here while she\\'s cheap!! Not only have I been very impressed with the quality of service I have received from Elizabeth, I am very happy with the instructors involvement to ensure perfection. I have curly hair which I am very particular about and the instructors have been very good at listening to my needs and my concerns as well as understanding how I prefer to style my hair.  I am a fan of this place. I plan on coming back for facials with my mother next month.\"', 'b\"Located in the German Village, this Cup o Joe is the best in the chain, in my opinion.  A huge dessert selection and drink menu ensure that there\\'s something for everyone\\'s taste.  The atmosphere is casual, comfortable, and relaxing.  Free WiFi and a location right next to the Book Loft ensure that this place will always be doing business, despite the Starbucks across the street.\"', 'b\"Falafel wrap - falafel with greens, pickles, and hummus in  a toasted wrap. I wonder why the reviews were so low. I entered without looking at yelp initially but then after checking in and seeing the amount of stars I kind of grew the assumption that it wasn\\'t going to be good.  But it was really good. This was probably the best falafel wrap I ever had. They pressed the wrap too so it has a nice crunch but still soft to chew. The falafels weren\\'t bland and each bite tasted the same, which makes wraps great, since it\\'s evenly disturbed. \\\\n\\\\nThey are far from cheap on the stuffing so eat up! The wait time wasn\\'t long during their busy time and it\\'s a good portion for a hungry person, so I suggest checking this place out.\"', 'b\"If this isn\\'t your first time at the specialty coffee rodeo and if you know you\\'re way around a pour over, burr grinder, and espresso machine then most likely you will be slightly annoyed that the baristas talk to you like you\\'ve never heard of pour over and that they are the only place in Boston that serves good specialty coffee. I know coffee, am passionate about coffee, and Im always looking for the best roaster out there.  George Howell is a legend but the coffee here is honestly not that impressive.\\\\n\\\\nOne story - I ordered an Ethiopian pour over and asked for it to be made on the machine instead of by hand as I wanted to watch the machine in action. I paid $4 with my CC. I was then told that they don\\'t have any Ethiopian but they would make me Kenyan which is very similar (not in my opinion but ok I\\'ll go with it - there was Ethiopian on the shelf so I\\'m a little confused... why can you just go grab it and make it for me? That is what I ordered.)  Next I\\'m told they can\\'t use the machine because it isn\\'t on. Long story short I get my coffee after 10 minutes. And after drinking it I am never asked how it was, if I was ok with them switching out the coffee I ordered.  I don\\'t know about you but I expect more. \\\\n\\\\nI\\'ve decided that my coffee money is better spent elsewhere supporting people and roasters that are starting out. Sorry George, but ya let me down.\"', \"b'Called in flowers over the phone and I was pretty unimpressed with the arrangement they delivered.'\", 'b\"If service is any indication, then I\\'m never going back.  \\\\r\\\\n\\\\r\\\\nWe were basically seated at a table by the host, then told quite rudely by the server that we couldn\\'t sit there.  Then we proceeded to watch as the host and server fought over whether we could sit there or not (while we were trying to scurry away).  Finally we were moved to another server\\'s section, who basically treated us like crap as well.\\\\r\\\\n\\\\r\\\\nI really can\\'t figure out why we stayed?  Cheap beer, I guess.   The food is unremarkable (good wings, though), parking is a pain, and there are so many better places to go.\"', 'b\"That was very gratifying!  Sometimes, I just crave a really good burger and fries with a coke.  PDX Sliders delivered without the guilt. Their sliders are about three inches across, small, but packs a lot of flavor and satisfying.  My sister order the Morrison which was an herb-marinated chicken with bacon, pesto, baby arugula, and aioli on Ciabatta.  I ordered two, the Sellwood and Hawthorne--one to split with her.  The Sellwood consisted of a beef, patty, bacon, aged sheddar, caramelized onions, butter lettuce, aioli and the Hawthorne had a beef patty, bacon, goat cheese, strawberry preserves on Brioche.  Of course, she wanted to share the Hawthorne.  I took a bite of the Hawthorne first and didn\\'t want to give the rest to her.  It was so succulent!  The sweetness of the preserves with the tang of the goat cheese complimented the medium-rare beef patty well.  My sister didn\\'t care for the Morrison, she felt that it was something that she could\\'ve made at home and the Sellwood was delicious but very typical burger flavors.  Love that their truffle fries are super crispy!  I think there will be more Hawthorne burgers in my future. While sitting at the benches eating, I was surprise that they get a lot weird people constantly walking by for that area.\"', 'b\"My husband and I have done business with Beaverton Toyota 3 times and each time, they\\'ve blown me away at the service they\\'ve provided (I mean that in a good way). We\\'ve had the following salesman help us over the years - Mo Jafari, Salah Husein, and Drew (can\\'t remember his last name)....and we can\\'t forget the one who has always been the one to \\'make it all happen\\' - Josh Ford ( who was once the Sales Manager and now is a one of the Finance Managers). Each time we\\'ve gone in there, we presented them with some pretty tough challenges as to what we want to get out of and get in to, the negative equity that always seems to be involved, and the little down payment we never seem to have. But no matter how impossible our requests have seemed, they have always welcomed the challenges and have gone above and beyond to \\'make it happen\\' for us and make sure we leave their lot a happy (and returning) customer. Just to share an example: My husband wanted a car on a Subaru lot really bad! But that dealership wouldn\\'t give him the amount he wanted for his trade-in, so the numbers didn\\'t work, which means he couldn\\'t get the car. Well, when we told Beaverton Toyota about it, they went over to that Subaru lot, bought the car, brought it back to their lot, gave my husband what he was asking for his trade-in, and sold him the Subaru themselves! We were in shock and awe at how above and beyond they went. They don\\'t try to convince you to \\'settle for something else\\' because what you really want is too much of a challenge in making the numbers work. Their attitudes are \\'BRING IT!\\' When it comes to the sales part of their jobs, they aren\\'t pushy at all, annoying, or smothering, which I for one can highly appreciate as I HATE the car buying process (despite the fact that I\\'ve traded a car in almost every year for the past few years)! They show and express that they really care about what it is YOU want and also show that your safety and comfort (and that of your passengers) is important to them as well. They are always very patient (I speak from experience as I am not the easiest person to do business with), respectful, professional, and relaxed. If I ever had an issue with a car after purchasing it (which is rare), they are all over taking care of it like white on rice! \\\\nI brag about these guys to everyone I know. They deserve it. I\\'ve been to so many other dealerships and I\\'ve never have had the kind of experience with them that I do with Beaverton Toyota. I think, given all the cars I\\'ve had over the past few years, and the fact that I LOVE the Toyota they put me in to recently, it will be a long while before I do any car shopping. But if and when I decide to car shop again, I won\\'t be going anywhere else but there.\"', 'b\"What a gorgeous restaurant ! Three very different rooms to dine from three different parts of the world . Wow I am impressed, the food was amazing . Animal kingdom is just getting better and better by adding this gem. Avatar (pandora ) is set to open in May, can\\'t wait!\"', 'b\\'I have been going to \"Awesome Tan\" since I moved to Brookline in 1998 It has been 16 years and I love the place They have always take an excellent care of me and they make me feel special when I\\\\\\'m there There are even a couple of the same girls who\\\\\\'ve worked there since the day I started going I think that says a lot about the owners and the coworker relationships The girls are always very polite and they will take care of all your needs The place is very clean and the prices are reasonable My favorite part is Maria\\\\\\'s gorgeous flower arrangements.\\'', 'b\"Snap is my go-to lunch spot nearly every day! The variety is endless and they are constantly adding new menu items. The Snap team is super friendly and helpful. Almost every time I ask them how a certain item is that I haven\\'t tried yet, they offer to buy it for me so I can try it risk-free. Their food is fresh, delicious, healthy, and easy. What more can you ask for!? Snap for President.\\\\nTip: Anytime I eat these at home (instead of work) I heat them up in a skillet on the stovetop. It\\'s tasty, microwave-free AND it feels home-cooked. :)\"', 'b\"Jacks is the place to be. \\\\nThe food is exceptional, I recommend the calzones! Or one of their funky pizza slice creations (hotdog pizza ect)! They have some good alcohol prices and a good atmosphere. During dinner it\\'s always packed though so be prepared to sit out back!\"', 'b\"By no means is me giving Habaneros 3 stars a bad thing. This is my go to spot for Mexican food when my family comes to visit me from NY. It\\'s cheap, it\\'s quick and it\\'s surprisingly good. The establishment offers a wide selection of Mexican dinners and combination specials, common in other traditional Mexican restaurants. If you\\'re a fan of Mexican food, especially if you\\'re from out of town just go here and eat. Parking isn\\'t bad, your seated immediately and there is always a table available. Unfortunately there can sometimes be minor communication errors with your waitresses and the staff so make sure to be very clear with what you want when placing your Oder. The food is good, nothing amazing but it definitely hits the spot.\"', 'b\\'A few months back i went in for a toothache and ended up needing a root canal after diagnosis from Dr. Austria. the front desk then comes to me while I\\\\\\'m still in the chair stating it\\\\\\'ll cost $1400 because ive reached the cap on my insurance. i told them i couldn\\\\\\'t afford it, they then purpose a payment plan im thinking wow they really want to help me. Being desperate and scared I signed this inter-office agreement. the dentist per their chart, extirpated my canals. That\\\\\\'s it. i tried to be ahead of the game and paid $300 toward the  treatment. But after looking around more and\\\\nafter talking to another dentist and insurance i decided to go to a different location where the complete treatment would be half the price and same quality (better work actually) the front desk at the new location treats me with respect and doesn\\\\\\'t make me feel like I\\\\\\'m scum.\\\\nBethany dental front desk staff didn\\\\\\'t help at all with the situation. after numerous contacts explaining ive done a root canal elsewhere they have billed me for nearly $800 for a supposed root canal (it would of been more if i hadn\\\\\\'t blocked them from my bank) i actually received an email from them stating \"we accessed the pulp chamber and cleaned the canals which is a root canal\" I\\\\\\'m not stupid Google exists and honey a root canals consists of way more steps then just cleaning the roots. If all the dentist did was extirpate my canals then bill me for that, nothing else! \\\\nBefore doing any kind of expensive procedure at Bethany Dental, don\\\\\\'t me like me and rush into it, take an extra day and look elsewhere other wise they\\\\\\'ll keep billing you for something they never even completed at outrageous costs.\\'', 'b\"This restaurant is delicious! I\\'ve had Ethiopian in DC (which is the best I\\'ve tried) but this place is a close runner up.\\\\n\\\\nThe boyfriend and I came in on a Wednesday night and were seated immediately. We first got the honey wine which was really sweet and syrupy. It reminded me of mead. Then we got the meat combo and everything was tender, delicious and flavorful. They certainly don\\'t skip on the injera here. \\\\n\\\\nMy favorite part about this place specifically is that they serve the food traditional style in colorful baskets! I\\'ve never seen that before and it made the experience that much better :)\"', 'b\\'My favorite hangout, great music, unpretentious cool people and cheep PBR. Besides the concerts, The most fun nights are \"Heroes\"(80ies Party) and \"xMortis\"(Goth)\\'', \"b'Joey is the best and my cut grows out evenly and each day is like a new style.\\\\n\\\\nHighly recommend him!'\", 'b\\'Might be helpful if you were looking to buy, but if you need help with something you currently have then good luck getting any help or response.  I walked into this place around 5:30p on a Tuesday and there are seven workers sitting around and no customers in the store.  I went in to find out about a cracked screen on my galaxy I got three weeks ago- didn\\\\\\'t drop it or have anything hit it to my knowledge.  I figured it happens and was lucky I had insurance and was willing to pay the deductible.  Some guy named Chauncey looked annoyed to have to help (which he didn\\\\\\'t help at all so I don\\\\\\'t know why he was annoyed).  Immediately thought of everything they could say to get rid of me.  I purchased at a third party store, not a corporate store (had no clue of this myself); I could pay $350 and cancel the contract if I didn\\\\\\'t like it; I could buy a knew one.  Now I know why everyone hates Sprint- they don\\\\\\'t care about their customers.  Then some other worker wanders over and says, \"you know it can crack if you carry it in your pocket\" and walked off like she had just saved the day.  This place is terrible.  It\\\\\\'s obvious the workers don\\\\\\'t want to be there.  Stay away from this store and Sprint\\'', 'b\"This Chicken Express has been doing it right for years now. I\\'ve never had a problem, the service is always top notch, and the place is always squeaky clean - dining area, exterior, bathrooms, even the kitchen appears much cleaner than other fast food place from what I can see. I love their fried chicken liver and the manager told me that because they make each batch fresh that they are happy to take my order over the phone if I call ahead so that I don\\'t have to wait at the restaurant for the 6 minutes or so that it takes to cook. I live just down the street and I have taken them up on this offer several times. Even if it\\'s just one order of 6 chicken livers, they are happy to cook them up fresh so they are ready when I arrive. Now THAT is exceptional customer service. Thanks Chicken E!\"', 'b\"Something about this place made me feel like a smart, cool, hip, 30 something as soon as I walked in the door. The ambiance is dark and inviting at the same time. The tables are large and seat multiple parties together at each table, so it feels like you\\'re at a party -- a party for awesome people. \\\\n\\\\nThe menu is small, which is nice for the indecisive. We got a few things to share, starting with the cottage fries, which are basically thickly sliced potato chips. We got the beet salad which wasn\\'t bad, but wasn\\'t my favorite. They did marinate the beets in strawberry juice, which I\\'ve never seen done before. \\\\n\\\\nFor the entr\\\\xc3\\\\xa9e, we got the shrimp and grits, and it was incredible. The grits were creamy and dreamy on their own, but with the other ingredients including a poached egg, I could not stop eating even if I tried.  We also shared the chicken sausage, which was surprisingly very flavorful for what I was expecting. Do not get the bok choy as your vegetable side however - it was not cooked very well and I could not appreciate the flavors of garlic and lemon. \\\\n\\\\nDefinitely a cool place to eat and greet, I can\\'t wait to come back to try more things on the menu.\"', \"b'Nice staff. Subpar food for the price.'\", \"b'Unbelievably rude hostess \\\\nNo respect to customers. \\\\nServer, Dani was the only reason for us to stay... The level of unprofessionalism and unpleasant look that the two hostesses gave are just horrible. I have never experienced this low level of customer service...'\", 'b\"I was in Austin recently and searched for a place to eat on this fine website called Yelp. We were looking for hard tacos and came upon Evita\\'s Botanitas and the menu looked pretty great. So we GPS\\'d ourselves there and found ourselves in a small strip mall, nothing fancy. And the food did not disappoint!!\\\\n\\\\nFirst of all, the salsa they give you is above and beyond. They bring a two-tiered production with a basket of fresh tortilla chips and 5 or 6 different salsas, all of which were delicious and not at all \\'omg my mouth, it\\'s on fire\\'\\\\n\\\\nI ordered a house margarita (rocks with salt please!) which was ass kicking in a good way. For my dinner I ordered the vegetarian quesadillas, which I admit were served to me in a unfamilliar way. Maybe I was just Dumb White Girl but when they brought my food I thought they brought soft tacos instead of a quesadilla. Granted, I\\'d ordered the corn tortillas rather than flour, and it looked like a plate with several soft tacos. And oh man, were those some seriously delicious quesadillas! I don\\'t care what they looked like, they tasted like heaven.\\\\n\\\\nOur waitress was really friendly and I would highly recommend eating here. I will make it a point to come back the next time I\\'m in town.\"', 'b\"I used to love this place.  The food is very good, and thankfully that hasn\\'t changed.  However, after eating there about 12-15 times (usually the same dish), I noticed the portions were smaller than ever.  I asked the waitress, and she said it\\'s the same as always.  She\\'s been there for a while, so she obviously knows the difference and is just denying it.  It\\'s not my imagination because my wife noticed my plate and said the same thing.  \\\\n\\\\nI ordered a combo plate that you can choose up to four items.  I wanted three, and asked to just double up on the eggplant (which I ALWAYS do). The waitress said there would be a $2 up charge to double eggplant or babaganoush.  I looked at the menu, and the appetizer portion (which is bigger than the combo portion) of eggplant is only $1 more than the other items.  So where did the other dollar come from??  The babaganoush was the exact same price on the appetizer menu as the other items!  So where did the $2 up charge come from??  It made no sense to me whatsoever, but I did\\'t feel like arguing about it.  Even if there was a legitimate reason for the up charge, they should have it on the menu, like they do for grape leaves.  \\\\n\\\\nThe whole thing put a bad taste in my mouth.  Like I said, the food is tasty, but I might boycott this place just for the principal of it.\"', 'b\"My brother in law suggested this place, and we came here right after arriving in Orlando, so we were starving.\\\\n\\\\nThe service was good, the food was absolutely terrible. Every single dish. I ordered the mofongo de camarones (shrimp with mashed plantain). The shrimp came separate, and the garlic sauce lacked any flavor - it didn\\'t even taste like garlic! The sauce that typically comes with this dish (in a separate cup) looked and tasted like oil. So gross.\\\\n\\\\nI would never eat here again.\"', \"b'Will not be back!!! The service was just awful. We used a Scoutmob and they tried to act like we could not use it by saying they no longer accept it. However, I quickly let them know that the Scoutmob for this location was recently added. So, they decided to take it grudgingly. The food was only decent. The location is in some shady strip mall. The value was just okay. When we were about to pay, the server handed us a bill and I reminded her that we were using the 1/2 off Scoutmob deal, so she took the bill back and came back with another that was pretty much the same except $8 difference...REALLY?!? She added the 18% tax but also a so-called Scoutmob fee...RIDICULOUS!!!!'\", 'b\"Let me start by saying this place is lucky my girlfriend isn\\'t the one reviewing it because she is far harsher.\\\\n\\\\nDecor works.  You feel like you\\'re in a down home bbq joint.  Mission accomplished.  I liked the menu and its simplicity as well. (although there was some confusion on the combo in that ribs and wings were not an option although they appeared to be.)\\\\n\\\\nMy first issue was with the burnt ends.  I came here for the burnt ends, because FYI, it is very hard to find burnt ends around Atlanta.  this place offered them so I came.  They were sub par in my opinion.  They were 1.5 inch cubes of dry brisket black on all sides.  This is not the burnt ends I know and love.  Definite disappointment when that was my sole purpose for coming there.\\\\n\\\\nOther lackluster food: the brunswick stew was just okay... tasted and looked like something you would get out of a can.  The potato salad had pretty much no flavor and the potato seemed slightly undercooked.\\\\n\\\\nThe good food:  I really enjoyed the okra.  I love okra, and whenever I order fried okra I assume it\\'s going to be sliced and in corn meal.  However, they fry it whole and in almost a tempura type batter.  Very different and very tasty.  We ordered some wings and they were very good.  They\\'re smoked and then flash fried so they are flavorful and juicy.  However, I recommend getting them in a sauce because the dry rub just isn\\'t enough.  The pulled pork was also very good, but a little dry like it was pulled long before I ordered it.\\\\n\\\\nOn top of food shortcomings, there were several service issues.  The server, although very nice and polite,. was the only server working the lunch shift.  So she was obviously overwhelmed by five or six tables.  On top of that, our bill was mixed with the table next to us so when I got my bill it was over 80 dollars for the two of us.  She fixed it, but it caused a longer delay than there already was.  The service issues really weren\\'t her fault, but management for only having one server, that was also acting as the bartender.\\\\n\\\\nIf I\\'m in the area and needing some bbq I would definitely come here again.  Just a disappointment when I came out of the way for burnt ends that were not great.\"', 'b\"Good may have been good if my server Megan T actually used a pad and took people\\'s orders instead of guessing and just putting whatever she thought you wanted in front of you. Manager offered discounts because everyone else in my party ate but me, and still charged me for bad food. Stay away. Place next door (Hennessy\\'s) had great food and specials. Thanks for charging me for food I didn\\'t eat and trying to pacify me with discounts you never applied. Boo.....boo......on the right side theTV\\'s are in good spots to watches you eat.....well try to eat\"']\n",
            "['The staff is top notch', 'Food is fresh', 'Prices are very good', 'Super fast and cheap', 'The staff was nice and attentive', 'The food is fresh and delicious', 'Service was efficient and friendly', 'Food was warm and fresh', 'Beautiful and clean restaurant', 'Presentation was beautiful', 'Great chefs and extremely creative menu', 'Crazy cheap for good food', 'Portions are huge', 'Great location, nice decor', 'Lots of seating! Fast, friendly service!', 'Healthy and fresh food', 'Spicy, unique, absolutely delicious', 'Great view and great happy hour', 'Amazing food, will return', 'Good food, affordable, will go again', 'Deep, spicy, rich flavors', 'Highly recommend- very friendly staff', 'Great atmosphere, service and food!', 'Great date spot, tastefully decorated', 'Service and ambiance are good', 'Good service and fresh food!', 'Fun atmosphere, great for big groups', 'Big portions and pretty good', 'Food was served hot and delicious', 'Full of intense flavor', 'Very comfortable and safe place', 'All new appliances and very clean', 'The location is great', 'The service was good', 'The hotel staff was wonderful', 'We would definitely stay there again', 'I love this place', 'The staff is hospitable and friendly', \"They're clean and updated\", 'The living accommodations are great', 'Excellent food and great service', 'Each time enjoyed it', 'In excellent condition and well maintained', 'Definitely worth the trip', 'The gardens around it are nice', 'Wonderful old furniture and furnishing', 'Best view in the city', 'Loved the experience', 'The mansion inside was pretty cool', 'Clean bathrooms on lower level', 'Loved the kitchen', 'Honestly, the setting is incredibly lovely', 'It energized and rejuvenates me', 'The sunset is stunning up there!!', 'Parking is free thankfully', 'The beds are so comfortable', 'The breakfast was also excellent', 'I definitely recommend this hotel!', 'Security is good there', 'Excellent and fast service', 'The overall experience was not satisfying', 'Slow service, disappointing food', 'Huge portions poor quality food', 'Poor atmosphere and even worse staff', 'Food is absolutely terrible', 'Smelly environment, very bad ventilation system', 'Food was terrible and overpriced', 'The restaurant is also dirty', 'Ridiculously long wait time', 'The place was filthy, and gross', 'Horrible Service! Bland food!', 'No flavor to anything', 'The atmosphere is loud and anxious', 'Food is not special but pricey', 'Entrees were terrible', 'Most humiliating experience ever', 'not remotely worth your money', 'Side dishes are disappointing', 'The menu is very limited now', 'Amazing food but awful service', 'Everything is packaged and not fresh', 'The bathroom reeks something awful', 'Terribly over cooked', 'The parking is not good', 'Terrible service & food was delivered cold', 'The portions were ridiculously small', 'Again, not outstanding, just good', 'Great atmosphere but terrible food', 'Flavors felt very dulled', 'Cleanliness - dirty and disgusting', 'Really just a giant disappointment', 'Nothing special and definitely not great', 'It was completely gross', 'It was dirty and very worn', 'The pictures were deceiving', 'Would never recommend this place', 'Not worth the money', 'I was really uncomfortable', 'What a horrible place to stay', 'Parking garage is terrible', 'Everything broken at this place', 'There was no microwave or fridge', 'Our waters were forgotten', 'Main complaint was with the wifi', 'Horribly over rated', 'The elevator was broken', 'Food is not great but good', 'Beware of service! Shitty staff', 'Just unethical business', 'Lie about charges', 'Absolutely Pathetic! Never again Budget!', 'The employees are dishonest and deceptive', 'Ridiculously horrible wait time', 'Just be careful of extra charges', 'Worst car rents service ever', 'No hot water in my room', 'Pushy about insurance', 'The car stinks', 'Shitty furniture and shitty tv', 'Bed bug problems']\n"
          ]
        }
      ]
    },
    {
      "cell_type": "code",
      "source": [
        "print(key_point_df.shape)"
      ],
      "metadata": {
        "colab": {
          "base_uri": "https://localhost:8080/"
        },
        "id": "-3hqE_aadcMv",
        "outputId": "53de7c0b-2b4f-460c-8a88-9f7d85edbf59"
      },
      "execution_count": null,
      "outputs": [
        {
          "output_type": "stream",
          "name": "stdout",
          "text": [
            "(60, 2)\n"
          ]
        }
      ]
    },
    {
      "cell_type": "code",
      "source": [
        "final_list = []\n",
        "\n",
        "for review in reviews_list:\n",
        "  for kp in kp_list:\n",
        "    final_list.append([review,kp])\n",
        "\n",
        "dataset = pd.DataFrame(final_list,columns = ['review','key_point'])"
      ],
      "metadata": {
        "id": "B6QPEBpraMgX"
      },
      "execution_count": null,
      "outputs": []
    },
    {
      "cell_type": "code",
      "source": [
        "print(dataset.head())"
      ],
      "metadata": {
        "colab": {
          "base_uri": "https://localhost:8080/"
        },
        "id": "WoblZ5qEbYEJ",
        "outputId": "c7f614af-c536-427b-cde1-81838eb26053"
      },
      "execution_count": null,
      "outputs": [
        {
          "output_type": "stream",
          "name": "stdout",
          "text": [
            "                                              review                         key_point\n",
            "0  b\"Apparently Prides Osteria had a rough summer...            The staff is top notch\n",
            "1  b\"Apparently Prides Osteria had a rough summer...                     Food is fresh\n",
            "2  b\"Apparently Prides Osteria had a rough summer...              Prices are very good\n",
            "3  b\"Apparently Prides Osteria had a rough summer...              Super fast and cheap\n",
            "4  b\"Apparently Prides Osteria had a rough summer...  The staff was nice and attentive\n"
          ]
        }
      ]
    },
    {
      "cell_type": "code",
      "source": [
        "from torch.utils.data import (DataLoader, RandomSampler, WeightedRandomSampler, SequentialSampler, TensorDataset)\n",
        "\n"
      ],
      "metadata": {
        "id": "6b_JyOhcc0q8"
      },
      "execution_count": null,
      "outputs": []
    },
    {
      "cell_type": "code",
      "source": [
        "def matching_score(dataframe):\n",
        "  all_attention_masks=[]\n",
        "  all_input_ids=[]\n",
        "  match_scores = []\n",
        "\n",
        "  #print(dataframe.shape[0])\n",
        "  for i in range(dataframe.shape[0]):\n",
        "    encoded_input = tokenizer(dataframe.iloc[i]['all_text'], padding='max_length')\n",
        "    #print(encoded_input['attention_mask'])\n",
        "    # print(len(encoded_input['attention_mask']))\n",
        "    all_attention_masks.append(encoded_input['attention_mask'][0:512])\n",
        "    all_input_ids.append(encoded_input['input_ids'][0:512])\n",
        "\n",
        "  all_attention_masks = torch.tensor(all_attention_masks).squeeze()\n",
        "  all_input_ids = torch.tensor(all_input_ids).squeeze()\n",
        "\n",
        "\n",
        "  dataset = TensorDataset(all_input_ids, all_attention_masks)\n",
        "\n",
        "\n",
        "  test_dataloader = DataLoader(dataset, batch_size=1)\n",
        "      \n",
        "  with torch.no_grad():\n",
        "      acc_epoch = []\n",
        "\n",
        "      epoch_iterator = tqdm(test_dataloader, desc=\"Iteration\")\n",
        "      for step, batch in enumerate(epoch_iterator):\n",
        "          model.eval()\n",
        "              \n",
        "\n",
        "          b_input_ids, b_input_mask = batch[0].to(device), batch[1].to(device)\n",
        "          ypred = model(b_input_ids, b_input_mask)\n",
        "          # print(ypred)\n",
        "          match_scores.append(ypred[0][0].item())\n",
        "  return match_scores\n"
      ],
      "metadata": {
        "id": "rNyYY3ENbgf-"
      },
      "execution_count": null,
      "outputs": []
    },
    {
      "cell_type": "code",
      "source": [
        "sentence_df = pd.DataFrame([], columns =['Review', 'Sentence', 'Key_point'])"
      ],
      "metadata": {
        "id": "RgOSr7-GBIB3"
      },
      "execution_count": null,
      "outputs": []
    },
    {
      "cell_type": "code",
      "source": [
        "sentence_df.shape"
      ],
      "metadata": {
        "colab": {
          "base_uri": "https://localhost:8080/"
        },
        "id": "GOYm3dm3BmGe",
        "outputId": "85603bdb-403a-4105-80a9-1be9692a95df"
      },
      "execution_count": null,
      "outputs": [
        {
          "output_type": "execute_result",
          "data": {
            "text/plain": [
              "(0, 3)"
            ]
          },
          "metadata": {},
          "execution_count": 45
        }
      ]
    },
    {
      "cell_type": "code",
      "source": [
        "for index, row in dataset.iterrows():\n",
        "  if row.review!= None:\n",
        "    splitted = row.review.split('.')\n",
        "    for sentence in splitted:\n",
        "      print(sentence)\n",
        "      new_row = [row.review, sentence, row.key_point]\n",
        "      sentence_df.loc[len(sentence_df.index)] = new_row\n",
        "  else:\n",
        "      continue"
      ],
      "metadata": {
        "id": "zhXj6ssABrEX"
      },
      "execution_count": null,
      "outputs": []
    },
    {
      "cell_type": "code",
      "source": [
        "sentence_df.head()"
      ],
      "metadata": {
        "colab": {
          "base_uri": "https://localhost:8080/",
          "height": 206
        },
        "id": "yVThGxUsDCtP",
        "outputId": "076abdd6-47cd-40ae-af0a-8a93b3960ec0"
      },
      "execution_count": null,
      "outputs": [
        {
          "output_type": "execute_result",
          "data": {
            "text/html": [
              "<div>\n",
              "<style scoped>\n",
              "    .dataframe tbody tr th:only-of-type {\n",
              "        vertical-align: middle;\n",
              "    }\n",
              "\n",
              "    .dataframe tbody tr th {\n",
              "        vertical-align: top;\n",
              "    }\n",
              "\n",
              "    .dataframe thead th {\n",
              "        text-align: right;\n",
              "    }\n",
              "</style>\n",
              "<table border=\"1\" class=\"dataframe\">\n",
              "  <thead>\n",
              "    <tr style=\"text-align: right;\">\n",
              "      <th></th>\n",
              "      <th>Review</th>\n",
              "      <th>Sentence</th>\n",
              "      <th>Key_point</th>\n",
              "    </tr>\n",
              "  </thead>\n",
              "  <tbody>\n",
              "    <tr>\n",
              "      <th>0</th>\n",
              "      <td>b\"Apparently Prides Osteria had a rough summer...</td>\n",
              "      <td>b\"Apparently Prides Osteria had a rough summer...</td>\n",
              "      <td>The staff is top notch</td>\n",
              "    </tr>\n",
              "    <tr>\n",
              "      <th>1</th>\n",
              "      <td>b\"Apparently Prides Osteria had a rough summer...</td>\n",
              "      <td>However new blood in the kitchen seems to hav...</td>\n",
              "      <td>The staff is top notch</td>\n",
              "    </tr>\n",
              "    <tr>\n",
              "      <th>2</th>\n",
              "      <td>b\"Apparently Prides Osteria had a rough summer...</td>\n",
              "      <td>Waitstaff was warm but unobtrusive</td>\n",
              "      <td>The staff is top notch</td>\n",
              "    </tr>\n",
              "    <tr>\n",
              "      <th>3</th>\n",
              "      <td>b\"Apparently Prides Osteria had a rough summer...</td>\n",
              "      <td>By 8 pm or so when we left the bar was full a...</td>\n",
              "      <td>The staff is top notch</td>\n",
              "    </tr>\n",
              "    <tr>\n",
              "      <th>4</th>\n",
              "      <td>b\"Apparently Prides Osteria had a rough summer...</td>\n",
              "      <td>Perhaps Beverly residents prefer a later seating</td>\n",
              "      <td>The staff is top notch</td>\n",
              "    </tr>\n",
              "  </tbody>\n",
              "</table>\n",
              "</div>"
            ],
            "text/plain": [
              "                                              Review  ...               Key_point\n",
              "0  b\"Apparently Prides Osteria had a rough summer...  ...  The staff is top notch\n",
              "1  b\"Apparently Prides Osteria had a rough summer...  ...  The staff is top notch\n",
              "2  b\"Apparently Prides Osteria had a rough summer...  ...  The staff is top notch\n",
              "3  b\"Apparently Prides Osteria had a rough summer...  ...  The staff is top notch\n",
              "4  b\"Apparently Prides Osteria had a rough summer...  ...  The staff is top notch\n",
              "\n",
              "[5 rows x 3 columns]"
            ]
          },
          "metadata": {},
          "execution_count": 47
        }
      ]
    },
    {
      "cell_type": "code",
      "source": [
        "sentence_df['all_text'] = sentence_df['Sentence']+sentence_df['Key_point']"
      ],
      "metadata": {
        "id": "JmtzzU9wDQ_M"
      },
      "execution_count": null,
      "outputs": []
    },
    {
      "cell_type": "code",
      "source": [
        "sentence_df.head()"
      ],
      "metadata": {
        "colab": {
          "base_uri": "https://localhost:8080/",
          "height": 206
        },
        "id": "JZTP7HtvFXi_",
        "outputId": "27955079-938f-4e92-b7a7-54a92d0f20ba"
      },
      "execution_count": null,
      "outputs": [
        {
          "output_type": "execute_result",
          "data": {
            "text/html": [
              "<div>\n",
              "<style scoped>\n",
              "    .dataframe tbody tr th:only-of-type {\n",
              "        vertical-align: middle;\n",
              "    }\n",
              "\n",
              "    .dataframe tbody tr th {\n",
              "        vertical-align: top;\n",
              "    }\n",
              "\n",
              "    .dataframe thead th {\n",
              "        text-align: right;\n",
              "    }\n",
              "</style>\n",
              "<table border=\"1\" class=\"dataframe\">\n",
              "  <thead>\n",
              "    <tr style=\"text-align: right;\">\n",
              "      <th></th>\n",
              "      <th>Review</th>\n",
              "      <th>Sentence</th>\n",
              "      <th>Key_point</th>\n",
              "      <th>all_text</th>\n",
              "    </tr>\n",
              "  </thead>\n",
              "  <tbody>\n",
              "    <tr>\n",
              "      <th>0</th>\n",
              "      <td>b\"Apparently Prides Osteria had a rough summer...</td>\n",
              "      <td>b\"Apparently Prides Osteria had a rough summer...</td>\n",
              "      <td>The staff is top notch</td>\n",
              "      <td>b\"Apparently Prides Osteria had a rough summer...</td>\n",
              "    </tr>\n",
              "    <tr>\n",
              "      <th>1</th>\n",
              "      <td>b\"Apparently Prides Osteria had a rough summer...</td>\n",
              "      <td>However new blood in the kitchen seems to hav...</td>\n",
              "      <td>The staff is top notch</td>\n",
              "      <td>However new blood in the kitchen seems to hav...</td>\n",
              "    </tr>\n",
              "    <tr>\n",
              "      <th>2</th>\n",
              "      <td>b\"Apparently Prides Osteria had a rough summer...</td>\n",
              "      <td>Waitstaff was warm but unobtrusive</td>\n",
              "      <td>The staff is top notch</td>\n",
              "      <td>Waitstaff was warm but unobtrusiveThe staff i...</td>\n",
              "    </tr>\n",
              "    <tr>\n",
              "      <th>3</th>\n",
              "      <td>b\"Apparently Prides Osteria had a rough summer...</td>\n",
              "      <td>By 8 pm or so when we left the bar was full a...</td>\n",
              "      <td>The staff is top notch</td>\n",
              "      <td>By 8 pm or so when we left the bar was full a...</td>\n",
              "    </tr>\n",
              "    <tr>\n",
              "      <th>4</th>\n",
              "      <td>b\"Apparently Prides Osteria had a rough summer...</td>\n",
              "      <td>Perhaps Beverly residents prefer a later seating</td>\n",
              "      <td>The staff is top notch</td>\n",
              "      <td>Perhaps Beverly residents prefer a later seat...</td>\n",
              "    </tr>\n",
              "  </tbody>\n",
              "</table>\n",
              "</div>"
            ],
            "text/plain": [
              "                                              Review  ...                                           all_text\n",
              "0  b\"Apparently Prides Osteria had a rough summer...  ...  b\"Apparently Prides Osteria had a rough summer...\n",
              "1  b\"Apparently Prides Osteria had a rough summer...  ...   However new blood in the kitchen seems to hav...\n",
              "2  b\"Apparently Prides Osteria had a rough summer...  ...   Waitstaff was warm but unobtrusiveThe staff i...\n",
              "3  b\"Apparently Prides Osteria had a rough summer...  ...   By 8 pm or so when we left the bar was full a...\n",
              "4  b\"Apparently Prides Osteria had a rough summer...  ...   Perhaps Beverly residents prefer a later seat...\n",
              "\n",
              "[5 rows x 4 columns]"
            ]
          },
          "metadata": {},
          "execution_count": 52
        }
      ]
    },
    {
      "cell_type": "code",
      "source": [
        "sentence_df.to_csv('sentence_splitted_review_kp.csv')"
      ],
      "metadata": {
        "id": "56kP_FvAFz0X"
      },
      "execution_count": null,
      "outputs": []
    },
    {
      "cell_type": "code",
      "source": [
        "print(sentence_df.shape)"
      ],
      "metadata": {
        "colab": {
          "base_uri": "https://localhost:8080/"
        },
        "id": "pRG-_vWWEN06",
        "outputId": "d12da416-9c18-4080-b2c1-a09cc23fd37f"
      },
      "execution_count": null,
      "outputs": [
        {
          "output_type": "stream",
          "name": "stdout",
          "text": [
            "(116040, 4)\n"
          ]
        }
      ]
    },
    {
      "cell_type": "code",
      "source": [
        "sentence_df['score'] = matching_score(sentence_df) "
      ],
      "metadata": {
        "colab": {
          "base_uri": "https://localhost:8080/",
          "height": 49,
          "referenced_widgets": [
            "b5ff91923a3f4fc99035915f6ad2a90b",
            "f0be5790f06344ffb26f47a462b423d5",
            "b2f58c0946114e4ca10b53eb421aa73d",
            "1a59520515534555861178dbc4e7e68f",
            "3eac4ea0b2284a1681d617bc023be174",
            "25e996eecf194a3e9a0d8a4239e00426",
            "88fad8d47a114ef9a1409d6dbc20ae26",
            "3a3974ab2b924ca0979b232bdcc411c5",
            "25698b9d7e464019a48dce9253dfbf9e",
            "eaea1bc222fb49d196aba26a371c35a7",
            "6e73f942828c47fd801bcfa05496141f"
          ]
        },
        "id": "WiSdHo-dENNM",
        "outputId": "eba3f994-30f0-42ce-a614-253781fbbbf8"
      },
      "execution_count": null,
      "outputs": [
        {
          "output_type": "display_data",
          "data": {
            "application/vnd.jupyter.widget-view+json": {
              "model_id": "b5ff91923a3f4fc99035915f6ad2a90b",
              "version_minor": 0,
              "version_major": 2
            },
            "text/plain": [
              "Iteration:   0%|          | 0/116040 [00:00<?, ?it/s]"
            ]
          },
          "metadata": {}
        }
      ]
    },
    {
      "cell_type": "code",
      "source": [
        "sentence_df.to_csv('sentence_df_scores.csv')"
      ],
      "metadata": {
        "id": "2mcmHiqhfPk4"
      },
      "execution_count": null,
      "outputs": []
    },
    {
      "cell_type": "code",
      "source": [
        "sentence_df.head()"
      ],
      "metadata": {
        "colab": {
          "base_uri": "https://localhost:8080/",
          "height": 206
        },
        "id": "dsmITUSKbruc",
        "outputId": "5c36fc3e-3284-4595-e6ec-90c18a32e1dd"
      },
      "execution_count": null,
      "outputs": [
        {
          "output_type": "execute_result",
          "data": {
            "text/html": [
              "<div>\n",
              "<style scoped>\n",
              "    .dataframe tbody tr th:only-of-type {\n",
              "        vertical-align: middle;\n",
              "    }\n",
              "\n",
              "    .dataframe tbody tr th {\n",
              "        vertical-align: top;\n",
              "    }\n",
              "\n",
              "    .dataframe thead th {\n",
              "        text-align: right;\n",
              "    }\n",
              "</style>\n",
              "<table border=\"1\" class=\"dataframe\">\n",
              "  <thead>\n",
              "    <tr style=\"text-align: right;\">\n",
              "      <th></th>\n",
              "      <th>Review</th>\n",
              "      <th>Sentence</th>\n",
              "      <th>Key_point</th>\n",
              "      <th>all_text</th>\n",
              "      <th>score</th>\n",
              "    </tr>\n",
              "  </thead>\n",
              "  <tbody>\n",
              "    <tr>\n",
              "      <th>0</th>\n",
              "      <td>b\"Apparently Prides Osteria had a rough summer...</td>\n",
              "      <td>b\"Apparently Prides Osteria had a rough summer...</td>\n",
              "      <td>The staff is top notch</td>\n",
              "      <td>b\"Apparently Prides Osteria had a rough summer...</td>\n",
              "      <td>0.004377</td>\n",
              "    </tr>\n",
              "    <tr>\n",
              "      <th>1</th>\n",
              "      <td>b\"Apparently Prides Osteria had a rough summer...</td>\n",
              "      <td>However new blood in the kitchen seems to hav...</td>\n",
              "      <td>The staff is top notch</td>\n",
              "      <td>However new blood in the kitchen seems to hav...</td>\n",
              "      <td>0.003861</td>\n",
              "    </tr>\n",
              "    <tr>\n",
              "      <th>2</th>\n",
              "      <td>b\"Apparently Prides Osteria had a rough summer...</td>\n",
              "      <td>Waitstaff was warm but unobtrusive</td>\n",
              "      <td>The staff is top notch</td>\n",
              "      <td>Waitstaff was warm but unobtrusiveThe staff i...</td>\n",
              "      <td>0.008272</td>\n",
              "    </tr>\n",
              "    <tr>\n",
              "      <th>3</th>\n",
              "      <td>b\"Apparently Prides Osteria had a rough summer...</td>\n",
              "      <td>By 8 pm or so when we left the bar was full a...</td>\n",
              "      <td>The staff is top notch</td>\n",
              "      <td>By 8 pm or so when we left the bar was full a...</td>\n",
              "      <td>0.004434</td>\n",
              "    </tr>\n",
              "    <tr>\n",
              "      <th>4</th>\n",
              "      <td>b\"Apparently Prides Osteria had a rough summer...</td>\n",
              "      <td>Perhaps Beverly residents prefer a later seating</td>\n",
              "      <td>The staff is top notch</td>\n",
              "      <td>Perhaps Beverly residents prefer a later seat...</td>\n",
              "      <td>0.002563</td>\n",
              "    </tr>\n",
              "  </tbody>\n",
              "</table>\n",
              "</div>"
            ],
            "text/plain": [
              "                                              Review  ...     score\n",
              "0  b\"Apparently Prides Osteria had a rough summer...  ...  0.004377\n",
              "1  b\"Apparently Prides Osteria had a rough summer...  ...  0.003861\n",
              "2  b\"Apparently Prides Osteria had a rough summer...  ...  0.008272\n",
              "3  b\"Apparently Prides Osteria had a rough summer...  ...  0.004434\n",
              "4  b\"Apparently Prides Osteria had a rough summer...  ...  0.002563\n",
              "\n",
              "[5 rows x 5 columns]"
            ]
          },
          "metadata": {},
          "execution_count": 58
        }
      ]
    },
    {
      "cell_type": "code",
      "source": [
        "new_df = pd.DataFrame([], columns =['Review', 'Key_point', 'Score'])\n",
        "\n",
        "i=0\n",
        "while i<sentence_df.shape[0]:\n",
        "    rowSeries = sentence_df.iloc[i]\n",
        "    if rowSeries['Review']!= None:\n",
        "      len_splitted = len(rowSeries['Review'].split('.'))\n",
        "      max_index = sentence_df['score'][i:i+len_splitted].idxmax()\n",
        "      line = sentence_df.iloc[max_index]\n",
        "      new_row = [line.Review, line.Key_point, line.score]\n",
        "      new_df.loc[len(new_df.index)] = new_row\n",
        "      i = i+len_splitted\n",
        "    else:\n",
        "       i = i+1"
      ],
      "metadata": {
        "id": "PtW_hpoUbw63"
      },
      "execution_count": null,
      "outputs": []
    },
    {
      "cell_type": "code",
      "source": [
        "print(new_df.shape)"
      ],
      "metadata": {
        "colab": {
          "base_uri": "https://localhost:8080/"
        },
        "id": "YPrfxFmEb_eD",
        "outputId": "0468dc8a-0147-4b17-b140-4235d6035664"
      },
      "execution_count": null,
      "outputs": [
        {
          "output_type": "stream",
          "name": "stdout",
          "text": [
            "(12000, 3)\n"
          ]
        }
      ]
    },
    {
      "cell_type": "code",
      "source": [
        "new_df.head()"
      ],
      "metadata": {
        "colab": {
          "base_uri": "https://localhost:8080/",
          "height": 206
        },
        "id": "Ndxv98ercBd9",
        "outputId": "618dc2c7-d24f-4fc7-cb1e-75063ded7515"
      },
      "execution_count": null,
      "outputs": [
        {
          "output_type": "execute_result",
          "data": {
            "text/html": [
              "<div>\n",
              "<style scoped>\n",
              "    .dataframe tbody tr th:only-of-type {\n",
              "        vertical-align: middle;\n",
              "    }\n",
              "\n",
              "    .dataframe tbody tr th {\n",
              "        vertical-align: top;\n",
              "    }\n",
              "\n",
              "    .dataframe thead th {\n",
              "        text-align: right;\n",
              "    }\n",
              "</style>\n",
              "<table border=\"1\" class=\"dataframe\">\n",
              "  <thead>\n",
              "    <tr style=\"text-align: right;\">\n",
              "      <th></th>\n",
              "      <th>Review</th>\n",
              "      <th>Key_point</th>\n",
              "      <th>Score</th>\n",
              "    </tr>\n",
              "  </thead>\n",
              "  <tbody>\n",
              "    <tr>\n",
              "      <th>0</th>\n",
              "      <td>b\"Apparently Prides Osteria had a rough summer...</td>\n",
              "      <td>The staff is top notch</td>\n",
              "      <td>0.339564</td>\n",
              "    </tr>\n",
              "    <tr>\n",
              "      <th>1</th>\n",
              "      <td>b\"Apparently Prides Osteria had a rough summer...</td>\n",
              "      <td>Food is fresh</td>\n",
              "      <td>0.721115</td>\n",
              "    </tr>\n",
              "    <tr>\n",
              "      <th>2</th>\n",
              "      <td>b\"Apparently Prides Osteria had a rough summer...</td>\n",
              "      <td>Prices are very good</td>\n",
              "      <td>0.992816</td>\n",
              "    </tr>\n",
              "    <tr>\n",
              "      <th>3</th>\n",
              "      <td>b\"Apparently Prides Osteria had a rough summer...</td>\n",
              "      <td>Super fast and cheap</td>\n",
              "      <td>0.775708</td>\n",
              "    </tr>\n",
              "    <tr>\n",
              "      <th>4</th>\n",
              "      <td>b\"Apparently Prides Osteria had a rough summer...</td>\n",
              "      <td>The staff was nice and attentive</td>\n",
              "      <td>0.364422</td>\n",
              "    </tr>\n",
              "  </tbody>\n",
              "</table>\n",
              "</div>"
            ],
            "text/plain": [
              "                                              Review  ...     Score\n",
              "0  b\"Apparently Prides Osteria had a rough summer...  ...  0.339564\n",
              "1  b\"Apparently Prides Osteria had a rough summer...  ...  0.721115\n",
              "2  b\"Apparently Prides Osteria had a rough summer...  ...  0.992816\n",
              "3  b\"Apparently Prides Osteria had a rough summer...  ...  0.775708\n",
              "4  b\"Apparently Prides Osteria had a rough summer...  ...  0.364422\n",
              "\n",
              "[5 rows x 3 columns]"
            ]
          },
          "metadata": {},
          "execution_count": 61
        }
      ]
    },
    {
      "cell_type": "code",
      "source": [
        "matched_df = pd.DataFrame([], columns =['Review', 'Key_point', 'Score'])"
      ],
      "metadata": {
        "id": "kh39X1FWcDYL"
      },
      "execution_count": null,
      "outputs": []
    },
    {
      "cell_type": "code",
      "source": [
        "pos_matched_df = pd.DataFrame([], columns =['Review', 'Key_point', 'Score'])\n",
        "neg_matched_df = pd.DataFrame([], columns =['Review', 'Key_point', 'Score'])\n",
        "no_matched_df = pd.DataFrame([], columns =['Review', 'Key_point', 'Score'])\n",
        "\n",
        "i=0\n",
        "while i<new_df.shape[0]:\n",
        "  flag = False\n",
        "  for j in range(60):\n",
        "    rowSeries = new_df.iloc[i+j]\n",
        "    if rowSeries['Score']>0.95:\n",
        "      flag = True\n",
        "      new_row = [rowSeries.Review, rowSeries.Key_point, rowSeries.Score]\n",
        "      pos_matched_df.loc[len(pos_matched_df.index)] = new_row\n",
        "  for j in range(60,120):\n",
        "    rowSeries = new_df.iloc[i+j]\n",
        "    if rowSeries['Score']>0.95:\n",
        "      flag = True\n",
        "      new_row = [rowSeries.Review, rowSeries.Key_point, rowSeries.Score]\n",
        "      neg_matched_df.loc[len(neg_matched_df.index)] = new_row\n",
        "  if flag == False:\n",
        "    row = new_df.iloc[i]\n",
        "    new_row = [row.Review, row.Key_point, 0]\n",
        "    no_matched_df.loc[len(no_matched_df.index)] = new_row\n",
        "  i = i+120"
      ],
      "metadata": {
        "id": "1etgS5IFoVIh"
      },
      "execution_count": null,
      "outputs": []
    },
    {
      "cell_type": "code",
      "source": [
        "pos_matched_df.head()"
      ],
      "metadata": {
        "colab": {
          "base_uri": "https://localhost:8080/",
          "height": 206
        },
        "id": "1QNUmcoxrWmT",
        "outputId": "54dfbf13-7e0c-44af-96e9-569569df760c"
      },
      "execution_count": null,
      "outputs": [
        {
          "output_type": "execute_result",
          "data": {
            "text/html": [
              "<div>\n",
              "<style scoped>\n",
              "    .dataframe tbody tr th:only-of-type {\n",
              "        vertical-align: middle;\n",
              "    }\n",
              "\n",
              "    .dataframe tbody tr th {\n",
              "        vertical-align: top;\n",
              "    }\n",
              "\n",
              "    .dataframe thead th {\n",
              "        text-align: right;\n",
              "    }\n",
              "</style>\n",
              "<table border=\"1\" class=\"dataframe\">\n",
              "  <thead>\n",
              "    <tr style=\"text-align: right;\">\n",
              "      <th></th>\n",
              "      <th>Review</th>\n",
              "      <th>Key_point</th>\n",
              "      <th>Score</th>\n",
              "    </tr>\n",
              "  </thead>\n",
              "  <tbody>\n",
              "    <tr>\n",
              "      <th>0</th>\n",
              "      <td>b\"Apparently Prides Osteria had a rough summer...</td>\n",
              "      <td>Prices are very good</td>\n",
              "      <td>0.992816</td>\n",
              "    </tr>\n",
              "    <tr>\n",
              "      <th>1</th>\n",
              "      <td>b\"Apparently Prides Osteria had a rough summer...</td>\n",
              "      <td>Healthy and fresh food</td>\n",
              "      <td>0.962735</td>\n",
              "    </tr>\n",
              "    <tr>\n",
              "      <th>2</th>\n",
              "      <td>b\"Apparently Prides Osteria had a rough summer...</td>\n",
              "      <td>Spicy, unique, absolutely delicious</td>\n",
              "      <td>0.955418</td>\n",
              "    </tr>\n",
              "    <tr>\n",
              "      <th>3</th>\n",
              "      <td>b\"Apparently Prides Osteria had a rough summer...</td>\n",
              "      <td>Good food, affordable, will go again</td>\n",
              "      <td>0.979040</td>\n",
              "    </tr>\n",
              "    <tr>\n",
              "      <th>4</th>\n",
              "      <td>b\"Apparently Prides Osteria had a rough summer...</td>\n",
              "      <td>Big portions and pretty good</td>\n",
              "      <td>0.981658</td>\n",
              "    </tr>\n",
              "  </tbody>\n",
              "</table>\n",
              "</div>"
            ],
            "text/plain": [
              "                                              Review  ...     Score\n",
              "0  b\"Apparently Prides Osteria had a rough summer...  ...  0.992816\n",
              "1  b\"Apparently Prides Osteria had a rough summer...  ...  0.962735\n",
              "2  b\"Apparently Prides Osteria had a rough summer...  ...  0.955418\n",
              "3  b\"Apparently Prides Osteria had a rough summer...  ...  0.979040\n",
              "4  b\"Apparently Prides Osteria had a rough summer...  ...  0.981658\n",
              "\n",
              "[5 rows x 3 columns]"
            ]
          },
          "metadata": {},
          "execution_count": 115
        }
      ]
    },
    {
      "cell_type": "code",
      "source": [
        "neg_matched_df.head()"
      ],
      "metadata": {
        "colab": {
          "base_uri": "https://localhost:8080/",
          "height": 206
        },
        "id": "Uq_TkrOEybAV",
        "outputId": "4615290e-ea4a-4059-ac7b-9da90cba2902"
      },
      "execution_count": null,
      "outputs": [
        {
          "output_type": "execute_result",
          "data": {
            "text/html": [
              "<div>\n",
              "<style scoped>\n",
              "    .dataframe tbody tr th:only-of-type {\n",
              "        vertical-align: middle;\n",
              "    }\n",
              "\n",
              "    .dataframe tbody tr th {\n",
              "        vertical-align: top;\n",
              "    }\n",
              "\n",
              "    .dataframe thead th {\n",
              "        text-align: right;\n",
              "    }\n",
              "</style>\n",
              "<table border=\"1\" class=\"dataframe\">\n",
              "  <thead>\n",
              "    <tr style=\"text-align: right;\">\n",
              "      <th></th>\n",
              "      <th>Review</th>\n",
              "      <th>Key_point</th>\n",
              "      <th>Score</th>\n",
              "    </tr>\n",
              "  </thead>\n",
              "  <tbody>\n",
              "    <tr>\n",
              "      <th>0</th>\n",
              "      <td>b\"Apparently Prides Osteria had a rough summer...</td>\n",
              "      <td>The portions were ridiculously small</td>\n",
              "      <td>0.961527</td>\n",
              "    </tr>\n",
              "    <tr>\n",
              "      <th>1</th>\n",
              "      <td>b\"Apparently Prides Osteria had a rough summer...</td>\n",
              "      <td>Nothing special and definitely not great</td>\n",
              "      <td>0.983204</td>\n",
              "    </tr>\n",
              "    <tr>\n",
              "      <th>2</th>\n",
              "      <td>b\"Apparently Prides Osteria had a rough summer...</td>\n",
              "      <td>Food is not great but good</td>\n",
              "      <td>0.977653</td>\n",
              "    </tr>\n",
              "    <tr>\n",
              "      <th>3</th>\n",
              "      <td>b'This store is pretty good. Not as great as W...</td>\n",
              "      <td>Food is not great but good</td>\n",
              "      <td>0.989522</td>\n",
              "    </tr>\n",
              "    <tr>\n",
              "      <th>4</th>\n",
              "      <td>b\"I've stayed at many Marriott and Renaissance...</td>\n",
              "      <td>It was dirty and very worn</td>\n",
              "      <td>0.992424</td>\n",
              "    </tr>\n",
              "  </tbody>\n",
              "</table>\n",
              "</div>"
            ],
            "text/plain": [
              "                                              Review  ...     Score\n",
              "0  b\"Apparently Prides Osteria had a rough summer...  ...  0.961527\n",
              "1  b\"Apparently Prides Osteria had a rough summer...  ...  0.983204\n",
              "2  b\"Apparently Prides Osteria had a rough summer...  ...  0.977653\n",
              "3  b'This store is pretty good. Not as great as W...  ...  0.989522\n",
              "4  b\"I've stayed at many Marriott and Renaissance...  ...  0.992424\n",
              "\n",
              "[5 rows x 3 columns]"
            ]
          },
          "metadata": {},
          "execution_count": 116
        }
      ]
    },
    {
      "cell_type": "code",
      "source": [
        "no_matched_df.head()\n",
        "no_matched_df['Review'][0]"
      ],
      "metadata": {
        "colab": {
          "base_uri": "https://localhost:8080/",
          "height": 87
        },
        "id": "TIYEfpyJsrwb",
        "outputId": "5200b249-8ede-496c-f204-ed0e33c07699"
      },
      "execution_count": null,
      "outputs": [
        {
          "output_type": "execute_result",
          "data": {
            "application/vnd.google.colaboratory.intrinsic+json": {
              "type": "string"
            },
            "text/plain": [
              "'b\"I called WVM on the recommendation of a couple of friends who had used them in the past and thought they did a nice job. I\\'m a fan now, too.\\\\n\\\\nEvan and Cody showed up right on time for my move this past weekend. They were friendly and energetic, working quickly but carefully to get all my things moved out of the old place and into the new one in less than 2.5 hours. All of my (heavy) furniture arrived in perfect condition, and they took extra care not to scratch the wood floors in the process.\\\\n\\\\nI hope not to move again anytime soon, but next time I do, I\\'ll be calling WVM.\"'"
            ]
          },
          "metadata": {},
          "execution_count": 120
        }
      ]
    },
    {
      "cell_type": "code",
      "source": [
        "pos_kp_coverage = ((pos_matched_df.groupby('Key_point').size()/reviews_df.shape[0])*100)\n",
        "pos_kp_coverage_top10 = pos_kp_coverage.nlargest(10)\n",
        "print(pos_kp_coverage_top10)"
      ],
      "metadata": {
        "colab": {
          "base_uri": "https://localhost:8080/"
        },
        "id": "BQq0jt7x0eMR",
        "outputId": "17fd2870-1c1b-438b-ccbc-a317f139aabc"
      },
      "execution_count": null,
      "outputs": [
        {
          "output_type": "stream",
          "name": "stdout",
          "text": [
            "Key_point\n",
            "Great atmosphere, service and food!      14.624646\n",
            "Excellent food and great service         14.387332\n",
            "Service was efficient and friendly       12.987565\n",
            "The staff was nice and attentive         11.549041\n",
            "Good service and fresh food!             11.466578\n",
            "Good food, affordable, will go again     11.174857\n",
            "Highly recommend- very friendly staff    10.756455\n",
            "The service was good                      9.545714\n",
            "The staff is hospitable and friendly      8.924726\n",
            "Super fast and cheap                      8.835482\n",
            "dtype: float64\n"
          ]
        }
      ]
    },
    {
      "cell_type": "code",
      "source": [
        "neg_kp_coverage = ((neg_matched_df.groupby('Key_point').size()/reviews_df.shape[0])*100)\n",
        "neg_kp_coverage_top10 = neg_kp_coverage.nlargest(10)\n",
        "print(neg_kp_coverage_top10)"
      ],
      "metadata": {
        "colab": {
          "base_uri": "https://localhost:8080/"
        },
        "id": "Gj-tY8s91X7K",
        "outputId": "43ae5708-8fa4-40b9-8e63-16cb49969865"
      },
      "execution_count": null,
      "outputs": [
        {
          "output_type": "stream",
          "name": "stdout",
          "text": [
            "Key_point\n",
            "Food is not great but good                    18.400981\n",
            "Slow service, disappointing food              15.509035\n",
            "Nothing special and definitely not great      15.133590\n",
            "Amazing food but awful service                14.533647\n",
            "Terrible service & food was delivered cold    13.314884\n",
            "Horrible Service! Bland food!                 12.599876\n",
            "Again, not outstanding, just good              9.314308\n",
            "Food was terrible and overpriced               9.061243\n",
            "Great atmosphere but terrible food             6.597233\n",
            "No flavor to anything                          6.114780\n",
            "dtype: float64\n"
          ]
        }
      ]
    },
    {
      "cell_type": "code",
      "source": [
        "arr = pos_kp_coverage_top10.to_numpy()\n",
        "print(arr)\n",
        "\n",
        "x =list(range(len(arr)))\n",
        "print(pos_kp_coverage_top10.index)\n",
        "y= ['kp'+str(xi+1) for xi in x]"
      ],
      "metadata": {
        "colab": {
          "base_uri": "https://localhost:8080/"
        },
        "id": "gVkYMi7k4-Ql",
        "outputId": "f8e50470-b136-4fb8-8277-208665158f96"
      },
      "execution_count": null,
      "outputs": [
        {
          "output_type": "stream",
          "name": "stdout",
          "text": [
            "[14.62464578 14.38733188 12.98756463 11.54904109 11.46657786 11.17485684\n",
            " 10.75645536  9.54571449  8.92472643  8.83548154]\n",
            "Index(['Great atmosphere, service and food!',\n",
            "       'Excellent food and great service',\n",
            "       'Service was efficient and friendly',\n",
            "       'The staff was nice and attentive', 'Good service and fresh food!',\n",
            "       'Good food, affordable, will go again',\n",
            "       'Highly recommend- very friendly staff', 'The service was good',\n",
            "       'The staff is hospitable and friendly', 'Super fast and cheap'],\n",
            "      dtype='object', name='Key_point')\n"
          ]
        }
      ]
    },
    {
      "cell_type": "code",
      "source": [
        "import matplotlib.pyplot as plt\n",
        "\n",
        "fig, ax = plt.subplots()\n",
        "plt.plot(y,arr,'r',label='Key point coverage')\n",
        "plt.xlabel(\"key_point\")\n",
        "\n",
        "ax.set_xticks(y)\n",
        "plt.ylabel(\"Coverage in percentage\")\n",
        "plt.legend()\n",
        "plt.title(\"Positive Key point Coverage for Restaurants\")"
      ],
      "metadata": {
        "colab": {
          "base_uri": "https://localhost:8080/",
          "height": 313
        },
        "id": "mzW62ePK5Bm_",
        "outputId": "85c2d032-eeaf-4d00-a341-1e94e648ee69"
      },
      "execution_count": null,
      "outputs": [
        {
          "output_type": "execute_result",
          "data": {
            "text/plain": [
              "Text(0.5, 1.0, 'Positive Key point Coverage for Restaurants')"
            ]
          },
          "metadata": {},
          "execution_count": 131
        },
        {
          "output_type": "display_data",
          "data": {
            "image/png": "[encoded data removed]",
            "text/plain": [
              "<Figure size 432x288 with 1 Axes>"
            ]
          },
          "metadata": {
            "needs_background": "light"
          }
        }
      ]
    },
    {
      "cell_type": "code",
      "source": [
        "arr = neg_kp_coverage_top10.to_numpy()\n",
        "print(arr)\n",
        "\n",
        "x =list(range(len(arr)))\n",
        "print(neg_kp_coverage_top10.index)\n",
        "y= ['kp'+str(xi+1) for xi in x]"
      ],
      "metadata": {
        "colab": {
          "base_uri": "https://localhost:8080/"
        },
        "id": "A6koU0P15qSi",
        "outputId": "4be12205-8f20-4438-e076-2ddde4b8cd26"
      },
      "execution_count": null,
      "outputs": [
        {
          "output_type": "stream",
          "name": "stdout",
          "text": [
            "[18.40098124 15.50903472 15.1335902  14.53364734 13.31488398 12.59987589\n",
            "  9.31430767  9.06124322  6.59723294  6.11477989]\n",
            "Index(['Food is not great but good', 'Slow service, disappointing food',\n",
            "       'Nothing special and definitely not great',\n",
            "       'Amazing food but awful service',\n",
            "       'Terrible service & food was delivered cold',\n",
            "       'Horrible Service! Bland food!', 'Again, not outstanding, just good',\n",
            "       'Food was terrible and overpriced',\n",
            "       'Great atmosphere but terrible food', 'No flavor to anything'],\n",
            "      dtype='object', name='Key_point')\n"
          ]
        }
      ]
    },
    {
      "cell_type": "code",
      "source": [
        "import matplotlib.pyplot as plt\n",
        "\n",
        "fig, ax = plt.subplots()\n",
        "plt.plot(y,arr,'r',label='Key point coverage')\n",
        "plt.xlabel(\"key_point\")\n",
        "\n",
        "ax.set_xticks(y)\n",
        "plt.ylabel(\"Coverage in percentage\")\n",
        "plt.legend()\n",
        "plt.title(\"Negative Key point Coverage for Restaurants\")"
      ],
      "metadata": {
        "colab": {
          "base_uri": "https://localhost:8080/",
          "height": 313
        },
        "id": "EDgmvI3m6eWH",
        "outputId": "1a173ea9-b934-4451-8aaf-30d1f99d7e29"
      },
      "execution_count": null,
      "outputs": [
        {
          "output_type": "execute_result",
          "data": {
            "text/plain": [
              "Text(0.5, 1.0, 'Negative Key point Coverage for Restaurants')"
            ]
          },
          "metadata": {},
          "execution_count": 133
        },
        {
          "output_type": "display_data",
          "data": {
            "image/png": "[encoded data removed]",
            "text/plain": [
              "<Figure size 432x288 with 1 Axes>"
            ]
          },
          "metadata": {
            "needs_background": "light"
          }
        }
      ]
    },
    {
      "cell_type": "code",
      "source": [
        "pos_kp_coverage.to_csv(\"pos_kp_coverage.csv\")"
      ],
      "metadata": {
        "id": "x_Glrty-7cmE"
      },
      "execution_count": null,
      "outputs": []
    },
    {
      "cell_type": "code",
      "source": [
        "neg_kp_coverage.to_csv(\"neg_kp_coverage.csv\")"
      ],
      "metadata": {
        "id": "nkyX4WRV7hWr"
      },
      "execution_count": null,
      "outputs": []
    }
  ]
}
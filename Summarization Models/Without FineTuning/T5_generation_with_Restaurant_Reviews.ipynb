{
  "nbformat": 4,
  "nbformat_minor": 0,
  "metadata": {
    "colab": {
      "name": "T5 generation with Restaurant Reviews.ipynb",
      "provenance": []
    },
    "kernelspec": {
      "name": "python3",
      "display_name": "Python 3"
    },
    "language_info": {
      "name": "python"
    }
  },
  "cells": [
    {
      "cell_type": "code",
      "source": [
        "import numpy as np\n",
        "import pandas as pd\n",
        "import regex as re\n",
        "import random as rn\n",
        "import ast\n",
        "import matplotlib.pyplot as plt\n",
        "import seaborn as sns\n",
        "from sklearn.model_selection import train_test_split\n",
        "from sklearn.metrics import accuracy_score,average_precision_score, precision_score,precision_recall_curve\n",
        "from tqdm.notebook import tqdm\n",
        "from tqdm import trange\n",
        "import warnings\n",
        "import pickle\n",
        "import nltk\n",
        "import math\n",
        "import os\n",
        "import json\n",
        "import random\n",
        "import re\n",
        "import torch\n",
        "import torch.nn as nn\n",
        "import spacy \n",
        "from spacy import displacy\n",
        "#import neptune.new as neptune                          \n",
        "from torch.utils.data import (DataLoader, RandomSampler, WeightedRandomSampler, SequentialSampler, TensorDataset, Dataset)"
      ],
      "metadata": {
        "id": "kxtSojsFjGH2"
      },
      "execution_count": null,
      "outputs": []
    },
    {
      "cell_type": "code",
      "source": [
        "!pip install emoji -q\n",
        "!pip install datasets -q\n",
        "!pip install rouge_score -q\n",
        "\n",
        "\n",
        "!pip install transformers -q\n",
        "!pip install sentencepiece -q\n",
        "!pip install pandarallel -q\n",
        "\n",
        "from transformers import AdamW, get_linear_schedule_with_warmup\n",
        "from transformers import AutoTokenizer, AutoModel\n",
        "\n",
        "from transformers import AdamW, get_linear_schedule_with_warmup,PegasusConfig, PegasusTokenizer, PegasusForConditionalGeneration\n",
        "from transformers import AutoTokenizer, AutoModel, set_seed, TrainingArguments, Trainer, default_data_collator, AdamW, get_linear_schedule_with_warmup, Seq2SeqTrainer, Seq2SeqTrainingArguments\n"
      ],
      "metadata": {
        "id": "LRgQG3gWjJd8"
      },
      "execution_count": null,
      "outputs": []
    },
    {
      "cell_type": "code",
      "execution_count": null,
      "metadata": {
        "id": "kwaXImUpi29w"
      },
      "outputs": [],
      "source": [
        "from transformers import AutoModelForSeq2SeqLM, AutoTokenizer\n",
        "\n",
        "model = AutoModelForSeq2SeqLM.from_pretrained(\"t5-base\")\n",
        "tokenizer = AutoTokenizer.from_pretrained(\"t5-base\")"
      ]
    },
    {
      "cell_type": "code",
      "source": [
        "ARTICLE = \"\"\" New York (CNN)When Liana Barrientos was 23 years old, she got married in Westchester County, New York.\n",
        "... A year later, she got married again in Westchester County, but to a different man and without divorcing her first husband.\n",
        "... Only 18 days after that marriage, she got hitched yet again. Then, Barrientos declared \"I do\" five more times, sometimes only within two weeks of each other.\n",
        "... In 2010, she married once more, this time in the Bronx. In an application for a marriage license, she stated it was her \"first and only\" marriage.\n",
        "... Barrientos, now 39, is facing two criminal counts of \"offering a false instrument for filing in the first degree,\" referring to her false statements on the\n",
        "... 2010 marriage license application, according to court documents.\n",
        "... Prosecutors said the marriages were part of an immigration scam.\n",
        "... On Friday, she pleaded not guilty at State Supreme Court in the Bronx, according to her attorney, Christopher Wright, who declined to comment further.\n",
        "... After leaving court, Barrientos was arrested and charged with theft of service and criminal trespass for allegedly sneaking into the New York subway through an emergency exit, said Detective\n",
        "... Annette Markowski, a police spokeswoman. In total, Barrientos has been married 10 times, with nine of her marriages occurring between 1999 and 2002.\n",
        "... All occurred either in Westchester County, Long Island, New Jersey or the Bronx. She is believed to still be married to four men, and at one time, she was married to eight men at once, prosecutors say.\n",
        "... Prosecutors said the immigration scam involved some of her husbands, who filed for permanent residence status shortly after the marriages.\n",
        "... Any divorces happened only after such filings were approved. It was unclear whether any of the men will be prosecuted.\n",
        "... The case was referred to the Bronx District Attorney\\'s Office by Immigration and Customs Enforcement and the Department of Homeland Security\\'s\n",
        "... Investigation Division. Seven of the men are from so-called \"red-flagged\" countries, including Egypt, Turkey, Georgia, Pakistan and Mali.\n",
        "... Her eighth husband, Rashid Rajput, was deported in 2006 to his native Pakistan after an investigation by the Joint Terrorism Task Force.\n",
        "... If convicted, Barrientos faces up to four years in prison.  Her next court appearance is scheduled for May 18.\n",
        "... \"\"\""
      ],
      "metadata": {
        "id": "7CO9DrVejeXj"
      },
      "execution_count": null,
      "outputs": []
    },
    {
      "cell_type": "code",
      "source": [
        "from transformers import pipeline\n",
        "summarizer = pipeline(\"summarization\")\n",
        "print(summarizer(ARTICLE, max_length=130, min_length=30, do_sample=False))"
      ],
      "metadata": {
        "colab": {
          "base_uri": "https://localhost:8080/"
        },
        "id": "PQinpsvci6Fm",
        "outputId": "99a6b3d5-d69b-41a6-97b6-974aef042d80"
      },
      "execution_count": null,
      "outputs": [
        {
          "output_type": "stream",
          "name": "stderr",
          "text": [
            "No model was supplied, defaulted to sshleifer/distilbart-cnn-12-6 (https://huggingface.co/sshleifer/distilbart-cnn-12-6)\n"
          ]
        },
        {
          "output_type": "stream",
          "name": "stdout",
          "text": [
            "[{'summary_text': ' Liana Barrientos, 39, is charged with two counts of \"offering a false instrument for filing in the first degree\" In total, she has been married 10 times, with nine of her marriages occurring between 1999 and 2002 . At one time, she was married to eight men at once, prosecutors say .'}]\n"
          ]
        }
      ]
    },
    {
      "cell_type": "code",
      "source": [
        "from google.colab import drive\n",
        "drive.mount('/content/drive')\n",
        "device = 'cuda' if torch.cuda.is_available() else 'cpu'"
      ],
      "metadata": {
        "colab": {
          "base_uri": "https://localhost:8080/"
        },
        "id": "prXPp5UvkgOq",
        "outputId": "ddd5cb04-78c4-477f-efc5-79ff8dedbf77"
      },
      "execution_count": null,
      "outputs": [
        {
          "output_type": "stream",
          "name": "stdout",
          "text": [
            "Drive already mounted at /content/drive; to attempt to forcibly remount, call drive.mount(\"/content/drive\", force_remount=True).\n"
          ]
        }
      ]
    },
    {
      "cell_type": "code",
      "source": [
        "reviews_path = '/content/drive/MyDrive/gen_datasets/res_reviews_final.json'\n",
        "# reviews_path = '/content/drive/MyDrive/restaurant_reviews/res_reviews_final.json'\n",
        "import json\n",
        "f = open(reviews_path)\n",
        "data = json.load(f)\n",
        "data = json.loads(data)"
      ],
      "metadata": {
        "id": "OrZfot0Bj5tY"
      },
      "execution_count": null,
      "outputs": []
    },
    {
      "cell_type": "code",
      "source": [
        "x = {}\n",
        "for key_ in data.keys():\n",
        "  for a in data[key_]['review_list']:\n",
        "    if(a['rating']!=None):\n",
        "      x[a['text']] = a['rating']"
      ],
      "metadata": {
        "id": "EoDu0j2zkdJ_"
      },
      "execution_count": null,
      "outputs": []
    },
    {
      "cell_type": "code",
      "source": [
        "sorted_vals = sorted(x.items(), key=lambda item: item[1])"
      ],
      "metadata": {
        "id": "4hvmngHjnhkx"
      },
      "execution_count": null,
      "outputs": []
    },
    {
      "cell_type": "code",
      "source": [
        "reviews = []\n",
        "for j in sorted_vals:\n",
        "  reviews.append(j[0])"
      ],
      "metadata": {
        "id": "nKMsxAFaknRG"
      },
      "execution_count": null,
      "outputs": []
    },
    {
      "cell_type": "code",
      "source": [
        "num_kp = int(len(reviews)/50)\n",
        "input = []\n",
        "for i in range(len(reviews)):\n",
        "  if(i%num_kp==0):\n",
        "    input.append(reviews[i])\n",
        "    src_text = ''.join(input)\n",
        "    batch = tokenizer(src_text, truncation=True, padding='longest', return_tensors=\"pt\").to(device)\n",
        "    translated = model.generate(**batch)\n",
        "    tgt_text = tokenizer.batch_decode(translated, skip_special_tokens=True)\n",
        "    print(i,tgt_text)\n",
        "    input = []"
      ],
      "metadata": {
        "colab": {
          "base_uri": "https://localhost:8080/"
        },
        "id": "dmnhC8gIkuNG",
        "outputId": "3535d86c-5673-4e74-aa1e-39c6e4e4263e"
      },
      "execution_count": null,
      "outputs": [
        {
          "output_type": "stream",
          "name": "stdout",
          "text": [
            "0 ['The food was mediocre. The food was mediocre. The food']\n",
            "28 ['The $9 parking fee is tacked on.. $9 parking fee.']\n",
            "56 ['I ordered a glass of wine and ice water. The waitress came back after']\n",
            "84 ['The crab mix was very, very salty... The crab mix']\n",
            "112 ['A lot of choices unfortunately the customer service is not good all the employees look mad or like']\n",
            "140 ['the food is too the food is too expensive. The staff is too slow.']\n",
            "168 ['service is poor. service is subpar. The food is also subpar. Service']\n",
            "196 ['Service was poor. Service was poor. The food was mediocre at best.']\n",
            "224 ['worst lobster roll!worst lobster roll!wors']\n",
            "252 ['service is always nice.. a great place to eat Thai food!']\n",
            "280 ['a few minutes.. The food court is pretty clean, so you should']\n",
            "308 ['a lobster roll. I was not surprised. It was cold and slightly chewy']\n",
            "336 ['they were out of my second choice- the lobster roll. the lobster roll.']\n",
            "364 ['the lines of people checking their boarding passes on their phones. a good value']\n",
            "392 ['the food was fine however service was extremely poor. the waiter was borderline rude']\n",
            "420 ['I was wrong. Steamed Shrimp. I was disappointed. fried']\n",
            "448 ['a lobster roll sandwich. a crab cake. The crab cakes were the']\n",
            "476 ['One of the best places in the airport to pick up a bite to take on the']\n",
            "504 [\"I was exhausted... Bob Likes Thai food. I'\"]\n",
            "532 ['a new sign on the old city temple of Shanghai reads \"Bob Likes']\n",
            "560 ['I was a bit disappointed. he was playing in the snow somewhere.']\n",
            "588 ['Sister Honeys is a favorite! pound cakes are my favorite!']\n",
            "616 ['we loved it.. I miss the fried swordfish they used to serve']\n",
            "644 ['a nice place to eat a nice place to eat a']\n",
            "672 ['I was hoping for medium well and semi-dry.. a burger']\n",
            "700 ['- - - The The Legal is a 3.5']\n",
            "728 ['I love pre-check. a quick stop before security. a quick']\n",
            "756 ['I could give it a full 3.5. The lobster itself was tasty and tossed']\n",
            "784 ['We had a great time.... a delayed connection']\n",
            "812 ['Good food and good service.......']\n",
            "840 ['I love it! I love it! I love it! clam ']\n",
            "868 [\"I am in an airport and you can't take guns through security. I am\"]\n",
            "896 ['Lobster Roll: A ton of warm lobster chunks. the bun was']\n",
            "924 ['I was so happy! :) - - -']\n",
            "952 ['I stopped here for breakfast, by far the best option around, while I was here I']\n",
            "980 ['Flying Elephants has just proved that airport food can be delicious.']\n",
            "1008 ['I love it. The fruit was nice and juicy inside. The salad was super zesty']\n",
            "1036 [\"Bob's is the best; amazing Thai food.\"]\n",
            "1064 ['! I would highly recommend the buffalo chicken finger pizza and buffalo chicken Caesar salad.']\n",
            "1092 ['I always search for local restaurants and bakeries to visit. I always search for local']\n",
            "1120 ['I ordered german chocolate cake even though I am not a big fan of chocolate cake.']\n",
            "1148 ['Loved this bakery. love this bakery. Loved this bakery. Loved this']\n",
            "1176 ['I have also tried the coconut cake (amazing! ), cookies &']\n",
            "1204 ['This was my first time trying it!! I would definitely recommend this place!']\n",
            "1232 ['food was amazing. was a real treat. The food was amazing.']\n",
            "1260 ['The best airport food I have ever had.. The best airport food I have']\n",
            "1288 ['I had the crab cake sandwich. It was nice. It comes with chips. I']\n",
            "1316 ['I was rushed. was very friendly. was very friendly. Great food.']\n",
            "1344 ['Legal Seafood is a MUST stop for American Airlines travelers flying out of gate B.']\n",
            "1372 ['I can actually have some good airport food before I get on a plane..']\n",
            "1400 [\"So Ok. So you're on your way to Boston Logan airport. legal\"]\n",
            "1428 ['Great food and service....!']\n"
          ]
        }
      ]
    },
    {
      "cell_type": "code",
      "source": [
        ""
      ],
      "metadata": {
        "id": "Fsf5BoKhkxJC"
      },
      "execution_count": null,
      "outputs": []
    }
  ]
}